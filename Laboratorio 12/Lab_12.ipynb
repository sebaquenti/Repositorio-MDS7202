{
 "cells": [
  {
   "cell_type": "markdown",
   "metadata": {
    "id": "SDZmp2BO9KnQ"
   },
   "source": [
    "# **Laboratorio 12: 🚀 Despliegue 🚀**\n",
    "\n",
    "<center><strong>MDS7202: Laboratorio de Programación Científica para Ciencia de Datos</strong></center>\n",
    "\n",
    "### **Cuerpo Docente:**\n",
    "\n",
    "- Profesores: Ignacio Meza, Sebastián Tinoco\n",
    "- Auxiliar: Eduardo Moya\n",
    "- Ayudantes: Nicolás Ojeda, Melanie Peña, Valentina Rojas"
   ]
  },
  {
   "cell_type": "markdown",
   "metadata": {},
   "source": [
    "Este laboratorio no fue entregado ni completado debido a la carga académica de los integrantes. Se espera realizar la entrega del laboratorio opcional 13."
   ]
  },
  {
   "cell_type": "markdown",
   "metadata": {
    "id": "FdGqUgwX9pGQ"
   },
   "source": [
    "### Equipo: SUPER IMPORTANTE - notebooks sin nombre no serán revisados\n",
    "\n",
    "- Nombre de alumno 1: Cristian Oyarzo M.\n",
    "- Nombre de alumno 2: Sebastián Quenti A.\n",
    "\n",
    "### **Link de repositorio de GitHub:** [Repositorio](https://github.com/sebaquenti/Repositorio-MDS7202)"
   ]
  },
  {
   "cell_type": "markdown",
   "metadata": {
    "id": "YraSOKrf9yMl"
   },
   "source": [
    "## Temas a tratar\n",
    "\n",
    "- Entrenamiento y registro de modelos usando MLFlow.\n",
    "- Despliegue de modelo usando FastAPI\n",
    "- Containerización del proyecto usando Docker\n",
    "\n",
    "## Reglas:\n",
    "\n",
    "- **Grupos de 2 personas**\n",
    "- Cualquier duda fuera del horario de clases al foro. Mensajes al equipo docente serán respondidos por este medio.\n",
    "- Prohibidas las copias.\n",
    "- Pueden usar cualquer matrial del curso que estimen conveniente.\n",
    "\n",
    "### Objetivos principales del laboratorio\n",
    "\n",
    "- Generar una solución a un problema a partir de ML\n",
    "- Desplegar su solución usando MLFlow, FastAPI y Docker\n",
    "\n",
    "El laboratorio deberá ser desarrollado sin el uso indiscriminado de iteradores nativos de python (aka \"for\", \"while\"). La idea es que aprendan a exprimir al máximo las funciones optimizadas que nos entrega `pandas`, las cuales vale mencionar, son bastante más eficientes que los iteradores nativos sobre DataFrames."
   ]
  },
  {
   "cell_type": "markdown",
   "metadata": {
    "id": "D98okEzUE8hb"
   },
   "source": [
    "# **Introducción**"
   ]
  },
  {
   "cell_type": "markdown",
   "metadata": {
    "id": "lSiuBfGiFlQM"
   },
   "source": [
    "<p align=\"center\">\n",
    "  <img src=\"https://media.giphy.com/media/v1.Y2lkPTc5MGI3NjExODJnMHJzNzlkNmQweXoyY3ltbnZ2ZDlxY2c0aW5jcHNzeDNtOXBsdCZlcD12MV9pbnRlcm5hbF9naWZfYnlfaWQmY3Q9Zw/AbPdhwsMgjMjax5reo/giphy.gif\" width=\"400\">\n",
    "</p>"
   ]
  },
  {
   "cell_type": "markdown",
   "metadata": {
    "id": "wPn8R-6u877j"
   },
   "source": [
    "\n",
    "\n",
    "Consumida en la tristeza el despido de Renacín, Smapina ha decaído en su desempeño, lo que se ha traducido en un irregular tratamiento del agua. Esto ha implicado una baja en la calidad del agua, llegando a haber algunos puntos de la comuna en la que el vital elemento no es apto para el consumo humano. Es por esto que la sanitaria pública de la municipalidad de Maipú se ha contactado con ustedes para que le entreguen una urgente solución a este problema (a la vez que dejan a Smapina, al igual que Renacín, sin trabajo 😔).\n",
    "\n",
    "El problema que la empresa le ha solicitado resolver es el de elaborar un sistema que les permita saber si el agua es potable o no. Para esto, la sanitaria les ha proveido una base de datos con la lectura de múltiples sensores IOT colocados en diversas cañerías, conductos y estanques. Estos sensores señalan nueve tipos de mediciones químicas y más una etiqueta elaborada en laboratorio que indica si el agua es potable o no el agua.\n",
    "\n",
    "La idea final es que puedan, en el caso que el agua no sea potable, dar un aviso inmediato para corregir el problema. Tenga en cuenta que parte del equipo docente vive en Maipú y su intoxicación podría implicar graves problemas para el cierre del curso.\n",
    "\n",
    "Atributos:\n",
    "\n",
    "1. pH value\n",
    "2. Hardness\n",
    "3. Solids (Total dissolved solids - TDS)\n",
    "4. Chloramines\n",
    "5. Sulfate\n",
    "6. Conductivity\n",
    "7. Organic_carbon\n",
    "8. Trihalomethanes\n",
    "9. Turbidity\n",
    "\n",
    "Variable a predecir:\n",
    "\n",
    "10. Potability (1 si es potable, 0 no potable)\n",
    "\n",
    "Descripción de cada atributo se pueden encontrar en el siguiente link: [dataset](https://www.kaggle.com/adityakadiwal/water-potability)"
   ]
  },
  {
   "cell_type": "markdown",
   "metadata": {
    "id": "-aIr6KegWsjS"
   },
   "source": [
    "# **1. Optimización de modelos con Optuna + MLFlow (2.0 puntos)**\n",
    "\n",
    "El objetivo de esta sección es que ustedes puedan combinar Optuna con MLFlow para poder realizar la optimización de los hiperparámetros de sus modelos.\n",
    "\n",
    "Como aún no hemos hablado nada sobre `MLFlow` cabe preguntarse: **¡¿Qué !\"#@ es `MLflow`?!**\n",
    "\n",
    "<p align=\"center\">\n",
    "  <img src=\"https://media.tenor.com/eusgDKT4smQAAAAC/matthew-perry-chandler-bing.gif\" width=\"400\">\n",
    "</p>\n",
    "\n",
    "## **MLFlow**\n",
    "\n",
    "`MLflow` es una plataforma de código abierto que simplifica la gestión y seguimiento de proyectos de aprendizaje automático. Con sus herramientas, los desarrolladores pueden organizar, rastrear y comparar experimentos, además de registrar modelos y controlar versiones.\n",
    "\n",
    "<p align=\"center\">\n",
    "  <img src=\"https://spark.apache.org/images/mlflow-logo.png\" width=\"350\">\n",
    "</p>\n",
    "\n",
    "Si bien esta plataforma cuenta con un gran número de herramientas y funcionalidades, en este laboratorio trabajaremos con dos:\n",
    "1. **Runs**: Registro que constituye la información guardada tras la ejecución de un entrenamiento. Cada `run` tiene su propio run_id, el cual sirve como identificador para el entrenamiento en sí mismo. Dentro de cada `run` podremos acceder a información como los hiperparámetros utilizados, las métricas obtenidas, las librerías requeridas y hasta nos permite descargar el modelo entrenado.\n",
    "2. **Experiments**: Se utilizan para agrupar y organizar diferentes ejecuciones de modelos (`runs`). En ese sentido, un experimento puede agrupar 1 o más `runs`. De esta manera, es posible también registrar métricas, parámetros y archivos (artefactos) asociados a cada experimento.\n",
    "\n",
    "### **Todo bien pero entonces, ¿cómo se usa en la práctica `MLflow`?**\n",
    "\n",
    "Es sencillo! Considerando un problema de machine learning genérico, podemos registrar la información relevante del entrenamiento ejecutando `mlflow.autolog()` antes entrenar nuestro modelo. Veamos este bonito ejemplo facilitado por los mismos creadores de `MLflow`:\n",
    "\n",
    "```python\n",
    "#!pip install mlflow\n",
    "import mlflow # importar mlflow\n",
    "\n",
    "from sklearn.model_selection import train_test_split\n",
    "from sklearn.datasets import load_diabetes\n",
    "from sklearn.ensemble import RandomForestRegressor\n",
    "\n",
    "db = load_diabetes()\n",
    "X_train, X_test, y_train, y_test = train_test_split(db.data, db.target)\n",
    "\n",
    "# Create and train models.\n",
    "rf = RandomForestRegressor(n_estimators=100, max_depth=6, max_features=3)\n",
    "\n",
    "mlflow.autolog() # registrar automáticamente información del entrenamiento\n",
    "with mlflow.start_run(): # delimita inicio y fin del run\n",
    "    # aquí comienza el run\n",
    "    rf.fit(X_train, y_train) # train the model\n",
    "    predictions = rf.predict(X_test) # Use the model to make predictions on the test dataset.\n",
    "    # aquí termina el run\n",
    "```\n",
    "\n",
    "Si ustedes ejecutan el código anterior en sus máquinas locales (desde un jupyter notebook por ejemplo) se darán cuenta que en su directorio *root* se ha creado la carpeta `mlruns`. Esta carpeta lleva el tracking de todos los entrenamientos ejecutados desde el directorio root (importante: si se cambian de directorio y vuelven a ejecutar el código anterior, se creará otra carpeta y no tendrán acceso al entrenamiento anterior). Para visualizar estos entrenamientos, `MLflow` nos facilita hermosa interfaz visual a la que podemos acceder ejecutando:\n",
    "\n",
    "```\n",
    "mlflow ui\n",
    "```\n",
    "\n",
    "y luego pinchando en la ruta http://127.0.0.1:5000 que nos retorna la terminal. Veamos en vivo algunas de sus funcionalidades!\n",
    "\n",
    "<p align=\"center\">\n",
    "  <img src=\"https://media4.giphy.com/media/v1.Y2lkPTc5MGI3NjExZXVuM3A5MW1heDFpa21qbGlwN2pyc2VoNnZsMmRzODZxdnluemo2bCZlcD12MV9pbnRlcm5hbF9naWZfYnlfaWQmY3Q9Zw/3o84sq21TxDH6PyYms/giphy.gif\" width=\"400\">\n",
    "</p>\n",
    "\n",
    "Les dejamos también algunos comandos útiles:\n",
    "\n",
    "- `mlflow.create_experiment(\"nombre_experimento\")`: Les permite crear un nuevo experimento para agrupar entrenamientos\n",
    "- `mlflow.log_metric(\"nombre_métrica\", métrica)`: Les permite registrar una métrica *custom* bajo el nombre de \"nombre_métrica\"\n"
   ]
  },
  {
   "cell_type": "markdown",
   "metadata": {
    "id": "ptP_ygr7S04t"
   },
   "source": [
    "## **1.1 Combinando Optuna + MLflow (2.0 puntos)**\n",
    "\n",
    "Ahora que tenemos conocimiento de ambas herramientas, intentemos ahora combinarlas para **más sabor**. El objetivo de este apartado es simple: automatizar la optimización de los parámetros de nuestros modelos usando `Optuna` y registrando de forma automática cada resultado en `MLFlow`.\n",
    "\n",
    "Considerando el objetivo planteado, se le pide completar la función `optimize_model`, la cual debe:\n",
    "- **Optimizar los hiperparámetros del modelo `XGBoost` usando `Optuna`.**\n",
    "- **Registrar cada entrenamiento en un experimento nuevo**, asegurándose de que la métrica `f1-score` se registre como `\"valid_f1\"`. No se deben guardar todos los experimentos en *Default*; en su lugar, cada `experiment` y `run` deben tener nombres interpretables, reconocibles y diferentes a los nombres por defecto (por ejemplo, para un run: \"XGBoost con lr 0.1\").\n",
    "- **Guardar los gráficos de Optuna** dentro de una carpeta de artefactos de Mlflow llamada `/plots`.\n",
    "- **Devolver el mejor modelo** usando la función `get_best_model` y serializarlo en el disco con `pickle.dump`. Luego, guardar el modelo en la carpeta `/models`.\n",
    "- **Guardar el código en `optimize.py`**. La ejecución de `python optimize.py` debería ejecutar la función `optimize_model`.\n",
    "- **Guardar las versiones de las librerías utilizadas** en el desarrollo.\n",
    "- **Respalde las configuraciones del modelo final y la importancia de las variables** en un gráfico dentro de la carpeta `/plots` creada anteriormente.\n",
    "\n",
    "*Hint: Le puede ser útil revisar los parámetros que recibe `mlflow.start_run`*\n",
    "\n",
    "```python\n",
    "def get_best_model(experiment_id):\n",
    "    runs = mlflow.search_runs(experiment_id)\n",
    "    best_model_id = runs.sort_values(\"metrics.valid_f1\")[\"run_id\"].iloc[0]\n",
    "    best_model = mlflow.sklearn.load_model(\"runs:/\" + best_model_id + \"/model\")\n",
    "\n",
    "    return best_model\n",
    "```"
   ]
  },
  {
   "cell_type": "code",
   "execution_count": 1,
   "metadata": {},
   "outputs": [],
   "source": [
    "import os\n",
    "import pickle\n",
    "import optuna\n",
    "import mlflow\n",
    "import mlflow.sklearn\n",
    "from mlflow.models.signature import infer_signature\n",
    "from xgboost import XGBClassifier\n",
    "from sklearn.metrics import f1_score\n",
    "from sklearn.model_selection import train_test_split\n",
    "import pandas as pd"
   ]
  },
  {
   "cell_type": "code",
   "execution_count": 2,
   "metadata": {
    "id": "FTNLPUnm8yzD"
   },
   "outputs": [
    {
     "name": "stderr",
     "output_type": "stream",
     "text": [
      "2024/11/27 13:07:27 INFO mlflow.tracking.fluent: Experiment with name 'XGBoost_Optimization_Experiment' does not exist. Creating a new experiment.\n",
      "[I 2024-11-27 13:07:27,598] A new study created in memory with name: no-name-5ee36bb9-7e4b-445f-9075-6707175f3364\n"
     ]
    },
    {
     "data": {
      "application/vnd.jupyter.widget-view+json": {
       "model_id": "529677f5e9304cdaa7743780bcd488b2",
       "version_major": 2,
       "version_minor": 0
      },
      "text/plain": [
       "Downloading artifacts:   0%|          | 0/7 [00:00<?, ?it/s]"
      ]
     },
     "metadata": {},
     "output_type": "display_data"
    },
    {
     "name": "stderr",
     "output_type": "stream",
     "text": [
      "[I 2024-11-27 13:07:31,349] Trial 0 finished with value: 0.38190954773869346 and parameters: {'learning_rate': 0.08676970827835452, 'max_depth': 3, 'n_estimators': 184, 'min_child_weight': 1.6146184146481348, 'subsample': 0.8913189894745766, 'colsample_bytree': 0.5445822361676312, 'gamma': 2.077793645587436e-05}. Best is trial 0 with value: 0.38190954773869346.\n"
     ]
    },
    {
     "data": {
      "application/vnd.jupyter.widget-view+json": {
       "model_id": "14e1e01a57a541eaa4172316ec27af64",
       "version_major": 2,
       "version_minor": 0
      },
      "text/plain": [
       "Downloading artifacts:   0%|          | 0/7 [00:00<?, ?it/s]"
      ]
     },
     "metadata": {},
     "output_type": "display_data"
    },
    {
     "name": "stderr",
     "output_type": "stream",
     "text": [
      "[I 2024-11-27 13:07:34,193] Trial 1 finished with value: 0.4751131221719457 and parameters: {'learning_rate': 0.15911098933831166, 'max_depth': 5, 'n_estimators': 122, 'min_child_weight': 0.21187207231814736, 'subsample': 0.7459870369181949, 'colsample_bytree': 0.9625212748702814, 'gamma': 0.0008906901803975884}. Best is trial 1 with value: 0.4751131221719457.\n"
     ]
    },
    {
     "data": {
      "application/vnd.jupyter.widget-view+json": {
       "model_id": "958987584f2f438b88d72081e86ef168",
       "version_major": 2,
       "version_minor": 0
      },
      "text/plain": [
       "Downloading artifacts:   0%|          | 0/7 [00:00<?, ?it/s]"
      ]
     },
     "metadata": {},
     "output_type": "display_data"
    },
    {
     "name": "stderr",
     "output_type": "stream",
     "text": [
      "[I 2024-11-27 13:07:37,014] Trial 2 finished with value: 0.46220302375809935 and parameters: {'learning_rate': 0.25954916164164515, 'max_depth': 4, 'n_estimators': 193, 'min_child_weight': 0.3548144179708244, 'subsample': 0.8086793218833315, 'colsample_bytree': 0.7456654259125632, 'gamma': 1.3980032201120462e-06}. Best is trial 1 with value: 0.4751131221719457.\n"
     ]
    },
    {
     "data": {
      "application/vnd.jupyter.widget-view+json": {
       "model_id": "a517e2c1efa04d9a85d47fc7f4907dc4",
       "version_major": 2,
       "version_minor": 0
      },
      "text/plain": [
       "Downloading artifacts:   0%|          | 0/7 [00:00<?, ?it/s]"
      ]
     },
     "metadata": {},
     "output_type": "display_data"
    },
    {
     "name": "stderr",
     "output_type": "stream",
     "text": [
      "[I 2024-11-27 13:07:39,750] Trial 3 finished with value: 0.34375 and parameters: {'learning_rate': 0.06300072218619392, 'max_depth': 4, 'n_estimators': 121, 'min_child_weight': 1.4084488543537799, 'subsample': 0.752063574974436, 'colsample_bytree': 0.5368292816765954, 'gamma': 0.0008407911141382184}. Best is trial 1 with value: 0.4751131221719457.\n"
     ]
    },
    {
     "data": {
      "application/vnd.jupyter.widget-view+json": {
       "model_id": "9c8b5903277d4f22813b7c8a767bb677",
       "version_major": 2,
       "version_minor": 0
      },
      "text/plain": [
       "Downloading artifacts:   0%|          | 0/7 [00:00<?, ?it/s]"
      ]
     },
     "metadata": {},
     "output_type": "display_data"
    },
    {
     "name": "stderr",
     "output_type": "stream",
     "text": [
      "[I 2024-11-27 13:07:43,015] Trial 4 finished with value: 0.43902439024390244 and parameters: {'learning_rate': 0.08123374677311285, 'max_depth': 10, 'n_estimators': 192, 'min_child_weight': 0.8224009836182896, 'subsample': 0.7779387490424967, 'colsample_bytree': 0.6360886650078741, 'gamma': 0.0014993250155981976}. Best is trial 1 with value: 0.4751131221719457.\n"
     ]
    },
    {
     "data": {
      "application/vnd.jupyter.widget-view+json": {
       "model_id": "6a960f205a7d4f1db62cc3e721a26e24",
       "version_major": 2,
       "version_minor": 0
      },
      "text/plain": [
       "Downloading artifacts:   0%|          | 0/7 [00:00<?, ?it/s]"
      ]
     },
     "metadata": {},
     "output_type": "display_data"
    },
    {
     "name": "stderr",
     "output_type": "stream",
     "text": [
      "[I 2024-11-27 13:07:45,831] Trial 5 finished with value: 0.23376623376623376 and parameters: {'learning_rate': 0.01133006505840229, 'max_depth': 7, 'n_estimators': 84, 'min_child_weight': 9.570822277437626, 'subsample': 0.9351535729473033, 'colsample_bytree': 0.7144118883544093, 'gamma': 3.1616069113026807e-07}. Best is trial 1 with value: 0.4751131221719457.\n"
     ]
    },
    {
     "data": {
      "application/vnd.jupyter.widget-view+json": {
       "model_id": "09925a60b98c4c41a44e225836f723ad",
       "version_major": 2,
       "version_minor": 0
      },
      "text/plain": [
       "Downloading artifacts:   0%|          | 0/7 [00:00<?, ?it/s]"
      ]
     },
     "metadata": {},
     "output_type": "display_data"
    },
    {
     "name": "stderr",
     "output_type": "stream",
     "text": [
      "[I 2024-11-27 13:07:48,696] Trial 6 finished with value: 0.4636363636363636 and parameters: {'learning_rate': 0.1438509354870452, 'max_depth': 7, 'n_estimators': 192, 'min_child_weight': 2.7238870198382954, 'subsample': 0.9950142930353088, 'colsample_bytree': 0.693439275536367, 'gamma': 3.617302018976548e-08}. Best is trial 1 with value: 0.4751131221719457.\n"
     ]
    },
    {
     "data": {
      "application/vnd.jupyter.widget-view+json": {
       "model_id": "3ac974c10e4d4ac392dd4356cafa6252",
       "version_major": 2,
       "version_minor": 0
      },
      "text/plain": [
       "Downloading artifacts:   0%|          | 0/7 [00:00<?, ?it/s]"
      ]
     },
     "metadata": {},
     "output_type": "display_data"
    },
    {
     "name": "stderr",
     "output_type": "stream",
     "text": [
      "[I 2024-11-27 13:07:51,642] Trial 7 finished with value: 0.30538922155688625 and parameters: {'learning_rate': 0.024175427257066794, 'max_depth': 10, 'n_estimators': 75, 'min_child_weight': 2.637191092236234, 'subsample': 0.8683393887508054, 'colsample_bytree': 0.5940948609995125, 'gamma': 4.389402109130436e-06}. Best is trial 1 with value: 0.4751131221719457.\n"
     ]
    },
    {
     "data": {
      "application/vnd.jupyter.widget-view+json": {
       "model_id": "c741d688595d49929f789b18561b7f14",
       "version_major": 2,
       "version_minor": 0
      },
      "text/plain": [
       "Downloading artifacts:   0%|          | 0/7 [00:00<?, ?it/s]"
      ]
     },
     "metadata": {},
     "output_type": "display_data"
    },
    {
     "name": "stderr",
     "output_type": "stream",
     "text": [
      "[I 2024-11-27 13:07:54,407] Trial 8 finished with value: 0.44768856447688565 and parameters: {'learning_rate': 0.1396753880693797, 'max_depth': 5, 'n_estimators': 66, 'min_child_weight': 0.21100471863246748, 'subsample': 0.726685021282288, 'colsample_bytree': 0.6745286297687183, 'gamma': 0.8063830848472724}. Best is trial 1 with value: 0.4751131221719457.\n"
     ]
    },
    {
     "data": {
      "application/vnd.jupyter.widget-view+json": {
       "model_id": "9f2d530719d54167970e2ec18f6a0537",
       "version_major": 2,
       "version_minor": 0
      },
      "text/plain": [
       "Downloading artifacts:   0%|          | 0/7 [00:00<?, ?it/s]"
      ]
     },
     "metadata": {},
     "output_type": "display_data"
    },
    {
     "name": "stderr",
     "output_type": "stream",
     "text": [
      "[I 2024-11-27 13:07:57,796] Trial 9 finished with value: 0.4074074074074074 and parameters: {'learning_rate': 0.012175777157159085, 'max_depth': 9, 'n_estimators': 200, 'min_child_weight': 2.4075642680250984, 'subsample': 0.7851357640092471, 'colsample_bytree': 0.8312236778733122, 'gamma': 6.269438951164046e-06}. Best is trial 1 with value: 0.4751131221719457.\n"
     ]
    },
    {
     "data": {
      "application/vnd.jupyter.widget-view+json": {
       "model_id": "2001034a0dbd4c4b9bb87ef3f583bc5b",
       "version_major": 2,
       "version_minor": 0
      },
      "text/plain": [
       "Downloading artifacts:   0%|          | 0/7 [00:00<?, ?it/s]"
      ]
     },
     "metadata": {},
     "output_type": "display_data"
    },
    {
     "name": "stderr",
     "output_type": "stream",
     "text": [
      "[I 2024-11-27 13:08:01,893] Trial 10 finished with value: 0.48214285714285715 and parameters: {'learning_rate': 0.2963978039115793, 'max_depth': 6, 'n_estimators': 143, 'min_child_weight': 0.10229061243937129, 'subsample': 0.5920720778724404, 'colsample_bytree': 0.9981423820600436, 'gamma': 0.12518546976846226}. Best is trial 10 with value: 0.48214285714285715.\n"
     ]
    },
    {
     "data": {
      "application/vnd.jupyter.widget-view+json": {
       "model_id": "887ecc815ca54343b7d29c6da801c61e",
       "version_major": 2,
       "version_minor": 0
      },
      "text/plain": [
       "Downloading artifacts:   0%|          | 0/7 [00:00<?, ?it/s]"
      ]
     },
     "metadata": {},
     "output_type": "display_data"
    },
    {
     "name": "stderr",
     "output_type": "stream",
     "text": [
      "[I 2024-11-27 13:08:05,517] Trial 11 finished with value: 0.48337028824833705 and parameters: {'learning_rate': 0.2793558102384594, 'max_depth': 6, 'n_estimators': 143, 'min_child_weight': 0.10122548309578595, 'subsample': 0.5857737308775878, 'colsample_bytree': 0.9975503706350272, 'gamma': 0.3512197217722722}. Best is trial 11 with value: 0.48337028824833705.\n"
     ]
    },
    {
     "data": {
      "application/vnd.jupyter.widget-view+json": {
       "model_id": "831e728f37f14f22ada49b47b37b5763",
       "version_major": 2,
       "version_minor": 0
      },
      "text/plain": [
       "Downloading artifacts:   0%|          | 0/7 [00:00<?, ?it/s]"
      ]
     },
     "metadata": {},
     "output_type": "display_data"
    },
    {
     "name": "stderr",
     "output_type": "stream",
     "text": [
      "[I 2024-11-27 13:08:09,186] Trial 12 finished with value: 0.4582441113490364 and parameters: {'learning_rate': 0.29371115553743565, 'max_depth': 6, 'n_estimators': 154, 'min_child_weight': 0.10455350342483247, 'subsample': 0.5685147605212026, 'colsample_bytree': 0.9986107266286697, 'gamma': 0.8943408920641358}. Best is trial 11 with value: 0.48337028824833705.\n"
     ]
    },
    {
     "data": {
      "application/vnd.jupyter.widget-view+json": {
       "model_id": "9a92bd60cee5453ebfabf8f9beea0ec0",
       "version_major": 2,
       "version_minor": 0
      },
      "text/plain": [
       "Downloading artifacts:   0%|          | 0/7 [00:00<?, ?it/s]"
      ]
     },
     "metadata": {},
     "output_type": "display_data"
    },
    {
     "name": "stderr",
     "output_type": "stream",
     "text": [
      "[I 2024-11-27 13:08:13,233] Trial 13 finished with value: 0.44221105527638194 and parameters: {'learning_rate': 0.03672793407371513, 'max_depth': 8, 'n_estimators': 148, 'min_child_weight': 0.1282100972799185, 'subsample': 0.5283834275924195, 'colsample_bytree': 0.8945137693209441, 'gamma': 0.03780571564055254}. Best is trial 11 with value: 0.48337028824833705.\n"
     ]
    },
    {
     "data": {
      "application/vnd.jupyter.widget-view+json": {
       "model_id": "ef8158bd08e44cf297f92e3a5b9eb0a9",
       "version_major": 2,
       "version_minor": 0
      },
      "text/plain": [
       "Downloading artifacts:   0%|          | 0/7 [00:00<?, ?it/s]"
      ]
     },
     "metadata": {},
     "output_type": "display_data"
    },
    {
     "name": "stderr",
     "output_type": "stream",
     "text": [
      "[I 2024-11-27 13:08:16,765] Trial 14 finished with value: 0.4766146993318486 and parameters: {'learning_rate': 0.1970791563122653, 'max_depth': 6, 'n_estimators': 151, 'min_child_weight': 0.5221393460702021, 'subsample': 0.6291423417538475, 'colsample_bytree': 0.8411737660387841, 'gamma': 0.038554710401049894}. Best is trial 11 with value: 0.48337028824833705.\n"
     ]
    },
    {
     "data": {
      "application/vnd.jupyter.widget-view+json": {
       "model_id": "eda67a24ec604bb3b69185c7f26d8882",
       "version_major": 2,
       "version_minor": 0
      },
      "text/plain": [
       "Downloading artifacts:   0%|          | 0/7 [00:00<?, ?it/s]"
      ]
     },
     "metadata": {},
     "output_type": "display_data"
    },
    {
     "name": "stderr",
     "output_type": "stream",
     "text": [
      "[I 2024-11-27 13:08:20,581] Trial 15 finished with value: 0.477751756440281 and parameters: {'learning_rate': 0.11054855606418931, 'max_depth': 8, 'n_estimators': 99, 'min_child_weight': 0.20983119367138242, 'subsample': 0.646110766854877, 'colsample_bytree': 0.9204091911428042, 'gamma': 0.042840164008101825}. Best is trial 11 with value: 0.48337028824833705.\n"
     ]
    },
    {
     "data": {
      "application/vnd.jupyter.widget-view+json": {
       "model_id": "eb76a6f3c9fe436d85056bdd0032b7f5",
       "version_major": 2,
       "version_minor": 0
      },
      "text/plain": [
       "Downloading artifacts:   0%|          | 0/7 [00:00<?, ?it/s]"
      ]
     },
     "metadata": {},
     "output_type": "display_data"
    },
    {
     "name": "stderr",
     "output_type": "stream",
     "text": [
      "[I 2024-11-27 13:08:23,965] Trial 16 finished with value: 0.49209932279909707 and parameters: {'learning_rate': 0.22123019387508047, 'max_depth': 5, 'n_estimators': 137, 'min_child_weight': 0.10113556501497904, 'subsample': 0.6451991746612833, 'colsample_bytree': 0.8296510366293459, 'gamma': 0.009054106754521469}. Best is trial 16 with value: 0.49209932279909707.\n"
     ]
    },
    {
     "data": {
      "application/vnd.jupyter.widget-view+json": {
       "model_id": "ef4b05e10a0145f28ca96ddb71c18752",
       "version_major": 2,
       "version_minor": 0
      },
      "text/plain": [
       "Downloading artifacts:   0%|          | 0/7 [00:00<?, ?it/s]"
      ]
     },
     "metadata": {},
     "output_type": "display_data"
    },
    {
     "name": "stderr",
     "output_type": "stream",
     "text": [
      "[I 2024-11-27 13:08:27,643] Trial 17 finished with value: 0.4482758620689655 and parameters: {'learning_rate': 0.04497985832749598, 'max_depth': 5, 'n_estimators': 169, 'min_child_weight': 0.4535330788318576, 'subsample': 0.6784546107423128, 'colsample_bytree': 0.788070520324525, 'gamma': 0.005040444225553255}. Best is trial 16 with value: 0.49209932279909707.\n"
     ]
    },
    {
     "data": {
      "application/vnd.jupyter.widget-view+json": {
       "model_id": "eb8ef2c5ffe84b3bb908fd27d2170c7f",
       "version_major": 2,
       "version_minor": 0
      },
      "text/plain": [
       "Downloading artifacts:   0%|          | 0/7 [00:00<?, ?it/s]"
      ]
     },
     "metadata": {},
     "output_type": "display_data"
    },
    {
     "name": "stderr",
     "output_type": "stream",
     "text": [
      "[I 2024-11-27 13:08:30,745] Trial 18 finished with value: 0.47058823529411764 and parameters: {'learning_rate': 0.1856073176899047, 'max_depth': 3, 'n_estimators': 103, 'min_child_weight': 6.9693912529874575, 'subsample': 0.5080117165293199, 'colsample_bytree': 0.8759129733172155, 'gamma': 9.236525899403348e-05}. Best is trial 16 with value: 0.49209932279909707.\n"
     ]
    },
    {
     "data": {
      "application/vnd.jupyter.widget-view+json": {
       "model_id": "763e76f54b894bdaa34af030aaff9e7d",
       "version_major": 2,
       "version_minor": 0
      },
      "text/plain": [
       "Downloading artifacts:   0%|          | 0/7 [00:00<?, ?it/s]"
      ]
     },
     "metadata": {},
     "output_type": "display_data"
    },
    {
     "name": "stderr",
     "output_type": "stream",
     "text": [
      "[I 2024-11-27 13:08:34,179] Trial 19 finished with value: 0.37119113573407203 and parameters: {'learning_rate': 0.027028699935900402, 'max_depth': 4, 'n_estimators': 132, 'min_child_weight': 0.2994806866040875, 'subsample': 0.6810431820332534, 'colsample_bytree': 0.7962959264545673, 'gamma': 0.005869679618056638}. Best is trial 16 with value: 0.49209932279909707.\n"
     ]
    },
    {
     "data": {
      "application/vnd.jupyter.widget-view+json": {
       "model_id": "7052cb76b7e34ebc8dae589fe4fa84be",
       "version_major": 2,
       "version_minor": 0
      },
      "text/plain": [
       "Downloading artifacts:   0%|          | 0/7 [00:00<?, ?it/s]"
      ]
     },
     "metadata": {},
     "output_type": "display_data"
    },
    {
     "name": "stderr",
     "output_type": "stream",
     "text": [
      "[I 2024-11-27 13:08:38,465] Trial 20 finished with value: 0.4978165938864629 and parameters: {'learning_rate': 0.21640214153774145, 'max_depth': 8, 'n_estimators': 168, 'min_child_weight': 0.1601164822464388, 'subsample': 0.5893914071175785, 'colsample_bytree': 0.9535008623538285, 'gamma': 0.2147707923420354}. Best is trial 20 with value: 0.4978165938864629.\n"
     ]
    },
    {
     "data": {
      "application/vnd.jupyter.widget-view+json": {
       "model_id": "ed7bd5f1b8894b59a67369022ab063f3",
       "version_major": 2,
       "version_minor": 0
      },
      "text/plain": [
       "Downloading artifacts:   0%|          | 0/7 [00:00<?, ?it/s]"
      ]
     },
     "metadata": {},
     "output_type": "display_data"
    },
    {
     "name": "stderr",
     "output_type": "stream",
     "text": [
      "[I 2024-11-27 13:08:42,362] Trial 21 finished with value: 0.49137931034482757 and parameters: {'learning_rate': 0.21489243984502485, 'max_depth': 8, 'n_estimators': 173, 'min_child_weight': 0.15509775916735943, 'subsample': 0.5760321377333415, 'colsample_bytree': 0.9336417073097336, 'gamma': 0.16402106052417806}. Best is trial 20 with value: 0.4978165938864629.\n"
     ]
    },
    {
     "data": {
      "application/vnd.jupyter.widget-view+json": {
       "model_id": "89b24963d2a34111b596524f826239bc",
       "version_major": 2,
       "version_minor": 0
      },
      "text/plain": [
       "Downloading artifacts:   0%|          | 0/7 [00:00<?, ?it/s]"
      ]
     },
     "metadata": {},
     "output_type": "display_data"
    },
    {
     "name": "stderr",
     "output_type": "stream",
     "text": [
      "[I 2024-11-27 13:08:46,193] Trial 22 finished with value: 0.512249443207127 and parameters: {'learning_rate': 0.21838240880443818, 'max_depth': 8, 'n_estimators': 170, 'min_child_weight': 0.16389864111340272, 'subsample': 0.5475393115008547, 'colsample_bytree': 0.9374110347838315, 'gamma': 0.007274706144920086}. Best is trial 22 with value: 0.512249443207127.\n"
     ]
    },
    {
     "data": {
      "application/vnd.jupyter.widget-view+json": {
       "model_id": "9818c85c4a944647bece23f5de7eac93",
       "version_major": 2,
       "version_minor": 0
      },
      "text/plain": [
       "Downloading artifacts:   0%|          | 0/7 [00:00<?, ?it/s]"
      ]
     },
     "metadata": {},
     "output_type": "display_data"
    },
    {
     "name": "stderr",
     "output_type": "stream",
     "text": [
      "[I 2024-11-27 13:08:50,109] Trial 23 finished with value: 0.48291571753986334 and parameters: {'learning_rate': 0.11310946991686095, 'max_depth': 9, 'n_estimators': 167, 'min_child_weight': 0.17237472947760474, 'subsample': 0.6387292689829728, 'colsample_bytree': 0.862729931192626, 'gamma': 0.008805224886484105}. Best is trial 22 with value: 0.512249443207127.\n"
     ]
    },
    {
     "data": {
      "application/vnd.jupyter.widget-view+json": {
       "model_id": "5264dbb391074d4ab733ce188cfff691",
       "version_major": 2,
       "version_minor": 0
      },
      "text/plain": [
       "Downloading artifacts:   0%|          | 0/7 [00:00<?, ?it/s]"
      ]
     },
     "metadata": {},
     "output_type": "display_data"
    },
    {
     "name": "stderr",
     "output_type": "stream",
     "text": [
      "[I 2024-11-27 13:08:53,960] Trial 24 finished with value: 0.49443207126948774 and parameters: {'learning_rate': 0.11051159321317562, 'max_depth': 9, 'n_estimators': 164, 'min_child_weight': 0.6323826577021837, 'subsample': 0.541215172154288, 'colsample_bytree': 0.9468298087949193, 'gamma': 0.000231617748765875}. Best is trial 22 with value: 0.512249443207127.\n"
     ]
    },
    {
     "data": {
      "application/vnd.jupyter.widget-view+json": {
       "model_id": "def042df16154827a2cd9138dd73c4c4",
       "version_major": 2,
       "version_minor": 0
      },
      "text/plain": [
       "Downloading artifacts:   0%|          | 0/7 [00:00<?, ?it/s]"
      ]
     },
     "metadata": {},
     "output_type": "display_data"
    },
    {
     "name": "stderr",
     "output_type": "stream",
     "text": [
      "[I 2024-11-27 13:08:57,893] Trial 25 finished with value: 0.4930875576036866 and parameters: {'learning_rate': 0.10932638696574185, 'max_depth': 9, 'n_estimators': 160, 'min_child_weight': 0.3066999264451766, 'subsample': 0.5032947161984092, 'colsample_bytree': 0.9395194129059585, 'gamma': 0.00014970827976674186}. Best is trial 22 with value: 0.512249443207127.\n"
     ]
    },
    {
     "data": {
      "application/vnd.jupyter.widget-view+json": {
       "model_id": "5c128bbb385f4661861ac11053d16212",
       "version_major": 2,
       "version_minor": 0
      },
      "text/plain": [
       "Downloading artifacts:   0%|          | 0/7 [00:00<?, ?it/s]"
      ]
     },
     "metadata": {},
     "output_type": "display_data"
    },
    {
     "name": "stderr",
     "output_type": "stream",
     "text": [
      "[I 2024-11-27 13:09:01,827] Trial 26 finished with value: 0.4583333333333333 and parameters: {'learning_rate': 0.06660634046063664, 'max_depth': 8, 'n_estimators': 179, 'min_child_weight': 0.7189578829243407, 'subsample': 0.5453257904550124, 'colsample_bytree': 0.9007791097785324, 'gamma': 0.0002284207030724687}. Best is trial 22 with value: 0.512249443207127.\n"
     ]
    },
    {
     "data": {
      "application/vnd.jupyter.widget-view+json": {
       "model_id": "bd548e6c3cf74c6398e1e9ad52892a13",
       "version_major": 2,
       "version_minor": 0
      },
      "text/plain": [
       "Downloading artifacts:   0%|          | 0/7 [00:00<?, ?it/s]"
      ]
     },
     "metadata": {},
     "output_type": "display_data"
    },
    {
     "name": "stderr",
     "output_type": "stream",
     "text": [
      "[I 2024-11-27 13:09:05,153] Trial 27 finished with value: 0.48598130841121495 and parameters: {'learning_rate': 0.17280231189320786, 'max_depth': 9, 'n_estimators': 51, 'min_child_weight': 0.5278968011319528, 'subsample': 0.6057609077316664, 'colsample_bytree': 0.9666521078078633, 'gamma': 4.6947520146648866e-05}. Best is trial 22 with value: 0.512249443207127.\n"
     ]
    },
    {
     "data": {
      "application/vnd.jupyter.widget-view+json": {
       "model_id": "bfe3bb5939af4a5dbb8075aeea6aee65",
       "version_major": 2,
       "version_minor": 0
      },
      "text/plain": [
       "Downloading artifacts:   0%|          | 0/7 [00:00<?, ?it/s]"
      ]
     },
     "metadata": {},
     "output_type": "display_data"
    },
    {
     "name": "stderr",
     "output_type": "stream",
     "text": [
      "[I 2024-11-27 13:09:08,747] Trial 28 finished with value: 0.46741573033707867 and parameters: {'learning_rate': 0.12733254967141186, 'max_depth': 7, 'n_estimators': 179, 'min_child_weight': 1.3050038982457932, 'subsample': 0.5394980920746313, 'colsample_bytree': 0.946823477598534, 'gamma': 0.0003526665759438647}. Best is trial 22 with value: 0.512249443207127.\n"
     ]
    },
    {
     "data": {
      "application/vnd.jupyter.widget-view+json": {
       "model_id": "05b4bd0a9f3e4fc98f5665d1f833f39e",
       "version_major": 2,
       "version_minor": 0
      },
      "text/plain": [
       "Downloading artifacts:   0%|          | 0/7 [00:00<?, ?it/s]"
      ]
     },
     "metadata": {},
     "output_type": "display_data"
    },
    {
     "name": "stderr",
     "output_type": "stream",
     "text": [
      "[I 2024-11-27 13:09:12,917] Trial 29 finished with value: 0.4790697674418605 and parameters: {'learning_rate': 0.08887143267220775, 'max_depth': 10, 'n_estimators': 161, 'min_child_weight': 0.27841094273932726, 'subsample': 0.5482250809023577, 'colsample_bytree': 0.9073193926230849, 'gamma': 0.0023421739785508397}. Best is trial 22 with value: 0.512249443207127.\n"
     ]
    },
    {
     "data": {
      "application/vnd.jupyter.widget-view+json": {
       "model_id": "e5b7ab0dbd7944a8b87e4ebed481506f",
       "version_major": 2,
       "version_minor": 0
      },
      "text/plain": [
       "Downloading artifacts:   0%|          | 0/7 [00:00<?, ?it/s]"
      ]
     },
     "metadata": {},
     "output_type": "display_data"
    },
    {
     "name": "stderr",
     "output_type": "stream",
     "text": [
      "[I 2024-11-27 13:09:16,379] Trial 30 finished with value: 0.48878923766816146 and parameters: {'learning_rate': 0.09048267174648257, 'max_depth': 8, 'n_estimators': 179, 'min_child_weight': 4.167905720097578, 'subsample': 0.7056772596198919, 'colsample_bytree': 0.8021091794410697, 'gamma': 2.0324122155872966e-05}. Best is trial 22 with value: 0.512249443207127.\n"
     ]
    },
    {
     "data": {
      "application/vnd.jupyter.widget-view+json": {
       "model_id": "0043b4bc00d041ff8e9687575605efa9",
       "version_major": 2,
       "version_minor": 0
      },
      "text/plain": [
       "Downloading artifacts:   0%|          | 0/7 [00:00<?, ?it/s]"
      ]
     },
     "metadata": {},
     "output_type": "display_data"
    },
    {
     "name": "stderr",
     "output_type": "stream",
     "text": [
      "[I 2024-11-27 13:09:20,349] Trial 31 finished with value: 0.4918032786885246 and parameters: {'learning_rate': 0.09915374602705457, 'max_depth': 9, 'n_estimators': 159, 'min_child_weight': 0.36990567150294157, 'subsample': 0.5028046717041347, 'colsample_bytree': 0.9582277661078954, 'gamma': 0.00018472744758920724}. Best is trial 22 with value: 0.512249443207127.\n"
     ]
    },
    {
     "data": {
      "application/vnd.jupyter.widget-view+json": {
       "model_id": "9224e68e22c04d4c838be0836e9953ce",
       "version_major": 2,
       "version_minor": 0
      },
      "text/plain": [
       "Downloading artifacts:   0%|          | 0/7 [00:00<?, ?it/s]"
      ]
     },
     "metadata": {},
     "output_type": "display_data"
    },
    {
     "name": "stderr",
     "output_type": "stream",
     "text": [
      "[I 2024-11-27 13:09:24,016] Trial 32 finished with value: 0.3421686746987952 and parameters: {'learning_rate': 0.1637921664405374, 'max_depth': 9, 'n_estimators': 163, 'min_child_weight': 0.2592777451390598, 'subsample': 0.5014364600883661, 'colsample_bytree': 0.5027387468679017, 'gamma': 3.353421658049429e-05}. Best is trial 22 with value: 0.512249443207127.\n"
     ]
    },
    {
     "data": {
      "application/vnd.jupyter.widget-view+json": {
       "model_id": "86fa9793582c484c8e0ab010f421e353",
       "version_major": 2,
       "version_minor": 0
      },
      "text/plain": [
       "Downloading artifacts:   0%|          | 0/7 [00:00<?, ?it/s]"
      ]
     },
     "metadata": {},
     "output_type": "display_data"
    },
    {
     "name": "stderr",
     "output_type": "stream",
     "text": [
      "[I 2024-11-27 13:09:27,757] Trial 33 finished with value: 0.4764044943820225 and parameters: {'learning_rate': 0.2292590458377172, 'max_depth': 9, 'n_estimators': 131, 'min_child_weight': 0.6495073692590655, 'subsample': 0.5557394595407377, 'colsample_bytree': 0.9341365031547116, 'gamma': 0.0005424191696859957}. Best is trial 22 with value: 0.512249443207127.\n"
     ]
    },
    {
     "data": {
      "application/vnd.jupyter.widget-view+json": {
       "model_id": "c5706ee7a41b4e5688b37e58bf175146",
       "version_major": 2,
       "version_minor": 0
      },
      "text/plain": [
       "Downloading artifacts:   0%|          | 0/7 [00:00<?, ?it/s]"
      ]
     },
     "metadata": {},
     "output_type": "display_data"
    },
    {
     "name": "stderr",
     "output_type": "stream",
     "text": [
      "[I 2024-11-27 13:09:31,727] Trial 34 finished with value: 0.4662004662004662 and parameters: {'learning_rate': 0.07447532220553257, 'max_depth': 10, 'n_estimators': 186, 'min_child_weight': 1.0212065577992333, 'subsample': 0.6127082023991975, 'colsample_bytree': 0.9727112964421144, 'gamma': 0.017901265923001362}. Best is trial 22 with value: 0.512249443207127.\n"
     ]
    },
    {
     "data": {
      "application/vnd.jupyter.widget-view+json": {
       "model_id": "885af995249e4a0688463ce05147cb6c",
       "version_major": 2,
       "version_minor": 0
      },
      "text/plain": [
       "Downloading artifacts:   0%|          | 0/7 [00:00<?, ?it/s]"
      ]
     },
     "metadata": {},
     "output_type": "display_data"
    },
    {
     "name": "stderr",
     "output_type": "stream",
     "text": [
      "[I 2024-11-27 13:09:35,421] Trial 35 finished with value: 0.4619164619164619 and parameters: {'learning_rate': 0.05624629986653309, 'max_depth': 8, 'n_estimators': 118, 'min_child_weight': 0.15577139972423015, 'subsample': 0.5282965014011424, 'colsample_bytree': 0.8851057695256078, 'gamma': 0.0011733235363518655}. Best is trial 22 with value: 0.512249443207127.\n"
     ]
    },
    {
     "data": {
      "application/vnd.jupyter.widget-view+json": {
       "model_id": "dd959ab842ab4e8882ed702c400e2df8",
       "version_major": 2,
       "version_minor": 0
      },
      "text/plain": [
       "Downloading artifacts:   0%|          | 0/7 [00:00<?, ?it/s]"
      ]
     },
     "metadata": {},
     "output_type": "display_data"
    },
    {
     "name": "stderr",
     "output_type": "stream",
     "text": [
      "[I 2024-11-27 13:09:39,290] Trial 36 finished with value: 0.4931506849315068 and parameters: {'learning_rate': 0.1286567583955081, 'max_depth': 7, 'n_estimators': 172, 'min_child_weight': 0.39641818435558435, 'subsample': 0.568574451357154, 'colsample_bytree': 0.8574406566848976, 'gamma': 0.002840364638730804}. Best is trial 22 with value: 0.512249443207127.\n"
     ]
    },
    {
     "data": {
      "application/vnd.jupyter.widget-view+json": {
       "model_id": "09d0e11c4ed842f5a54e21b00d27c07a",
       "version_major": 2,
       "version_minor": 0
      },
      "text/plain": [
       "Downloading artifacts:   0%|          | 0/7 [00:00<?, ?it/s]"
      ]
     },
     "metadata": {},
     "output_type": "display_data"
    },
    {
     "name": "stderr",
     "output_type": "stream",
     "text": [
      "[I 2024-11-27 13:09:43,026] Trial 37 finished with value: 0.4911504424778761 and parameters: {'learning_rate': 0.15123863670965904, 'max_depth': 7, 'n_estimators': 172, 'min_child_weight': 0.9036277741138183, 'subsample': 0.6733805572270466, 'colsample_bytree': 0.8642743400316403, 'gamma': 0.10691095253283521}. Best is trial 22 with value: 0.512249443207127.\n"
     ]
    },
    {
     "data": {
      "application/vnd.jupyter.widget-view+json": {
       "model_id": "402b587ccb0248b68ab081c2ee41660f",
       "version_major": 2,
       "version_minor": 0
      },
      "text/plain": [
       "Downloading artifacts:   0%|          | 0/7 [00:00<?, ?it/s]"
      ]
     },
     "metadata": {},
     "output_type": "display_data"
    },
    {
     "name": "stderr",
     "output_type": "stream",
     "text": [
      "[I 2024-11-27 13:09:46,764] Trial 38 finished with value: 0.4590909090909091 and parameters: {'learning_rate': 0.2390655319511891, 'max_depth': 7, 'n_estimators': 198, 'min_child_weight': 0.3881938816689327, 'subsample': 0.8455820680691755, 'colsample_bytree': 0.746246745207513, 'gamma': 0.0033581240837196303}. Best is trial 22 with value: 0.512249443207127.\n"
     ]
    },
    {
     "data": {
      "application/vnd.jupyter.widget-view+json": {
       "model_id": "53ab2f931bf44730aad52936015e6a84",
       "version_major": 2,
       "version_minor": 0
      },
      "text/plain": [
       "Downloading artifacts:   0%|          | 0/7 [00:00<?, ?it/s]"
      ]
     },
     "metadata": {},
     "output_type": "display_data"
    },
    {
     "name": "stderr",
     "output_type": "stream",
     "text": [
      "[I 2024-11-27 13:09:50,792] Trial 39 finished with value: 0.4883720930232558 and parameters: {'learning_rate': 0.1306319710826653, 'max_depth': 8, 'n_estimators': 186, 'min_child_weight': 0.21914574966272304, 'subsample': 0.6084005918197752, 'colsample_bytree': 0.972599806245076, 'gamma': 0.0006561858809283899}. Best is trial 22 with value: 0.512249443207127.\n"
     ]
    },
    {
     "data": {
      "application/vnd.jupyter.widget-view+json": {
       "model_id": "b02d7a31c1a048c8a66b6c3a29c11f8f",
       "version_major": 2,
       "version_minor": 0
      },
      "text/plain": [
       "Downloading artifacts:   0%|          | 0/7 [00:00<?, ?it/s]"
      ]
     },
     "metadata": {},
     "output_type": "display_data"
    },
    {
     "name": "stderr",
     "output_type": "stream",
     "text": [
      "[I 2024-11-27 13:09:54,411] Trial 40 finished with value: 0.49321266968325794 and parameters: {'learning_rate': 0.17824048105701742, 'max_depth': 7, 'n_estimators': 113, 'min_child_weight': 0.4739403572540906, 'subsample': 0.5691434062796665, 'colsample_bytree': 0.9147508767586856, 'gamma': 1.254265272808492e-08}. Best is trial 22 with value: 0.512249443207127.\n"
     ]
    },
    {
     "data": {
      "application/vnd.jupyter.widget-view+json": {
       "model_id": "0ace5deffb36484e81f990c0a8987a84",
       "version_major": 2,
       "version_minor": 0
      },
      "text/plain": [
       "Downloading artifacts:   0%|          | 0/7 [00:00<?, ?it/s]"
      ]
     },
     "metadata": {},
     "output_type": "display_data"
    },
    {
     "name": "stderr",
     "output_type": "stream",
     "text": [
      "[I 2024-11-27 13:09:58,078] Trial 41 finished with value: 0.49223946784922396 and parameters: {'learning_rate': 0.18523436701787863, 'max_depth': 7, 'n_estimators': 109, 'min_child_weight': 0.6238744669957724, 'subsample': 0.5720474144410996, 'colsample_bytree': 0.9118077005845676, 'gamma': 1.0375646987858088e-08}. Best is trial 22 with value: 0.512249443207127.\n"
     ]
    },
    {
     "data": {
      "application/vnd.jupyter.widget-view+json": {
       "model_id": "177e6f303cc94c4c98144342ad9d5841",
       "version_major": 2,
       "version_minor": 0
      },
      "text/plain": [
       "Downloading artifacts:   0%|          | 0/7 [00:00<?, ?it/s]"
      ]
     },
     "metadata": {},
     "output_type": "display_data"
    },
    {
     "name": "stderr",
     "output_type": "stream",
     "text": [
      "[I 2024-11-27 13:10:01,576] Trial 42 finished with value: 0.46396396396396394 and parameters: {'learning_rate': 0.15357786680993812, 'max_depth': 7, 'n_estimators': 93, 'min_child_weight': 0.39828543668145505, 'subsample': 0.5930763538841053, 'colsample_bytree': 0.8495358461095743, 'gamma': 8.018426233060589e-07}. Best is trial 22 with value: 0.512249443207127.\n"
     ]
    },
    {
     "data": {
      "application/vnd.jupyter.widget-view+json": {
       "model_id": "1a829c82916f4470a8f9a3b4e0a577f7",
       "version_major": 2,
       "version_minor": 0
      },
      "text/plain": [
       "Downloading artifacts:   0%|          | 0/7 [00:00<?, ?it/s]"
      ]
     },
     "metadata": {},
     "output_type": "display_data"
    },
    {
     "name": "stderr",
     "output_type": "stream",
     "text": [
      "[I 2024-11-27 13:10:05,146] Trial 43 finished with value: 0.43636363636363634 and parameters: {'learning_rate': 0.23903092741507675, 'max_depth': 8, 'n_estimators': 109, 'min_child_weight': 1.3537789282294332, 'subsample': 0.5661907844739653, 'colsample_bytree': 0.9202189072326786, 'gamma': 1.9182405849486482e-07}. Best is trial 22 with value: 0.512249443207127.\n"
     ]
    },
    {
     "data": {
      "application/vnd.jupyter.widget-view+json": {
       "model_id": "a87f14ee90f64b968d269ab8a09ff2b3",
       "version_major": 2,
       "version_minor": 0
      },
      "text/plain": [
       "Downloading artifacts:   0%|          | 0/7 [00:00<?, ?it/s]"
      ]
     },
     "metadata": {},
     "output_type": "display_data"
    },
    {
     "name": "stderr",
     "output_type": "stream",
     "text": [
      "[I 2024-11-27 13:10:08,674] Trial 44 finished with value: 0.4918793503480278 and parameters: {'learning_rate': 0.12191288116225316, 'max_depth': 7, 'n_estimators': 121, 'min_child_weight': 1.1095030378694755, 'subsample': 0.930096258384232, 'colsample_bytree': 0.9722396286521153, 'gamma': 1.4794084735933559e-05}. Best is trial 22 with value: 0.512249443207127.\n"
     ]
    },
    {
     "data": {
      "application/vnd.jupyter.widget-view+json": {
       "model_id": "fba034e4a1a040188c1b49d3babea045",
       "version_major": 2,
       "version_minor": 0
      },
      "text/plain": [
       "Downloading artifacts:   0%|          | 0/7 [00:00<?, ?it/s]"
      ]
     },
     "metadata": {},
     "output_type": "display_data"
    },
    {
     "name": "stderr",
     "output_type": "stream",
     "text": [
      "[I 2024-11-27 13:10:12,048] Trial 45 finished with value: 0.3391812865497076 and parameters: {'learning_rate': 0.014898507703089372, 'max_depth': 6, 'n_estimators': 143, 'min_child_weight': 1.8804315217408332, 'subsample': 0.5249395589919269, 'colsample_bytree': 0.7711898711098296, 'gamma': 0.017577993371720384}. Best is trial 22 with value: 0.512249443207127.\n"
     ]
    },
    {
     "data": {
      "application/vnd.jupyter.widget-view+json": {
       "model_id": "a64b4e9698b744f58a70120a8e383492",
       "version_major": 2,
       "version_minor": 0
      },
      "text/plain": [
       "Downloading artifacts:   0%|          | 0/7 [00:00<?, ?it/s]"
      ]
     },
     "metadata": {},
     "output_type": "display_data"
    },
    {
     "name": "stderr",
     "output_type": "stream",
     "text": [
      "[I 2024-11-27 13:10:15,982] Trial 46 finished with value: 0.47575057736720555 and parameters: {'learning_rate': 0.19914340785618248, 'max_depth': 8, 'n_estimators': 191, 'min_child_weight': 0.13480063188187547, 'subsample': 0.6259053972968569, 'colsample_bytree': 0.6158772509894501, 'gamma': 0.0019232788838463798}. Best is trial 22 with value: 0.512249443207127.\n"
     ]
    },
    {
     "data": {
      "application/vnd.jupyter.widget-view+json": {
       "model_id": "4ff5e43bded54facbdb4becd474e00aa",
       "version_major": 2,
       "version_minor": 0
      },
      "text/plain": [
       "Downloading artifacts:   0%|          | 0/7 [00:00<?, ?it/s]"
      ]
     },
     "metadata": {},
     "output_type": "display_data"
    },
    {
     "name": "stderr",
     "output_type": "stream",
     "text": [
      "[I 2024-11-27 13:10:19,695] Trial 47 finished with value: 0.48444444444444446 and parameters: {'learning_rate': 0.2625328497418487, 'max_depth': 7, 'n_estimators': 176, 'min_child_weight': 0.1928905626988824, 'subsample': 0.745479026728792, 'colsample_bytree': 0.7172776587896609, 'gamma': 2.9405945154962723e-06}. Best is trial 22 with value: 0.512249443207127.\n"
     ]
    },
    {
     "data": {
      "application/vnd.jupyter.widget-view+json": {
       "model_id": "ef17d48a4f0c4a5dbb98261bef6f38a5",
       "version_major": 2,
       "version_minor": 0
      },
      "text/plain": [
       "Downloading artifacts:   0%|          | 0/7 [00:00<?, ?it/s]"
      ]
     },
     "metadata": {},
     "output_type": "display_data"
    },
    {
     "name": "stderr",
     "output_type": "stream",
     "text": [
      "[I 2024-11-27 13:10:23,253] Trial 48 finished with value: 0.4638949671772429 and parameters: {'learning_rate': 0.14333714380954846, 'max_depth': 6, 'n_estimators': 156, 'min_child_weight': 0.49851286532288647, 'subsample': 0.5924012275145194, 'colsample_bytree': 0.8893373948930543, 'gamma': 0.4981387824688139}. Best is trial 22 with value: 0.512249443207127.\n"
     ]
    },
    {
     "data": {
      "application/vnd.jupyter.widget-view+json": {
       "model_id": "835e5e114d8e470f82901f5b1e90858f",
       "version_major": 2,
       "version_minor": 0
      },
      "text/plain": [
       "Downloading artifacts:   0%|          | 0/7 [00:00<?, ?it/s]"
      ]
     },
     "metadata": {},
     "output_type": "display_data"
    },
    {
     "name": "stderr",
     "output_type": "stream",
     "text": [
      "[I 2024-11-27 13:10:27,277] Trial 49 finished with value: 0.4881516587677725 and parameters: {'learning_rate': 0.07551615076651201, 'max_depth': 10, 'n_estimators': 149, 'min_child_weight': 0.7445106579491275, 'subsample': 0.6609967502759555, 'colsample_bytree': 0.8195175407919539, 'gamma': 4.6821169769796066e-08}. Best is trial 22 with value: 0.512249443207127.\n"
     ]
    },
    {
     "name": "stdout",
     "output_type": "stream",
     "text": [
      "Optimización completada. Mejor modelo guardado.\n",
      "Mejor modelo recuperado.\n"
     ]
    },
    {
     "data": {
      "image/png": "[encoded data removed]",
      "text/plain": [
       "<Figure size 640x480 with 1 Axes>"
      ]
     },
     "metadata": {},
     "output_type": "display_data"
    }
   ],
   "source": [
    "# Cargar los datos\n",
    "data = pd.read_csv(\"water_potability.csv\")  \n",
    "\n",
    "X = data.drop(\"Potability\", axis=1)\n",
    "y = data[\"Potability\"]\n",
    "X_train, X_valid, y_train, y_valid = train_test_split(X, y, test_size=0.2, random_state=1323)\n",
    "\n",
    "\n",
    "def get_best_model(experiment_id):\n",
    "    \"\"\"Devuelve el mejor modelo entrenado basado en el f1-score registrado en MLFlow.\"\"\"\n",
    "    runs = mlflow.search_runs(experiment_id)\n",
    "    best_model_id = runs.sort_values(\"metrics.valid_f1\", ascending=False)[\"run_id\"].iloc[0]\n",
    "    best_model = mlflow.sklearn.load_model(f\"runs:/{best_model_id}/model\")\n",
    "    return best_model\n",
    "\n",
    "\n",
    "def optimize_model():\n",
    "    # Crear el experimento en MLFlow\n",
    "    experiment_name = \"XGBoost_Optimization_Experiment\"\n",
    "    mlflow.set_experiment(experiment_name)\n",
    "\n",
    "    # Carpeta para guardar los gráficos y modelos\n",
    "    plots_dir = \"plots\"\n",
    "    models_dir = \"models\"\n",
    "    os.makedirs(plots_dir, exist_ok=True)\n",
    "    os.makedirs(models_dir, exist_ok=True)\n",
    "\n",
    "    # Función objetivo para Optuna\n",
    "    def objective(trial):\n",
    "        # Hiperparámetros a optimizar\n",
    "        params = {\n",
    "            \"learning_rate\": trial.suggest_float(\"learning_rate\", 0.01, 0.3, log=True),\n",
    "            \"max_depth\": trial.suggest_int(\"max_depth\", 3, 10),\n",
    "            \"n_estimators\": trial.suggest_int(\"n_estimators\", 50, 200),\n",
    "            \"min_child_weight\": trial.suggest_float(\"min_child_weight\", 0.1, 10, log=True),\n",
    "            \"subsample\": trial.suggest_float(\"subsample\", 0.5, 1.0),\n",
    "            \"colsample_bytree\": trial.suggest_float(\"colsample_bytree\", 0.5, 1.0),\n",
    "            \"gamma\": trial.suggest_float(\"gamma\", 1e-8, 1.0, log=True),\n",
    "        }\n",
    "\n",
    "        # Entrenar modelo con los parámetros actuales\n",
    "        model = XGBClassifier(**params, eval_metric=\"logloss\")\n",
    "\n",
    "        with mlflow.start_run(run_name=f\"XGBoost_lr_{params['learning_rate']}\"):\n",
    "            mlflow.log_params(params)\n",
    "\n",
    "            model.fit(X_train, y_train)\n",
    "            predictions = model.predict(X_valid)\n",
    "\n",
    "            # Calcular f1-score\n",
    "            f1 = f1_score(y_valid, predictions)\n",
    "            mlflow.log_metric(\"valid_f1\", f1)\n",
    "\n",
    "            # Generar firma e input_example\n",
    "            input_example = X_train.iloc[:5]\n",
    "            signature = infer_signature(X_train, model.predict(X_train))\n",
    "\n",
    "            # Guardar el modelo como artefacto\n",
    "            mlflow.sklearn.log_model(\n",
    "                model,\n",
    "                artifact_path=\"model\",\n",
    "                signature=signature,\n",
    "                input_example=input_example,\n",
    "            )\n",
    "\n",
    "        return f1\n",
    "\n",
    "    # Crear el estudio de Optuna\n",
    "    study = optuna.create_study(direction=\"maximize\")\n",
    "    study.optimize(objective, n_trials=50)\n",
    "\n",
    "    # Guardar gráficos en MLFlow (usar HTML para mayor eficiencia)\n",
    "    optimization_history_fig = optuna.visualization.plot_optimization_history(study)\n",
    "    optimization_history_fig.write_html(f\"{plots_dir}/optimization_history.html\")\n",
    "    param_importances_fig = optuna.visualization.plot_param_importances(study)\n",
    "    param_importances_fig.write_html(f\"{plots_dir}/param_importances.html\")\n",
    "\n",
    "    # Registrar gráficos como artefactos en MLFlow\n",
    "    mlflow.log_artifact(f\"{plots_dir}/optimization_history.html\")\n",
    "    mlflow.log_artifact(f\"{plots_dir}/param_importances.html\")\n",
    "\n",
    "    # Entrenar y guardar el mejor modelo\n",
    "    best_params = study.best_params\n",
    "    best_model = XGBClassifier(**best_params, eval_metric=\"logloss\")\n",
    "    best_model.fit(X_train, y_train)\n",
    "\n",
    "    # Serializar y guardar el mejor modelo\n",
    "    with open(f\"{models_dir}/best_model.pkl\", \"wb\") as f:\n",
    "        pickle.dump(best_model, f)\n",
    "    mlflow.log_artifact(f\"{models_dir}/best_model.pkl\")\n",
    "\n",
    "    # Guardar la importancia de las variables\n",
    "    importances = pd.DataFrame(\n",
    "        {\n",
    "            \"Feature\": X.columns,\n",
    "            \"Importance\": best_model.feature_importances_,\n",
    "        }\n",
    "    ).sort_values(by=\"Importance\", ascending=False)\n",
    "\n",
    "    importances_plot = importances.plot.barh(x=\"Feature\", y=\"Importance\")\n",
    "    importances_plot.figure.savefig(f\"{plots_dir}/feature_importances.png\")\n",
    "    mlflow.log_artifact(f\"{plots_dir}/feature_importances.png\")\n",
    "\n",
    "    # Guardar versiones de librerías\n",
    "    with open(f\"{models_dir}/libraries_version.txt\", \"w\") as f:\n",
    "        f.write(f\"Optuna: {optuna.__version__}\\n\")\n",
    "        f.write(f\"MLFlow: {mlflow.__version__}\\n\")\n",
    "        f.write(f\"XGBoost: {XGBClassifier.__module__.split('.')[0]}\\n\")\n",
    "    mlflow.log_artifact(f\"{models_dir}/libraries_version.txt\")\n",
    "\n",
    "    print(\"Optimización completada. Mejor modelo guardado.\")\n",
    "\n",
    "\n",
    "if __name__ == \"__main__\":\n",
    "    optimize_model()\n",
    "    # Recuperar el mejor modelo\n",
    "    experiment = mlflow.get_experiment_by_name(\"XGBoost_Optimization_Experiment\")\n",
    "    best_model = get_best_model(experiment.experiment_id)\n",
    "    print(\"Mejor modelo recuperado.\")"
   ]
  },
  {
   "cell_type": "markdown",
   "metadata": {
    "id": "tL2iG18289j9"
   },
   "source": [
    "# **2. FastAPI (2.0 puntos)**\n",
    "\n",
    "<div align=\"center\">\n",
    "  <img src=\"https://media3.giphy.com/media/YQitE4YNQNahy/giphy-downsized-large.gif\" width=\"500\">\n",
    "</div>\n",
    "\n",
    "Con el modelo ya entrenado, la idea de esta sección es generar una API REST a la cual se le pueda hacer *requests* para así interactuar con su modelo. En particular, se le pide:\n",
    "\n",
    "- Guardar el código de esta sección en el archivo `main.py`. Note que ejecutar `python main.py` debería levantar el servidor en el puerto por defecto.\n",
    "- Defina `GET` con ruta tipo *home* que describa brevemente su modelo, el problema que intenta resolver, su entrada y salida.\n",
    "- Defina un `POST` a la ruta `/potabilidad/` donde utilice su mejor optimizado para predecir si una medición de agua es o no potable. Por ejemplo, una llamada de esta ruta con un *body*:\n",
    "\n",
    "```json\n",
    "{\n",
    "   \"ph\":10.316400384553162,\n",
    "   \"Hardness\":217.2668424334475,\n",
    "   \"Solids\":10676.508475429378,\n",
    "   \"Chloramines\":3.445514571005745,\n",
    "   \"Sulfate\":397.7549459751925,\n",
    "   \"Conductivity\":492.20647361771086,\n",
    "   \"Organic_carbon\":12.812732207582542,\n",
    "   \"Trihalomethanes\":72.28192021570328,\n",
    "   \"Turbidity\":3.4073494284238364\n",
    "}\n",
    "```\n",
    "\n",
    "Su servidor debería retornar una respuesta HTML con código 200 con:\n",
    "\n",
    "\n",
    "```json\n",
    "{\n",
    "  \"potabilidad\": 0 # respuesta puede variar según el clasificador que entrenen\n",
    "}\n",
    "```\n",
    "\n",
    "**`HINT:` Recuerde que puede utilizar [http://localhost:8000/docs](http://localhost:8000/docs) para hacer un `POST`.**"
   ]
  },
  {
   "cell_type": "markdown",
   "metadata": {
    "id": "HSausqDJ9CQh"
   },
   "source": [
    "# **3. Docker (2 puntos)**"
   ]
  },
  {
   "cell_type": "markdown",
   "metadata": {
    "id": "fNmC483flS00"
   },
   "source": [
    "<div align=\"center\">\n",
    "  <img src=\"https://miro.medium.com/v2/resize:fit:1400/1*9rafh2W0rbRJIKJzqYc8yA.gif\" width=\"500\">\n",
    "</div>"
   ]
  },
  {
   "cell_type": "markdown",
   "metadata": {
    "id": "niMA_qsCjqlv"
   },
   "source": [
    "Tras el éxito de su aplicación web para generar la salida, Smapina le solicita que genere un contenedor para poder ejecutarla en cualquier computador de la empresa de agua potable.\n",
    "\n",
    "## **3.1 Creación de Container (1 punto)**\n",
    "\n",
    "Cree un Dockerfile que use una imagen base de Python, copie los archivos del proyecto e instale las dependencias desde un `requirements.txt`. Con esto, construya y ejecute el contenedor Docker para la API configurada anteriormente. Entregue el código fuente (incluyendo `main.py`, `requirements.txt`, y `Dockerfile`) y la imagen Docker de la aplicación. Para la dockerización, asegúrese de cumplir con los siguientes puntos:\n",
    "\n",
    "1. **Generar un archivo `.dockerignore`** que ignore carpetas y archivos innecesarios dentro del contenedor.\n",
    "2. **Configurar un volumen** que permita la persistencia de los datos en una ruta local del computador.\n",
    "3. **Exponer el puerto** para acceder a la ruta de la API sin tener que entrar al contenedor directamente.\n",
    "4. **Incluir imágenes en el notebook** que muestren la ejecución del contenedor y los resultados obtenidos.\n",
    "5. **Revisar y comentar los recursos utilizados por el contenedor**. Analice si los contenedores son livianos en términos de recursos.\n",
    "\n",
    "## **3.2 Preguntas de Smapina (1 punto)**\n",
    "Tras haber experimentado con Docker, Smapina desea profundizar más en el tema y decide realizarle las siguientes consultas:\n",
    "\n",
    "- ¿Cómo se diferencia Docker de una máquina virtual (VM)?\n",
    "- ¿Cuál es la diferencia entre usar Docker y ejecutar la aplicación directamente en el sistema local?\n",
    "- ¿Cómo asegura Docker la consistencia entre diferentes entornos de desarrollo y producción?\n",
    "- ¿Cómo se gestionan los volúmenes en Docker para la persistencia de datos?\n",
    "- ¿Qué son Dockerfile y docker-compose.yml, y cuál es su propósito?"
   ]
  },
  {
   "cell_type": "code",
   "execution_count": null,
   "metadata": {
    "id": "6GwP2aLT9C1l"
   },
   "outputs": [],
   "source": []
  },
  {
   "cell_type": "markdown",
   "metadata": {
    "id": "8xJ_ZK1IfnZW"
   },
   "source": [
    "# Conclusión\n",
    "Eso ha sido todo para el lab de hoy, recuerden que el laboratorio tiene un plazo de entrega de una semana. Cualquier duda del laboratorio, no duden en contactarnos por mail o U-cursos.\n",
    "\n",
    "<div align=\"center\">\n",
    "  <img src=\"https://i.pinimg.com/originals/84/5d/f1/845df1aefc6a5e37ae575327a0cc6e43.gif\" width=\"500\">\n",
    "</div>"
   ]
  }
 ],
 "metadata": {
  "colab": {
   "provenance": []
  },
  "kernelspec": {
   "display_name": "base",
   "language": "python",
   "name": "python3"
  },
  "language_info": {
   "codemirror_mode": {
    "name": "ipython",
    "version": 3
   },
   "file_extension": ".py",
   "mimetype": "text/x-python",
   "name": "python",
   "nbconvert_exporter": "python",
   "pygments_lexer": "ipython3",
   "version": "3.9.17"
  }
 },
 "nbformat": 4,
 "nbformat_minor": 0
}
