{
  "cells": [
    {
      "cell_type": "markdown",
      "metadata": {
        "cell_id": "b5c0d2440b3e4995a794ded565213150",
        "deepnote_cell_type": "markdown",
        "id": "_Mql1uRoI5v5"
      },
      "source": [
        "<h1><center>Laboratorio 9: Optimización de modelos 💯</center></h1>\n",
        "\n",
        "<center><strong>MDS7202: Laboratorio de Programación Científica para Ciencia de Datos - Primavera 2024</strong></center>"
      ]
    },
    {
      "cell_type": "markdown",
      "metadata": {
        "cell_id": "bfb94b9656f145ad83e81b75d218cb70",
        "deepnote_cell_type": "markdown",
        "id": "FAPGIlEAI5v8"
      },
      "source": [
        "### **Cuerpo Docente:**\n",
        "\n",
        "- Profesores: Ignacio Meza, Sebastián Tinoco\n",
        "- Auxiliar: Eduardo Moya\n",
        "- Ayudantes: Nicolás Ojeda, Melanie Peña, Valentina Rojas"
      ]
    },
    {
      "cell_type": "markdown",
      "metadata": {
        "cell_id": "b1b537fdd27c43909a49d3476ce64d91",
        "deepnote_cell_type": "markdown",
        "id": "8NozgbkZI5v9"
      },
      "source": [
        "### Equipo: SUPER IMPORTANTE - notebooks sin nombre no serán revisados\n",
        "\n",
        "- Nombre de alumno 1: Cristian Oyarzo M.\n",
        "- Nombre de alumno 2: Sebastián Quenti A.\n"
      ]
    },
    {
      "cell_type": "markdown",
      "metadata": {},
      "source": [
        "### **Link de repositorio de GitHub:** [Repositorio](https://github.com/sebaquenti/Repositorio-MDS7202)"
      ]
    },
    {
      "cell_type": "markdown",
      "metadata": {
        "cell_id": "b7dbdd30ab544cb8a8afe00648a586ae",
        "deepnote_cell_type": "markdown",
        "id": "vHU9DI6wI5v9"
      },
      "source": [
        "### Temas a tratar\n",
        "\n",
        "- Predicción de demanda usando `xgboost`\n",
        "- Búsqueda del modelo óptimo de clasificación usando `optuna`\n",
        "- Uso de pipelines.\n",
        "\n",
        "### Reglas:\n",
        "\n",
        "- **Grupos de 2 personas**\n",
        "- Cualquier duda fuera del horario de clases al foro. Mensajes al equipo docente serán respondidos por este medio.\n",
        "- Prohibidas las copias.\n",
        "- Pueden usar cualquer matrial del curso que estimen conveniente.\n",
        "- Código que no se pueda ejecutar, no será revisado.\n",
        "\n",
        "### Objetivos principales del laboratorio\n",
        "\n",
        "- Optimizar modelos usando `optuna`\n",
        "- Recurrir a técnicas de *prunning*\n",
        "- Forzar el aprendizaje de relaciones entre variables mediante *constraints*\n",
        "- Fijar un pipeline con un modelo base que luego se irá optimizando.\n",
        "\n",
        "El laboratorio deberá ser desarrollado sin el uso indiscriminado de iteradores nativos de python (aka \"for\", \"while\"). La idea es que aprendan a exprimir al máximo las funciones optimizadas que nos entrega `pandas`, las cuales vale mencionar, son bastante más eficientes que los iteradores nativos sobre DataFrames."
      ]
    },
    {
      "cell_type": "markdown",
      "metadata": {
        "id": "y6hJXpLCSspz"
      },
      "source": [
        "# El emprendimiento de Fiu"
      ]
    },
    {
      "cell_type": "markdown",
      "metadata": {
        "cell_id": "44d227389a734ac59189c5e0005bc68a",
        "deepnote_cell_type": "markdown",
        "id": "b0bDalAOI5v-"
      },
      "source": [
        "Tras liderar de manera exitosa la implementación de un proyecto de ciencia de datos para caracterizar los datos generados en Santiago 2023, el misterioso corpóreo **Fiu** se anima y decide levantar su propio negocio de consultoría en machine learning. Tras varias e intensas negociaciones, Fiu logra encontrar su *primera chamba*: predecir la demanda (cantidad de venta) de una famosa productora de bebidas de calibre mundial. Al ver el gran potencial y talento que usted ha demostrado en el campo de la ciencia de datos, Fiu lo contrata como data scientist para que forme parte de su nuevo emprendimiento.\n",
        "\n",
        "Para este laboratorio deben trabajar con los datos `sales.csv` subidos a u-cursos, el cual contiene una muestra de ventas de la empresa para diferentes productos en un determinado tiempo.\n",
        "\n",
        "Para comenzar, cargue el dataset señalado y visualice a través de un `.head` los atributos que posee el dataset.\n",
        "\n",
        "<i><p align=\"center\">Fiu siendo felicitado por su excelente desempeño en el proyecto de caracterización de datos</p></i>\n",
        "<p align=\"center\">\n",
        "  <img src=\"https://media-front.elmostrador.cl/2023/09/A_UNO_1506411_2440e.jpg\">\n",
        "</p>"
      ]
    },
    {
      "cell_type": "code",
      "execution_count": 1,
      "metadata": {
        "cell_id": "2f9c82d204b14515ad27ae07e0b77702",
        "deepnote_cell_type": "code",
        "deepnote_to_be_reexecuted": false,
        "execution_millis": 92,
        "execution_start": 1699544359006,
        "id": "QvMPOqHuI5v-",
        "outputId": "659e7a12-d74d-45d6-d3c2-33a6cd338585",
        "source_hash": null
      },
      "outputs": [
        {
          "data": {
            "text/html": [
              "<div>\n",
              "<style scoped>\n",
              "    .dataframe tbody tr th:only-of-type {\n",
              "        vertical-align: middle;\n",
              "    }\n",
              "\n",
              "    .dataframe tbody tr th {\n",
              "        vertical-align: top;\n",
              "    }\n",
              "\n",
              "    .dataframe thead th {\n",
              "        text-align: right;\n",
              "    }\n",
              "</style>\n",
              "<table border=\"1\" class=\"dataframe\">\n",
              "  <thead>\n",
              "    <tr style=\"text-align: right;\">\n",
              "      <th></th>\n",
              "      <th>id</th>\n",
              "      <th>date</th>\n",
              "      <th>city</th>\n",
              "      <th>lat</th>\n",
              "      <th>long</th>\n",
              "      <th>pop</th>\n",
              "      <th>shop</th>\n",
              "      <th>brand</th>\n",
              "      <th>container</th>\n",
              "      <th>capacity</th>\n",
              "      <th>price</th>\n",
              "      <th>quantity</th>\n",
              "    </tr>\n",
              "  </thead>\n",
              "  <tbody>\n",
              "    <tr>\n",
              "      <th>0</th>\n",
              "      <td>0</td>\n",
              "      <td>2012-01-31</td>\n",
              "      <td>Athens</td>\n",
              "      <td>37.97945</td>\n",
              "      <td>23.71622</td>\n",
              "      <td>672130</td>\n",
              "      <td>shop_1</td>\n",
              "      <td>kinder-cola</td>\n",
              "      <td>glass</td>\n",
              "      <td>500ml</td>\n",
              "      <td>0.96</td>\n",
              "      <td>13280</td>\n",
              "    </tr>\n",
              "    <tr>\n",
              "      <th>1</th>\n",
              "      <td>1</td>\n",
              "      <td>2012-01-31</td>\n",
              "      <td>Athens</td>\n",
              "      <td>37.97945</td>\n",
              "      <td>23.71622</td>\n",
              "      <td>672130</td>\n",
              "      <td>shop_1</td>\n",
              "      <td>kinder-cola</td>\n",
              "      <td>plastic</td>\n",
              "      <td>1.5lt</td>\n",
              "      <td>2.86</td>\n",
              "      <td>6727</td>\n",
              "    </tr>\n",
              "    <tr>\n",
              "      <th>2</th>\n",
              "      <td>2</td>\n",
              "      <td>2012-01-31</td>\n",
              "      <td>Athens</td>\n",
              "      <td>37.97945</td>\n",
              "      <td>23.71622</td>\n",
              "      <td>672130</td>\n",
              "      <td>shop_1</td>\n",
              "      <td>kinder-cola</td>\n",
              "      <td>can</td>\n",
              "      <td>330ml</td>\n",
              "      <td>0.87</td>\n",
              "      <td>9848</td>\n",
              "    </tr>\n",
              "    <tr>\n",
              "      <th>3</th>\n",
              "      <td>3</td>\n",
              "      <td>2012-01-31</td>\n",
              "      <td>Athens</td>\n",
              "      <td>37.97945</td>\n",
              "      <td>23.71622</td>\n",
              "      <td>672130</td>\n",
              "      <td>shop_1</td>\n",
              "      <td>adult-cola</td>\n",
              "      <td>glass</td>\n",
              "      <td>500ml</td>\n",
              "      <td>1.00</td>\n",
              "      <td>20050</td>\n",
              "    </tr>\n",
              "    <tr>\n",
              "      <th>4</th>\n",
              "      <td>4</td>\n",
              "      <td>2012-01-31</td>\n",
              "      <td>Athens</td>\n",
              "      <td>37.97945</td>\n",
              "      <td>23.71622</td>\n",
              "      <td>672130</td>\n",
              "      <td>shop_1</td>\n",
              "      <td>adult-cola</td>\n",
              "      <td>can</td>\n",
              "      <td>330ml</td>\n",
              "      <td>0.39</td>\n",
              "      <td>25696</td>\n",
              "    </tr>\n",
              "  </tbody>\n",
              "</table>\n",
              "</div>"
            ],
            "text/plain": [
              "   id       date    city       lat      long     pop    shop        brand  \\\n",
              "0   0 2012-01-31  Athens  37.97945  23.71622  672130  shop_1  kinder-cola   \n",
              "1   1 2012-01-31  Athens  37.97945  23.71622  672130  shop_1  kinder-cola   \n",
              "2   2 2012-01-31  Athens  37.97945  23.71622  672130  shop_1  kinder-cola   \n",
              "3   3 2012-01-31  Athens  37.97945  23.71622  672130  shop_1   adult-cola   \n",
              "4   4 2012-01-31  Athens  37.97945  23.71622  672130  shop_1   adult-cola   \n",
              "\n",
              "  container capacity  price  quantity  \n",
              "0     glass    500ml   0.96     13280  \n",
              "1   plastic    1.5lt   2.86      6727  \n",
              "2       can    330ml   0.87      9848  \n",
              "3     glass    500ml   1.00     20050  \n",
              "4       can    330ml   0.39     25696  "
            ]
          },
          "execution_count": 1,
          "metadata": {},
          "output_type": "execute_result"
        }
      ],
      "source": [
        "import pandas as pd\n",
        "import numpy as np\n",
        "from datetime import datetime\n",
        "\n",
        "df = pd.read_csv('sales.csv')\n",
        "df['date'] = pd.to_datetime(df['date'], format='%d/%m/%y', dayfirst=True)\n",
        "df.head()\n"
      ]
    },
    {
      "cell_type": "markdown",
      "metadata": {
        "cell_id": "b50db6f2cb804932ae3f9e5748a6ea61",
        "deepnote_cell_type": "markdown",
        "id": "pk4ru76pI5v_"
      },
      "source": [
        "## 1 Generando un Baseline (5 puntos)\n",
        "\n",
        "<p align=\"center\">\n",
        "  <img src=\"https://media.tenor.com/O-lan6TkadUAAAAC/what-i-wnna-do-after-a-baseline.gif\">\n",
        "</p>\n",
        "\n",
        "Antes de entrenar un algoritmo, usted recuerda los apuntes de su magíster en ciencia de datos y recuerda que debe seguir una serie de *buenas prácticas* para entrenar correcta y debidamente su modelo. Después de un par de vueltas, llega a las siguientes tareas:\n",
        "\n",
        "1. Separe los datos en conjuntos de train (70%), validation (20%) y test (10%). Fije una semilla para controlar la aleatoriedad. [0.5 puntos]\n",
        "2. Implemente un `FunctionTransformer` para extraer el día, mes y año de la variable `date`. Guarde estas variables en el formato categorical de pandas. [1 punto]\n",
        "3. Implemente un `ColumnTransformer` para procesar de manera adecuada los datos numéricos y categóricos. Use `OneHotEncoder` para las variables categóricas. `Nota:` Utilice el método `.set_output(transform='pandas')` para obtener un DataFrame como salida del `ColumnTransformer` [1 punto]\n",
        "4. Guarde los pasos anteriores en un `Pipeline`, dejando como último paso el regresor `DummyRegressor` para generar predicciones en base a promedios. [0.5 punto]\n",
        "5. Entrene el pipeline anterior y reporte la métrica `mean_absolute_error` sobre los datos de validación. ¿Cómo se interpreta esta métrica para el contexto del negocio? [0.5 puntos]\n",
        "6. Finalmente, vuelva a entrenar el `Pipeline` pero esta vez usando `XGBRegressor` como modelo **utilizando los parámetros por default**. ¿Cómo cambia el MAE al implementar este algoritmo? ¿Es mejor o peor que el `DummyRegressor`? [1 punto]\n",
        "7. Guarde ambos modelos en un archivo .pkl (uno cada uno) [0.5 puntos]"
      ]
    },
    {
      "cell_type": "code",
      "execution_count": 2,
      "metadata": {
        "cell_id": "1482c992d9494e5582b23dbd3431dbfd",
        "deepnote_cell_type": "code",
        "id": "sfnN7HubI5v_"
      },
      "outputs": [],
      "source": [
        "from sklearn import set_config\n",
        "set_config(transform_output=\"pandas\")\n",
        "from sklearn.model_selection import train_test_split\n",
        "\n",
        "\n",
        "# Parte 1\n",
        "X_train, temp_data = train_test_split(df, test_size=0.3, random_state=1323)\n",
        "X_val, X_test = train_test_split(temp_data, test_size=1/3, random_state=1323)\n",
        "\n",
        "# Separar las características (X) y la variable objetivo (y)\n",
        "y_train = X_train['quantity']\n",
        "y_val = X_val['quantity']\n",
        "y_test = X_test['quantity']\n",
        "\n",
        "X_train = X_train.drop(columns=['quantity'])\n",
        "X_val = X_val.drop(columns=['quantity'])\n",
        "X_test = X_test.drop(columns=['quantity'])\n"
      ]
    },
    {
      "cell_type": "code",
      "execution_count": 3,
      "metadata": {},
      "outputs": [],
      "source": [
        "# Parte 2\n",
        "from sklearn.preprocessing import FunctionTransformer\n",
        "from sklearn.pipeline import Pipeline\n",
        "\n",
        "def extract_date_features(X):\n",
        "    X = X.copy()\n",
        "    X['day'] = X['date'].dt.day.astype('category')\n",
        "    X['month'] = X['date'].dt.month.astype('category')\n",
        "    X['year'] = X['date'].dt.year.astype('category')\n",
        "    return X\n",
        "\n",
        "# FunctionTransformer\n",
        "date_transformer = FunctionTransformer(extract_date_features)"
      ]
    },
    {
      "cell_type": "code",
      "execution_count": 4,
      "metadata": {},
      "outputs": [
        {
          "data": {
            "text/plain": [
              "id                    int64\n",
              "date         datetime64[ns]\n",
              "city                 object\n",
              "lat                 float64\n",
              "long                float64\n",
              "pop                   int64\n",
              "shop                 object\n",
              "brand                object\n",
              "container            object\n",
              "capacity             object\n",
              "price               float64\n",
              "quantity              int64\n",
              "dtype: object"
            ]
          },
          "execution_count": 4,
          "metadata": {},
          "output_type": "execute_result"
        }
      ],
      "source": [
        "df.dtypes"
      ]
    },
    {
      "cell_type": "code",
      "execution_count": 5,
      "metadata": {},
      "outputs": [
        {
          "data": {
            "text/html": [
              "<style>#sk-container-id-1 {\n",
              "  /* Definition of color scheme common for light and dark mode */\n",
              "  --sklearn-color-text: black;\n",
              "  --sklearn-color-line: gray;\n",
              "  /* Definition of color scheme for unfitted estimators */\n",
              "  --sklearn-color-unfitted-level-0: #fff5e6;\n",
              "  --sklearn-color-unfitted-level-1: #f6e4d2;\n",
              "  --sklearn-color-unfitted-level-2: #ffe0b3;\n",
              "  --sklearn-color-unfitted-level-3: chocolate;\n",
              "  /* Definition of color scheme for fitted estimators */\n",
              "  --sklearn-color-fitted-level-0: #f0f8ff;\n",
              "  --sklearn-color-fitted-level-1: #d4ebff;\n",
              "  --sklearn-color-fitted-level-2: #b3dbfd;\n",
              "  --sklearn-color-fitted-level-3: cornflowerblue;\n",
              "\n",
              "  /* Specific color for light theme */\n",
              "  --sklearn-color-text-on-default-background: var(--sg-text-color, var(--theme-code-foreground, var(--jp-content-font-color1, black)));\n",
              "  --sklearn-color-background: var(--sg-background-color, var(--theme-background, var(--jp-layout-color0, white)));\n",
              "  --sklearn-color-border-box: var(--sg-text-color, var(--theme-code-foreground, var(--jp-content-font-color1, black)));\n",
              "  --sklearn-color-icon: #696969;\n",
              "\n",
              "  @media (prefers-color-scheme: dark) {\n",
              "    /* Redefinition of color scheme for dark theme */\n",
              "    --sklearn-color-text-on-default-background: var(--sg-text-color, var(--theme-code-foreground, var(--jp-content-font-color1, white)));\n",
              "    --sklearn-color-background: var(--sg-background-color, var(--theme-background, var(--jp-layout-color0, #111)));\n",
              "    --sklearn-color-border-box: var(--sg-text-color, var(--theme-code-foreground, var(--jp-content-font-color1, white)));\n",
              "    --sklearn-color-icon: #878787;\n",
              "  }\n",
              "}\n",
              "\n",
              "#sk-container-id-1 {\n",
              "  color: var(--sklearn-color-text);\n",
              "}\n",
              "\n",
              "#sk-container-id-1 pre {\n",
              "  padding: 0;\n",
              "}\n",
              "\n",
              "#sk-container-id-1 input.sk-hidden--visually {\n",
              "  border: 0;\n",
              "  clip: rect(1px 1px 1px 1px);\n",
              "  clip: rect(1px, 1px, 1px, 1px);\n",
              "  height: 1px;\n",
              "  margin: -1px;\n",
              "  overflow: hidden;\n",
              "  padding: 0;\n",
              "  position: absolute;\n",
              "  width: 1px;\n",
              "}\n",
              "\n",
              "#sk-container-id-1 div.sk-dashed-wrapped {\n",
              "  border: 1px dashed var(--sklearn-color-line);\n",
              "  margin: 0 0.4em 0.5em 0.4em;\n",
              "  box-sizing: border-box;\n",
              "  padding-bottom: 0.4em;\n",
              "  background-color: var(--sklearn-color-background);\n",
              "}\n",
              "\n",
              "#sk-container-id-1 div.sk-container {\n",
              "  /* jupyter's `normalize.less` sets `[hidden] { display: none; }`\n",
              "     but bootstrap.min.css set `[hidden] { display: none !important; }`\n",
              "     so we also need the `!important` here to be able to override the\n",
              "     default hidden behavior on the sphinx rendered scikit-learn.org.\n",
              "     See: https://github.com/scikit-learn/scikit-learn/issues/21755 */\n",
              "  display: inline-block !important;\n",
              "  position: relative;\n",
              "}\n",
              "\n",
              "#sk-container-id-1 div.sk-text-repr-fallback {\n",
              "  display: none;\n",
              "}\n",
              "\n",
              "div.sk-parallel-item,\n",
              "div.sk-serial,\n",
              "div.sk-item {\n",
              "  /* draw centered vertical line to link estimators */\n",
              "  background-image: linear-gradient(var(--sklearn-color-text-on-default-background), var(--sklearn-color-text-on-default-background));\n",
              "  background-size: 2px 100%;\n",
              "  background-repeat: no-repeat;\n",
              "  background-position: center center;\n",
              "}\n",
              "\n",
              "/* Parallel-specific style estimator block */\n",
              "\n",
              "#sk-container-id-1 div.sk-parallel-item::after {\n",
              "  content: \"\";\n",
              "  width: 100%;\n",
              "  border-bottom: 2px solid var(--sklearn-color-text-on-default-background);\n",
              "  flex-grow: 1;\n",
              "}\n",
              "\n",
              "#sk-container-id-1 div.sk-parallel {\n",
              "  display: flex;\n",
              "  align-items: stretch;\n",
              "  justify-content: center;\n",
              "  background-color: var(--sklearn-color-background);\n",
              "  position: relative;\n",
              "}\n",
              "\n",
              "#sk-container-id-1 div.sk-parallel-item {\n",
              "  display: flex;\n",
              "  flex-direction: column;\n",
              "}\n",
              "\n",
              "#sk-container-id-1 div.sk-parallel-item:first-child::after {\n",
              "  align-self: flex-end;\n",
              "  width: 50%;\n",
              "}\n",
              "\n",
              "#sk-container-id-1 div.sk-parallel-item:last-child::after {\n",
              "  align-self: flex-start;\n",
              "  width: 50%;\n",
              "}\n",
              "\n",
              "#sk-container-id-1 div.sk-parallel-item:only-child::after {\n",
              "  width: 0;\n",
              "}\n",
              "\n",
              "/* Serial-specific style estimator block */\n",
              "\n",
              "#sk-container-id-1 div.sk-serial {\n",
              "  display: flex;\n",
              "  flex-direction: column;\n",
              "  align-items: center;\n",
              "  background-color: var(--sklearn-color-background);\n",
              "  padding-right: 1em;\n",
              "  padding-left: 1em;\n",
              "}\n",
              "\n",
              "\n",
              "/* Toggleable style: style used for estimator/Pipeline/ColumnTransformer box that is\n",
              "clickable and can be expanded/collapsed.\n",
              "- Pipeline and ColumnTransformer use this feature and define the default style\n",
              "- Estimators will overwrite some part of the style using the `sk-estimator` class\n",
              "*/\n",
              "\n",
              "/* Pipeline and ColumnTransformer style (default) */\n",
              "\n",
              "#sk-container-id-1 div.sk-toggleable {\n",
              "  /* Default theme specific background. It is overwritten whether we have a\n",
              "  specific estimator or a Pipeline/ColumnTransformer */\n",
              "  background-color: var(--sklearn-color-background);\n",
              "}\n",
              "\n",
              "/* Toggleable label */\n",
              "#sk-container-id-1 label.sk-toggleable__label {\n",
              "  cursor: pointer;\n",
              "  display: block;\n",
              "  width: 100%;\n",
              "  margin-bottom: 0;\n",
              "  padding: 0.5em;\n",
              "  box-sizing: border-box;\n",
              "  text-align: center;\n",
              "}\n",
              "\n",
              "#sk-container-id-1 label.sk-toggleable__label-arrow:before {\n",
              "  /* Arrow on the left of the label */\n",
              "  content: \"▸\";\n",
              "  float: left;\n",
              "  margin-right: 0.25em;\n",
              "  color: var(--sklearn-color-icon);\n",
              "}\n",
              "\n",
              "#sk-container-id-1 label.sk-toggleable__label-arrow:hover:before {\n",
              "  color: var(--sklearn-color-text);\n",
              "}\n",
              "\n",
              "/* Toggleable content - dropdown */\n",
              "\n",
              "#sk-container-id-1 div.sk-toggleable__content {\n",
              "  max-height: 0;\n",
              "  max-width: 0;\n",
              "  overflow: hidden;\n",
              "  text-align: left;\n",
              "  /* unfitted */\n",
              "  background-color: var(--sklearn-color-unfitted-level-0);\n",
              "}\n",
              "\n",
              "#sk-container-id-1 div.sk-toggleable__content.fitted {\n",
              "  /* fitted */\n",
              "  background-color: var(--sklearn-color-fitted-level-0);\n",
              "}\n",
              "\n",
              "#sk-container-id-1 div.sk-toggleable__content pre {\n",
              "  margin: 0.2em;\n",
              "  border-radius: 0.25em;\n",
              "  color: var(--sklearn-color-text);\n",
              "  /* unfitted */\n",
              "  background-color: var(--sklearn-color-unfitted-level-0);\n",
              "}\n",
              "\n",
              "#sk-container-id-1 div.sk-toggleable__content.fitted pre {\n",
              "  /* unfitted */\n",
              "  background-color: var(--sklearn-color-fitted-level-0);\n",
              "}\n",
              "\n",
              "#sk-container-id-1 input.sk-toggleable__control:checked~div.sk-toggleable__content {\n",
              "  /* Expand drop-down */\n",
              "  max-height: 200px;\n",
              "  max-width: 100%;\n",
              "  overflow: auto;\n",
              "}\n",
              "\n",
              "#sk-container-id-1 input.sk-toggleable__control:checked~label.sk-toggleable__label-arrow:before {\n",
              "  content: \"▾\";\n",
              "}\n",
              "\n",
              "/* Pipeline/ColumnTransformer-specific style */\n",
              "\n",
              "#sk-container-id-1 div.sk-label input.sk-toggleable__control:checked~label.sk-toggleable__label {\n",
              "  color: var(--sklearn-color-text);\n",
              "  background-color: var(--sklearn-color-unfitted-level-2);\n",
              "}\n",
              "\n",
              "#sk-container-id-1 div.sk-label.fitted input.sk-toggleable__control:checked~label.sk-toggleable__label {\n",
              "  background-color: var(--sklearn-color-fitted-level-2);\n",
              "}\n",
              "\n",
              "/* Estimator-specific style */\n",
              "\n",
              "/* Colorize estimator box */\n",
              "#sk-container-id-1 div.sk-estimator input.sk-toggleable__control:checked~label.sk-toggleable__label {\n",
              "  /* unfitted */\n",
              "  background-color: var(--sklearn-color-unfitted-level-2);\n",
              "}\n",
              "\n",
              "#sk-container-id-1 div.sk-estimator.fitted input.sk-toggleable__control:checked~label.sk-toggleable__label {\n",
              "  /* fitted */\n",
              "  background-color: var(--sklearn-color-fitted-level-2);\n",
              "}\n",
              "\n",
              "#sk-container-id-1 div.sk-label label.sk-toggleable__label,\n",
              "#sk-container-id-1 div.sk-label label {\n",
              "  /* The background is the default theme color */\n",
              "  color: var(--sklearn-color-text-on-default-background);\n",
              "}\n",
              "\n",
              "/* On hover, darken the color of the background */\n",
              "#sk-container-id-1 div.sk-label:hover label.sk-toggleable__label {\n",
              "  color: var(--sklearn-color-text);\n",
              "  background-color: var(--sklearn-color-unfitted-level-2);\n",
              "}\n",
              "\n",
              "/* Label box, darken color on hover, fitted */\n",
              "#sk-container-id-1 div.sk-label.fitted:hover label.sk-toggleable__label.fitted {\n",
              "  color: var(--sklearn-color-text);\n",
              "  background-color: var(--sklearn-color-fitted-level-2);\n",
              "}\n",
              "\n",
              "/* Estimator label */\n",
              "\n",
              "#sk-container-id-1 div.sk-label label {\n",
              "  font-family: monospace;\n",
              "  font-weight: bold;\n",
              "  display: inline-block;\n",
              "  line-height: 1.2em;\n",
              "}\n",
              "\n",
              "#sk-container-id-1 div.sk-label-container {\n",
              "  text-align: center;\n",
              "}\n",
              "\n",
              "/* Estimator-specific */\n",
              "#sk-container-id-1 div.sk-estimator {\n",
              "  font-family: monospace;\n",
              "  border: 1px dotted var(--sklearn-color-border-box);\n",
              "  border-radius: 0.25em;\n",
              "  box-sizing: border-box;\n",
              "  margin-bottom: 0.5em;\n",
              "  /* unfitted */\n",
              "  background-color: var(--sklearn-color-unfitted-level-0);\n",
              "}\n",
              "\n",
              "#sk-container-id-1 div.sk-estimator.fitted {\n",
              "  /* fitted */\n",
              "  background-color: var(--sklearn-color-fitted-level-0);\n",
              "}\n",
              "\n",
              "/* on hover */\n",
              "#sk-container-id-1 div.sk-estimator:hover {\n",
              "  /* unfitted */\n",
              "  background-color: var(--sklearn-color-unfitted-level-2);\n",
              "}\n",
              "\n",
              "#sk-container-id-1 div.sk-estimator.fitted:hover {\n",
              "  /* fitted */\n",
              "  background-color: var(--sklearn-color-fitted-level-2);\n",
              "}\n",
              "\n",
              "/* Specification for estimator info (e.g. \"i\" and \"?\") */\n",
              "\n",
              "/* Common style for \"i\" and \"?\" */\n",
              "\n",
              ".sk-estimator-doc-link,\n",
              "a:link.sk-estimator-doc-link,\n",
              "a:visited.sk-estimator-doc-link {\n",
              "  float: right;\n",
              "  font-size: smaller;\n",
              "  line-height: 1em;\n",
              "  font-family: monospace;\n",
              "  background-color: var(--sklearn-color-background);\n",
              "  border-radius: 1em;\n",
              "  height: 1em;\n",
              "  width: 1em;\n",
              "  text-decoration: none !important;\n",
              "  margin-left: 1ex;\n",
              "  /* unfitted */\n",
              "  border: var(--sklearn-color-unfitted-level-1) 1pt solid;\n",
              "  color: var(--sklearn-color-unfitted-level-1);\n",
              "}\n",
              "\n",
              ".sk-estimator-doc-link.fitted,\n",
              "a:link.sk-estimator-doc-link.fitted,\n",
              "a:visited.sk-estimator-doc-link.fitted {\n",
              "  /* fitted */\n",
              "  border: var(--sklearn-color-fitted-level-1) 1pt solid;\n",
              "  color: var(--sklearn-color-fitted-level-1);\n",
              "}\n",
              "\n",
              "/* On hover */\n",
              "div.sk-estimator:hover .sk-estimator-doc-link:hover,\n",
              ".sk-estimator-doc-link:hover,\n",
              "div.sk-label-container:hover .sk-estimator-doc-link:hover,\n",
              ".sk-estimator-doc-link:hover {\n",
              "  /* unfitted */\n",
              "  background-color: var(--sklearn-color-unfitted-level-3);\n",
              "  color: var(--sklearn-color-background);\n",
              "  text-decoration: none;\n",
              "}\n",
              "\n",
              "div.sk-estimator.fitted:hover .sk-estimator-doc-link.fitted:hover,\n",
              ".sk-estimator-doc-link.fitted:hover,\n",
              "div.sk-label-container:hover .sk-estimator-doc-link.fitted:hover,\n",
              ".sk-estimator-doc-link.fitted:hover {\n",
              "  /* fitted */\n",
              "  background-color: var(--sklearn-color-fitted-level-3);\n",
              "  color: var(--sklearn-color-background);\n",
              "  text-decoration: none;\n",
              "}\n",
              "\n",
              "/* Span, style for the box shown on hovering the info icon */\n",
              ".sk-estimator-doc-link span {\n",
              "  display: none;\n",
              "  z-index: 9999;\n",
              "  position: relative;\n",
              "  font-weight: normal;\n",
              "  right: .2ex;\n",
              "  padding: .5ex;\n",
              "  margin: .5ex;\n",
              "  width: min-content;\n",
              "  min-width: 20ex;\n",
              "  max-width: 50ex;\n",
              "  color: var(--sklearn-color-text);\n",
              "  box-shadow: 2pt 2pt 4pt #999;\n",
              "  /* unfitted */\n",
              "  background: var(--sklearn-color-unfitted-level-0);\n",
              "  border: .5pt solid var(--sklearn-color-unfitted-level-3);\n",
              "}\n",
              "\n",
              ".sk-estimator-doc-link.fitted span {\n",
              "  /* fitted */\n",
              "  background: var(--sklearn-color-fitted-level-0);\n",
              "  border: var(--sklearn-color-fitted-level-3);\n",
              "}\n",
              "\n",
              ".sk-estimator-doc-link:hover span {\n",
              "  display: block;\n",
              "}\n",
              "\n",
              "/* \"?\"-specific style due to the `<a>` HTML tag */\n",
              "\n",
              "#sk-container-id-1 a.estimator_doc_link {\n",
              "  float: right;\n",
              "  font-size: 1rem;\n",
              "  line-height: 1em;\n",
              "  font-family: monospace;\n",
              "  background-color: var(--sklearn-color-background);\n",
              "  border-radius: 1rem;\n",
              "  height: 1rem;\n",
              "  width: 1rem;\n",
              "  text-decoration: none;\n",
              "  /* unfitted */\n",
              "  color: var(--sklearn-color-unfitted-level-1);\n",
              "  border: var(--sklearn-color-unfitted-level-1) 1pt solid;\n",
              "}\n",
              "\n",
              "#sk-container-id-1 a.estimator_doc_link.fitted {\n",
              "  /* fitted */\n",
              "  border: var(--sklearn-color-fitted-level-1) 1pt solid;\n",
              "  color: var(--sklearn-color-fitted-level-1);\n",
              "}\n",
              "\n",
              "/* On hover */\n",
              "#sk-container-id-1 a.estimator_doc_link:hover {\n",
              "  /* unfitted */\n",
              "  background-color: var(--sklearn-color-unfitted-level-3);\n",
              "  color: var(--sklearn-color-background);\n",
              "  text-decoration: none;\n",
              "}\n",
              "\n",
              "#sk-container-id-1 a.estimator_doc_link.fitted:hover {\n",
              "  /* fitted */\n",
              "  background-color: var(--sklearn-color-fitted-level-3);\n",
              "}\n",
              "</style><div id=\"sk-container-id-1\" class=\"sk-top-container\"><div class=\"sk-text-repr-fallback\"><pre>ColumnTransformer(transformers=[(&#x27;num&#x27;, StandardScaler(),\n",
              "                                 [&#x27;lat&#x27;, &#x27;long&#x27;, &#x27;pop&#x27;, &#x27;price&#x27;]),\n",
              "                                (&#x27;cat&#x27;, OneHotEncoder(sparse_output=False),\n",
              "                                 [&#x27;city&#x27;, &#x27;shop&#x27;, &#x27;brand&#x27;, &#x27;container&#x27;,\n",
              "                                  &#x27;capacity&#x27;, &#x27;day&#x27;, &#x27;month&#x27;, &#x27;year&#x27;])])</pre><b>In a Jupyter environment, please rerun this cell to show the HTML representation or trust the notebook. <br />On GitHub, the HTML representation is unable to render, please try loading this page with nbviewer.org.</b></div><div class=\"sk-container\" hidden><div class=\"sk-item sk-dashed-wrapped\"><div class=\"sk-label-container\"><div class=\"sk-label  sk-toggleable\"><input class=\"sk-toggleable__control sk-hidden--visually\" id=\"sk-estimator-id-1\" type=\"checkbox\" ><label for=\"sk-estimator-id-1\" class=\"sk-toggleable__label  sk-toggleable__label-arrow \">&nbsp;&nbsp;ColumnTransformer<a class=\"sk-estimator-doc-link \" rel=\"noreferrer\" target=\"_blank\" href=\"https://scikit-learn.org/1.4/modules/generated/sklearn.compose.ColumnTransformer.html\">?<span>Documentation for ColumnTransformer</span></a><span class=\"sk-estimator-doc-link \">i<span>Not fitted</span></span></label><div class=\"sk-toggleable__content \"><pre>ColumnTransformer(transformers=[(&#x27;num&#x27;, StandardScaler(),\n",
              "                                 [&#x27;lat&#x27;, &#x27;long&#x27;, &#x27;pop&#x27;, &#x27;price&#x27;]),\n",
              "                                (&#x27;cat&#x27;, OneHotEncoder(sparse_output=False),\n",
              "                                 [&#x27;city&#x27;, &#x27;shop&#x27;, &#x27;brand&#x27;, &#x27;container&#x27;,\n",
              "                                  &#x27;capacity&#x27;, &#x27;day&#x27;, &#x27;month&#x27;, &#x27;year&#x27;])])</pre></div> </div></div><div class=\"sk-parallel\"><div class=\"sk-parallel-item\"><div class=\"sk-item\"><div class=\"sk-label-container\"><div class=\"sk-label  sk-toggleable\"><input class=\"sk-toggleable__control sk-hidden--visually\" id=\"sk-estimator-id-2\" type=\"checkbox\" ><label for=\"sk-estimator-id-2\" class=\"sk-toggleable__label  sk-toggleable__label-arrow \">num</label><div class=\"sk-toggleable__content \"><pre>[&#x27;lat&#x27;, &#x27;long&#x27;, &#x27;pop&#x27;, &#x27;price&#x27;]</pre></div> </div></div><div class=\"sk-serial\"><div class=\"sk-item\"><div class=\"sk-estimator  sk-toggleable\"><input class=\"sk-toggleable__control sk-hidden--visually\" id=\"sk-estimator-id-3\" type=\"checkbox\" ><label for=\"sk-estimator-id-3\" class=\"sk-toggleable__label  sk-toggleable__label-arrow \">&nbsp;StandardScaler<a class=\"sk-estimator-doc-link \" rel=\"noreferrer\" target=\"_blank\" href=\"https://scikit-learn.org/1.4/modules/generated/sklearn.preprocessing.StandardScaler.html\">?<span>Documentation for StandardScaler</span></a></label><div class=\"sk-toggleable__content \"><pre>StandardScaler()</pre></div> </div></div></div></div></div><div class=\"sk-parallel-item\"><div class=\"sk-item\"><div class=\"sk-label-container\"><div class=\"sk-label  sk-toggleable\"><input class=\"sk-toggleable__control sk-hidden--visually\" id=\"sk-estimator-id-4\" type=\"checkbox\" ><label for=\"sk-estimator-id-4\" class=\"sk-toggleable__label  sk-toggleable__label-arrow \">cat</label><div class=\"sk-toggleable__content \"><pre>[&#x27;city&#x27;, &#x27;shop&#x27;, &#x27;brand&#x27;, &#x27;container&#x27;, &#x27;capacity&#x27;, &#x27;day&#x27;, &#x27;month&#x27;, &#x27;year&#x27;]</pre></div> </div></div><div class=\"sk-serial\"><div class=\"sk-item\"><div class=\"sk-estimator  sk-toggleable\"><input class=\"sk-toggleable__control sk-hidden--visually\" id=\"sk-estimator-id-5\" type=\"checkbox\" ><label for=\"sk-estimator-id-5\" class=\"sk-toggleable__label  sk-toggleable__label-arrow \">&nbsp;OneHotEncoder<a class=\"sk-estimator-doc-link \" rel=\"noreferrer\" target=\"_blank\" href=\"https://scikit-learn.org/1.4/modules/generated/sklearn.preprocessing.OneHotEncoder.html\">?<span>Documentation for OneHotEncoder</span></a></label><div class=\"sk-toggleable__content \"><pre>OneHotEncoder(sparse_output=False)</pre></div> </div></div></div></div></div></div></div></div></div>"
            ],
            "text/plain": [
              "ColumnTransformer(transformers=[('num', StandardScaler(),\n",
              "                                 ['lat', 'long', 'pop', 'price']),\n",
              "                                ('cat', OneHotEncoder(sparse_output=False),\n",
              "                                 ['city', 'shop', 'brand', 'container',\n",
              "                                  'capacity', 'day', 'month', 'year'])])"
            ]
          },
          "execution_count": 5,
          "metadata": {},
          "output_type": "execute_result"
        }
      ],
      "source": [
        "# Parte 3\n",
        "from sklearn.compose import ColumnTransformer\n",
        "from sklearn.preprocessing import OneHotEncoder\n",
        "from sklearn.pipeline import Pipeline\n",
        "from sklearn.preprocessing import StandardScaler\n",
        "\n",
        "# Definir las columnas categóricas y numéricas\n",
        "categorical_cols = ['city', 'shop', 'brand', 'container', 'capacity', 'day', 'month', 'year']\n",
        "numerical_cols = ['lat', 'long', 'pop', 'price']\n",
        "\n",
        "# Crear un ColumnTransformer\n",
        "preprocessor = ColumnTransformer(\n",
        "    transformers=[\n",
        "        ('num', StandardScaler(), numerical_cols),\n",
        "        ('cat', OneHotEncoder(sparse_output=False), categorical_cols)\n",
        "    ]\n",
        ")\n",
        "\n",
        "preprocessor.set_output(transform='pandas')"
      ]
    },
    {
      "cell_type": "code",
      "execution_count": 6,
      "metadata": {},
      "outputs": [],
      "source": [
        "# Parte 4\n",
        "from sklearn.dummy import DummyRegressor\n",
        "\n",
        "# Crear un Pipeline\n",
        "pipeline = Pipeline(steps=[\n",
        "    ('date_extractor', date_transformer),\n",
        "    ('preprocessor', preprocessor),\n",
        "    ('regressor', DummyRegressor(strategy='mean')) \n",
        "])"
      ]
    },
    {
      "cell_type": "code",
      "execution_count": 7,
      "metadata": {},
      "outputs": [
        {
          "name": "stdout",
          "output_type": "stream",
          "text": [
            "Mean Absolute Error en los datos de validación: 13054.420647921506\n"
          ]
        }
      ],
      "source": [
        "# Parte 5\n",
        "from sklearn.metrics import mean_absolute_error\n",
        "\n",
        "# Ajustar el pipeline con los datos de entrenamiento\n",
        "pipeline.fit(X_train, y_train)\n",
        "\n",
        "# Hacer predicciones en el conjunto de validación\n",
        "y_pred_val = pipeline.predict(X_val)\n",
        "\n",
        "# Calcular el mean_absolute_error (MAE) en los datos de validación\n",
        "mae = mean_absolute_error(y_val, y_pred_val)\n",
        "\n",
        "# Reportar el MAE\n",
        "print(f\"Mean Absolute Error en los datos de validación: {mae}\")"
      ]
    },
    {
      "cell_type": "markdown",
      "metadata": {},
      "source": [
        "El Mean Absolute Error de 13.054,42 unidades nos dice que, en promedio, el modelo se está equivocando por esa cantidad de ventas. Si consideramos que este modelo solo predice el promedio, es normal que no sea muy preciso. Cabe mencionar que la variable \"quantity\" no se escaló por ambiguedad de enunciado y para facilitar la interpretabilidad de los resultados."
      ]
    },
    {
      "cell_type": "code",
      "execution_count": 8,
      "metadata": {},
      "outputs": [
        {
          "name": "stdout",
          "output_type": "stream",
          "text": [
            "Mean Absolute Error en los datos de validación: 2600.4661273303886\n"
          ]
        }
      ],
      "source": [
        "# Parte 6\n",
        "from xgboost import XGBRegressor\n",
        "\n",
        "# Pipeline\n",
        "pipeline2 = Pipeline(steps=[\n",
        "    ('date_extractor', date_transformer),\n",
        "    ('preprocessor', preprocessor),\n",
        "    ('regressor', XGBRegressor()) \n",
        "])\n",
        "\n",
        "# Ajustar el pipeline con los datos de entrenamiento\n",
        "pipeline2.fit(X_train, y_train)\n",
        "\n",
        "# Hacer predicciones en el conjunto de validación\n",
        "y_pred_val = pipeline2.predict(X_val)\n",
        "\n",
        "# Calcular el mean_absolute_error (MAE) en los datos de validación\n",
        "mae = mean_absolute_error(y_val, y_pred_val)\n",
        "\n",
        "# Reportar el MAE\n",
        "print(f\"Mean Absolute Error en los datos de validación: {mae}\")"
      ]
    },
    {
      "cell_type": "markdown",
      "metadata": {},
      "source": [
        "\n",
        "El MAE con el XGBRegressor es de 2.600,47, lo que muestra una mejora considerable en comparación con el DummyRegressor, cuyo MAE fue de 13.054. Esto significa que el XGBRegressor es mucho más preciso al predecir las ventas, reduciendo el error en casi un 80%. Por lo tanto, el XGBRegressor es claramente mejor para este problema, ya que captura patrones más complejos en los datos y permite tomar decisiones más acertadas en cuanto a la planificación de inventario y producción.\n"
      ]
    },
    {
      "cell_type": "code",
      "execution_count": 9,
      "metadata": {},
      "outputs": [],
      "source": [
        "import pickle\n",
        "\n",
        "# Guardar el modelo DummyRegressor\n",
        "with open('dummy_regressor.pkl', 'wb') as f:\n",
        "    pickle.dump(pipeline, f)\n",
        "\n",
        "# Guardar el modelo XGBRegressor\n",
        "with open('xgb_regressor.pkl', 'wb') as f:\n",
        "    pickle.dump(pipeline2, f)"
      ]
    },
    {
      "cell_type": "markdown",
      "metadata": {
        "cell_id": "7e17e46063774ec28226fe300d42ffe0",
        "deepnote_cell_type": "markdown",
        "id": "wnyMINdKI5v_"
      },
      "source": [
        "## 2. Forzando relaciones entre parámetros con XGBoost (10 puntos)\n",
        "\n",
        "<p align=\"center\">\n",
        "  <img src=\"https://64.media.tumblr.com/14cc45f9610a6ee341a45fd0d68f4dde/20d11b36022bca7b-bf/s640x960/67ab1db12ff73a530f649ac455c000945d99c0d6.gif\">\n",
        "</p>\n",
        "\n",
        "Un colega aficionado a la economía le *sopla* que la demanda guarda una relación inversa con el precio del producto. Motivado para impresionar al querido corpóreo, se propone hacer uso de esta información para mejorar su modelo realizando las siguientes tareas:\n",
        "\n",
        "1. Vuelva a entrenar el `Pipeline` con `XGBRegressor`, pero esta vez forzando una relación monótona negativa entre el precio y la cantidad. Para aplicar esta restricción apóyese en la siguiente <a href = https://xgboost.readthedocs.io/en/stable/tutorials/monotonic.html>documentación</a>. [6 puntos]\n",
        "\n",
        ">Hint 1: Para implementar el constraint se le sugiere hacerlo especificando el nombre de la variable. De ser así, probablemente le sea útil **mantener el formato de pandas** antes del step de entrenamiento.\n",
        "\n",
        ">Hint 2: Puede obtener el nombre de las columnas en el paso anterior al modelo regresor mediante el método `.get_feature_names_out()`\n",
        "\n",
        "2. Luego, vuelva a reportar el `MAE` sobre el conjunto de validación. [1 puntos]\n",
        "\n",
        "3. ¿Cómo cambia el error al incluir esta relación? ¿Tenía razón su amigo? [2 puntos]\n",
        "\n",
        "4. Guarde su modelo en un archivo .pkl [1 punto]"
      ]
    },
    {
      "cell_type": "code",
      "execution_count": 10,
      "metadata": {
        "cell_id": "f469f3b572be434191d2d5c3f11b20d2",
        "deepnote_cell_type": "code",
        "id": "B7tMnkiAI5v_"
      },
      "outputs": [
        {
          "name": "stdout",
          "output_type": "stream",
          "text": [
            "Mean Absolute Error con restricción de monotonicidad en precio: 2542.1669387254515\n"
          ]
        }
      ],
      "source": [
        "# Parte 1 y 2\n",
        "# Obtener los nombres de las características\n",
        "feature_names = pipeline.named_steps['preprocessor'].get_feature_names_out()\n",
        "\n",
        "# Definir las restricciones de monotonía\n",
        "monotonic_constraints = {\"num__price\": -1}  # Monotonía negativa para 'price'\n",
        "\n",
        "# Crear el modelo XGBRegressor con la restricción de monotonicidad\n",
        "xgb_model = XGBRegressor(monotone_constraints=monotonic_constraints)\n",
        "\n",
        "# Crear el pipeline final que incluye el modelo XGBRegressor\n",
        "pipeline_with_model = Pipeline(steps=[\n",
        "    ('date_extractor', date_transformer), \n",
        "    ('preprocessor', preprocessor),\n",
        "    ('regressor', xgb_model) \n",
        "])\n",
        "\n",
        "# Entrenar el pipeline con la restricción\n",
        "pipeline_with_model.fit(X_train, y_train)\n",
        "\n",
        "# Hacer predicciones en el conjunto de validación\n",
        "y_pred_val = pipeline_with_model.predict(X_val)\n",
        "\n",
        "# Calcular el mean_absolute_error (MAE) en los datos de validación\n",
        "mae = mean_absolute_error(y_val, y_pred_val)\n",
        "\n",
        "# Reportar el MAE\n",
        "print(f\"Mean Absolute Error con restricción de monotonicidad en precio: {mae}\")"
      ]
    },
    {
      "cell_type": "markdown",
      "metadata": {},
      "source": [
        "3. El MAE antes era de 2600.466, ahora, al incluir esta relación, baja a 2542.167. Se tiene que mejoró el modelo, aunque el cambio en el MAE fue pequeño, esto indica que, si bien el precio tiene un impacto en la demanda, puede que existan otros factores importantes que también influencian la predicción."
      ]
    },
    {
      "cell_type": "code",
      "execution_count": 11,
      "metadata": {},
      "outputs": [],
      "source": [
        "# Parte 4\n",
        "with open('monotonic_xgb_model.pkl', 'wb') as f:\n",
        "    pickle.dump(pipeline_with_model, f)"
      ]
    },
    {
      "cell_type": "markdown",
      "metadata": {
        "cell_id": "e59ef80ed20b4de8921f24da74e87374",
        "deepnote_cell_type": "markdown",
        "id": "5D5-tX4dI5v_"
      },
      "source": [
        "## 1.3 Optimización de Hiperparámetros con Optuna (20 puntos)\n",
        "\n",
        "<p align=\"center\">\n",
        "  <img src=\"https://media.tenor.com/fmNdyGN4z5kAAAAi/hacking-lucy.gif\">\n",
        "</p>\n",
        "\n",
        "Luego de presentarle sus resultados, Fiu le pregunta si es posible mejorar *aun más* su modelo. En particular, le comenta de la optimización de hiperparámetros con metodologías bayesianas a través del paquete `optuna`. Como usted es un aficionado al entrenamiento de modelos de ML, se propone implementar la descabellada idea de su jefe.\n",
        "\n",
        "A partir de la mejor configuración obtenida en la sección anterior, utilice `optuna` para optimizar sus hiperparámetros. En particular, se pide que su optimización considere lo siguiente:\n",
        "\n",
        "- Fijar una semilla en las instancias necesarias para garantizar la reproducibilidad de resultados\n",
        "- Utilice `TPESampler` como método de muestreo\n",
        "- De `XGBRegressor`, optimice los siguientes hiperparámetros:\n",
        "    - `learning_rate` buscando valores flotantes en el rango (0.001, 0.1)\n",
        "    - `n_estimators` buscando valores enteros en el rango (50, 1000)\n",
        "    - `max_depth` buscando valores enteros en el rango (3, 10)\n",
        "    - `max_leaves` buscando valores enteros en el rango (0, 100)\n",
        "    - `min_child_weight` buscando valores enteros en el rango (1, 5)\n",
        "    - `reg_alpha` buscando valores flotantes en el rango (0, 1)\n",
        "    - `reg_lambda` buscando valores flotantes en el rango (0, 1)\n",
        "- De `OneHotEncoder`, optimice el hiperparámetro `min_frequency` buscando el mejor valor flotante en el rango (0.0, 1.0)\n",
        "\n",
        "Para ello se pide los siguientes pasos:\n",
        "1. Implemente una función `objective()` que permita minimizar el `MAE` en el conjunto de validación. Use el método `.set_user_attr()` para almacenar el mejor pipeline entrenado. [10 puntos]\n",
        "2. Fije el tiempo de entrenamiento a 5 minutos. [1 punto]\n",
        "3. Optimizar el modelo y reportar el número de *trials*, el `MAE` y los mejores hiperparámetros encontrados. ¿Cómo cambian sus resultados con respecto a la sección anterior? ¿A qué se puede deber esto? [3 puntos]\n",
        "4. Explique cada hiperparámetro y su rol en el modelo. ¿Hacen sentido los rangos de optimización indicados? [5 puntos]\n",
        "  5. Guardar su modelo en un archivo .pkl [1 punto]"
      ]
    },
    {
      "cell_type": "code",
      "execution_count": 12,
      "metadata": {},
      "outputs": [
        {
          "data": {
            "text/html": [
              "<div>\n",
              "<style scoped>\n",
              "    .dataframe tbody tr th:only-of-type {\n",
              "        vertical-align: middle;\n",
              "    }\n",
              "\n",
              "    .dataframe tbody tr th {\n",
              "        vertical-align: top;\n",
              "    }\n",
              "\n",
              "    .dataframe thead th {\n",
              "        text-align: right;\n",
              "    }\n",
              "</style>\n",
              "<table border=\"1\" class=\"dataframe\">\n",
              "  <thead>\n",
              "    <tr style=\"text-align: right;\">\n",
              "      <th></th>\n",
              "      <th>id</th>\n",
              "      <th>date</th>\n",
              "      <th>city</th>\n",
              "      <th>lat</th>\n",
              "      <th>long</th>\n",
              "      <th>pop</th>\n",
              "      <th>shop</th>\n",
              "      <th>brand</th>\n",
              "      <th>container</th>\n",
              "      <th>capacity</th>\n",
              "      <th>price</th>\n",
              "    </tr>\n",
              "  </thead>\n",
              "  <tbody>\n",
              "    <tr>\n",
              "      <th>6786</th>\n",
              "      <td>6890</td>\n",
              "      <td>2018-05-31</td>\n",
              "      <td>Athens</td>\n",
              "      <td>37.96245</td>\n",
              "      <td>23.68708</td>\n",
              "      <td>664046</td>\n",
              "      <td>shop_3</td>\n",
              "      <td>kinder-cola</td>\n",
              "      <td>can</td>\n",
              "      <td>330ml</td>\n",
              "      <td>0.80</td>\n",
              "    </tr>\n",
              "    <tr>\n",
              "      <th>2897</th>\n",
              "      <td>2940</td>\n",
              "      <td>2014-09-30</td>\n",
              "      <td>Athens</td>\n",
              "      <td>37.96245</td>\n",
              "      <td>23.68708</td>\n",
              "      <td>668203</td>\n",
              "      <td>shop_3</td>\n",
              "      <td>lemon-boost</td>\n",
              "      <td>glass</td>\n",
              "      <td>500ml</td>\n",
              "      <td>0.92</td>\n",
              "    </tr>\n",
              "    <tr>\n",
              "      <th>1947</th>\n",
              "      <td>1977</td>\n",
              "      <td>2013-10-31</td>\n",
              "      <td>Patra</td>\n",
              "      <td>38.24444</td>\n",
              "      <td>21.73444</td>\n",
              "      <td>166301</td>\n",
              "      <td>shop_6</td>\n",
              "      <td>orange-power</td>\n",
              "      <td>plastic</td>\n",
              "      <td>1.5lt</td>\n",
              "      <td>1.67</td>\n",
              "    </tr>\n",
              "    <tr>\n",
              "      <th>3607</th>\n",
              "      <td>3661</td>\n",
              "      <td>2015-05-31</td>\n",
              "      <td>Larisa</td>\n",
              "      <td>39.63689</td>\n",
              "      <td>22.41761</td>\n",
              "      <td>141732</td>\n",
              "      <td>shop_5</td>\n",
              "      <td>kinder-cola</td>\n",
              "      <td>glass</td>\n",
              "      <td>500ml</td>\n",
              "      <td>1.48</td>\n",
              "    </tr>\n",
              "    <tr>\n",
              "      <th>4723</th>\n",
              "      <td>4795</td>\n",
              "      <td>2016-06-30</td>\n",
              "      <td>Irakleion</td>\n",
              "      <td>35.32787</td>\n",
              "      <td>25.14341</td>\n",
              "      <td>137302</td>\n",
              "      <td>shop_2</td>\n",
              "      <td>lemon-boost</td>\n",
              "      <td>plastic</td>\n",
              "      <td>1.5lt</td>\n",
              "      <td>2.00</td>\n",
              "    </tr>\n",
              "  </tbody>\n",
              "</table>\n",
              "</div>"
            ],
            "text/plain": [
              "        id       date       city       lat      long     pop    shop  \\\n",
              "6786  6890 2018-05-31     Athens  37.96245  23.68708  664046  shop_3   \n",
              "2897  2940 2014-09-30     Athens  37.96245  23.68708  668203  shop_3   \n",
              "1947  1977 2013-10-31      Patra  38.24444  21.73444  166301  shop_6   \n",
              "3607  3661 2015-05-31     Larisa  39.63689  22.41761  141732  shop_5   \n",
              "4723  4795 2016-06-30  Irakleion  35.32787  25.14341  137302  shop_2   \n",
              "\n",
              "             brand container capacity  price  \n",
              "6786   kinder-cola       can    330ml   0.80  \n",
              "2897   lemon-boost     glass    500ml   0.92  \n",
              "1947  orange-power   plastic    1.5lt   1.67  \n",
              "3607   kinder-cola     glass    500ml   1.48  \n",
              "4723   lemon-boost   plastic    1.5lt   2.00  "
            ]
          },
          "execution_count": 12,
          "metadata": {},
          "output_type": "execute_result"
        }
      ],
      "source": [
        "X_train.head()"
      ]
    },
    {
      "cell_type": "code",
      "execution_count": 13,
      "metadata": {
        "cell_id": "de5914621cc64cb0b1bacb9ff565a97e",
        "deepnote_cell_type": "code",
        "id": "kMXXi1ckI5v_"
      },
      "outputs": [
        {
          "name": "stdout",
          "output_type": "stream",
          "text": [
            "Mejores hiperparámetros: {'learning_rate': 0.09067336010051966, 'n_estimators': 850, 'max_depth': 10, 'max_leaves': 77, 'min_child_weight': 5, 'reg_alpha': 0.43915317555326283, 'reg_lambda': 0.9562466872146463, 'min_frequency': 0.0010443263350549195}\n",
            "Mejor MAE: 2019.4696150536029\n"
          ]
        }
      ],
      "source": [
        "import optuna\n",
        "from optuna.samplers import TPESampler\n",
        "optuna.logging.set_verbosity(optuna.logging.WARNING)\n",
        "\n",
        "def objective(trial):\n",
        "    # Hiperparámetros a optimizar\n",
        "    learning_rate = trial.suggest_float('learning_rate', 0.001, 0.1)\n",
        "    n_estimators = trial.suggest_int('n_estimators', 50, 1000)\n",
        "    max_depth = trial.suggest_int('max_depth', 3, 10)\n",
        "    max_leaves = trial.suggest_int('max_leaves', 0, 100)\n",
        "    min_child_weight = trial.suggest_int('min_child_weight', 1, 5)\n",
        "    reg_alpha = trial.suggest_float('reg_alpha', 0.0, 1.0)\n",
        "    reg_lambda = trial.suggest_float('reg_lambda', 0.0, 1.0)\n",
        "    \n",
        "    # Optimizar también el min_frequency de OneHotEncoder\n",
        "    min_frequency = trial.suggest_float('min_frequency', 0.0, 1.0)\n",
        "    \n",
        "    # Preprocesamiento de las variables\n",
        "    preprocessor = ColumnTransformer(\n",
        "        transformers=[\n",
        "            ('num', StandardScaler(), numerical_cols),\n",
        "            ('cat', OneHotEncoder(sparse_output=False, min_frequency=min_frequency), categorical_cols)\n",
        "        ]\n",
        "    )\n",
        "    \n",
        "    # Definir las restricciones de monotonía para 'price'\n",
        "    monotonic_constraints = {\"num__price\": -1}\n",
        "\n",
        "    # Crear el modelo XGBRegressor con los hiperparámetros sugeridos por Optuna\n",
        "    xgb_model = XGBRegressor(\n",
        "        learning_rate=learning_rate,\n",
        "        n_estimators=n_estimators,\n",
        "        max_depth=max_depth,\n",
        "        max_leaves=max_leaves,\n",
        "        min_child_weight=min_child_weight,\n",
        "        reg_alpha=reg_alpha,\n",
        "        reg_lambda=reg_lambda,\n",
        "        monotone_constraints=monotonic_constraints,\n",
        "        random_state=1323,\n",
        "        n_jobs=-1\n",
        "    )\n",
        "\n",
        "    # Crear el pipeline\n",
        "    pipeline = Pipeline(steps=[\n",
        "        ('date_extractor', FunctionTransformer(extract_date_features)),\n",
        "        ('preprocessor', preprocessor),\n",
        "        ('regressor', xgb_model)\n",
        "    ])\n",
        "\n",
        "    # Entrenar el pipeline\n",
        "    pipeline.fit(X_train, y_train)\n",
        "\n",
        "    # Hacer predicciones en el conjunto de validación\n",
        "    y_pred_val = pipeline.predict(X_val)\n",
        "\n",
        "    # Calcular el MAE\n",
        "    mae = mean_absolute_error(y_val, y_pred_val)\n",
        "\n",
        "    # Almacenar el mejor pipeline entrenado\n",
        "    trial.set_user_attr('best_pipeline', pipeline)\n",
        "\n",
        "    return mae\n",
        "\n",
        "\n",
        "# Crear el estudio para optimizar los hiperparámetros con TPESampler\n",
        "study = optuna.create_study(direction='minimize', sampler=TPESampler(seed=1323))\n",
        "\n",
        "# Ejecutar la optimización\n",
        "study.optimize(objective, timeout=300)\n",
        "\n",
        "# Mostrar los mejores hiperparámetros y el mejor valor de MAE\n",
        "print(f\"Mejores hiperparámetros: {study.best_params}\")\n",
        "print(f\"Mejor MAE: {study.best_value}\")\n",
        "\n",
        "# Recuperar el mejor pipeline\n",
        "best_pipeline = study.best_trial.user_attrs['best_pipeline']"
      ]
    },
    {
      "cell_type": "code",
      "execution_count": 14,
      "metadata": {},
      "outputs": [
        {
          "name": "stdout",
          "output_type": "stream",
          "text": [
            "Número de iteraciones: 197\n"
          ]
        }
      ],
      "source": [
        "print(f\"Número de iteraciones: {study.trials_dataframe().shape[0]}\")"
      ]
    },
    {
      "cell_type": "markdown",
      "metadata": {},
      "source": [
        "3. La optimización con Optuna mejoró significativamente el rendimiento del modelo, reduciendo el MAE de 2542 a 2019.47 en 197 iteraciones dentro de un límite de 5 minutos. Los nuevos hiperparámetros, como un learning_rate de 0.09 y 850 estimadores, permitieron al modelo ajustarse mejor a los datos. Este resultado demuestra que la optimización de hiperparámetros mediante métodos bayesianos puede mejorar sustancialmente la precisión del modelo, logrando configuraciones óptimas que un ajuste manual no capturaría."
      ]
    },
    {
      "cell_type": "markdown",
      "metadata": {},
      "source": [
        "4. \n",
        "- leraning_rate: Controla el tamaño de los pasos que da el modelo en cada iteración de boosting. Un valor bajo hace que el modelo aprenda más lentamente, lo que generalmente mejora la precisión pero aumenta el tiempo de entrenamiento. Un valor alto puede hacer que el modelo converja más rápido, pero con el riesgo de sobreajuste. El rango es adecuado, ya que valores muy bajos permiten una convergencia estable, mientras que valores altos acelerarían el aprendizaje inicial. \n",
        "- n_estimators: Define el número total de árboles que se generarán en el proceso de boosting. Más árboles generalmente mejoran la capacidad del modelo para ajustarse a los datos, pero a costa de un mayor tiempo de entrenamiento. El rango es adecuado, ya que un número bajo de estimadores puede ser insuficiente para capturar patrones complejos, mientras que un número muy alto puede llevar a un sobreajuste o tiempos de entrenamiento innecesariamente largos.\n",
        "- max_depth: Limita la profundidad máxima de cada árbol. Un árbol más profundo puede capturar interacciones complejas entre características, pero también aumenta el riesgo de sobreajuste. El rango es adecuado. Profundidades menores pueden evitar el sobreajuste, mientras que profundidades más altas permiten al modelo aprender interacciones más complejas.\n",
        "- max_leaves: Controla el número máximo de hojas por árbol. Un mayor número de hojas permite capturar más divisiones dentro de cada árbol, mejorando la precisión, pero también puede aumentar el riesgo de sobreajuste. El rango es razonable. Valores bajos ayudan a simplificar el modelo y evitar sobreajustes, mientras que valores más altos permiten capturar más detalles en los datos.\n",
        "- min_child_weight: Especifica el peso mínimo que debe tener una hoja para que se considere válida. Un valor más alto regulariza el modelo, evitando que se creen hojas a partir de muy pocos datos. El rango es adecuado para controlar el crecimiento excesivo de los árboles y prevenir sobreajustes. Un valor bajo permitiría más divisiones, mientras que valores altos incrementan la regularización.\n",
        "- reg_alpha (regularización L1): Penaliza el uso de características innecesarias mediante regularización L1, lo que ayuda a reducir la complejidad del modelo y evitar el sobreajuste. El rango es adecuado. Valores cercanos a 0 permiten más flexibilidad, mientras que valores cercanos a 1 aplican una fuerte regularización, útil para reducir el sobreajuste.\n",
        "- reg_lambda (regularización L2): Esta penalización reduce la magnitud de los coeficientes del modelo, haciendo que el modelo sea menos sensible a las características menos importantes. El rango es también adecuado, ya que permite ajustar la fuerza de la regularización. Un valor más alto impone mayor penalización, ayudando a controlar el sobreajuste.\n",
        "- min_frequency: Define la frecuencia mínima que debe tener una categoría para ser codificada como una característica. Las categorías menos frecuentes pueden ser agrupadas. El rango es adecuado, ya que permite experimentar con una alta granularidad o con una mayor generalización al agrupar categorías poco frecuentes.\n"
      ]
    },
    {
      "cell_type": "code",
      "execution_count": 15,
      "metadata": {},
      "outputs": [],
      "source": [
        "# Parte 5\n",
        "with open('best_model.pkl', 'wb') as f:\n",
        "    pickle.dump(best_pipeline, f)"
      ]
    },
    {
      "cell_type": "markdown",
      "metadata": {
        "cell_id": "5195ccfc37e044ad9453f6eb2754f631",
        "deepnote_cell_type": "markdown",
        "id": "ZglyD_QWI5wA"
      },
      "source": [
        "## 4. Optimización de Hiperparámetros con Optuna y Prunners (17 puntos)\n",
        "\n",
        "<p align=\"center\">\n",
        "  <img src=\"https://i.pinimg.com/originals/90/16/f9/9016f919c2259f3d0e8fe465049638a7.gif\">\n",
        "</p>\n",
        "\n",
        "Después de optimizar el rendimiento de su modelo varias veces, Fiu le pregunta si no es posible optimizar el entrenamiento del modelo en sí mismo. Después de leer un par de post de personas de dudosa reputación en la *deepweb*, usted llega a la conclusión que puede cumplir este objetivo mediante la implementación de **Prunning**.\n",
        "\n",
        "Vuelva a optimizar los mismos hiperparámetros que la sección pasada, pero esta vez utilizando **Prunning** en la optimización. En particular, usted debe:\n",
        "\n",
        "- Responder: ¿Qué es prunning? ¿De qué forma debería impactar en el entrenamiento? [2 puntos]\n",
        "- Redefinir la función `objective()` utilizando `optuna.integration.XGBoostPruningCallback` como método de **Prunning** [10 puntos]\n",
        "- Fijar nuevamente el tiempo de entrenamiento a 5 minutos [1 punto]\n",
        "- Reportar el número de *trials*, el `MAE` y los mejores hiperparámetros encontrados. ¿Cómo cambian sus resultados con respecto a la sección anterior? ¿A qué se puede deber esto? [3 puntos]\n",
        "- Guardar su modelo en un archivo .pkl [1 punto]\n",
        "\n",
        "Nota: Si quieren silenciar los prints obtenidos en el prunning, pueden hacerlo mediante el siguiente comando:\n",
        "\n",
        "```\n",
        "optuna.logging.set_verbosity(optuna.logging.WARNING)\n",
        "```\n",
        "\n",
        "De implementar la opción anterior, pueden especificar `show_progress_bar = True` en el método `optimize` para *más sabor*.\n",
        "\n",
        "Hint: Si quieren especificar parámetros del método .fit() del modelo a través del pipeline, pueden hacerlo por medio de la siguiente sintaxis: `pipeline.fit(stepmodelo__parametro = valor)`\n",
        "\n",
        "Hint2: Este <a href = https://stackoverflow.com/questions/40329576/sklearn-pass-fit-parameters-to-xgboost-in-pipeline>enlace</a> les puede ser de ayuda en su implementación"
      ]
    },
    {
      "cell_type": "markdown",
      "metadata": {},
      "source": [
        "1. Pruning es una técnica que detiene de forma anticipada el entrenamiento de modelos cuando se identifica que su rendimiento intermedio no es prometedor. Esto optimiza el uso de recursos y tiempo, ya que evita gastar computación en intentos que probablemente no superarán a los anteriores. En resumen, pruning acelera la búsqueda de los mejores hiperparámetros al concentrar el entrenamiento en los modelos más prometedores, mejorando la eficiencia del proceso de optimización."
      ]
    },
    {
      "cell_type": "code",
      "execution_count": 18,
      "metadata": {
        "cell_id": "eeaa967cd8f6426d8c54f276c17dce79",
        "deepnote_cell_type": "code",
        "id": "sST6Wtj5I5wA"
      },
      "outputs": [
        {
          "data": {
            "application/vnd.jupyter.widget-view+json": {
              "model_id": "db9d13ae80f74809829f8e176c2f29f5",
              "version_major": 2,
              "version_minor": 0
            },
            "text/plain": [
              "   0%|          | 00:00/05:00"
            ]
          },
          "metadata": {},
          "output_type": "display_data"
        },
        {
          "name": "stdout",
          "output_type": "stream",
          "text": [
            "Mejores hiperparámetros: {'learning_rate': 0.09985302331778208, 'n_estimators': 950, 'max_depth': 9, 'max_leaves': 89, 'min_child_weight': 5, 'reg_alpha': 0.29186230420794007, 'reg_lambda': 0.6723074978017088, 'min_frequency': 0.01816644093749571}\n",
            "Mejor MAE: 1992.740914890384\n",
            "Número de trials realizados: 414\n"
          ]
        }
      ],
      "source": [
        "from optuna.integration import XGBoostPruningCallback\n",
        "import xgboost as xgb\n",
        "\n",
        "optuna.logging.set_verbosity(optuna.logging.WARNING)\n",
        "\n",
        "# Parte 2, 3 y 4\n",
        "# Definir el objective function con Pruning\n",
        "def objective(trial):\n",
        "    # Hiperparámetros a optimizar\n",
        "    learning_rate = trial.suggest_float('learning_rate', 0.001, 0.1)\n",
        "    n_estimators = trial.suggest_int('n_estimators', 50, 1000)\n",
        "    max_depth = trial.suggest_int('max_depth', 3, 10)\n",
        "    max_leaves = trial.suggest_int('max_leaves', 0, 100)\n",
        "    min_child_weight = trial.suggest_int('min_child_weight', 1, 5)\n",
        "    reg_alpha = trial.suggest_float('reg_alpha', 0.0, 1.0)\n",
        "    reg_lambda = trial.suggest_float('reg_lambda', 0.0, 1.0)\n",
        "    \n",
        "    # Optimizar también el min_frequency de OneHotEncoder\n",
        "    min_frequency = trial.suggest_float('min_frequency', 0.0, 1.0)\n",
        "    \n",
        "    preprocessor = ColumnTransformer(\n",
        "        transformers=[\n",
        "            ('num', StandardScaler(), numerical_cols),\n",
        "            ('cat', OneHotEncoder(sparse_output=False, min_frequency=min_frequency), categorical_cols)\n",
        "        ]\n",
        "    )\n",
        "\n",
        "    # Crear el pipeline para el preprocesamiento y extracción de características de fecha\n",
        "    pipeline = Pipeline(steps=[\n",
        "        ('date_extractor', FunctionTransformer(extract_date_features)),\n",
        "        ('preprocessor', preprocessor)\n",
        "    ])\n",
        "    \n",
        "    # Aplicar el pipeline de preprocesamiento a los datos de entrenamiento y validación\n",
        "    X_train_preprocessed = pipeline.fit_transform(X_train)\n",
        "    X_val_preprocessed = pipeline.transform(X_val)\n",
        "    \n",
        "    # Crear el DMatrix para XGBoost (API nativa)\n",
        "    dtrain = xgb.DMatrix(X_train_preprocessed, label=y_train)\n",
        "    dval = xgb.DMatrix(X_val_preprocessed, label=y_val)\n",
        "\n",
        "    params = {\n",
        "        \"objective\": \"reg:squarederror\",\n",
        "        \"learning_rate\": learning_rate,\n",
        "        \"max_depth\": max_depth,\n",
        "        \"max_leaves\": max_leaves,\n",
        "        \"min_child_weight\": min_child_weight,\n",
        "        \"reg_alpha\": reg_alpha,\n",
        "        \"reg_lambda\": reg_lambda,\n",
        "        \"monotone_constraints\": (0, -1),\n",
        "        \"eval_metric\": \"mae\"\n",
        "    }\n",
        "\n",
        "    # Entrenar el modelo con el pruning callback\n",
        "    pruning_callback = XGBoostPruningCallback(trial, \"validation-mae\")\n",
        "    \n",
        "    model = xgb.train(\n",
        "        params,\n",
        "        dtrain,\n",
        "        evals=[(dval, \"validation\")],\n",
        "        num_boost_round=n_estimators,\n",
        "        early_stopping_rounds=50,\n",
        "        callbacks=[pruning_callback],\n",
        "        verbose_eval=False  # Para silenciar la salida de XGBoost\n",
        "    )\n",
        "\n",
        "    # Hacer predicciones en el conjunto de validación\n",
        "    y_pred_val = model.predict(dval)\n",
        "\n",
        "    # Calcular el MAE\n",
        "    mae = mean_absolute_error(y_val, y_pred_val)\n",
        "\n",
        "    # Almacenar el mejor modelo entrenado\n",
        "    trial.set_user_attr('best_model', model)\n",
        "\n",
        "    return mae\n",
        "\n",
        "# Crear el estudio para optimizar los hiperparámetros con TPESampler\n",
        "study = optuna.create_study(direction='minimize', sampler=TPESampler(seed=1323))\n",
        "\n",
        "# Ejecutar la optimización con límite de tiempo de 5 minutos y mostrar la barra de progreso\n",
        "study.optimize(objective, timeout=300, show_progress_bar=True)\n",
        "\n",
        "# Mostrar los mejores hiperparámetros y el mejor valor de MAE\n",
        "print(f\"Mejores hiperparámetros: {study.best_params}\")\n",
        "print(f\"Mejor MAE: {study.best_value}\")\n",
        "\n",
        "# Reportar el número de trials realizados\n",
        "n_trials = study.trials_dataframe().shape[0]\n",
        "print(f\"Número de trials realizados: {n_trials}\")\n",
        "\n",
        "# Guardar el mejor modelo entrenado\n",
        "best_model = study.best_trial.user_attrs['best_model']\n",
        "\n",
        "\n",
        "\n",
        "# Parte 5\n",
        "# Guardar el modelo en un archivo .pkl\n",
        "import pickle\n",
        "with open('pruned_xgb_model.pkl', 'wb') as f:\n",
        "    pickle.dump(best_model, f)"
      ]
    },
    {
      "cell_type": "markdown",
      "metadata": {},
      "source": [
        "4.  Se realizaron 96 trials, dio un MAE de 1992.740914890384 y los hiperparámetros, 'learning_rate': 0.09985302331778208, 'n_estimators': 950, 'max_depth': 9, 'max_leaves': 89, 'min_child_weight': 5, 'reg_alpha': 0.29186230420794007, 'reg_lambda': 0.6723074978017088, 'min_frequency': 0.01816644093749571.\n",
        "\n",
        "    El MAE representa una pequeña disminución respecto al anterior, este cambio sugiere que la implementación del pruning ha permitido ajustar mejor los hiperparámetros del modelo, identificando combinaciones que generan predicciones más precisas. La mejora puede deberse a que el pruning detiene de manera anticipada los intentos de entrenamiento no prometedores, lo que libera recursos y tiempo para explorar configuraciones más efectivas. Esto permite que el proceso de optimización se enfoque en las mejores configuraciones posibles, resultando en un modelo más preciso."
      ]
    },
    {
      "cell_type": "markdown",
      "metadata": {
        "cell_id": "8a081778cc704fc6bed05393a5419327",
        "deepnote_cell_type": "markdown",
        "id": "ZMiiVaCUI5wA"
      },
      "source": [
        "## 5. Visualizaciones (5 puntos)\n",
        "\n",
        "<p align=\"center\">\n",
        "  <img src=\"https://media.tenor.com/F-LgB1xTebEAAAAd/look-at-this-graph-nickelback.gif\">\n",
        "</p>\n",
        "\n",
        "\n",
        "Satisfecho con su trabajo, Fiu le pregunta si es posible generar visualizaciones que permitan entender el entrenamiento de su modelo.\n",
        "\n",
        "A partir del siguiente <a href = https://optuna.readthedocs.io/en/stable/tutorial/10_key_features/005_visualization.html#visualization>enlace</a>, genere las siguientes visualizaciones:\n",
        "\n",
        "1. Gráfico de historial de optimización [1 punto]\n",
        "2. Gráfico de coordenadas paralelas [1 punto]\n",
        "3. Gráfico de importancia de hiperparámetros [1 punto]\n",
        "\n",
        "Comente sus resultados:\n",
        "\n",
        "4. ¿Desde qué *trial* se empiezan a observar mejoras notables en sus resultados? [0.5 puntos]\n",
        "5. ¿Qué tendencias puede observar a partir del gráfico de coordenadas paralelas? [1 punto]\n",
        "6. ¿Cuáles son los hiperparámetros con mayor importancia para la optimización de su modelo? [0.5 puntos]"
      ]
    },
    {
      "cell_type": "markdown",
      "metadata": {},
      "source": [
        "Esta parte de hará respecto al último entrenamiento realizado"
      ]
    },
    {
      "cell_type": "code",
      "execution_count": 19,
      "metadata": {
        "cell_id": "0e706dc9a8d946eda7a9eb1f0463c6d7",
        "deepnote_cell_type": "code",
        "id": "xjxAEENAI5wA"
      },
      "outputs": [
        {
          "data": {
            "application/vnd.plotly.v1+json": {
              "config": {
                "plotlyServerURL": "https://plot.ly"
              },
              "data": [
                {
                  "mode": "markers",
                  "name": "Objective Value",
                  "type": "scatter",
                  "x": [
                    0,
                    1,
                    2,
                    3,
                    4,
                    6,
                    12,
                    13,
                    14,
                    16,
                    18,
                    21,
                    22,
                    32,
                    40,
                    51,
                    59,
                    65,
                    66,
                    67,
                    68,
                    70,
                    76,
                    81,
                    87,
                    88,
                    90,
                    91,
                    97,
                    99,
                    116,
                    117,
                    121,
                    139,
                    142,
                    143,
                    144,
                    147,
                    151,
                    155,
                    157,
                    158,
                    159,
                    161,
                    162,
                    163,
                    169,
                    172,
                    175,
                    177,
                    178,
                    185,
                    186,
                    195,
                    201,
                    207,
                    211,
                    212,
                    214,
                    218,
                    221,
                    226,
                    234,
                    251,
                    253,
                    255,
                    281,
                    288,
                    373,
                    381,
                    395
                  ],
                  "y": [
                    6724.555218845626,
                    8884.160553490212,
                    8901.914934922032,
                    8885.289611693599,
                    9308.810068090837,
                    2076.9981544540683,
                    6771.932416111251,
                    5912.5882061575185,
                    5944.423473457935,
                    5989.346113137156,
                    5977.913426195192,
                    5917.306286285421,
                    5370.4368835080795,
                    5862.168153451962,
                    5927.972327126823,
                    5915.619861421131,
                    5943.332191390531,
                    2134.548094720668,
                    2144.4384993227595,
                    2119.851397610926,
                    2109.5798714814932,
                    2116.1012512247967,
                    2149.371367855571,
                    2080.297407328083,
                    2152.3051991964808,
                    2126.0349304485767,
                    2093.032694212148,
                    2118.8800771752913,
                    2119.6629493759433,
                    2115.1652620802943,
                    2095.974452509327,
                    2171.5829696604105,
                    2061.5648262950094,
                    2085.5323197321954,
                    2112.9877228868,
                    2116.7005833831113,
                    2060.5174915050197,
                    2102.5356864494256,
                    2102.9167134971285,
                    2052.0335689265803,
                    2119.294314061452,
                    2086.7433566241198,
                    2099.154501881078,
                    2106.4851156090185,
                    2107.5242616178843,
                    2057.4317879935866,
                    2055.4163300113178,
                    2092.4967814700703,
                    2056.7644257471916,
                    2018.226298873973,
                    2024.2408649488075,
                    1999.5355521802692,
                    1992.740914890384,
                    2040.658704178194,
                    2070.2004725291854,
                    2062.3352501074155,
                    2057.792416445286,
                    2064.326351992161,
                    2028.3593394677964,
                    2053.4153293786153,
                    2007.7038566031606,
                    2049.2559520534664,
                    2046.278569692897,
                    2079.5600551551497,
                    2073.6285222729607,
                    2085.9268892980276,
                    2045.877672774931,
                    2027.6881392521798,
                    2058.138101394827,
                    2038.6221692131958,
                    2056.5426884221997
                  ]
                },
                {
                  "mode": "lines",
                  "name": "Best Value",
                  "type": "scatter",
                  "x": [
                    0,
                    1,
                    2,
                    3,
                    4,
                    5,
                    6,
                    7,
                    8,
                    9,
                    10,
                    11,
                    12,
                    13,
                    14,
                    15,
                    16,
                    17,
                    18,
                    19,
                    20,
                    21,
                    22,
                    23,
                    24,
                    25,
                    26,
                    27,
                    28,
                    29,
                    30,
                    31,
                    32,
                    33,
                    34,
                    35,
                    36,
                    37,
                    38,
                    39,
                    40,
                    41,
                    42,
                    43,
                    44,
                    45,
                    46,
                    47,
                    48,
                    49,
                    50,
                    51,
                    52,
                    53,
                    54,
                    55,
                    56,
                    57,
                    58,
                    59,
                    60,
                    61,
                    62,
                    63,
                    64,
                    65,
                    66,
                    67,
                    68,
                    69,
                    70,
                    71,
                    72,
                    73,
                    74,
                    75,
                    76,
                    77,
                    78,
                    79,
                    80,
                    81,
                    82,
                    83,
                    84,
                    85,
                    86,
                    87,
                    88,
                    89,
                    90,
                    91,
                    92,
                    93,
                    94,
                    95,
                    96,
                    97,
                    98,
                    99,
                    100,
                    101,
                    102,
                    103,
                    104,
                    105,
                    106,
                    107,
                    108,
                    109,
                    110,
                    111,
                    112,
                    113,
                    114,
                    115,
                    116,
                    117,
                    118,
                    119,
                    120,
                    121,
                    122,
                    123,
                    124,
                    125,
                    126,
                    127,
                    128,
                    129,
                    130,
                    131,
                    132,
                    133,
                    134,
                    135,
                    136,
                    137,
                    138,
                    139,
                    140,
                    141,
                    142,
                    143,
                    144,
                    145,
                    146,
                    147,
                    148,
                    149,
                    150,
                    151,
                    152,
                    153,
                    154,
                    155,
                    156,
                    157,
                    158,
                    159,
                    160,
                    161,
                    162,
                    163,
                    164,
                    165,
                    166,
                    167,
                    168,
                    169,
                    170,
                    171,
                    172,
                    173,
                    174,
                    175,
                    176,
                    177,
                    178,
                    179,
                    180,
                    181,
                    182,
                    183,
                    184,
                    185,
                    186,
                    187,
                    188,
                    189,
                    190,
                    191,
                    192,
                    193,
                    194,
                    195,
                    196,
                    197,
                    198,
                    199,
                    200,
                    201,
                    202,
                    203,
                    204,
                    205,
                    206,
                    207,
                    208,
                    209,
                    210,
                    211,
                    212,
                    213,
                    214,
                    215,
                    216,
                    217,
                    218,
                    219,
                    220,
                    221,
                    222,
                    223,
                    224,
                    225,
                    226,
                    227,
                    228,
                    229,
                    230,
                    231,
                    232,
                    233,
                    234,
                    235,
                    236,
                    237,
                    238,
                    239,
                    240,
                    241,
                    242,
                    243,
                    244,
                    245,
                    246,
                    247,
                    248,
                    249,
                    250,
                    251,
                    252,
                    253,
                    254,
                    255,
                    256,
                    257,
                    258,
                    259,
                    260,
                    261,
                    262,
                    263,
                    264,
                    265,
                    266,
                    267,
                    268,
                    269,
                    270,
                    271,
                    272,
                    273,
                    274,
                    275,
                    276,
                    277,
                    278,
                    279,
                    280,
                    281,
                    282,
                    283,
                    284,
                    285,
                    286,
                    287,
                    288,
                    289,
                    290,
                    291,
                    292,
                    293,
                    294,
                    295,
                    296,
                    297,
                    298,
                    299,
                    300,
                    301,
                    302,
                    303,
                    304,
                    305,
                    306,
                    307,
                    308,
                    309,
                    310,
                    311,
                    312,
                    313,
                    314,
                    315,
                    316,
                    317,
                    318,
                    319,
                    320,
                    321,
                    322,
                    323,
                    324,
                    325,
                    326,
                    327,
                    328,
                    329,
                    330,
                    331,
                    332,
                    333,
                    334,
                    335,
                    336,
                    337,
                    338,
                    339,
                    340,
                    341,
                    342,
                    343,
                    344,
                    345,
                    346,
                    347,
                    348,
                    349,
                    350,
                    351,
                    352,
                    353,
                    354,
                    355,
                    356,
                    357,
                    358,
                    359,
                    360,
                    361,
                    362,
                    363,
                    364,
                    365,
                    366,
                    367,
                    368,
                    369,
                    370,
                    371,
                    372,
                    373,
                    374,
                    375,
                    376,
                    377,
                    378,
                    379,
                    380,
                    381,
                    382,
                    383,
                    384,
                    385,
                    386,
                    387,
                    388,
                    389,
                    390,
                    391,
                    392,
                    393,
                    394,
                    395,
                    396,
                    397,
                    398,
                    399,
                    400,
                    401,
                    402,
                    403,
                    404,
                    405,
                    406,
                    407,
                    408,
                    409,
                    410,
                    411,
                    412,
                    413
                  ],
                  "y": [
                    6724.555218845626,
                    6724.555218845626,
                    6724.555218845626,
                    6724.555218845626,
                    6724.555218845626,
                    6724.555218845626,
                    2076.9981544540683,
                    2076.9981544540683,
                    2076.9981544540683,
                    2076.9981544540683,
                    2076.9981544540683,
                    2076.9981544540683,
                    2076.9981544540683,
                    2076.9981544540683,
                    2076.9981544540683,
                    2076.9981544540683,
                    2076.9981544540683,
                    2076.9981544540683,
                    2076.9981544540683,
                    2076.9981544540683,
                    2076.9981544540683,
                    2076.9981544540683,
                    2076.9981544540683,
                    2076.9981544540683,
                    2076.9981544540683,
                    2076.9981544540683,
                    2076.9981544540683,
                    2076.9981544540683,
                    2076.9981544540683,
                    2076.9981544540683,
                    2076.9981544540683,
                    2076.9981544540683,
                    2076.9981544540683,
                    2076.9981544540683,
                    2076.9981544540683,
                    2076.9981544540683,
                    2076.9981544540683,
                    2076.9981544540683,
                    2076.9981544540683,
                    2076.9981544540683,
                    2076.9981544540683,
                    2076.9981544540683,
                    2076.9981544540683,
                    2076.9981544540683,
                    2076.9981544540683,
                    2076.9981544540683,
                    2076.9981544540683,
                    2076.9981544540683,
                    2076.9981544540683,
                    2076.9981544540683,
                    2076.9981544540683,
                    2076.9981544540683,
                    2076.9981544540683,
                    2076.9981544540683,
                    2076.9981544540683,
                    2076.9981544540683,
                    2076.9981544540683,
                    2076.9981544540683,
                    2076.9981544540683,
                    2076.9981544540683,
                    2076.9981544540683,
                    2076.9981544540683,
                    2076.9981544540683,
                    2076.9981544540683,
                    2076.9981544540683,
                    2076.9981544540683,
                    2076.9981544540683,
                    2076.9981544540683,
                    2076.9981544540683,
                    2076.9981544540683,
                    2076.9981544540683,
                    2076.9981544540683,
                    2076.9981544540683,
                    2076.9981544540683,
                    2076.9981544540683,
                    2076.9981544540683,
                    2076.9981544540683,
                    2076.9981544540683,
                    2076.9981544540683,
                    2076.9981544540683,
                    2076.9981544540683,
                    2076.9981544540683,
                    2076.9981544540683,
                    2076.9981544540683,
                    2076.9981544540683,
                    2076.9981544540683,
                    2076.9981544540683,
                    2076.9981544540683,
                    2076.9981544540683,
                    2076.9981544540683,
                    2076.9981544540683,
                    2076.9981544540683,
                    2076.9981544540683,
                    2076.9981544540683,
                    2076.9981544540683,
                    2076.9981544540683,
                    2076.9981544540683,
                    2076.9981544540683,
                    2076.9981544540683,
                    2076.9981544540683,
                    2076.9981544540683,
                    2076.9981544540683,
                    2076.9981544540683,
                    2076.9981544540683,
                    2076.9981544540683,
                    2076.9981544540683,
                    2076.9981544540683,
                    2076.9981544540683,
                    2076.9981544540683,
                    2076.9981544540683,
                    2076.9981544540683,
                    2076.9981544540683,
                    2076.9981544540683,
                    2076.9981544540683,
                    2076.9981544540683,
                    2076.9981544540683,
                    2076.9981544540683,
                    2076.9981544540683,
                    2076.9981544540683,
                    2076.9981544540683,
                    2076.9981544540683,
                    2061.5648262950094,
                    2061.5648262950094,
                    2061.5648262950094,
                    2061.5648262950094,
                    2061.5648262950094,
                    2061.5648262950094,
                    2061.5648262950094,
                    2061.5648262950094,
                    2061.5648262950094,
                    2061.5648262950094,
                    2061.5648262950094,
                    2061.5648262950094,
                    2061.5648262950094,
                    2061.5648262950094,
                    2061.5648262950094,
                    2061.5648262950094,
                    2061.5648262950094,
                    2061.5648262950094,
                    2061.5648262950094,
                    2061.5648262950094,
                    2061.5648262950094,
                    2061.5648262950094,
                    2061.5648262950094,
                    2060.5174915050197,
                    2060.5174915050197,
                    2060.5174915050197,
                    2060.5174915050197,
                    2060.5174915050197,
                    2060.5174915050197,
                    2060.5174915050197,
                    2060.5174915050197,
                    2060.5174915050197,
                    2060.5174915050197,
                    2060.5174915050197,
                    2052.0335689265803,
                    2052.0335689265803,
                    2052.0335689265803,
                    2052.0335689265803,
                    2052.0335689265803,
                    2052.0335689265803,
                    2052.0335689265803,
                    2052.0335689265803,
                    2052.0335689265803,
                    2052.0335689265803,
                    2052.0335689265803,
                    2052.0335689265803,
                    2052.0335689265803,
                    2052.0335689265803,
                    2052.0335689265803,
                    2052.0335689265803,
                    2052.0335689265803,
                    2052.0335689265803,
                    2052.0335689265803,
                    2052.0335689265803,
                    2052.0335689265803,
                    2052.0335689265803,
                    2018.226298873973,
                    2018.226298873973,
                    2018.226298873973,
                    2018.226298873973,
                    2018.226298873973,
                    2018.226298873973,
                    2018.226298873973,
                    2018.226298873973,
                    1999.5355521802692,
                    1992.740914890384,
                    1992.740914890384,
                    1992.740914890384,
                    1992.740914890384,
                    1992.740914890384,
                    1992.740914890384,
                    1992.740914890384,
                    1992.740914890384,
                    1992.740914890384,
                    1992.740914890384,
                    1992.740914890384,
                    1992.740914890384,
                    1992.740914890384,
                    1992.740914890384,
                    1992.740914890384,
                    1992.740914890384,
                    1992.740914890384,
                    1992.740914890384,
                    1992.740914890384,
                    1992.740914890384,
                    1992.740914890384,
                    1992.740914890384,
                    1992.740914890384,
                    1992.740914890384,
                    1992.740914890384,
                    1992.740914890384,
                    1992.740914890384,
                    1992.740914890384,
                    1992.740914890384,
                    1992.740914890384,
                    1992.740914890384,
                    1992.740914890384,
                    1992.740914890384,
                    1992.740914890384,
                    1992.740914890384,
                    1992.740914890384,
                    1992.740914890384,
                    1992.740914890384,
                    1992.740914890384,
                    1992.740914890384,
                    1992.740914890384,
                    1992.740914890384,
                    1992.740914890384,
                    1992.740914890384,
                    1992.740914890384,
                    1992.740914890384,
                    1992.740914890384,
                    1992.740914890384,
                    1992.740914890384,
                    1992.740914890384,
                    1992.740914890384,
                    1992.740914890384,
                    1992.740914890384,
                    1992.740914890384,
                    1992.740914890384,
                    1992.740914890384,
                    1992.740914890384,
                    1992.740914890384,
                    1992.740914890384,
                    1992.740914890384,
                    1992.740914890384,
                    1992.740914890384,
                    1992.740914890384,
                    1992.740914890384,
                    1992.740914890384,
                    1992.740914890384,
                    1992.740914890384,
                    1992.740914890384,
                    1992.740914890384,
                    1992.740914890384,
                    1992.740914890384,
                    1992.740914890384,
                    1992.740914890384,
                    1992.740914890384,
                    1992.740914890384,
                    1992.740914890384,
                    1992.740914890384,
                    1992.740914890384,
                    1992.740914890384,
                    1992.740914890384,
                    1992.740914890384,
                    1992.740914890384,
                    1992.740914890384,
                    1992.740914890384,
                    1992.740914890384,
                    1992.740914890384,
                    1992.740914890384,
                    1992.740914890384,
                    1992.740914890384,
                    1992.740914890384,
                    1992.740914890384,
                    1992.740914890384,
                    1992.740914890384,
                    1992.740914890384,
                    1992.740914890384,
                    1992.740914890384,
                    1992.740914890384,
                    1992.740914890384,
                    1992.740914890384,
                    1992.740914890384,
                    1992.740914890384,
                    1992.740914890384,
                    1992.740914890384,
                    1992.740914890384,
                    1992.740914890384,
                    1992.740914890384,
                    1992.740914890384,
                    1992.740914890384,
                    1992.740914890384,
                    1992.740914890384,
                    1992.740914890384,
                    1992.740914890384,
                    1992.740914890384,
                    1992.740914890384,
                    1992.740914890384,
                    1992.740914890384,
                    1992.740914890384,
                    1992.740914890384,
                    1992.740914890384,
                    1992.740914890384,
                    1992.740914890384,
                    1992.740914890384,
                    1992.740914890384,
                    1992.740914890384,
                    1992.740914890384,
                    1992.740914890384,
                    1992.740914890384,
                    1992.740914890384,
                    1992.740914890384,
                    1992.740914890384,
                    1992.740914890384,
                    1992.740914890384,
                    1992.740914890384,
                    1992.740914890384,
                    1992.740914890384,
                    1992.740914890384,
                    1992.740914890384,
                    1992.740914890384,
                    1992.740914890384,
                    1992.740914890384,
                    1992.740914890384,
                    1992.740914890384,
                    1992.740914890384,
                    1992.740914890384,
                    1992.740914890384,
                    1992.740914890384,
                    1992.740914890384,
                    1992.740914890384,
                    1992.740914890384,
                    1992.740914890384,
                    1992.740914890384,
                    1992.740914890384,
                    1992.740914890384,
                    1992.740914890384,
                    1992.740914890384,
                    1992.740914890384,
                    1992.740914890384,
                    1992.740914890384,
                    1992.740914890384,
                    1992.740914890384,
                    1992.740914890384,
                    1992.740914890384,
                    1992.740914890384,
                    1992.740914890384,
                    1992.740914890384,
                    1992.740914890384,
                    1992.740914890384,
                    1992.740914890384,
                    1992.740914890384,
                    1992.740914890384,
                    1992.740914890384,
                    1992.740914890384,
                    1992.740914890384,
                    1992.740914890384,
                    1992.740914890384,
                    1992.740914890384,
                    1992.740914890384,
                    1992.740914890384,
                    1992.740914890384,
                    1992.740914890384,
                    1992.740914890384,
                    1992.740914890384,
                    1992.740914890384,
                    1992.740914890384,
                    1992.740914890384,
                    1992.740914890384,
                    1992.740914890384,
                    1992.740914890384,
                    1992.740914890384,
                    1992.740914890384,
                    1992.740914890384,
                    1992.740914890384,
                    1992.740914890384,
                    1992.740914890384,
                    1992.740914890384,
                    1992.740914890384,
                    1992.740914890384,
                    1992.740914890384,
                    1992.740914890384,
                    1992.740914890384,
                    1992.740914890384,
                    1992.740914890384,
                    1992.740914890384,
                    1992.740914890384,
                    1992.740914890384,
                    1992.740914890384,
                    1992.740914890384,
                    1992.740914890384,
                    1992.740914890384,
                    1992.740914890384,
                    1992.740914890384,
                    1992.740914890384,
                    1992.740914890384,
                    1992.740914890384,
                    1992.740914890384,
                    1992.740914890384,
                    1992.740914890384,
                    1992.740914890384,
                    1992.740914890384,
                    1992.740914890384,
                    1992.740914890384,
                    1992.740914890384,
                    1992.740914890384,
                    1992.740914890384,
                    1992.740914890384,
                    1992.740914890384,
                    1992.740914890384,
                    1992.740914890384
                  ]
                },
                {
                  "marker": {
                    "color": "#cccccc"
                  },
                  "mode": "markers",
                  "name": "Infeasible Trial",
                  "showlegend": false,
                  "type": "scatter",
                  "x": [],
                  "y": []
                }
              ],
              "layout": {
                "template": {
                  "data": {
                    "bar": [
                      {
                        "error_x": {
                          "color": "#2a3f5f"
                        },
                        "error_y": {
                          "color": "#2a3f5f"
                        },
                        "marker": {
                          "line": {
                            "color": "#E5ECF6",
                            "width": 0.5
                          },
                          "pattern": {
                            "fillmode": "overlay",
                            "size": 10,
                            "solidity": 0.2
                          }
                        },
                        "type": "bar"
                      }
                    ],
                    "barpolar": [
                      {
                        "marker": {
                          "line": {
                            "color": "#E5ECF6",
                            "width": 0.5
                          },
                          "pattern": {
                            "fillmode": "overlay",
                            "size": 10,
                            "solidity": 0.2
                          }
                        },
                        "type": "barpolar"
                      }
                    ],
                    "carpet": [
                      {
                        "aaxis": {
                          "endlinecolor": "#2a3f5f",
                          "gridcolor": "white",
                          "linecolor": "white",
                          "minorgridcolor": "white",
                          "startlinecolor": "#2a3f5f"
                        },
                        "baxis": {
                          "endlinecolor": "#2a3f5f",
                          "gridcolor": "white",
                          "linecolor": "white",
                          "minorgridcolor": "white",
                          "startlinecolor": "#2a3f5f"
                        },
                        "type": "carpet"
                      }
                    ],
                    "choropleth": [
                      {
                        "colorbar": {
                          "outlinewidth": 0,
                          "ticks": ""
                        },
                        "type": "choropleth"
                      }
                    ],
                    "contour": [
                      {
                        "colorbar": {
                          "outlinewidth": 0,
                          "ticks": ""
                        },
                        "colorscale": [
                          [
                            0,
                            "#0d0887"
                          ],
                          [
                            0.1111111111111111,
                            "#46039f"
                          ],
                          [
                            0.2222222222222222,
                            "#7201a8"
                          ],
                          [
                            0.3333333333333333,
                            "#9c179e"
                          ],
                          [
                            0.4444444444444444,
                            "#bd3786"
                          ],
                          [
                            0.5555555555555556,
                            "#d8576b"
                          ],
                          [
                            0.6666666666666666,
                            "#ed7953"
                          ],
                          [
                            0.7777777777777778,
                            "#fb9f3a"
                          ],
                          [
                            0.8888888888888888,
                            "#fdca26"
                          ],
                          [
                            1,
                            "#f0f921"
                          ]
                        ],
                        "type": "contour"
                      }
                    ],
                    "contourcarpet": [
                      {
                        "colorbar": {
                          "outlinewidth": 0,
                          "ticks": ""
                        },
                        "type": "contourcarpet"
                      }
                    ],
                    "heatmap": [
                      {
                        "colorbar": {
                          "outlinewidth": 0,
                          "ticks": ""
                        },
                        "colorscale": [
                          [
                            0,
                            "#0d0887"
                          ],
                          [
                            0.1111111111111111,
                            "#46039f"
                          ],
                          [
                            0.2222222222222222,
                            "#7201a8"
                          ],
                          [
                            0.3333333333333333,
                            "#9c179e"
                          ],
                          [
                            0.4444444444444444,
                            "#bd3786"
                          ],
                          [
                            0.5555555555555556,
                            "#d8576b"
                          ],
                          [
                            0.6666666666666666,
                            "#ed7953"
                          ],
                          [
                            0.7777777777777778,
                            "#fb9f3a"
                          ],
                          [
                            0.8888888888888888,
                            "#fdca26"
                          ],
                          [
                            1,
                            "#f0f921"
                          ]
                        ],
                        "type": "heatmap"
                      }
                    ],
                    "heatmapgl": [
                      {
                        "colorbar": {
                          "outlinewidth": 0,
                          "ticks": ""
                        },
                        "colorscale": [
                          [
                            0,
                            "#0d0887"
                          ],
                          [
                            0.1111111111111111,
                            "#46039f"
                          ],
                          [
                            0.2222222222222222,
                            "#7201a8"
                          ],
                          [
                            0.3333333333333333,
                            "#9c179e"
                          ],
                          [
                            0.4444444444444444,
                            "#bd3786"
                          ],
                          [
                            0.5555555555555556,
                            "#d8576b"
                          ],
                          [
                            0.6666666666666666,
                            "#ed7953"
                          ],
                          [
                            0.7777777777777778,
                            "#fb9f3a"
                          ],
                          [
                            0.8888888888888888,
                            "#fdca26"
                          ],
                          [
                            1,
                            "#f0f921"
                          ]
                        ],
                        "type": "heatmapgl"
                      }
                    ],
                    "histogram": [
                      {
                        "marker": {
                          "pattern": {
                            "fillmode": "overlay",
                            "size": 10,
                            "solidity": 0.2
                          }
                        },
                        "type": "histogram"
                      }
                    ],
                    "histogram2d": [
                      {
                        "colorbar": {
                          "outlinewidth": 0,
                          "ticks": ""
                        },
                        "colorscale": [
                          [
                            0,
                            "#0d0887"
                          ],
                          [
                            0.1111111111111111,
                            "#46039f"
                          ],
                          [
                            0.2222222222222222,
                            "#7201a8"
                          ],
                          [
                            0.3333333333333333,
                            "#9c179e"
                          ],
                          [
                            0.4444444444444444,
                            "#bd3786"
                          ],
                          [
                            0.5555555555555556,
                            "#d8576b"
                          ],
                          [
                            0.6666666666666666,
                            "#ed7953"
                          ],
                          [
                            0.7777777777777778,
                            "#fb9f3a"
                          ],
                          [
                            0.8888888888888888,
                            "#fdca26"
                          ],
                          [
                            1,
                            "#f0f921"
                          ]
                        ],
                        "type": "histogram2d"
                      }
                    ],
                    "histogram2dcontour": [
                      {
                        "colorbar": {
                          "outlinewidth": 0,
                          "ticks": ""
                        },
                        "colorscale": [
                          [
                            0,
                            "#0d0887"
                          ],
                          [
                            0.1111111111111111,
                            "#46039f"
                          ],
                          [
                            0.2222222222222222,
                            "#7201a8"
                          ],
                          [
                            0.3333333333333333,
                            "#9c179e"
                          ],
                          [
                            0.4444444444444444,
                            "#bd3786"
                          ],
                          [
                            0.5555555555555556,
                            "#d8576b"
                          ],
                          [
                            0.6666666666666666,
                            "#ed7953"
                          ],
                          [
                            0.7777777777777778,
                            "#fb9f3a"
                          ],
                          [
                            0.8888888888888888,
                            "#fdca26"
                          ],
                          [
                            1,
                            "#f0f921"
                          ]
                        ],
                        "type": "histogram2dcontour"
                      }
                    ],
                    "mesh3d": [
                      {
                        "colorbar": {
                          "outlinewidth": 0,
                          "ticks": ""
                        },
                        "type": "mesh3d"
                      }
                    ],
                    "parcoords": [
                      {
                        "line": {
                          "colorbar": {
                            "outlinewidth": 0,
                            "ticks": ""
                          }
                        },
                        "type": "parcoords"
                      }
                    ],
                    "pie": [
                      {
                        "automargin": true,
                        "type": "pie"
                      }
                    ],
                    "scatter": [
                      {
                        "fillpattern": {
                          "fillmode": "overlay",
                          "size": 10,
                          "solidity": 0.2
                        },
                        "type": "scatter"
                      }
                    ],
                    "scatter3d": [
                      {
                        "line": {
                          "colorbar": {
                            "outlinewidth": 0,
                            "ticks": ""
                          }
                        },
                        "marker": {
                          "colorbar": {
                            "outlinewidth": 0,
                            "ticks": ""
                          }
                        },
                        "type": "scatter3d"
                      }
                    ],
                    "scattercarpet": [
                      {
                        "marker": {
                          "colorbar": {
                            "outlinewidth": 0,
                            "ticks": ""
                          }
                        },
                        "type": "scattercarpet"
                      }
                    ],
                    "scattergeo": [
                      {
                        "marker": {
                          "colorbar": {
                            "outlinewidth": 0,
                            "ticks": ""
                          }
                        },
                        "type": "scattergeo"
                      }
                    ],
                    "scattergl": [
                      {
                        "marker": {
                          "colorbar": {
                            "outlinewidth": 0,
                            "ticks": ""
                          }
                        },
                        "type": "scattergl"
                      }
                    ],
                    "scattermapbox": [
                      {
                        "marker": {
                          "colorbar": {
                            "outlinewidth": 0,
                            "ticks": ""
                          }
                        },
                        "type": "scattermapbox"
                      }
                    ],
                    "scatterpolar": [
                      {
                        "marker": {
                          "colorbar": {
                            "outlinewidth": 0,
                            "ticks": ""
                          }
                        },
                        "type": "scatterpolar"
                      }
                    ],
                    "scatterpolargl": [
                      {
                        "marker": {
                          "colorbar": {
                            "outlinewidth": 0,
                            "ticks": ""
                          }
                        },
                        "type": "scatterpolargl"
                      }
                    ],
                    "scatterternary": [
                      {
                        "marker": {
                          "colorbar": {
                            "outlinewidth": 0,
                            "ticks": ""
                          }
                        },
                        "type": "scatterternary"
                      }
                    ],
                    "surface": [
                      {
                        "colorbar": {
                          "outlinewidth": 0,
                          "ticks": ""
                        },
                        "colorscale": [
                          [
                            0,
                            "#0d0887"
                          ],
                          [
                            0.1111111111111111,
                            "#46039f"
                          ],
                          [
                            0.2222222222222222,
                            "#7201a8"
                          ],
                          [
                            0.3333333333333333,
                            "#9c179e"
                          ],
                          [
                            0.4444444444444444,
                            "#bd3786"
                          ],
                          [
                            0.5555555555555556,
                            "#d8576b"
                          ],
                          [
                            0.6666666666666666,
                            "#ed7953"
                          ],
                          [
                            0.7777777777777778,
                            "#fb9f3a"
                          ],
                          [
                            0.8888888888888888,
                            "#fdca26"
                          ],
                          [
                            1,
                            "#f0f921"
                          ]
                        ],
                        "type": "surface"
                      }
                    ],
                    "table": [
                      {
                        "cells": {
                          "fill": {
                            "color": "#EBF0F8"
                          },
                          "line": {
                            "color": "white"
                          }
                        },
                        "header": {
                          "fill": {
                            "color": "#C8D4E3"
                          },
                          "line": {
                            "color": "white"
                          }
                        },
                        "type": "table"
                      }
                    ]
                  },
                  "layout": {
                    "annotationdefaults": {
                      "arrowcolor": "#2a3f5f",
                      "arrowhead": 0,
                      "arrowwidth": 1
                    },
                    "autotypenumbers": "strict",
                    "coloraxis": {
                      "colorbar": {
                        "outlinewidth": 0,
                        "ticks": ""
                      }
                    },
                    "colorscale": {
                      "diverging": [
                        [
                          0,
                          "#8e0152"
                        ],
                        [
                          0.1,
                          "#c51b7d"
                        ],
                        [
                          0.2,
                          "#de77ae"
                        ],
                        [
                          0.3,
                          "#f1b6da"
                        ],
                        [
                          0.4,
                          "#fde0ef"
                        ],
                        [
                          0.5,
                          "#f7f7f7"
                        ],
                        [
                          0.6,
                          "#e6f5d0"
                        ],
                        [
                          0.7,
                          "#b8e186"
                        ],
                        [
                          0.8,
                          "#7fbc41"
                        ],
                        [
                          0.9,
                          "#4d9221"
                        ],
                        [
                          1,
                          "#276419"
                        ]
                      ],
                      "sequential": [
                        [
                          0,
                          "#0d0887"
                        ],
                        [
                          0.1111111111111111,
                          "#46039f"
                        ],
                        [
                          0.2222222222222222,
                          "#7201a8"
                        ],
                        [
                          0.3333333333333333,
                          "#9c179e"
                        ],
                        [
                          0.4444444444444444,
                          "#bd3786"
                        ],
                        [
                          0.5555555555555556,
                          "#d8576b"
                        ],
                        [
                          0.6666666666666666,
                          "#ed7953"
                        ],
                        [
                          0.7777777777777778,
                          "#fb9f3a"
                        ],
                        [
                          0.8888888888888888,
                          "#fdca26"
                        ],
                        [
                          1,
                          "#f0f921"
                        ]
                      ],
                      "sequentialminus": [
                        [
                          0,
                          "#0d0887"
                        ],
                        [
                          0.1111111111111111,
                          "#46039f"
                        ],
                        [
                          0.2222222222222222,
                          "#7201a8"
                        ],
                        [
                          0.3333333333333333,
                          "#9c179e"
                        ],
                        [
                          0.4444444444444444,
                          "#bd3786"
                        ],
                        [
                          0.5555555555555556,
                          "#d8576b"
                        ],
                        [
                          0.6666666666666666,
                          "#ed7953"
                        ],
                        [
                          0.7777777777777778,
                          "#fb9f3a"
                        ],
                        [
                          0.8888888888888888,
                          "#fdca26"
                        ],
                        [
                          1,
                          "#f0f921"
                        ]
                      ]
                    },
                    "colorway": [
                      "#636efa",
                      "#EF553B",
                      "#00cc96",
                      "#ab63fa",
                      "#FFA15A",
                      "#19d3f3",
                      "#FF6692",
                      "#B6E880",
                      "#FF97FF",
                      "#FECB52"
                    ],
                    "font": {
                      "color": "#2a3f5f"
                    },
                    "geo": {
                      "bgcolor": "white",
                      "lakecolor": "white",
                      "landcolor": "#E5ECF6",
                      "showlakes": true,
                      "showland": true,
                      "subunitcolor": "white"
                    },
                    "hoverlabel": {
                      "align": "left"
                    },
                    "hovermode": "closest",
                    "mapbox": {
                      "style": "light"
                    },
                    "paper_bgcolor": "white",
                    "plot_bgcolor": "#E5ECF6",
                    "polar": {
                      "angularaxis": {
                        "gridcolor": "white",
                        "linecolor": "white",
                        "ticks": ""
                      },
                      "bgcolor": "#E5ECF6",
                      "radialaxis": {
                        "gridcolor": "white",
                        "linecolor": "white",
                        "ticks": ""
                      }
                    },
                    "scene": {
                      "xaxis": {
                        "backgroundcolor": "#E5ECF6",
                        "gridcolor": "white",
                        "gridwidth": 2,
                        "linecolor": "white",
                        "showbackground": true,
                        "ticks": "",
                        "zerolinecolor": "white"
                      },
                      "yaxis": {
                        "backgroundcolor": "#E5ECF6",
                        "gridcolor": "white",
                        "gridwidth": 2,
                        "linecolor": "white",
                        "showbackground": true,
                        "ticks": "",
                        "zerolinecolor": "white"
                      },
                      "zaxis": {
                        "backgroundcolor": "#E5ECF6",
                        "gridcolor": "white",
                        "gridwidth": 2,
                        "linecolor": "white",
                        "showbackground": true,
                        "ticks": "",
                        "zerolinecolor": "white"
                      }
                    },
                    "shapedefaults": {
                      "line": {
                        "color": "#2a3f5f"
                      }
                    },
                    "ternary": {
                      "aaxis": {
                        "gridcolor": "white",
                        "linecolor": "white",
                        "ticks": ""
                      },
                      "baxis": {
                        "gridcolor": "white",
                        "linecolor": "white",
                        "ticks": ""
                      },
                      "bgcolor": "#E5ECF6",
                      "caxis": {
                        "gridcolor": "white",
                        "linecolor": "white",
                        "ticks": ""
                      }
                    },
                    "title": {
                      "x": 0.05
                    },
                    "xaxis": {
                      "automargin": true,
                      "gridcolor": "white",
                      "linecolor": "white",
                      "ticks": "",
                      "title": {
                        "standoff": 15
                      },
                      "zerolinecolor": "white",
                      "zerolinewidth": 2
                    },
                    "yaxis": {
                      "automargin": true,
                      "gridcolor": "white",
                      "linecolor": "white",
                      "ticks": "",
                      "title": {
                        "standoff": 15
                      },
                      "zerolinecolor": "white",
                      "zerolinewidth": 2
                    }
                  }
                },
                "title": {
                  "text": "Optimization History Plot"
                },
                "xaxis": {
                  "title": {
                    "text": "Trial"
                  }
                },
                "yaxis": {
                  "title": {
                    "text": "Objective Value"
                  }
                }
              }
            }
          },
          "metadata": {},
          "output_type": "display_data"
        }
      ],
      "source": [
        "# Parte 1\n",
        "import optuna.visualization as vis\n",
        "\n",
        "fig = vis.plot_optimization_history(study)\n",
        "fig.show()\n"
      ]
    },
    {
      "cell_type": "code",
      "execution_count": 20,
      "metadata": {},
      "outputs": [
        {
          "data": {
            "application/vnd.plotly.v1+json": {
              "config": {
                "plotlyServerURL": "https://plot.ly"
              },
              "data": [
                {
                  "dimensions": [
                    {
                      "label": "Objective Value",
                      "range": [
                        1992.740914890384,
                        9308.810068090837
                      ],
                      "values": [
                        6724.555218845626,
                        8884.160553490212,
                        8901.914934922032,
                        8885.289611693599,
                        9308.810068090837,
                        2076.9981544540683,
                        6771.932416111251,
                        5912.5882061575185,
                        5944.423473457935,
                        5989.346113137156,
                        5977.913426195192,
                        5917.306286285421,
                        5370.4368835080795,
                        5862.168153451962,
                        5927.972327126823,
                        5915.619861421131,
                        5943.332191390531,
                        2134.548094720668,
                        2144.4384993227595,
                        2119.851397610926,
                        2109.5798714814932,
                        2116.1012512247967,
                        2149.371367855571,
                        2080.297407328083,
                        2152.3051991964808,
                        2126.0349304485767,
                        2093.032694212148,
                        2118.8800771752913,
                        2119.6629493759433,
                        2115.1652620802943,
                        2095.974452509327,
                        2171.5829696604105,
                        2061.5648262950094,
                        2085.5323197321954,
                        2112.9877228868,
                        2116.7005833831113,
                        2060.5174915050197,
                        2102.5356864494256,
                        2102.9167134971285,
                        2052.0335689265803,
                        2119.294314061452,
                        2086.7433566241198,
                        2099.154501881078,
                        2106.4851156090185,
                        2107.5242616178843,
                        2057.4317879935866,
                        2055.4163300113178,
                        2092.4967814700703,
                        2056.7644257471916,
                        2018.226298873973,
                        2024.2408649488075,
                        1999.5355521802692,
                        1992.740914890384,
                        2040.658704178194,
                        2070.2004725291854,
                        2062.3352501074155,
                        2057.792416445286,
                        2064.326351992161,
                        2028.3593394677964,
                        2053.4153293786153,
                        2007.7038566031606,
                        2049.2559520534664,
                        2046.278569692897,
                        2079.5600551551497,
                        2073.6285222729607,
                        2085.9268892980276,
                        2045.877672774931,
                        2027.6881392521798,
                        2058.138101394827,
                        2038.6221692131958,
                        2056.5426884221997
                      ]
                    },
                    {
                      "label": "learning_rate",
                      "range": [
                        0.0029643534207610205,
                        0.09999778501441284
                      ],
                      "values": [
                        0.020781590246484464,
                        0.06368147125694715,
                        0.06360737547894783,
                        0.019555496304654207,
                        0.0029643534207610205,
                        0.04514866986126306,
                        0.03247135210099404,
                        0.08467414453268135,
                        0.08757852647587716,
                        0.07681576032958291,
                        0.0779231349567815,
                        0.0867869897076328,
                        0.07231830214314788,
                        0.09253860487961812,
                        0.08196848628740169,
                        0.08337559568212269,
                        0.09963829472260695,
                        0.095076953216469,
                        0.09514519214255895,
                        0.09549392251253871,
                        0.09675457311589304,
                        0.09443047711716919,
                        0.09959049456746537,
                        0.08959337983999609,
                        0.09995618081142017,
                        0.0992322079150605,
                        0.09788332052341263,
                        0.09756942287521661,
                        0.09515031206435864,
                        0.09073920017175768,
                        0.09544267575600338,
                        0.08549694090872689,
                        0.09608492058031348,
                        0.09313453159051134,
                        0.0946910278124236,
                        0.09412097620248538,
                        0.09770062514276669,
                        0.09051531826695096,
                        0.09453233990850396,
                        0.0980237505560535,
                        0.09167246326544175,
                        0.09998747917039229,
                        0.09962748952263535,
                        0.09787575986614873,
                        0.09817357266391175,
                        0.09839021645960273,
                        0.09580633542704156,
                        0.09999632870902589,
                        0.09968224051214222,
                        0.09769677911381092,
                        0.09674629551574804,
                        0.09957380906316775,
                        0.09985302331778208,
                        0.09518795231578442,
                        0.09460873104278188,
                        0.09993589232693002,
                        0.09997908984931321,
                        0.0999186585710349,
                        0.09804238806315878,
                        0.09998636398999043,
                        0.0967929344695558,
                        0.09985591409521259,
                        0.09658134247601148,
                        0.09801867507325492,
                        0.09790541150121902,
                        0.09677664519698359,
                        0.0947188119307901,
                        0.097998298393508,
                        0.09999778501441284,
                        0.09701348331956189,
                        0.09995239899076157
                      ]
                    },
                    {
                      "label": "max_depth",
                      "range": [
                        3,
                        10
                      ],
                      "values": [
                        6,
                        7,
                        3,
                        6,
                        8,
                        8,
                        7,
                        8,
                        9,
                        10,
                        9,
                        9,
                        9,
                        9,
                        6,
                        6,
                        10,
                        6,
                        7,
                        7,
                        7,
                        7,
                        7,
                        8,
                        8,
                        8,
                        8,
                        8,
                        8,
                        8,
                        7,
                        8,
                        7,
                        8,
                        8,
                        8,
                        8,
                        9,
                        8,
                        8,
                        8,
                        9,
                        9,
                        9,
                        9,
                        9,
                        9,
                        9,
                        9,
                        9,
                        10,
                        9,
                        9,
                        9,
                        9,
                        9,
                        9,
                        9,
                        9,
                        9,
                        9,
                        9,
                        9,
                        9,
                        9,
                        9,
                        9,
                        9,
                        9,
                        9,
                        9
                      ]
                    },
                    {
                      "label": "max_leaves",
                      "range": [
                        6,
                        100
                      ],
                      "values": [
                        71,
                        22,
                        6,
                        92,
                        94,
                        86,
                        74,
                        61,
                        51,
                        86,
                        83,
                        36,
                        36,
                        34,
                        91,
                        93,
                        50,
                        78,
                        78,
                        69,
                        72,
                        71,
                        76,
                        71,
                        72,
                        72,
                        69,
                        69,
                        83,
                        69,
                        72,
                        69,
                        74,
                        84,
                        79,
                        83,
                        88,
                        86,
                        95,
                        89,
                        90,
                        93,
                        93,
                        96,
                        98,
                        98,
                        99,
                        92,
                        89,
                        96,
                        96,
                        93,
                        89,
                        91,
                        96,
                        92,
                        88,
                        89,
                        89,
                        88,
                        89,
                        88,
                        90,
                        98,
                        97,
                        100,
                        96,
                        92,
                        89,
                        89,
                        85
                      ]
                    },
                    {
                      "label": "min_child_weight",
                      "range": [
                        1,
                        5
                      ],
                      "values": [
                        3,
                        3,
                        1,
                        3,
                        1,
                        5,
                        4,
                        2,
                        2,
                        5,
                        1,
                        2,
                        2,
                        2,
                        2,
                        2,
                        4,
                        2,
                        3,
                        4,
                        5,
                        5,
                        4,
                        5,
                        5,
                        5,
                        5,
                        5,
                        5,
                        5,
                        5,
                        5,
                        3,
                        5,
                        5,
                        5,
                        5,
                        5,
                        5,
                        5,
                        5,
                        5,
                        5,
                        5,
                        5,
                        5,
                        5,
                        5,
                        5,
                        5,
                        5,
                        5,
                        5,
                        5,
                        5,
                        5,
                        5,
                        5,
                        5,
                        5,
                        5,
                        5,
                        5,
                        5,
                        5,
                        5,
                        5,
                        5,
                        5,
                        5,
                        5
                      ]
                    },
                    {
                      "label": "min_frequency",
                      "range": [
                        0.0001525916046607595,
                        0.9048545100207561
                      ],
                      "values": [
                        0.23679984185927994,
                        0.9048545100207561,
                        0.6836981088886501,
                        0.47467248869235135,
                        0.6588202450544988,
                        0.026409350621963146,
                        0.21075876492463042,
                        0.19221875500740487,
                        0.1347465948708674,
                        0.09181452131731971,
                        0.14310846879404412,
                        0.1030100120876969,
                        0.08590573575765524,
                        0.08780302662936476,
                        0.1449482205674275,
                        0.15577021200411106,
                        0.10916427058591438,
                        0.029880580436788,
                        0.036157871746205925,
                        0.022672545352867446,
                        0.023971430774576447,
                        0.02911556652721223,
                        0.04999399370252962,
                        0.07777545697596748,
                        0.022377342393034502,
                        0.022228179015853305,
                        0.0010956825660703821,
                        0.00595987521692978,
                        0.056945998193775035,
                        0.075282231158659,
                        0.06224911870442812,
                        0.055789603708720464,
                        0.033295107715569636,
                        0.04204554329570842,
                        0.05156702935735574,
                        0.05772725832917831,
                        0.059648584697411355,
                        0.0541392529466526,
                        0.05492574622221734,
                        0.03900108182730667,
                        0.009922206110903165,
                        0.07508735905255876,
                        0.0798462397893855,
                        0.04111492371364686,
                        0.0761537512913515,
                        0.07288900386600862,
                        0.04137764130800467,
                        0.07407317092599121,
                        0.0677493920013323,
                        0.06938044649949826,
                        0.06423937985119169,
                        0.019698469171061588,
                        0.01816644093749571,
                        0.041773622818958835,
                        0.05153048486843377,
                        0.06797743803220398,
                        0.05184806616291752,
                        0.06896847878039018,
                        0.02294525510001378,
                        0.04571805896718992,
                        0.046218300765753034,
                        0.06280121310801609,
                        0.028008537507424106,
                        0.07483382529667723,
                        0.01491546125764573,
                        0.016022046233008447,
                        0.04699678012571268,
                        0.0001525916046607595,
                        0.06068880426983679,
                        0.04031613604160478,
                        0.04937977919667177
                      ]
                    },
                    {
                      "label": "n_estimators",
                      "range": [
                        81,
                        950
                      ],
                      "values": [
                        329,
                        163,
                        81,
                        921,
                        416,
                        848,
                        666,
                        288,
                        632,
                        302,
                        819,
                        612,
                        582,
                        563,
                        761,
                        752,
                        727,
                        638,
                        565,
                        552,
                        566,
                        553,
                        397,
                        606,
                        435,
                        394,
                        481,
                        476,
                        456,
                        423,
                        579,
                        303,
                        573,
                        463,
                        480,
                        442,
                        482,
                        468,
                        504,
                        456,
                        423,
                        485,
                        446,
                        449,
                        452,
                        445,
                        526,
                        534,
                        533,
                        802,
                        870,
                        882,
                        950,
                        533,
                        522,
                        525,
                        482,
                        486,
                        534,
                        538,
                        516,
                        506,
                        530,
                        464,
                        466,
                        440,
                        571,
                        563,
                        516,
                        534,
                        499
                      ]
                    },
                    {
                      "label": "reg_alpha",
                      "range": [
                        0.0029382763786969246,
                        0.696944776737666
                      ],
                      "values": [
                        0.3431361138788237,
                        0.09540877733609576,
                        0.25570338321417696,
                        0.37937580687919614,
                        0.30209256049246314,
                        0.34513989327721983,
                        0.696944776737666,
                        0.0029382763786969246,
                        0.08145060375217195,
                        0.2015906186631159,
                        0.6659818246731721,
                        0.16570996219646222,
                        0.1788002509910815,
                        0.10386706934916148,
                        0.1264813115462051,
                        0.12189770780840345,
                        0.09245863240802574,
                        0.19968772333538715,
                        0.2110697865523373,
                        0.20680666232483133,
                        0.3165514849615139,
                        0.4054513064809435,
                        0.39320813030947543,
                        0.19908431437378257,
                        0.238549766972616,
                        0.35280302198744656,
                        0.3030222822168194,
                        0.35204117710927973,
                        0.32682836468929755,
                        0.4157225734811184,
                        0.21342775360016628,
                        0.4029333299782988,
                        0.20526766752996953,
                        0.3443262255522438,
                        0.30072204031339844,
                        0.3091494628707685,
                        0.301499236038569,
                        0.31417865213496815,
                        0.3101255875118137,
                        0.27119131220410925,
                        0.24961626012932958,
                        0.3014492970824537,
                        0.3027321655151636,
                        0.3138796602614415,
                        0.2664995233499975,
                        0.2585437369003811,
                        0.24258591949659894,
                        0.3148841013078066,
                        0.25972167076773744,
                        0.22315334304032572,
                        0.21861520936708095,
                        0.28020155044425704,
                        0.29186230420794007,
                        0.30071923559576536,
                        0.3101464685310821,
                        0.3024081180992704,
                        0.3118592529468683,
                        0.3314447720786996,
                        0.32680546931434895,
                        0.2784519104497198,
                        0.30226500397246925,
                        0.2946889475712097,
                        0.3075927887697365,
                        0.2945599816166007,
                        0.2548747365811679,
                        0.2604580404889855,
                        0.27119707966559664,
                        0.28749815535357437,
                        0.17636698850209157,
                        0.2065638769200001,
                        0.11294915089884683
                      ]
                    },
                    {
                      "label": "reg_lambda",
                      "range": [
                        0.03725726148000341,
                        0.9982693767590056
                      ],
                      "values": [
                        0.19657239658349246,
                        0.03725726148000341,
                        0.5321065089643994,
                        0.3735323870468914,
                        0.37872011939376393,
                        0.5993780942418381,
                        0.6886853523491052,
                        0.9690168125291647,
                        0.9961474021052876,
                        0.9965557656502113,
                        0.8294437435894771,
                        0.9798924980496382,
                        0.937209871514681,
                        0.9433321467585108,
                        0.7888676075069467,
                        0.7874134221522319,
                        0.883242083326861,
                        0.9049316071670559,
                        0.9106797831312747,
                        0.9128753817133266,
                        0.910884432861241,
                        0.9244806840701023,
                        0.9982693767590056,
                        0.9564627821837681,
                        0.8374633516424687,
                        0.8335188744236208,
                        0.9302276146750846,
                        0.9313288127936021,
                        0.40518284135005556,
                        0.4599289552435393,
                        0.4184482513291289,
                        0.413082194402449,
                        0.5364675076474497,
                        0.9334924711487769,
                        0.8635088013853353,
                        0.8550709400752606,
                        0.8188049830993782,
                        0.8109280228579272,
                        0.7644268414664077,
                        0.8438578092092622,
                        0.7686262299773513,
                        0.8290326043931868,
                        0.827812367903418,
                        0.8520397050905815,
                        0.8325258396310667,
                        0.839378527827449,
                        0.7813585596887636,
                        0.8152654593612898,
                        0.7800137077381245,
                        0.7807463746859944,
                        0.7809057904649969,
                        0.6833799931443416,
                        0.6723074978017088,
                        0.8183143155197096,
                        0.7632154466437137,
                        0.8002565706811368,
                        0.7960381968963223,
                        0.8072501782189474,
                        0.7566243972669213,
                        0.7591172932578669,
                        0.7486371678087553,
                        0.795839668735009,
                        0.7884974042703755,
                        0.7485185738636146,
                        0.7594021975360884,
                        0.737417907025237,
                        0.7988050885530622,
                        0.7749930429398629,
                        0.8378989141673503,
                        0.7960154729143825,
                        0.8141358606395893
                      ]
                    }
                  ],
                  "labelangle": 30,
                  "labelside": "bottom",
                  "line": {
                    "color": [
                      6724.555218845626,
                      8884.160553490212,
                      8901.914934922032,
                      8885.289611693599,
                      9308.810068090837,
                      2076.9981544540683,
                      6771.932416111251,
                      5912.5882061575185,
                      5944.423473457935,
                      5989.346113137156,
                      5977.913426195192,
                      5917.306286285421,
                      5370.4368835080795,
                      5862.168153451962,
                      5927.972327126823,
                      5915.619861421131,
                      5943.332191390531,
                      2134.548094720668,
                      2144.4384993227595,
                      2119.851397610926,
                      2109.5798714814932,
                      2116.1012512247967,
                      2149.371367855571,
                      2080.297407328083,
                      2152.3051991964808,
                      2126.0349304485767,
                      2093.032694212148,
                      2118.8800771752913,
                      2119.6629493759433,
                      2115.1652620802943,
                      2095.974452509327,
                      2171.5829696604105,
                      2061.5648262950094,
                      2085.5323197321954,
                      2112.9877228868,
                      2116.7005833831113,
                      2060.5174915050197,
                      2102.5356864494256,
                      2102.9167134971285,
                      2052.0335689265803,
                      2119.294314061452,
                      2086.7433566241198,
                      2099.154501881078,
                      2106.4851156090185,
                      2107.5242616178843,
                      2057.4317879935866,
                      2055.4163300113178,
                      2092.4967814700703,
                      2056.7644257471916,
                      2018.226298873973,
                      2024.2408649488075,
                      1999.5355521802692,
                      1992.740914890384,
                      2040.658704178194,
                      2070.2004725291854,
                      2062.3352501074155,
                      2057.792416445286,
                      2064.326351992161,
                      2028.3593394677964,
                      2053.4153293786153,
                      2007.7038566031606,
                      2049.2559520534664,
                      2046.278569692897,
                      2079.5600551551497,
                      2073.6285222729607,
                      2085.9268892980276,
                      2045.877672774931,
                      2027.6881392521798,
                      2058.138101394827,
                      2038.6221692131958,
                      2056.5426884221997
                    ],
                    "colorbar": {
                      "title": {
                        "text": "Objective Value"
                      }
                    },
                    "colorscale": [
                      [
                        0,
                        "rgb(247,251,255)"
                      ],
                      [
                        0.125,
                        "rgb(222,235,247)"
                      ],
                      [
                        0.25,
                        "rgb(198,219,239)"
                      ],
                      [
                        0.375,
                        "rgb(158,202,225)"
                      ],
                      [
                        0.5,
                        "rgb(107,174,214)"
                      ],
                      [
                        0.625,
                        "rgb(66,146,198)"
                      ],
                      [
                        0.75,
                        "rgb(33,113,181)"
                      ],
                      [
                        0.875,
                        "rgb(8,81,156)"
                      ],
                      [
                        1,
                        "rgb(8,48,107)"
                      ]
                    ],
                    "reversescale": true,
                    "showscale": true
                  },
                  "type": "parcoords"
                }
              ],
              "layout": {
                "template": {
                  "data": {
                    "bar": [
                      {
                        "error_x": {
                          "color": "#2a3f5f"
                        },
                        "error_y": {
                          "color": "#2a3f5f"
                        },
                        "marker": {
                          "line": {
                            "color": "#E5ECF6",
                            "width": 0.5
                          },
                          "pattern": {
                            "fillmode": "overlay",
                            "size": 10,
                            "solidity": 0.2
                          }
                        },
                        "type": "bar"
                      }
                    ],
                    "barpolar": [
                      {
                        "marker": {
                          "line": {
                            "color": "#E5ECF6",
                            "width": 0.5
                          },
                          "pattern": {
                            "fillmode": "overlay",
                            "size": 10,
                            "solidity": 0.2
                          }
                        },
                        "type": "barpolar"
                      }
                    ],
                    "carpet": [
                      {
                        "aaxis": {
                          "endlinecolor": "#2a3f5f",
                          "gridcolor": "white",
                          "linecolor": "white",
                          "minorgridcolor": "white",
                          "startlinecolor": "#2a3f5f"
                        },
                        "baxis": {
                          "endlinecolor": "#2a3f5f",
                          "gridcolor": "white",
                          "linecolor": "white",
                          "minorgridcolor": "white",
                          "startlinecolor": "#2a3f5f"
                        },
                        "type": "carpet"
                      }
                    ],
                    "choropleth": [
                      {
                        "colorbar": {
                          "outlinewidth": 0,
                          "ticks": ""
                        },
                        "type": "choropleth"
                      }
                    ],
                    "contour": [
                      {
                        "colorbar": {
                          "outlinewidth": 0,
                          "ticks": ""
                        },
                        "colorscale": [
                          [
                            0,
                            "#0d0887"
                          ],
                          [
                            0.1111111111111111,
                            "#46039f"
                          ],
                          [
                            0.2222222222222222,
                            "#7201a8"
                          ],
                          [
                            0.3333333333333333,
                            "#9c179e"
                          ],
                          [
                            0.4444444444444444,
                            "#bd3786"
                          ],
                          [
                            0.5555555555555556,
                            "#d8576b"
                          ],
                          [
                            0.6666666666666666,
                            "#ed7953"
                          ],
                          [
                            0.7777777777777778,
                            "#fb9f3a"
                          ],
                          [
                            0.8888888888888888,
                            "#fdca26"
                          ],
                          [
                            1,
                            "#f0f921"
                          ]
                        ],
                        "type": "contour"
                      }
                    ],
                    "contourcarpet": [
                      {
                        "colorbar": {
                          "outlinewidth": 0,
                          "ticks": ""
                        },
                        "type": "contourcarpet"
                      }
                    ],
                    "heatmap": [
                      {
                        "colorbar": {
                          "outlinewidth": 0,
                          "ticks": ""
                        },
                        "colorscale": [
                          [
                            0,
                            "#0d0887"
                          ],
                          [
                            0.1111111111111111,
                            "#46039f"
                          ],
                          [
                            0.2222222222222222,
                            "#7201a8"
                          ],
                          [
                            0.3333333333333333,
                            "#9c179e"
                          ],
                          [
                            0.4444444444444444,
                            "#bd3786"
                          ],
                          [
                            0.5555555555555556,
                            "#d8576b"
                          ],
                          [
                            0.6666666666666666,
                            "#ed7953"
                          ],
                          [
                            0.7777777777777778,
                            "#fb9f3a"
                          ],
                          [
                            0.8888888888888888,
                            "#fdca26"
                          ],
                          [
                            1,
                            "#f0f921"
                          ]
                        ],
                        "type": "heatmap"
                      }
                    ],
                    "heatmapgl": [
                      {
                        "colorbar": {
                          "outlinewidth": 0,
                          "ticks": ""
                        },
                        "colorscale": [
                          [
                            0,
                            "#0d0887"
                          ],
                          [
                            0.1111111111111111,
                            "#46039f"
                          ],
                          [
                            0.2222222222222222,
                            "#7201a8"
                          ],
                          [
                            0.3333333333333333,
                            "#9c179e"
                          ],
                          [
                            0.4444444444444444,
                            "#bd3786"
                          ],
                          [
                            0.5555555555555556,
                            "#d8576b"
                          ],
                          [
                            0.6666666666666666,
                            "#ed7953"
                          ],
                          [
                            0.7777777777777778,
                            "#fb9f3a"
                          ],
                          [
                            0.8888888888888888,
                            "#fdca26"
                          ],
                          [
                            1,
                            "#f0f921"
                          ]
                        ],
                        "type": "heatmapgl"
                      }
                    ],
                    "histogram": [
                      {
                        "marker": {
                          "pattern": {
                            "fillmode": "overlay",
                            "size": 10,
                            "solidity": 0.2
                          }
                        },
                        "type": "histogram"
                      }
                    ],
                    "histogram2d": [
                      {
                        "colorbar": {
                          "outlinewidth": 0,
                          "ticks": ""
                        },
                        "colorscale": [
                          [
                            0,
                            "#0d0887"
                          ],
                          [
                            0.1111111111111111,
                            "#46039f"
                          ],
                          [
                            0.2222222222222222,
                            "#7201a8"
                          ],
                          [
                            0.3333333333333333,
                            "#9c179e"
                          ],
                          [
                            0.4444444444444444,
                            "#bd3786"
                          ],
                          [
                            0.5555555555555556,
                            "#d8576b"
                          ],
                          [
                            0.6666666666666666,
                            "#ed7953"
                          ],
                          [
                            0.7777777777777778,
                            "#fb9f3a"
                          ],
                          [
                            0.8888888888888888,
                            "#fdca26"
                          ],
                          [
                            1,
                            "#f0f921"
                          ]
                        ],
                        "type": "histogram2d"
                      }
                    ],
                    "histogram2dcontour": [
                      {
                        "colorbar": {
                          "outlinewidth": 0,
                          "ticks": ""
                        },
                        "colorscale": [
                          [
                            0,
                            "#0d0887"
                          ],
                          [
                            0.1111111111111111,
                            "#46039f"
                          ],
                          [
                            0.2222222222222222,
                            "#7201a8"
                          ],
                          [
                            0.3333333333333333,
                            "#9c179e"
                          ],
                          [
                            0.4444444444444444,
                            "#bd3786"
                          ],
                          [
                            0.5555555555555556,
                            "#d8576b"
                          ],
                          [
                            0.6666666666666666,
                            "#ed7953"
                          ],
                          [
                            0.7777777777777778,
                            "#fb9f3a"
                          ],
                          [
                            0.8888888888888888,
                            "#fdca26"
                          ],
                          [
                            1,
                            "#f0f921"
                          ]
                        ],
                        "type": "histogram2dcontour"
                      }
                    ],
                    "mesh3d": [
                      {
                        "colorbar": {
                          "outlinewidth": 0,
                          "ticks": ""
                        },
                        "type": "mesh3d"
                      }
                    ],
                    "parcoords": [
                      {
                        "line": {
                          "colorbar": {
                            "outlinewidth": 0,
                            "ticks": ""
                          }
                        },
                        "type": "parcoords"
                      }
                    ],
                    "pie": [
                      {
                        "automargin": true,
                        "type": "pie"
                      }
                    ],
                    "scatter": [
                      {
                        "fillpattern": {
                          "fillmode": "overlay",
                          "size": 10,
                          "solidity": 0.2
                        },
                        "type": "scatter"
                      }
                    ],
                    "scatter3d": [
                      {
                        "line": {
                          "colorbar": {
                            "outlinewidth": 0,
                            "ticks": ""
                          }
                        },
                        "marker": {
                          "colorbar": {
                            "outlinewidth": 0,
                            "ticks": ""
                          }
                        },
                        "type": "scatter3d"
                      }
                    ],
                    "scattercarpet": [
                      {
                        "marker": {
                          "colorbar": {
                            "outlinewidth": 0,
                            "ticks": ""
                          }
                        },
                        "type": "scattercarpet"
                      }
                    ],
                    "scattergeo": [
                      {
                        "marker": {
                          "colorbar": {
                            "outlinewidth": 0,
                            "ticks": ""
                          }
                        },
                        "type": "scattergeo"
                      }
                    ],
                    "scattergl": [
                      {
                        "marker": {
                          "colorbar": {
                            "outlinewidth": 0,
                            "ticks": ""
                          }
                        },
                        "type": "scattergl"
                      }
                    ],
                    "scattermapbox": [
                      {
                        "marker": {
                          "colorbar": {
                            "outlinewidth": 0,
                            "ticks": ""
                          }
                        },
                        "type": "scattermapbox"
                      }
                    ],
                    "scatterpolar": [
                      {
                        "marker": {
                          "colorbar": {
                            "outlinewidth": 0,
                            "ticks": ""
                          }
                        },
                        "type": "scatterpolar"
                      }
                    ],
                    "scatterpolargl": [
                      {
                        "marker": {
                          "colorbar": {
                            "outlinewidth": 0,
                            "ticks": ""
                          }
                        },
                        "type": "scatterpolargl"
                      }
                    ],
                    "scatterternary": [
                      {
                        "marker": {
                          "colorbar": {
                            "outlinewidth": 0,
                            "ticks": ""
                          }
                        },
                        "type": "scatterternary"
                      }
                    ],
                    "surface": [
                      {
                        "colorbar": {
                          "outlinewidth": 0,
                          "ticks": ""
                        },
                        "colorscale": [
                          [
                            0,
                            "#0d0887"
                          ],
                          [
                            0.1111111111111111,
                            "#46039f"
                          ],
                          [
                            0.2222222222222222,
                            "#7201a8"
                          ],
                          [
                            0.3333333333333333,
                            "#9c179e"
                          ],
                          [
                            0.4444444444444444,
                            "#bd3786"
                          ],
                          [
                            0.5555555555555556,
                            "#d8576b"
                          ],
                          [
                            0.6666666666666666,
                            "#ed7953"
                          ],
                          [
                            0.7777777777777778,
                            "#fb9f3a"
                          ],
                          [
                            0.8888888888888888,
                            "#fdca26"
                          ],
                          [
                            1,
                            "#f0f921"
                          ]
                        ],
                        "type": "surface"
                      }
                    ],
                    "table": [
                      {
                        "cells": {
                          "fill": {
                            "color": "#EBF0F8"
                          },
                          "line": {
                            "color": "white"
                          }
                        },
                        "header": {
                          "fill": {
                            "color": "#C8D4E3"
                          },
                          "line": {
                            "color": "white"
                          }
                        },
                        "type": "table"
                      }
                    ]
                  },
                  "layout": {
                    "annotationdefaults": {
                      "arrowcolor": "#2a3f5f",
                      "arrowhead": 0,
                      "arrowwidth": 1
                    },
                    "autotypenumbers": "strict",
                    "coloraxis": {
                      "colorbar": {
                        "outlinewidth": 0,
                        "ticks": ""
                      }
                    },
                    "colorscale": {
                      "diverging": [
                        [
                          0,
                          "#8e0152"
                        ],
                        [
                          0.1,
                          "#c51b7d"
                        ],
                        [
                          0.2,
                          "#de77ae"
                        ],
                        [
                          0.3,
                          "#f1b6da"
                        ],
                        [
                          0.4,
                          "#fde0ef"
                        ],
                        [
                          0.5,
                          "#f7f7f7"
                        ],
                        [
                          0.6,
                          "#e6f5d0"
                        ],
                        [
                          0.7,
                          "#b8e186"
                        ],
                        [
                          0.8,
                          "#7fbc41"
                        ],
                        [
                          0.9,
                          "#4d9221"
                        ],
                        [
                          1,
                          "#276419"
                        ]
                      ],
                      "sequential": [
                        [
                          0,
                          "#0d0887"
                        ],
                        [
                          0.1111111111111111,
                          "#46039f"
                        ],
                        [
                          0.2222222222222222,
                          "#7201a8"
                        ],
                        [
                          0.3333333333333333,
                          "#9c179e"
                        ],
                        [
                          0.4444444444444444,
                          "#bd3786"
                        ],
                        [
                          0.5555555555555556,
                          "#d8576b"
                        ],
                        [
                          0.6666666666666666,
                          "#ed7953"
                        ],
                        [
                          0.7777777777777778,
                          "#fb9f3a"
                        ],
                        [
                          0.8888888888888888,
                          "#fdca26"
                        ],
                        [
                          1,
                          "#f0f921"
                        ]
                      ],
                      "sequentialminus": [
                        [
                          0,
                          "#0d0887"
                        ],
                        [
                          0.1111111111111111,
                          "#46039f"
                        ],
                        [
                          0.2222222222222222,
                          "#7201a8"
                        ],
                        [
                          0.3333333333333333,
                          "#9c179e"
                        ],
                        [
                          0.4444444444444444,
                          "#bd3786"
                        ],
                        [
                          0.5555555555555556,
                          "#d8576b"
                        ],
                        [
                          0.6666666666666666,
                          "#ed7953"
                        ],
                        [
                          0.7777777777777778,
                          "#fb9f3a"
                        ],
                        [
                          0.8888888888888888,
                          "#fdca26"
                        ],
                        [
                          1,
                          "#f0f921"
                        ]
                      ]
                    },
                    "colorway": [
                      "#636efa",
                      "#EF553B",
                      "#00cc96",
                      "#ab63fa",
                      "#FFA15A",
                      "#19d3f3",
                      "#FF6692",
                      "#B6E880",
                      "#FF97FF",
                      "#FECB52"
                    ],
                    "font": {
                      "color": "#2a3f5f"
                    },
                    "geo": {
                      "bgcolor": "white",
                      "lakecolor": "white",
                      "landcolor": "#E5ECF6",
                      "showlakes": true,
                      "showland": true,
                      "subunitcolor": "white"
                    },
                    "hoverlabel": {
                      "align": "left"
                    },
                    "hovermode": "closest",
                    "mapbox": {
                      "style": "light"
                    },
                    "paper_bgcolor": "white",
                    "plot_bgcolor": "#E5ECF6",
                    "polar": {
                      "angularaxis": {
                        "gridcolor": "white",
                        "linecolor": "white",
                        "ticks": ""
                      },
                      "bgcolor": "#E5ECF6",
                      "radialaxis": {
                        "gridcolor": "white",
                        "linecolor": "white",
                        "ticks": ""
                      }
                    },
                    "scene": {
                      "xaxis": {
                        "backgroundcolor": "#E5ECF6",
                        "gridcolor": "white",
                        "gridwidth": 2,
                        "linecolor": "white",
                        "showbackground": true,
                        "ticks": "",
                        "zerolinecolor": "white"
                      },
                      "yaxis": {
                        "backgroundcolor": "#E5ECF6",
                        "gridcolor": "white",
                        "gridwidth": 2,
                        "linecolor": "white",
                        "showbackground": true,
                        "ticks": "",
                        "zerolinecolor": "white"
                      },
                      "zaxis": {
                        "backgroundcolor": "#E5ECF6",
                        "gridcolor": "white",
                        "gridwidth": 2,
                        "linecolor": "white",
                        "showbackground": true,
                        "ticks": "",
                        "zerolinecolor": "white"
                      }
                    },
                    "shapedefaults": {
                      "line": {
                        "color": "#2a3f5f"
                      }
                    },
                    "ternary": {
                      "aaxis": {
                        "gridcolor": "white",
                        "linecolor": "white",
                        "ticks": ""
                      },
                      "baxis": {
                        "gridcolor": "white",
                        "linecolor": "white",
                        "ticks": ""
                      },
                      "bgcolor": "#E5ECF6",
                      "caxis": {
                        "gridcolor": "white",
                        "linecolor": "white",
                        "ticks": ""
                      }
                    },
                    "title": {
                      "x": 0.05
                    },
                    "xaxis": {
                      "automargin": true,
                      "gridcolor": "white",
                      "linecolor": "white",
                      "ticks": "",
                      "title": {
                        "standoff": 15
                      },
                      "zerolinecolor": "white",
                      "zerolinewidth": 2
                    },
                    "yaxis": {
                      "automargin": true,
                      "gridcolor": "white",
                      "linecolor": "white",
                      "ticks": "",
                      "title": {
                        "standoff": 15
                      },
                      "zerolinecolor": "white",
                      "zerolinewidth": 2
                    }
                  }
                },
                "title": {
                  "text": "Parallel Coordinate Plot"
                }
              }
            }
          },
          "metadata": {},
          "output_type": "display_data"
        }
      ],
      "source": [
        "# Parte 2\n",
        "fig = vis.plot_parallel_coordinate(study)\n",
        "fig.show()"
      ]
    },
    {
      "cell_type": "code",
      "execution_count": 21,
      "metadata": {},
      "outputs": [
        {
          "data": {
            "application/vnd.plotly.v1+json": {
              "config": {
                "plotlyServerURL": "https://plot.ly"
              },
              "data": [
                {
                  "cliponaxis": false,
                  "hovertemplate": [
                    "min_child_weight (IntDistribution): 0.00038655677291273943<extra></extra>",
                    "max_depth (IntDistribution): 0.0005532915434308441<extra></extra>",
                    "reg_alpha (FloatDistribution): 0.004873410084805539<extra></extra>",
                    "learning_rate (FloatDistribution): 0.006847901100301003<extra></extra>",
                    "n_estimators (IntDistribution): 0.010987644753005907<extra></extra>",
                    "max_leaves (IntDistribution): 0.030311838415489335<extra></extra>",
                    "reg_lambda (FloatDistribution): 0.04414227724058036<extra></extra>",
                    "min_frequency (FloatDistribution): 0.9018970800894742<extra></extra>"
                  ],
                  "name": "Objective Value",
                  "orientation": "h",
                  "text": [
                    "<0.01",
                    "<0.01",
                    "<0.01",
                    "<0.01",
                    "0.01",
                    "0.03",
                    "0.04",
                    "0.90"
                  ],
                  "textposition": "outside",
                  "type": "bar",
                  "x": [
                    0.00038655677291273943,
                    0.0005532915434308441,
                    0.004873410084805539,
                    0.006847901100301003,
                    0.010987644753005907,
                    0.030311838415489335,
                    0.04414227724058036,
                    0.9018970800894742
                  ],
                  "y": [
                    "min_child_weight",
                    "max_depth",
                    "reg_alpha",
                    "learning_rate",
                    "n_estimators",
                    "max_leaves",
                    "reg_lambda",
                    "min_frequency"
                  ]
                }
              ],
              "layout": {
                "template": {
                  "data": {
                    "bar": [
                      {
                        "error_x": {
                          "color": "#2a3f5f"
                        },
                        "error_y": {
                          "color": "#2a3f5f"
                        },
                        "marker": {
                          "line": {
                            "color": "#E5ECF6",
                            "width": 0.5
                          },
                          "pattern": {
                            "fillmode": "overlay",
                            "size": 10,
                            "solidity": 0.2
                          }
                        },
                        "type": "bar"
                      }
                    ],
                    "barpolar": [
                      {
                        "marker": {
                          "line": {
                            "color": "#E5ECF6",
                            "width": 0.5
                          },
                          "pattern": {
                            "fillmode": "overlay",
                            "size": 10,
                            "solidity": 0.2
                          }
                        },
                        "type": "barpolar"
                      }
                    ],
                    "carpet": [
                      {
                        "aaxis": {
                          "endlinecolor": "#2a3f5f",
                          "gridcolor": "white",
                          "linecolor": "white",
                          "minorgridcolor": "white",
                          "startlinecolor": "#2a3f5f"
                        },
                        "baxis": {
                          "endlinecolor": "#2a3f5f",
                          "gridcolor": "white",
                          "linecolor": "white",
                          "minorgridcolor": "white",
                          "startlinecolor": "#2a3f5f"
                        },
                        "type": "carpet"
                      }
                    ],
                    "choropleth": [
                      {
                        "colorbar": {
                          "outlinewidth": 0,
                          "ticks": ""
                        },
                        "type": "choropleth"
                      }
                    ],
                    "contour": [
                      {
                        "colorbar": {
                          "outlinewidth": 0,
                          "ticks": ""
                        },
                        "colorscale": [
                          [
                            0,
                            "#0d0887"
                          ],
                          [
                            0.1111111111111111,
                            "#46039f"
                          ],
                          [
                            0.2222222222222222,
                            "#7201a8"
                          ],
                          [
                            0.3333333333333333,
                            "#9c179e"
                          ],
                          [
                            0.4444444444444444,
                            "#bd3786"
                          ],
                          [
                            0.5555555555555556,
                            "#d8576b"
                          ],
                          [
                            0.6666666666666666,
                            "#ed7953"
                          ],
                          [
                            0.7777777777777778,
                            "#fb9f3a"
                          ],
                          [
                            0.8888888888888888,
                            "#fdca26"
                          ],
                          [
                            1,
                            "#f0f921"
                          ]
                        ],
                        "type": "contour"
                      }
                    ],
                    "contourcarpet": [
                      {
                        "colorbar": {
                          "outlinewidth": 0,
                          "ticks": ""
                        },
                        "type": "contourcarpet"
                      }
                    ],
                    "heatmap": [
                      {
                        "colorbar": {
                          "outlinewidth": 0,
                          "ticks": ""
                        },
                        "colorscale": [
                          [
                            0,
                            "#0d0887"
                          ],
                          [
                            0.1111111111111111,
                            "#46039f"
                          ],
                          [
                            0.2222222222222222,
                            "#7201a8"
                          ],
                          [
                            0.3333333333333333,
                            "#9c179e"
                          ],
                          [
                            0.4444444444444444,
                            "#bd3786"
                          ],
                          [
                            0.5555555555555556,
                            "#d8576b"
                          ],
                          [
                            0.6666666666666666,
                            "#ed7953"
                          ],
                          [
                            0.7777777777777778,
                            "#fb9f3a"
                          ],
                          [
                            0.8888888888888888,
                            "#fdca26"
                          ],
                          [
                            1,
                            "#f0f921"
                          ]
                        ],
                        "type": "heatmap"
                      }
                    ],
                    "heatmapgl": [
                      {
                        "colorbar": {
                          "outlinewidth": 0,
                          "ticks": ""
                        },
                        "colorscale": [
                          [
                            0,
                            "#0d0887"
                          ],
                          [
                            0.1111111111111111,
                            "#46039f"
                          ],
                          [
                            0.2222222222222222,
                            "#7201a8"
                          ],
                          [
                            0.3333333333333333,
                            "#9c179e"
                          ],
                          [
                            0.4444444444444444,
                            "#bd3786"
                          ],
                          [
                            0.5555555555555556,
                            "#d8576b"
                          ],
                          [
                            0.6666666666666666,
                            "#ed7953"
                          ],
                          [
                            0.7777777777777778,
                            "#fb9f3a"
                          ],
                          [
                            0.8888888888888888,
                            "#fdca26"
                          ],
                          [
                            1,
                            "#f0f921"
                          ]
                        ],
                        "type": "heatmapgl"
                      }
                    ],
                    "histogram": [
                      {
                        "marker": {
                          "pattern": {
                            "fillmode": "overlay",
                            "size": 10,
                            "solidity": 0.2
                          }
                        },
                        "type": "histogram"
                      }
                    ],
                    "histogram2d": [
                      {
                        "colorbar": {
                          "outlinewidth": 0,
                          "ticks": ""
                        },
                        "colorscale": [
                          [
                            0,
                            "#0d0887"
                          ],
                          [
                            0.1111111111111111,
                            "#46039f"
                          ],
                          [
                            0.2222222222222222,
                            "#7201a8"
                          ],
                          [
                            0.3333333333333333,
                            "#9c179e"
                          ],
                          [
                            0.4444444444444444,
                            "#bd3786"
                          ],
                          [
                            0.5555555555555556,
                            "#d8576b"
                          ],
                          [
                            0.6666666666666666,
                            "#ed7953"
                          ],
                          [
                            0.7777777777777778,
                            "#fb9f3a"
                          ],
                          [
                            0.8888888888888888,
                            "#fdca26"
                          ],
                          [
                            1,
                            "#f0f921"
                          ]
                        ],
                        "type": "histogram2d"
                      }
                    ],
                    "histogram2dcontour": [
                      {
                        "colorbar": {
                          "outlinewidth": 0,
                          "ticks": ""
                        },
                        "colorscale": [
                          [
                            0,
                            "#0d0887"
                          ],
                          [
                            0.1111111111111111,
                            "#46039f"
                          ],
                          [
                            0.2222222222222222,
                            "#7201a8"
                          ],
                          [
                            0.3333333333333333,
                            "#9c179e"
                          ],
                          [
                            0.4444444444444444,
                            "#bd3786"
                          ],
                          [
                            0.5555555555555556,
                            "#d8576b"
                          ],
                          [
                            0.6666666666666666,
                            "#ed7953"
                          ],
                          [
                            0.7777777777777778,
                            "#fb9f3a"
                          ],
                          [
                            0.8888888888888888,
                            "#fdca26"
                          ],
                          [
                            1,
                            "#f0f921"
                          ]
                        ],
                        "type": "histogram2dcontour"
                      }
                    ],
                    "mesh3d": [
                      {
                        "colorbar": {
                          "outlinewidth": 0,
                          "ticks": ""
                        },
                        "type": "mesh3d"
                      }
                    ],
                    "parcoords": [
                      {
                        "line": {
                          "colorbar": {
                            "outlinewidth": 0,
                            "ticks": ""
                          }
                        },
                        "type": "parcoords"
                      }
                    ],
                    "pie": [
                      {
                        "automargin": true,
                        "type": "pie"
                      }
                    ],
                    "scatter": [
                      {
                        "fillpattern": {
                          "fillmode": "overlay",
                          "size": 10,
                          "solidity": 0.2
                        },
                        "type": "scatter"
                      }
                    ],
                    "scatter3d": [
                      {
                        "line": {
                          "colorbar": {
                            "outlinewidth": 0,
                            "ticks": ""
                          }
                        },
                        "marker": {
                          "colorbar": {
                            "outlinewidth": 0,
                            "ticks": ""
                          }
                        },
                        "type": "scatter3d"
                      }
                    ],
                    "scattercarpet": [
                      {
                        "marker": {
                          "colorbar": {
                            "outlinewidth": 0,
                            "ticks": ""
                          }
                        },
                        "type": "scattercarpet"
                      }
                    ],
                    "scattergeo": [
                      {
                        "marker": {
                          "colorbar": {
                            "outlinewidth": 0,
                            "ticks": ""
                          }
                        },
                        "type": "scattergeo"
                      }
                    ],
                    "scattergl": [
                      {
                        "marker": {
                          "colorbar": {
                            "outlinewidth": 0,
                            "ticks": ""
                          }
                        },
                        "type": "scattergl"
                      }
                    ],
                    "scattermapbox": [
                      {
                        "marker": {
                          "colorbar": {
                            "outlinewidth": 0,
                            "ticks": ""
                          }
                        },
                        "type": "scattermapbox"
                      }
                    ],
                    "scatterpolar": [
                      {
                        "marker": {
                          "colorbar": {
                            "outlinewidth": 0,
                            "ticks": ""
                          }
                        },
                        "type": "scatterpolar"
                      }
                    ],
                    "scatterpolargl": [
                      {
                        "marker": {
                          "colorbar": {
                            "outlinewidth": 0,
                            "ticks": ""
                          }
                        },
                        "type": "scatterpolargl"
                      }
                    ],
                    "scatterternary": [
                      {
                        "marker": {
                          "colorbar": {
                            "outlinewidth": 0,
                            "ticks": ""
                          }
                        },
                        "type": "scatterternary"
                      }
                    ],
                    "surface": [
                      {
                        "colorbar": {
                          "outlinewidth": 0,
                          "ticks": ""
                        },
                        "colorscale": [
                          [
                            0,
                            "#0d0887"
                          ],
                          [
                            0.1111111111111111,
                            "#46039f"
                          ],
                          [
                            0.2222222222222222,
                            "#7201a8"
                          ],
                          [
                            0.3333333333333333,
                            "#9c179e"
                          ],
                          [
                            0.4444444444444444,
                            "#bd3786"
                          ],
                          [
                            0.5555555555555556,
                            "#d8576b"
                          ],
                          [
                            0.6666666666666666,
                            "#ed7953"
                          ],
                          [
                            0.7777777777777778,
                            "#fb9f3a"
                          ],
                          [
                            0.8888888888888888,
                            "#fdca26"
                          ],
                          [
                            1,
                            "#f0f921"
                          ]
                        ],
                        "type": "surface"
                      }
                    ],
                    "table": [
                      {
                        "cells": {
                          "fill": {
                            "color": "#EBF0F8"
                          },
                          "line": {
                            "color": "white"
                          }
                        },
                        "header": {
                          "fill": {
                            "color": "#C8D4E3"
                          },
                          "line": {
                            "color": "white"
                          }
                        },
                        "type": "table"
                      }
                    ]
                  },
                  "layout": {
                    "annotationdefaults": {
                      "arrowcolor": "#2a3f5f",
                      "arrowhead": 0,
                      "arrowwidth": 1
                    },
                    "autotypenumbers": "strict",
                    "coloraxis": {
                      "colorbar": {
                        "outlinewidth": 0,
                        "ticks": ""
                      }
                    },
                    "colorscale": {
                      "diverging": [
                        [
                          0,
                          "#8e0152"
                        ],
                        [
                          0.1,
                          "#c51b7d"
                        ],
                        [
                          0.2,
                          "#de77ae"
                        ],
                        [
                          0.3,
                          "#f1b6da"
                        ],
                        [
                          0.4,
                          "#fde0ef"
                        ],
                        [
                          0.5,
                          "#f7f7f7"
                        ],
                        [
                          0.6,
                          "#e6f5d0"
                        ],
                        [
                          0.7,
                          "#b8e186"
                        ],
                        [
                          0.8,
                          "#7fbc41"
                        ],
                        [
                          0.9,
                          "#4d9221"
                        ],
                        [
                          1,
                          "#276419"
                        ]
                      ],
                      "sequential": [
                        [
                          0,
                          "#0d0887"
                        ],
                        [
                          0.1111111111111111,
                          "#46039f"
                        ],
                        [
                          0.2222222222222222,
                          "#7201a8"
                        ],
                        [
                          0.3333333333333333,
                          "#9c179e"
                        ],
                        [
                          0.4444444444444444,
                          "#bd3786"
                        ],
                        [
                          0.5555555555555556,
                          "#d8576b"
                        ],
                        [
                          0.6666666666666666,
                          "#ed7953"
                        ],
                        [
                          0.7777777777777778,
                          "#fb9f3a"
                        ],
                        [
                          0.8888888888888888,
                          "#fdca26"
                        ],
                        [
                          1,
                          "#f0f921"
                        ]
                      ],
                      "sequentialminus": [
                        [
                          0,
                          "#0d0887"
                        ],
                        [
                          0.1111111111111111,
                          "#46039f"
                        ],
                        [
                          0.2222222222222222,
                          "#7201a8"
                        ],
                        [
                          0.3333333333333333,
                          "#9c179e"
                        ],
                        [
                          0.4444444444444444,
                          "#bd3786"
                        ],
                        [
                          0.5555555555555556,
                          "#d8576b"
                        ],
                        [
                          0.6666666666666666,
                          "#ed7953"
                        ],
                        [
                          0.7777777777777778,
                          "#fb9f3a"
                        ],
                        [
                          0.8888888888888888,
                          "#fdca26"
                        ],
                        [
                          1,
                          "#f0f921"
                        ]
                      ]
                    },
                    "colorway": [
                      "#636efa",
                      "#EF553B",
                      "#00cc96",
                      "#ab63fa",
                      "#FFA15A",
                      "#19d3f3",
                      "#FF6692",
                      "#B6E880",
                      "#FF97FF",
                      "#FECB52"
                    ],
                    "font": {
                      "color": "#2a3f5f"
                    },
                    "geo": {
                      "bgcolor": "white",
                      "lakecolor": "white",
                      "landcolor": "#E5ECF6",
                      "showlakes": true,
                      "showland": true,
                      "subunitcolor": "white"
                    },
                    "hoverlabel": {
                      "align": "left"
                    },
                    "hovermode": "closest",
                    "mapbox": {
                      "style": "light"
                    },
                    "paper_bgcolor": "white",
                    "plot_bgcolor": "#E5ECF6",
                    "polar": {
                      "angularaxis": {
                        "gridcolor": "white",
                        "linecolor": "white",
                        "ticks": ""
                      },
                      "bgcolor": "#E5ECF6",
                      "radialaxis": {
                        "gridcolor": "white",
                        "linecolor": "white",
                        "ticks": ""
                      }
                    },
                    "scene": {
                      "xaxis": {
                        "backgroundcolor": "#E5ECF6",
                        "gridcolor": "white",
                        "gridwidth": 2,
                        "linecolor": "white",
                        "showbackground": true,
                        "ticks": "",
                        "zerolinecolor": "white"
                      },
                      "yaxis": {
                        "backgroundcolor": "#E5ECF6",
                        "gridcolor": "white",
                        "gridwidth": 2,
                        "linecolor": "white",
                        "showbackground": true,
                        "ticks": "",
                        "zerolinecolor": "white"
                      },
                      "zaxis": {
                        "backgroundcolor": "#E5ECF6",
                        "gridcolor": "white",
                        "gridwidth": 2,
                        "linecolor": "white",
                        "showbackground": true,
                        "ticks": "",
                        "zerolinecolor": "white"
                      }
                    },
                    "shapedefaults": {
                      "line": {
                        "color": "#2a3f5f"
                      }
                    },
                    "ternary": {
                      "aaxis": {
                        "gridcolor": "white",
                        "linecolor": "white",
                        "ticks": ""
                      },
                      "baxis": {
                        "gridcolor": "white",
                        "linecolor": "white",
                        "ticks": ""
                      },
                      "bgcolor": "#E5ECF6",
                      "caxis": {
                        "gridcolor": "white",
                        "linecolor": "white",
                        "ticks": ""
                      }
                    },
                    "title": {
                      "x": 0.05
                    },
                    "xaxis": {
                      "automargin": true,
                      "gridcolor": "white",
                      "linecolor": "white",
                      "ticks": "",
                      "title": {
                        "standoff": 15
                      },
                      "zerolinecolor": "white",
                      "zerolinewidth": 2
                    },
                    "yaxis": {
                      "automargin": true,
                      "gridcolor": "white",
                      "linecolor": "white",
                      "ticks": "",
                      "title": {
                        "standoff": 15
                      },
                      "zerolinecolor": "white",
                      "zerolinewidth": 2
                    }
                  }
                },
                "title": {
                  "text": "Hyperparameter Importances"
                },
                "xaxis": {
                  "title": {
                    "text": "Hyperparameter Importance"
                  }
                },
                "yaxis": {
                  "title": {
                    "text": "Hyperparameter"
                  }
                }
              }
            }
          },
          "metadata": {},
          "output_type": "display_data"
        }
      ],
      "source": [
        "# Parte 3\n",
        "fig = vis.plot_param_importances(study)\n",
        "fig.show()"
      ]
    },
    {
      "cell_type": "markdown",
      "metadata": {},
      "source": [
        "4. Desde el trial 68 se empiezan a notar una mejora considerable, ya que el MAE se reduce a la magnitud de 2000 de manera estable. Se puede observar también que en la iteración 6 se logra llegar a ese nivel de MAE, pero esa reducción no se mantiene constante.\n",
        "5. Para obtener mejores resultados, se observa que los valores bajos de min_frequency (cercanos a 0.1 o menores) están relacionados con menores errores, lo que sugiere que mantener más categorías en las variables categóricas puede ser beneficioso. El max_depth entre 6 y 8 y max_leaves superiores a 60 muestran buenas tendencias en términos de minimizar el MAE. Un min_child_weight cercano a 1 también parece mejorar los resultados.\n",
        "6. Claramente, el hiperparámetro más importante en la optimización del modelo es min_frequency, siendo incluso diez veces más relevante que el segundo que es reg_lambda."
      ]
    },
    {
      "cell_type": "markdown",
      "metadata": {
        "cell_id": "ac8a20f445d045a3becf1a518d410a7d",
        "deepnote_cell_type": "markdown",
        "id": "EoW32TA9I5wA"
      },
      "source": [
        "## 6. Síntesis de resultados (3 puntos)\n",
        "\n",
        "Finalmente:\n",
        "\n",
        "1. Genere una tabla resumen del MAE en el conjunto de validación obtenido en los 5 modelos entrenados desde Baseline hasta XGBoost con Constraints, Optuna y Prunning. [1 punto]\n",
        "2. Compare los resultados de la tabla y responda, ¿qué modelo obtiene el mejor rendimiento? [0.5 puntos]\n",
        "3. Cargue el mejor modelo, prediga sobre el conjunto de **test** y reporte su MAE. [0.5 puntos]\n",
        "4. ¿Existen diferencias con respecto a las métricas obtenidas en el conjunto de validación? ¿Porqué puede ocurrir esto? [1 punto]"
      ]
    },
    {
      "cell_type": "code",
      "execution_count": 23,
      "metadata": {
        "id": "jq5C6cDnJg9h"
      },
      "outputs": [
        {
          "data": {
            "text/html": [
              "<div>\n",
              "<style scoped>\n",
              "    .dataframe tbody tr th:only-of-type {\n",
              "        vertical-align: middle;\n",
              "    }\n",
              "\n",
              "    .dataframe tbody tr th {\n",
              "        vertical-align: top;\n",
              "    }\n",
              "\n",
              "    .dataframe thead th {\n",
              "        text-align: right;\n",
              "    }\n",
              "</style>\n",
              "<table border=\"1\" class=\"dataframe\">\n",
              "  <thead>\n",
              "    <tr style=\"text-align: right;\">\n",
              "      <th></th>\n",
              "      <th>Modelo</th>\n",
              "      <th>MAE Validación</th>\n",
              "    </tr>\n",
              "  </thead>\n",
              "  <tbody>\n",
              "    <tr>\n",
              "      <th>0</th>\n",
              "      <td>Baseline (Dummy Regressor)</td>\n",
              "      <td>13054.420648</td>\n",
              "    </tr>\n",
              "    <tr>\n",
              "      <th>1</th>\n",
              "      <td>XGBoost Básico</td>\n",
              "      <td>2600.466127</td>\n",
              "    </tr>\n",
              "    <tr>\n",
              "      <th>2</th>\n",
              "      <td>XGBoost con Monotonicidad</td>\n",
              "      <td>2542.166939</td>\n",
              "    </tr>\n",
              "    <tr>\n",
              "      <th>3</th>\n",
              "      <td>XGBoost con Optuna</td>\n",
              "      <td>2019.469615</td>\n",
              "    </tr>\n",
              "    <tr>\n",
              "      <th>4</th>\n",
              "      <td>XGBoost con Optuna y Pruning</td>\n",
              "      <td>1992.740915</td>\n",
              "    </tr>\n",
              "  </tbody>\n",
              "</table>\n",
              "</div>"
            ],
            "text/plain": [
              "                         Modelo  MAE Validación\n",
              "0    Baseline (Dummy Regressor)    13054.420648\n",
              "1                XGBoost Básico     2600.466127\n",
              "2     XGBoost con Monotonicidad     2542.166939\n",
              "3            XGBoost con Optuna     2019.469615\n",
              "4  XGBoost con Optuna y Pruning     1992.740915"
            ]
          },
          "execution_count": 23,
          "metadata": {},
          "output_type": "execute_result"
        }
      ],
      "source": [
        "# Parte 1\n",
        "mae_data = {\n",
        "    'Modelo': [\n",
        "        'Baseline (Dummy Regressor)',\n",
        "        'XGBoost Básico',\n",
        "        'XGBoost con Monotonicidad',\n",
        "        'XGBoost con Optuna',\n",
        "        'XGBoost con Optuna y Pruning'\n",
        "    ],\n",
        "    'MAE Validación': [\n",
        "        13054.420647921506,  \n",
        "        2600.4661273303886,  \n",
        "        2542.1669387254515,\n",
        "        2019.4696150536029,\n",
        "        1992.740914890384]\n",
        "}\n",
        "\n",
        "# Crear el DataFrame con los datos simulados\n",
        "mae_summary_df = pd.DataFrame(mae_data)\n",
        "\n",
        "# Mostrar la tabla resumen del MAE\n",
        "mae_summary_df"
      ]
    },
    {
      "cell_type": "markdown",
      "metadata": {},
      "source": [
        "2. El modelo con el mejor rendimiento es XGBoost con Optuna y Pruning, ya que obtuvo el menor valor de MAE (1992.74) en la validación. Esto indica que la combinación de optimización de hiperparámetros mediante Optuna y el uso de pruning para detener de manera temprana los entrenamientos no prometedores permitió ajustar mejor los parámetros del modelo, obteniendo predicciones más precisas comparadas con las otras versiones del modelo."
      ]
    },
    {
      "cell_type": "code",
      "execution_count": 29,
      "metadata": {},
      "outputs": [
        {
          "name": "stdout",
          "output_type": "stream",
          "text": [
            "MAE en el conjunto de prueba: 2048.7658154689593\n"
          ]
        }
      ],
      "source": [
        "# Crear el DMatrix para XGBoost (API nativa) para los datos de prueba\n",
        "X_test_with_date_features = extract_date_features(X_test)\n",
        "X_test_preprocessed = preprocessor.transform(X_test_with_date_features)\n",
        "dtest = xgb.DMatrix(X_test_preprocessed)\n",
        "\n",
        "# Hacer predicciones en el conjunto de prueba utilizando el mejor modelo entrenado\n",
        "y_pred_test = best_model.predict(dtest)\n",
        "\n",
        "# Si deseas calcular el error en el conjunto de prueba, asumiendo que tienes los valores reales (y_test)\n",
        "mae_test = mean_absolute_error(y_test, y_pred_test)\n",
        "print(f\"MAE en el conjunto de prueba: {mae_test}\")"
      ]
    },
    {
      "cell_type": "markdown",
      "metadata": {},
      "source": [
        "La métrica en el conjunto de prueba (2048.7658154689593) es mayor que en el conjunto de validación (1992.740914890384) porque, con la optimización realizada, el modelo se ajustó más específicamente a los datos de validación. Sin embargo, sigue mostrando una buena capacidad de generalización, ya que las divisiones de datos fueron aleatorias y, en principio, los datos siguen la misma distribución original."
      ]
    },
    {
      "cell_type": "markdown",
      "metadata": {
        "cell_id": "5c4654d12037494fbd385b4dc6bd1059",
        "deepnote_cell_type": "markdown",
        "id": "E_19tgBEI5wA"
      },
      "source": [
        "# Conclusión\n",
        "Eso ha sido todo para el lab de hoy, recuerden que el laboratorio tiene un plazo de entrega de una semana. Cualquier duda del laboratorio, no duden en contactarnos por mail o U-cursos.\n",
        "\n",
        "<p align=\"center\">\n",
        "  <img src=\"https://media.tenor.com/8CT1AXElF_cAAAAC/gojo-satoru.gif\">\n",
        "</p>"
      ]
    },
    {
      "cell_type": "markdown",
      "metadata": {
        "created_in_deepnote_cell": true,
        "deepnote_cell_type": "markdown",
        "id": "rAp9UxwiI5wA"
      },
      "source": [
        "<a style='text-decoration:none;line-height:16px;display:flex;color:#5B5B62;padding:10px;justify-content:end;' href='https://deepnote.com?utm_source=created-in-deepnote-cell&projectId=87110296-876e-426f-b91d-aaf681223468' target=\"_blank\">\n",
        "<img alt='Created in deepnote.com' style='display:inline;max-height:16px;margin:0px;margin-right:7.5px;' src='data:image/svg+xml;base64,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' > </img>\n",
        "Created in <span style='font-weight:600;margin-left:4px;'>Deepnote</span></a>"
      ]
    }
  ],
  "metadata": {
    "colab": {
      "provenance": []
    },
    "deepnote": {},
    "deepnote_execution_queue": [],
    "deepnote_notebook_id": "f63d38450a6b464c9bb6385cf11db4d9",
    "deepnote_persisted_session": {
      "createdAt": "2023-11-09T16:18:30.203Z"
    },
    "kernelspec": {
      "display_name": "base",
      "language": "python",
      "name": "python3"
    },
    "language_info": {
      "codemirror_mode": {
        "name": "ipython",
        "version": 3
      },
      "file_extension": ".py",
      "mimetype": "text/x-python",
      "name": "python",
      "nbconvert_exporter": "python",
      "pygments_lexer": "ipython3",
      "version": "3.9.17"
    }
  },
  "nbformat": 4,
  "nbformat_minor": 0
}
