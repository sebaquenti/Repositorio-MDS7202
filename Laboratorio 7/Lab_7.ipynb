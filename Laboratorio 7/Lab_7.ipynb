{
  "cells": [
    {
      "cell_type": "markdown",
      "metadata": {
        "id": "_Tgm8mCA9Dp3"
      },
      "source": [
        "# Laboratorio 7: Clasificación 🤗\n",
        "\n",
        "<center><strong>MDS7202: Laboratorio de Programación Científica para Ciencia de Datos - Primavera 2024</strong></center>\n"
      ]
    },
    {
      "cell_type": "markdown",
      "metadata": {
        "id": "11Kc_ibM9GXH"
      },
      "source": [
        "### Cuerpo Docente:\n",
        "\n",
        "- Profesores: Ignacio Meza, Sebastián Tinoco\n",
        "- Auxiliar: Eduardo Moya\n",
        "- Ayudantes: Nicolás Ojeda, Melanie Peña, Valentina Rojas"
      ]
    },
    {
      "cell_type": "markdown",
      "metadata": {
        "id": "u9dUSltr9JrN"
      },
      "source": [
        "### Equipo: SUPER IMPORTANTE - notebooks sin nombre no serán revisados\n",
        "\n",
        "- Nombre de alumno 1: Cristian Oyarzo M.\n",
        "- Nombre de alumno 2: Sebastián Quenti A."
      ]
    },
    {
      "cell_type": "markdown",
      "metadata": {},
      "source": [
        "### **Link de repositorio de GitHub:** [Repositorio](https://github.com/sebaquenti/Repositorio-MDS7202)"
      ]
    },
    {
      "cell_type": "markdown",
      "metadata": {
        "id": "YBa48PDF9OHw"
      },
      "source": [
        "### Temas a tratar\n",
        "- Clasificación en problemas desbalanceados\n",
        "- Lightgbm y xgboost\n",
        "- Pipelines"
      ]
    },
    {
      "cell_type": "markdown",
      "metadata": {
        "id": "mkhnnMx49Qrh"
      },
      "source": [
        "### Reglas:\n",
        "\n",
        "- **Grupos de 2 personas**\n",
        "- Cualquier duda fuera del horario de clases al foro. Mensajes al equipo docente serán respondidos por este medio.\n",
        "- Prohibidas las copias.\n",
        "- Pueden usar cualquer matrial del curso que estimen conveniente.\n",
        "- Código que no se pueda ejecutar, no será revisado."
      ]
    },
    {
      "cell_type": "markdown",
      "metadata": {
        "id": "sxzJ48Vv8quO"
      },
      "source": [
        "\n",
        "\n",
        "### Objetivos principales del laboratorio\n",
        "- Comprender cómo trabajar con problemas de clasificación con clases desbalanceadas.\n",
        "- Aplicar los modelos lightgbm y xgboost.\n",
        "- Practicar Pipelines"
      ]
    },
    {
      "cell_type": "markdown",
      "metadata": {
        "id": "k-ao0mOU64Ru"
      },
      "source": [
        "# Parte Teórica [12 puntos]\n",
        "\n",
        "\n"
      ]
    },
    {
      "cell_type": "markdown",
      "metadata": {
        "id": "ApXKwPDmxcEV"
      },
      "source": [
        "1. Explique cuál es la diferencia entre los datos de entrenamiento y validación. [1 punto]\n",
        "\n",
        "2. Explique cuál es el principal desafío al trabajar problemas de clasificación con data no supervisada. [1 punto]\n",
        "\n",
        "3. Explique en **sus palabras** qué es la matriz de confusión y para qué se utiliza. [1 puntos]\n",
        "\n",
        "4. Escriba la fórmula de las siguientes métricas y explique con **sus palabras** cómo se interpretan. [1 punto cada uno]\n",
        "\n",
        "  * Accuracy\n",
        "  * Precision\n",
        "  * Recall\n",
        "  * F1 score\n",
        "\n",
        "5. Explique qué métrica recomendaría para los siguientes contextos de clasificación. [1 punto cada uno]\n",
        "\n",
        "  * Mantenimiento predictivo de fallas de maquinaria pesada en la industria minera.  \n",
        "  * Detección de enfermedades altamente contagiosas.\n",
        "  * Aprobación de créditos de alto riesgo.\n",
        "  * Detección de crímenes.\n",
        "\n",
        "6. Explique qué es la calibración de modelos y para qué se usa. [1 punto]\n"
      ]
    },
    {
      "cell_type": "markdown",
      "metadata": {
        "id": "Yy4QMWD8-FPk"
      },
      "source": [
        "**Respuesta:**"
      ]
    },
    {
      "cell_type": "markdown",
      "metadata": {
        "id": "QYFdD1aK-ICa"
      },
      "source": [
        "1. Los datos de entrenamiento se utilizan para ajustar el modelo, permitiéndole aprender patrones en los datos. Sin embargo, al entrenar únicamente con este conjunto, el modelo puede sobreajustarse, es decir, ajustarse demasiado a los datos específicos de entrenamiento.\n",
        "\n",
        "    Por otro lado, los datos de validación se usan para evaluar el rendimiento del modelo en datos nuevos, lo que permite medir su capacidad de generalización y detectar sobreajuste antes de probarlo en un conjunto de prueba final.\n",
        "\n",
        "2. El principal desafío al trabajar con problemas de clasificación en datos no supervisados es la falta de etiquetas que guíen el modelo para identificar patrones específicos.\n",
        "\n",
        "3. La matriz de confusión es una tabla que compara las predicciones del modelo con los resultados reales, mostrando cuántas veces acertó o falló en cada clase. Sirve para entender qué tan bien está clasificando el modelo y qué tipos de errores está cometiendo, como los falsos positivos y falsos negativos.\n",
        "\n",
        "4. * Accuracy: se calcula como (True Positives + True Negatives) / Total de Predicciones\n",
        "\n",
        "    Mide el porcentaje total de predicciones correctas del modelo.\n",
        "\n",
        "    * Precision: se calcula como True Positives / (True Positives + False Positives)\n",
        "\n",
        "    Indica cuántas de las predicciones positivas hechas por el modelo son realmente correctas.\n",
        "\n",
        "    * Recall: se calcula como True Positives / (True Positives + False Negatives)\n",
        "    \n",
        "    Mide la capacidad del modelo para encontrar todos los casos positivos reales.\n",
        "\n",
        "    * F1 Score: se calcula como 2 * Precision * Recall / (Precision + Recall)\n",
        "\n",
        "    Es la media armónica entre precisión y sensibilidad, ofreciendo un balance entre ambas.\n",
        "5. * Mantenimiento predictivo de fallas de maquinaria pesada: Recall. Es fundamental detectar la mayoría de las fallas potenciales para prevenir daños costosos o accidentes, incluso si se generan algunas falsas alarmas.\n",
        "\n",
        "    * Detección de enfermedades altamente contagiosas: Recall. Aquí es clave identificar todos los casos posibles, incluso si esto lleva a algunos falsos positivos, para evitar la propagación.\n",
        "\n",
        "    * Aprobación de créditos de alto riesgo: Precision. Se prefiere evitar los falsos positivos (aprobar a quienes probablemente no pagarán) para reducir el riesgo financiero.\n",
        "\n",
        "    * Detección de crímenes: Precision. Es mejor ser preciso al marcar conductas sospechosas y reducir falsos positivos, ya que un exceso de ellos podría generar desconfianza y recursos malgastados.\n",
        "6. La calibración de modelos ajusta las probabilidades predichas para que reflejen mejor la realidad. Se usa cuando es importante que las predicciones probabilísticas sean precisas, como en riesgos financieros o diagnósticos médicos, ayudando a tomar decisiones más confiables."
      ]
    },
    {
      "cell_type": "markdown",
      "metadata": {
        "id": "Jg_9jBqtgRDO"
      },
      "source": [
        "# Parte práctica [48 puntos]"
      ]
    },
    {
      "cell_type": "markdown",
      "metadata": {
        "id": "slm6yRfdfZwS"
      },
      "source": [
        "<p align=\"center\">\n",
        "  <img src=\"https://i.ibb.co/61L8z0w/renacin-by-volframio-dcirf4l-fullview.jpg\"\n",
        "\" width=\"400\">\n",
        "</p>\n",
        "\n",
        "\n",
        "\n",
        "Tras el trágico despido de la mítica mascota de Maipú, Renacín decide adentrarse como consultor en el mercado futbolero, el cuál (para variar...) está cargado en especulaciones.\n",
        "\n",
        "Como su principal tarea será asesorar a los directivos de los clubes sobre cuál jugador comprar y cuál no, Renacín desea generar modelos predictivos que evaluén distintas características de los jugadores; todo con el fin de tomar decisiones concretas basadas en los datos.\n",
        "\n",
        "Sin embargo, su condición de corporeo le impidió tomar la versión anterior de MDS7202, por lo que este motivo Renacín contrata a su equipo para lograr su objetivo final. Dado que aún tiene fuertes vínculos con la dirección de deportes de la municipalidad, el corporeo le entrega base de datos con las estadísticas de cada jugador para que su equipo empieze a trabajar ya con un dataset listo para ser usado.\n"
      ]
    },
    {
      "cell_type": "markdown",
      "metadata": {
        "id": "jnbx7RwHfkue"
      },
      "source": [
        "**Los Datos**\n",
        "\n",
        "Para este laboratorio deberán trabajar con el csv `statsplayers.csv`, donde deberán aplicar algoritmos de aprendizaje supervisado de clasificación en base a características que describen de jugadores de fútbol.\n",
        "\n",
        "Para comenzar cargue el dataset señalado y a continuación vea el reporte **`Player_Stats_Report.html`** (adjunto en la carpeta del enunciado) que describe las características principales del `DataFrame`."
      ]
    },
    {
      "cell_type": "code",
      "execution_count": 1,
      "metadata": {},
      "outputs": [],
      "source": [
        "import pandas as pd\n",
        "\n",
        "df = pd.read_csv('stats_players.csv')"
      ]
    },
    {
      "cell_type": "code",
      "execution_count": 2,
      "metadata": {},
      "outputs": [
        {
          "data": {
            "text/html": [
              "<div>\n",
              "<style scoped>\n",
              "    .dataframe tbody tr th:only-of-type {\n",
              "        vertical-align: middle;\n",
              "    }\n",
              "\n",
              "    .dataframe tbody tr th {\n",
              "        vertical-align: top;\n",
              "    }\n",
              "\n",
              "    .dataframe thead th {\n",
              "        text-align: right;\n",
              "    }\n",
              "</style>\n",
              "<table border=\"1\" class=\"dataframe\">\n",
              "  <thead>\n",
              "    <tr style=\"text-align: right;\">\n",
              "      <th></th>\n",
              "      <th>Name</th>\n",
              "      <th>Nationality</th>\n",
              "      <th>National_Position</th>\n",
              "      <th>Club_Position</th>\n",
              "      <th>Height</th>\n",
              "      <th>Weight</th>\n",
              "      <th>Preffered_Foot</th>\n",
              "      <th>Age</th>\n",
              "      <th>Work_Rate</th>\n",
              "      <th>Weak_foot</th>\n",
              "      <th>...</th>\n",
              "      <th>Agility</th>\n",
              "      <th>Jumping</th>\n",
              "      <th>Heading</th>\n",
              "      <th>Shot_Power</th>\n",
              "      <th>Finishing</th>\n",
              "      <th>Long_Shots</th>\n",
              "      <th>Curve</th>\n",
              "      <th>Freekick_Accuracy</th>\n",
              "      <th>Penalties</th>\n",
              "      <th>Volleys</th>\n",
              "    </tr>\n",
              "  </thead>\n",
              "  <tbody>\n",
              "    <tr>\n",
              "      <th>0</th>\n",
              "      <td>Cristiano Ronaldo</td>\n",
              "      <td>Portugal</td>\n",
              "      <td>LS</td>\n",
              "      <td>LW</td>\n",
              "      <td>185</td>\n",
              "      <td>80</td>\n",
              "      <td>Right</td>\n",
              "      <td>32</td>\n",
              "      <td>High / Low</td>\n",
              "      <td>4</td>\n",
              "      <td>...</td>\n",
              "      <td>90</td>\n",
              "      <td>95</td>\n",
              "      <td>85</td>\n",
              "      <td>92</td>\n",
              "      <td>93</td>\n",
              "      <td>90</td>\n",
              "      <td>81</td>\n",
              "      <td>76</td>\n",
              "      <td>85</td>\n",
              "      <td>88</td>\n",
              "    </tr>\n",
              "    <tr>\n",
              "      <th>1</th>\n",
              "      <td>Lionel Messi</td>\n",
              "      <td>Argentina</td>\n",
              "      <td>RW</td>\n",
              "      <td>RW</td>\n",
              "      <td>170</td>\n",
              "      <td>72</td>\n",
              "      <td>Left</td>\n",
              "      <td>29</td>\n",
              "      <td>Medium / Medium</td>\n",
              "      <td>4</td>\n",
              "      <td>...</td>\n",
              "      <td>90</td>\n",
              "      <td>68</td>\n",
              "      <td>71</td>\n",
              "      <td>85</td>\n",
              "      <td>95</td>\n",
              "      <td>88</td>\n",
              "      <td>89</td>\n",
              "      <td>90</td>\n",
              "      <td>74</td>\n",
              "      <td>85</td>\n",
              "    </tr>\n",
              "    <tr>\n",
              "      <th>2</th>\n",
              "      <td>Neymar</td>\n",
              "      <td>Brazil</td>\n",
              "      <td>LW</td>\n",
              "      <td>LW</td>\n",
              "      <td>174</td>\n",
              "      <td>68</td>\n",
              "      <td>Right</td>\n",
              "      <td>25</td>\n",
              "      <td>High / Medium</td>\n",
              "      <td>5</td>\n",
              "      <td>...</td>\n",
              "      <td>96</td>\n",
              "      <td>61</td>\n",
              "      <td>62</td>\n",
              "      <td>78</td>\n",
              "      <td>89</td>\n",
              "      <td>77</td>\n",
              "      <td>79</td>\n",
              "      <td>84</td>\n",
              "      <td>81</td>\n",
              "      <td>83</td>\n",
              "    </tr>\n",
              "    <tr>\n",
              "      <th>3</th>\n",
              "      <td>Luis Suárez</td>\n",
              "      <td>Uruguay</td>\n",
              "      <td>LS</td>\n",
              "      <td>ST</td>\n",
              "      <td>182</td>\n",
              "      <td>85</td>\n",
              "      <td>Right</td>\n",
              "      <td>30</td>\n",
              "      <td>High / Medium</td>\n",
              "      <td>4</td>\n",
              "      <td>...</td>\n",
              "      <td>86</td>\n",
              "      <td>69</td>\n",
              "      <td>77</td>\n",
              "      <td>87</td>\n",
              "      <td>94</td>\n",
              "      <td>86</td>\n",
              "      <td>86</td>\n",
              "      <td>84</td>\n",
              "      <td>85</td>\n",
              "      <td>88</td>\n",
              "    </tr>\n",
              "    <tr>\n",
              "      <th>4</th>\n",
              "      <td>Manuel Neuer</td>\n",
              "      <td>Germany</td>\n",
              "      <td>GK</td>\n",
              "      <td>GK</td>\n",
              "      <td>193</td>\n",
              "      <td>92</td>\n",
              "      <td>Right</td>\n",
              "      <td>31</td>\n",
              "      <td>Medium / Medium</td>\n",
              "      <td>4</td>\n",
              "      <td>...</td>\n",
              "      <td>52</td>\n",
              "      <td>78</td>\n",
              "      <td>25</td>\n",
              "      <td>25</td>\n",
              "      <td>13</td>\n",
              "      <td>16</td>\n",
              "      <td>14</td>\n",
              "      <td>11</td>\n",
              "      <td>47</td>\n",
              "      <td>11</td>\n",
              "    </tr>\n",
              "  </tbody>\n",
              "</table>\n",
              "<p>5 rows × 39 columns</p>\n",
              "</div>"
            ],
            "text/plain": [
              "                Name Nationality National_Position Club_Position  Height  \\\n",
              "0  Cristiano Ronaldo    Portugal                LS            LW     185   \n",
              "1       Lionel Messi   Argentina                RW            RW     170   \n",
              "2             Neymar      Brazil                LW            LW     174   \n",
              "3        Luis Suárez     Uruguay                LS            ST     182   \n",
              "4       Manuel Neuer     Germany                GK            GK     193   \n",
              "\n",
              "   Weight Preffered_Foot  Age        Work_Rate  Weak_foot  ...  Agility  \\\n",
              "0      80          Right   32       High / Low          4  ...       90   \n",
              "1      72           Left   29  Medium / Medium          4  ...       90   \n",
              "2      68          Right   25    High / Medium          5  ...       96   \n",
              "3      85          Right   30    High / Medium          4  ...       86   \n",
              "4      92          Right   31  Medium / Medium          4  ...       52   \n",
              "\n",
              "   Jumping  Heading  Shot_Power  Finishing  Long_Shots  Curve  \\\n",
              "0       95       85          92         93          90     81   \n",
              "1       68       71          85         95          88     89   \n",
              "2       61       62          78         89          77     79   \n",
              "3       69       77          87         94          86     86   \n",
              "4       78       25          25         13          16     14   \n",
              "\n",
              "   Freekick_Accuracy  Penalties  Volleys  \n",
              "0                 76         85       88  \n",
              "1                 90         74       85  \n",
              "2                 84         81       83  \n",
              "3                 84         85       88  \n",
              "4                 11         47       11  \n",
              "\n",
              "[5 rows x 39 columns]"
            ]
          },
          "execution_count": 2,
          "metadata": {},
          "output_type": "execute_result"
        }
      ],
      "source": [
        "df.head()"
      ]
    },
    {
      "cell_type": "markdown",
      "metadata": {
        "id": "JdcucZhp-M_0"
      },
      "source": [
        "## 1. Predicción de Seleccionados Nacionales [14 puntos]"
      ]
    },
    {
      "cell_type": "markdown",
      "metadata": {
        "id": "HXrewqxjjzvA"
      },
      "source": [
        "<p align=\"center\">\n",
        "  <img src=\"https://www.futuro.cl/wp-content/uploads/2016/06/chile-argentina-meme-12.jpg\" width=\"300\">\n",
        "</p>\n",
        "\n"
      ]
    },
    {
      "cell_type": "markdown",
      "metadata": {
        "id": "Qfre1YsSDqla"
      },
      "source": [
        "### 1.1 Preprocesamiento [5 puntos]"
      ]
    },
    {
      "cell_type": "markdown",
      "metadata": {
        "id": "IR00u4HTDtxv"
      },
      "source": [
        "Tareas:\n",
        "\n",
        "1. Genere los labels para la clasificación binaria en una variable llamada `label`. Para esto, trabaje sobre el atributo `National_Position` suponiendo que los valores nulos son jugadores no seleccionados para representar a su país. [Sin puntaje]\n",
        "\n",
        "2. Hecho esto, ¿cuántos se tienen ejemplos por cada clase? Comente lo que observa. [1 punto]\n",
        "\n",
        "3. Genere un `ColumnTransformer` en donde especifique las transformaciones que hay que realizar para cada columna (por ejemplo StandarScaler, MinMaxScaler, OneHotEncoder, etc...) para que puedan ser utilizadas correctamente por el modelo predictivo y guárdelo una variable llamada `col_transformer`. [2 puntos]\n",
        "\n",
        "4. Comente y justifique las transformaciones elegidas sobre cada una de las variables (para esto utilice el material `Player_Stats_Report.html` que viene en el zip del lab), al igual que las transformaciones aplicadas. [2 puntos]"
      ]
    },
    {
      "cell_type": "markdown",
      "metadata": {
        "id": "tgAk0kbPjEsx"
      },
      "source": [
        "**Respuesta:**"
      ]
    },
    {
      "cell_type": "code",
      "execution_count": 3,
      "metadata": {
        "id": "JhC2sZj9dSI1"
      },
      "outputs": [],
      "source": [
        "# 1\n",
        "\n",
        "df_selec = df.copy()\n",
        "# Se puso 1 a los jugadores que tienen algún valor en 'National_Position' y 0 en los que hay NA.\n",
        "df_selec['label'] = df_selec['National_Position'].notna().astype(int)"
      ]
    },
    {
      "cell_type": "code",
      "execution_count": 4,
      "metadata": {},
      "outputs": [
        {
          "data": {
            "text/plain": [
              "label\n",
              "0    16513\n",
              "1     1075\n",
              "Name: count, dtype: int64"
            ]
          },
          "execution_count": 4,
          "metadata": {},
          "output_type": "execute_result"
        }
      ],
      "source": [
        "# 2\n",
        "df_selec['label'].value_counts()"
      ]
    },
    {
      "cell_type": "code",
      "execution_count": 5,
      "metadata": {},
      "outputs": [],
      "source": [
        "# 3 \n",
        "from sklearn.compose import ColumnTransformer\n",
        "from sklearn.preprocessing import MinMaxScaler, OneHotEncoder\n",
        "\n",
        "\n",
        "\n",
        "# Identificar todas las columnas categóricas y numéricas\n",
        "all_columns = df_selec.columns.drop(['Name', 'label', 'National_Position'])\n",
        "numeric_columns = df_selec[all_columns].select_dtypes(include=['int64', 'float64']).columns.tolist()\n",
        "categorical_columns = df_selec[all_columns].select_dtypes(include=['object']).columns.tolist()\n",
        "\n",
        "col_transformer = ColumnTransformer(transformers=[\n",
        "    ('num', MinMaxScaler(), numeric_columns),   \n",
        "    ('cat', OneHotEncoder(handle_unknown='ignore'), categorical_columns) \n",
        "])"
      ]
    },
    {
      "cell_type": "markdown",
      "metadata": {},
      "source": [
        "4. Dado que en el html proporcionado se puede observar que las variables numéricas no presentan outliers, MinMaxScaler es ideal para normalizarlas en un rango de 0 a 1, manteniendo la proporcionalidad sin perder información. Esto asegura que cada variable contribuya de manera equilibrada al modelo.\n",
        "\n",
        "    Para las variables categóricas, OneHotEncoder es adecuado porque representa cada categoría de forma binaria, evitando que el modelo asuma relaciones jerárquicas o de magnitud entre valores categóricos como Nationality o Club_Position, lo que asegura una interpretación neutral y precisa."
      ]
    },
    {
      "cell_type": "markdown",
      "metadata": {
        "id": "Bv1HOfcNEPF4"
      },
      "source": [
        "### 1.2 Entrenamiento [3 puntos]"
      ]
    },
    {
      "cell_type": "markdown",
      "metadata": {
        "id": "whPkuXTUBvB0"
      },
      "source": [
        "Ahora, vamos a entrenar los pipelines generados en los pasos anteriores. Para esto, debe realizar las siguientes tareas:\n",
        "\n",
        "1. Separe los datos de entrenamiento en un conjunto de entrenamiento y de prueba  (la proporción queda a su juicio). En este paso, seleccione los ejemplos de forma aleatoria e intente mantener la distribución original de labels de cada clase en los conjuntos de prueba/entrenamiento. (vea la documentación de `train_test_split`). [1 puntos]\n",
        "\n",
        "\n",
        "2. Defina un pipeline llamado `pipeline_xgboost` y otro llamado `pipeline_lightgbm`. Estos pipelines deben tener el mismo ColumnTransformer definido en la sección de preprocesamiento, pero deben variar los clasificadores de acuerdo al nombre de cada pipeline. [1 puntos]\n",
        "\n",
        "3. Entrene los pipelines. [1 punto]\n",
        "\n"
      ]
    },
    {
      "cell_type": "markdown",
      "metadata": {
        "id": "kbadONFtjGnE"
      },
      "source": [
        "**Respuesta:**"
      ]
    },
    {
      "cell_type": "code",
      "execution_count": 6,
      "metadata": {
        "id": "lLtlXGTPdWAV"
      },
      "outputs": [
        {
          "name": "stdout",
          "output_type": "stream",
          "text": [
            "label\n",
            "0    0.938877\n",
            "1    0.061123\n",
            "Name: proportion, dtype: float64\n",
            "\n",
            "label\n",
            "0    0.938886\n",
            "1    0.061114\n",
            "Name: proportion, dtype: float64\n"
          ]
        }
      ],
      "source": [
        "from sklearn.model_selection import train_test_split\n",
        "# 1\n",
        "\n",
        "# Separar las características (X) y el target (y)\n",
        "X = df_selec.drop(columns=['Name', 'label', 'National_Position'])\n",
        "y = df_selec['label']\n",
        "\n",
        "# Separar el conjunto de datos en entrenamiento\n",
        "X_train, X_test, y_train, y_test = train_test_split(\n",
        "    X, y, test_size=0.2, random_state=1323, stratify=y)\n",
        "print(y_train.value_counts(normalize=True))\n",
        "print(\"\")\n",
        "print(y_test.value_counts(normalize=True))"
      ]
    },
    {
      "cell_type": "markdown",
      "metadata": {},
      "source": [
        "Se puede observar que se mantiene la distribución de labels en ambos conjuntos."
      ]
    },
    {
      "cell_type": "code",
      "execution_count": 7,
      "metadata": {},
      "outputs": [],
      "source": [
        "from sklearn.pipeline import Pipeline\n",
        "from xgboost import XGBClassifier\n",
        "from lightgbm import LGBMClassifier\n",
        "\n",
        "# 2\n",
        "# Definir pipeline para XGBoost con el ColumnTransformer\n",
        "pipeline_xgboost = Pipeline(steps=[\n",
        "    ('preprocessor', col_transformer),\n",
        "    ('classifier', XGBClassifier())\n",
        "])\n",
        "\n",
        "# Definir pipeline para LightGBM con el ColumnTransformer\n",
        "pipeline_lightgbm = Pipeline(steps=[\n",
        "    ('preprocessor', col_transformer),\n",
        "    ('classifier', LGBMClassifier(verbose=-1))\n",
        "])"
      ]
    },
    {
      "cell_type": "code",
      "execution_count": 8,
      "metadata": {},
      "outputs": [
        {
          "data": {
            "text/html": [
              "<style>#sk-container-id-1 {\n",
              "  /* Definition of color scheme common for light and dark mode */\n",
              "  --sklearn-color-text: black;\n",
              "  --sklearn-color-line: gray;\n",
              "  /* Definition of color scheme for unfitted estimators */\n",
              "  --sklearn-color-unfitted-level-0: #fff5e6;\n",
              "  --sklearn-color-unfitted-level-1: #f6e4d2;\n",
              "  --sklearn-color-unfitted-level-2: #ffe0b3;\n",
              "  --sklearn-color-unfitted-level-3: chocolate;\n",
              "  /* Definition of color scheme for fitted estimators */\n",
              "  --sklearn-color-fitted-level-0: #f0f8ff;\n",
              "  --sklearn-color-fitted-level-1: #d4ebff;\n",
              "  --sklearn-color-fitted-level-2: #b3dbfd;\n",
              "  --sklearn-color-fitted-level-3: cornflowerblue;\n",
              "\n",
              "  /* Specific color for light theme */\n",
              "  --sklearn-color-text-on-default-background: var(--sg-text-color, var(--theme-code-foreground, var(--jp-content-font-color1, black)));\n",
              "  --sklearn-color-background: var(--sg-background-color, var(--theme-background, var(--jp-layout-color0, white)));\n",
              "  --sklearn-color-border-box: var(--sg-text-color, var(--theme-code-foreground, var(--jp-content-font-color1, black)));\n",
              "  --sklearn-color-icon: #696969;\n",
              "\n",
              "  @media (prefers-color-scheme: dark) {\n",
              "    /* Redefinition of color scheme for dark theme */\n",
              "    --sklearn-color-text-on-default-background: var(--sg-text-color, var(--theme-code-foreground, var(--jp-content-font-color1, white)));\n",
              "    --sklearn-color-background: var(--sg-background-color, var(--theme-background, var(--jp-layout-color0, #111)));\n",
              "    --sklearn-color-border-box: var(--sg-text-color, var(--theme-code-foreground, var(--jp-content-font-color1, white)));\n",
              "    --sklearn-color-icon: #878787;\n",
              "  }\n",
              "}\n",
              "\n",
              "#sk-container-id-1 {\n",
              "  color: var(--sklearn-color-text);\n",
              "}\n",
              "\n",
              "#sk-container-id-1 pre {\n",
              "  padding: 0;\n",
              "}\n",
              "\n",
              "#sk-container-id-1 input.sk-hidden--visually {\n",
              "  border: 0;\n",
              "  clip: rect(1px 1px 1px 1px);\n",
              "  clip: rect(1px, 1px, 1px, 1px);\n",
              "  height: 1px;\n",
              "  margin: -1px;\n",
              "  overflow: hidden;\n",
              "  padding: 0;\n",
              "  position: absolute;\n",
              "  width: 1px;\n",
              "}\n",
              "\n",
              "#sk-container-id-1 div.sk-dashed-wrapped {\n",
              "  border: 1px dashed var(--sklearn-color-line);\n",
              "  margin: 0 0.4em 0.5em 0.4em;\n",
              "  box-sizing: border-box;\n",
              "  padding-bottom: 0.4em;\n",
              "  background-color: var(--sklearn-color-background);\n",
              "}\n",
              "\n",
              "#sk-container-id-1 div.sk-container {\n",
              "  /* jupyter's `normalize.less` sets `[hidden] { display: none; }`\n",
              "     but bootstrap.min.css set `[hidden] { display: none !important; }`\n",
              "     so we also need the `!important` here to be able to override the\n",
              "     default hidden behavior on the sphinx rendered scikit-learn.org.\n",
              "     See: https://github.com/scikit-learn/scikit-learn/issues/21755 */\n",
              "  display: inline-block !important;\n",
              "  position: relative;\n",
              "}\n",
              "\n",
              "#sk-container-id-1 div.sk-text-repr-fallback {\n",
              "  display: none;\n",
              "}\n",
              "\n",
              "div.sk-parallel-item,\n",
              "div.sk-serial,\n",
              "div.sk-item {\n",
              "  /* draw centered vertical line to link estimators */\n",
              "  background-image: linear-gradient(var(--sklearn-color-text-on-default-background), var(--sklearn-color-text-on-default-background));\n",
              "  background-size: 2px 100%;\n",
              "  background-repeat: no-repeat;\n",
              "  background-position: center center;\n",
              "}\n",
              "\n",
              "/* Parallel-specific style estimator block */\n",
              "\n",
              "#sk-container-id-1 div.sk-parallel-item::after {\n",
              "  content: \"\";\n",
              "  width: 100%;\n",
              "  border-bottom: 2px solid var(--sklearn-color-text-on-default-background);\n",
              "  flex-grow: 1;\n",
              "}\n",
              "\n",
              "#sk-container-id-1 div.sk-parallel {\n",
              "  display: flex;\n",
              "  align-items: stretch;\n",
              "  justify-content: center;\n",
              "  background-color: var(--sklearn-color-background);\n",
              "  position: relative;\n",
              "}\n",
              "\n",
              "#sk-container-id-1 div.sk-parallel-item {\n",
              "  display: flex;\n",
              "  flex-direction: column;\n",
              "}\n",
              "\n",
              "#sk-container-id-1 div.sk-parallel-item:first-child::after {\n",
              "  align-self: flex-end;\n",
              "  width: 50%;\n",
              "}\n",
              "\n",
              "#sk-container-id-1 div.sk-parallel-item:last-child::after {\n",
              "  align-self: flex-start;\n",
              "  width: 50%;\n",
              "}\n",
              "\n",
              "#sk-container-id-1 div.sk-parallel-item:only-child::after {\n",
              "  width: 0;\n",
              "}\n",
              "\n",
              "/* Serial-specific style estimator block */\n",
              "\n",
              "#sk-container-id-1 div.sk-serial {\n",
              "  display: flex;\n",
              "  flex-direction: column;\n",
              "  align-items: center;\n",
              "  background-color: var(--sklearn-color-background);\n",
              "  padding-right: 1em;\n",
              "  padding-left: 1em;\n",
              "}\n",
              "\n",
              "\n",
              "/* Toggleable style: style used for estimator/Pipeline/ColumnTransformer box that is\n",
              "clickable and can be expanded/collapsed.\n",
              "- Pipeline and ColumnTransformer use this feature and define the default style\n",
              "- Estimators will overwrite some part of the style using the `sk-estimator` class\n",
              "*/\n",
              "\n",
              "/* Pipeline and ColumnTransformer style (default) */\n",
              "\n",
              "#sk-container-id-1 div.sk-toggleable {\n",
              "  /* Default theme specific background. It is overwritten whether we have a\n",
              "  specific estimator or a Pipeline/ColumnTransformer */\n",
              "  background-color: var(--sklearn-color-background);\n",
              "}\n",
              "\n",
              "/* Toggleable label */\n",
              "#sk-container-id-1 label.sk-toggleable__label {\n",
              "  cursor: pointer;\n",
              "  display: block;\n",
              "  width: 100%;\n",
              "  margin-bottom: 0;\n",
              "  padding: 0.5em;\n",
              "  box-sizing: border-box;\n",
              "  text-align: center;\n",
              "}\n",
              "\n",
              "#sk-container-id-1 label.sk-toggleable__label-arrow:before {\n",
              "  /* Arrow on the left of the label */\n",
              "  content: \"▸\";\n",
              "  float: left;\n",
              "  margin-right: 0.25em;\n",
              "  color: var(--sklearn-color-icon);\n",
              "}\n",
              "\n",
              "#sk-container-id-1 label.sk-toggleable__label-arrow:hover:before {\n",
              "  color: var(--sklearn-color-text);\n",
              "}\n",
              "\n",
              "/* Toggleable content - dropdown */\n",
              "\n",
              "#sk-container-id-1 div.sk-toggleable__content {\n",
              "  max-height: 0;\n",
              "  max-width: 0;\n",
              "  overflow: hidden;\n",
              "  text-align: left;\n",
              "  /* unfitted */\n",
              "  background-color: var(--sklearn-color-unfitted-level-0);\n",
              "}\n",
              "\n",
              "#sk-container-id-1 div.sk-toggleable__content.fitted {\n",
              "  /* fitted */\n",
              "  background-color: var(--sklearn-color-fitted-level-0);\n",
              "}\n",
              "\n",
              "#sk-container-id-1 div.sk-toggleable__content pre {\n",
              "  margin: 0.2em;\n",
              "  border-radius: 0.25em;\n",
              "  color: var(--sklearn-color-text);\n",
              "  /* unfitted */\n",
              "  background-color: var(--sklearn-color-unfitted-level-0);\n",
              "}\n",
              "\n",
              "#sk-container-id-1 div.sk-toggleable__content.fitted pre {\n",
              "  /* unfitted */\n",
              "  background-color: var(--sklearn-color-fitted-level-0);\n",
              "}\n",
              "\n",
              "#sk-container-id-1 input.sk-toggleable__control:checked~div.sk-toggleable__content {\n",
              "  /* Expand drop-down */\n",
              "  max-height: 200px;\n",
              "  max-width: 100%;\n",
              "  overflow: auto;\n",
              "}\n",
              "\n",
              "#sk-container-id-1 input.sk-toggleable__control:checked~label.sk-toggleable__label-arrow:before {\n",
              "  content: \"▾\";\n",
              "}\n",
              "\n",
              "/* Pipeline/ColumnTransformer-specific style */\n",
              "\n",
              "#sk-container-id-1 div.sk-label input.sk-toggleable__control:checked~label.sk-toggleable__label {\n",
              "  color: var(--sklearn-color-text);\n",
              "  background-color: var(--sklearn-color-unfitted-level-2);\n",
              "}\n",
              "\n",
              "#sk-container-id-1 div.sk-label.fitted input.sk-toggleable__control:checked~label.sk-toggleable__label {\n",
              "  background-color: var(--sklearn-color-fitted-level-2);\n",
              "}\n",
              "\n",
              "/* Estimator-specific style */\n",
              "\n",
              "/* Colorize estimator box */\n",
              "#sk-container-id-1 div.sk-estimator input.sk-toggleable__control:checked~label.sk-toggleable__label {\n",
              "  /* unfitted */\n",
              "  background-color: var(--sklearn-color-unfitted-level-2);\n",
              "}\n",
              "\n",
              "#sk-container-id-1 div.sk-estimator.fitted input.sk-toggleable__control:checked~label.sk-toggleable__label {\n",
              "  /* fitted */\n",
              "  background-color: var(--sklearn-color-fitted-level-2);\n",
              "}\n",
              "\n",
              "#sk-container-id-1 div.sk-label label.sk-toggleable__label,\n",
              "#sk-container-id-1 div.sk-label label {\n",
              "  /* The background is the default theme color */\n",
              "  color: var(--sklearn-color-text-on-default-background);\n",
              "}\n",
              "\n",
              "/* On hover, darken the color of the background */\n",
              "#sk-container-id-1 div.sk-label:hover label.sk-toggleable__label {\n",
              "  color: var(--sklearn-color-text);\n",
              "  background-color: var(--sklearn-color-unfitted-level-2);\n",
              "}\n",
              "\n",
              "/* Label box, darken color on hover, fitted */\n",
              "#sk-container-id-1 div.sk-label.fitted:hover label.sk-toggleable__label.fitted {\n",
              "  color: var(--sklearn-color-text);\n",
              "  background-color: var(--sklearn-color-fitted-level-2);\n",
              "}\n",
              "\n",
              "/* Estimator label */\n",
              "\n",
              "#sk-container-id-1 div.sk-label label {\n",
              "  font-family: monospace;\n",
              "  font-weight: bold;\n",
              "  display: inline-block;\n",
              "  line-height: 1.2em;\n",
              "}\n",
              "\n",
              "#sk-container-id-1 div.sk-label-container {\n",
              "  text-align: center;\n",
              "}\n",
              "\n",
              "/* Estimator-specific */\n",
              "#sk-container-id-1 div.sk-estimator {\n",
              "  font-family: monospace;\n",
              "  border: 1px dotted var(--sklearn-color-border-box);\n",
              "  border-radius: 0.25em;\n",
              "  box-sizing: border-box;\n",
              "  margin-bottom: 0.5em;\n",
              "  /* unfitted */\n",
              "  background-color: var(--sklearn-color-unfitted-level-0);\n",
              "}\n",
              "\n",
              "#sk-container-id-1 div.sk-estimator.fitted {\n",
              "  /* fitted */\n",
              "  background-color: var(--sklearn-color-fitted-level-0);\n",
              "}\n",
              "\n",
              "/* on hover */\n",
              "#sk-container-id-1 div.sk-estimator:hover {\n",
              "  /* unfitted */\n",
              "  background-color: var(--sklearn-color-unfitted-level-2);\n",
              "}\n",
              "\n",
              "#sk-container-id-1 div.sk-estimator.fitted:hover {\n",
              "  /* fitted */\n",
              "  background-color: var(--sklearn-color-fitted-level-2);\n",
              "}\n",
              "\n",
              "/* Specification for estimator info (e.g. \"i\" and \"?\") */\n",
              "\n",
              "/* Common style for \"i\" and \"?\" */\n",
              "\n",
              ".sk-estimator-doc-link,\n",
              "a:link.sk-estimator-doc-link,\n",
              "a:visited.sk-estimator-doc-link {\n",
              "  float: right;\n",
              "  font-size: smaller;\n",
              "  line-height: 1em;\n",
              "  font-family: monospace;\n",
              "  background-color: var(--sklearn-color-background);\n",
              "  border-radius: 1em;\n",
              "  height: 1em;\n",
              "  width: 1em;\n",
              "  text-decoration: none !important;\n",
              "  margin-left: 1ex;\n",
              "  /* unfitted */\n",
              "  border: var(--sklearn-color-unfitted-level-1) 1pt solid;\n",
              "  color: var(--sklearn-color-unfitted-level-1);\n",
              "}\n",
              "\n",
              ".sk-estimator-doc-link.fitted,\n",
              "a:link.sk-estimator-doc-link.fitted,\n",
              "a:visited.sk-estimator-doc-link.fitted {\n",
              "  /* fitted */\n",
              "  border: var(--sklearn-color-fitted-level-1) 1pt solid;\n",
              "  color: var(--sklearn-color-fitted-level-1);\n",
              "}\n",
              "\n",
              "/* On hover */\n",
              "div.sk-estimator:hover .sk-estimator-doc-link:hover,\n",
              ".sk-estimator-doc-link:hover,\n",
              "div.sk-label-container:hover .sk-estimator-doc-link:hover,\n",
              ".sk-estimator-doc-link:hover {\n",
              "  /* unfitted */\n",
              "  background-color: var(--sklearn-color-unfitted-level-3);\n",
              "  color: var(--sklearn-color-background);\n",
              "  text-decoration: none;\n",
              "}\n",
              "\n",
              "div.sk-estimator.fitted:hover .sk-estimator-doc-link.fitted:hover,\n",
              ".sk-estimator-doc-link.fitted:hover,\n",
              "div.sk-label-container:hover .sk-estimator-doc-link.fitted:hover,\n",
              ".sk-estimator-doc-link.fitted:hover {\n",
              "  /* fitted */\n",
              "  background-color: var(--sklearn-color-fitted-level-3);\n",
              "  color: var(--sklearn-color-background);\n",
              "  text-decoration: none;\n",
              "}\n",
              "\n",
              "/* Span, style for the box shown on hovering the info icon */\n",
              ".sk-estimator-doc-link span {\n",
              "  display: none;\n",
              "  z-index: 9999;\n",
              "  position: relative;\n",
              "  font-weight: normal;\n",
              "  right: .2ex;\n",
              "  padding: .5ex;\n",
              "  margin: .5ex;\n",
              "  width: min-content;\n",
              "  min-width: 20ex;\n",
              "  max-width: 50ex;\n",
              "  color: var(--sklearn-color-text);\n",
              "  box-shadow: 2pt 2pt 4pt #999;\n",
              "  /* unfitted */\n",
              "  background: var(--sklearn-color-unfitted-level-0);\n",
              "  border: .5pt solid var(--sklearn-color-unfitted-level-3);\n",
              "}\n",
              "\n",
              ".sk-estimator-doc-link.fitted span {\n",
              "  /* fitted */\n",
              "  background: var(--sklearn-color-fitted-level-0);\n",
              "  border: var(--sklearn-color-fitted-level-3);\n",
              "}\n",
              "\n",
              ".sk-estimator-doc-link:hover span {\n",
              "  display: block;\n",
              "}\n",
              "\n",
              "/* \"?\"-specific style due to the `<a>` HTML tag */\n",
              "\n",
              "#sk-container-id-1 a.estimator_doc_link {\n",
              "  float: right;\n",
              "  font-size: 1rem;\n",
              "  line-height: 1em;\n",
              "  font-family: monospace;\n",
              "  background-color: var(--sklearn-color-background);\n",
              "  border-radius: 1rem;\n",
              "  height: 1rem;\n",
              "  width: 1rem;\n",
              "  text-decoration: none;\n",
              "  /* unfitted */\n",
              "  color: var(--sklearn-color-unfitted-level-1);\n",
              "  border: var(--sklearn-color-unfitted-level-1) 1pt solid;\n",
              "}\n",
              "\n",
              "#sk-container-id-1 a.estimator_doc_link.fitted {\n",
              "  /* fitted */\n",
              "  border: var(--sklearn-color-fitted-level-1) 1pt solid;\n",
              "  color: var(--sklearn-color-fitted-level-1);\n",
              "}\n",
              "\n",
              "/* On hover */\n",
              "#sk-container-id-1 a.estimator_doc_link:hover {\n",
              "  /* unfitted */\n",
              "  background-color: var(--sklearn-color-unfitted-level-3);\n",
              "  color: var(--sklearn-color-background);\n",
              "  text-decoration: none;\n",
              "}\n",
              "\n",
              "#sk-container-id-1 a.estimator_doc_link.fitted:hover {\n",
              "  /* fitted */\n",
              "  background-color: var(--sklearn-color-fitted-level-3);\n",
              "}\n",
              "</style><div id=\"sk-container-id-1\" class=\"sk-top-container\"><div class=\"sk-text-repr-fallback\"><pre>Pipeline(steps=[(&#x27;preprocessor&#x27;,\n",
              "                 ColumnTransformer(transformers=[(&#x27;num&#x27;, MinMaxScaler(),\n",
              "                                                  [&#x27;Height&#x27;, &#x27;Weight&#x27;, &#x27;Age&#x27;,\n",
              "                                                   &#x27;Weak_foot&#x27;, &#x27;Skill_Moves&#x27;,\n",
              "                                                   &#x27;Ball_Control&#x27;, &#x27;Dribbling&#x27;,\n",
              "                                                   &#x27;Marking&#x27;, &#x27;Sliding_Tackle&#x27;,\n",
              "                                                   &#x27;Standing_Tackle&#x27;,\n",
              "                                                   &#x27;Aggression&#x27;, &#x27;Reactions&#x27;,\n",
              "                                                   &#x27;Interceptions&#x27;, &#x27;Vision&#x27;,\n",
              "                                                   &#x27;Composure&#x27;, &#x27;Crossing&#x27;,\n",
              "                                                   &#x27;Short_Pass&#x27;, &#x27;Long_Pass&#x27;,\n",
              "                                                   &#x27;Acceleration&#x27;, &#x27;Speed&#x27;,\n",
              "                                                   &#x27;Stamina&#x27;, &#x27;Strength&#x27;,\n",
              "                                                   &#x27;Balance&#x27;, &#x27;Agility&#x27;,\n",
              "                                                   &#x27;Jumping&#x27;, &#x27;Heading&#x27;,\n",
              "                                                   &#x27;Shot_Power&#x27;, &#x27;Finishing&#x27;,\n",
              "                                                   &#x27;Long_Shots&#x27;, &#x27;Curve&#x27;, ...]),\n",
              "                                                 (&#x27;cat&#x27;,\n",
              "                                                  OneHotEncoder(handle_unknown=&#x27;ignore&#x27;),\n",
              "                                                  [&#x27;Nationality&#x27;,\n",
              "                                                   &#x27;Club_Position&#x27;,\n",
              "                                                   &#x27;Preffered_Foot&#x27;,\n",
              "                                                   &#x27;Work_Rate&#x27;])])),\n",
              "                (&#x27;classifier&#x27;, LGBMClassifier(verbose=-1))])</pre><b>In a Jupyter environment, please rerun this cell to show the HTML representation or trust the notebook. <br />On GitHub, the HTML representation is unable to render, please try loading this page with nbviewer.org.</b></div><div class=\"sk-container\" hidden><div class=\"sk-item sk-dashed-wrapped\"><div class=\"sk-label-container\"><div class=\"sk-label fitted sk-toggleable\"><input class=\"sk-toggleable__control sk-hidden--visually\" id=\"sk-estimator-id-1\" type=\"checkbox\" ><label for=\"sk-estimator-id-1\" class=\"sk-toggleable__label fitted sk-toggleable__label-arrow fitted\">&nbsp;&nbsp;Pipeline<a class=\"sk-estimator-doc-link fitted\" rel=\"noreferrer\" target=\"_blank\" href=\"https://scikit-learn.org/1.4/modules/generated/sklearn.pipeline.Pipeline.html\">?<span>Documentation for Pipeline</span></a><span class=\"sk-estimator-doc-link fitted\">i<span>Fitted</span></span></label><div class=\"sk-toggleable__content fitted\"><pre>Pipeline(steps=[(&#x27;preprocessor&#x27;,\n",
              "                 ColumnTransformer(transformers=[(&#x27;num&#x27;, MinMaxScaler(),\n",
              "                                                  [&#x27;Height&#x27;, &#x27;Weight&#x27;, &#x27;Age&#x27;,\n",
              "                                                   &#x27;Weak_foot&#x27;, &#x27;Skill_Moves&#x27;,\n",
              "                                                   &#x27;Ball_Control&#x27;, &#x27;Dribbling&#x27;,\n",
              "                                                   &#x27;Marking&#x27;, &#x27;Sliding_Tackle&#x27;,\n",
              "                                                   &#x27;Standing_Tackle&#x27;,\n",
              "                                                   &#x27;Aggression&#x27;, &#x27;Reactions&#x27;,\n",
              "                                                   &#x27;Interceptions&#x27;, &#x27;Vision&#x27;,\n",
              "                                                   &#x27;Composure&#x27;, &#x27;Crossing&#x27;,\n",
              "                                                   &#x27;Short_Pass&#x27;, &#x27;Long_Pass&#x27;,\n",
              "                                                   &#x27;Acceleration&#x27;, &#x27;Speed&#x27;,\n",
              "                                                   &#x27;Stamina&#x27;, &#x27;Strength&#x27;,\n",
              "                                                   &#x27;Balance&#x27;, &#x27;Agility&#x27;,\n",
              "                                                   &#x27;Jumping&#x27;, &#x27;Heading&#x27;,\n",
              "                                                   &#x27;Shot_Power&#x27;, &#x27;Finishing&#x27;,\n",
              "                                                   &#x27;Long_Shots&#x27;, &#x27;Curve&#x27;, ...]),\n",
              "                                                 (&#x27;cat&#x27;,\n",
              "                                                  OneHotEncoder(handle_unknown=&#x27;ignore&#x27;),\n",
              "                                                  [&#x27;Nationality&#x27;,\n",
              "                                                   &#x27;Club_Position&#x27;,\n",
              "                                                   &#x27;Preffered_Foot&#x27;,\n",
              "                                                   &#x27;Work_Rate&#x27;])])),\n",
              "                (&#x27;classifier&#x27;, LGBMClassifier(verbose=-1))])</pre></div> </div></div><div class=\"sk-serial\"><div class=\"sk-item sk-dashed-wrapped\"><div class=\"sk-label-container\"><div class=\"sk-label fitted sk-toggleable\"><input class=\"sk-toggleable__control sk-hidden--visually\" id=\"sk-estimator-id-2\" type=\"checkbox\" ><label for=\"sk-estimator-id-2\" class=\"sk-toggleable__label fitted sk-toggleable__label-arrow fitted\">&nbsp;preprocessor: ColumnTransformer<a class=\"sk-estimator-doc-link fitted\" rel=\"noreferrer\" target=\"_blank\" href=\"https://scikit-learn.org/1.4/modules/generated/sklearn.compose.ColumnTransformer.html\">?<span>Documentation for preprocessor: ColumnTransformer</span></a></label><div class=\"sk-toggleable__content fitted\"><pre>ColumnTransformer(transformers=[(&#x27;num&#x27;, MinMaxScaler(),\n",
              "                                 [&#x27;Height&#x27;, &#x27;Weight&#x27;, &#x27;Age&#x27;, &#x27;Weak_foot&#x27;,\n",
              "                                  &#x27;Skill_Moves&#x27;, &#x27;Ball_Control&#x27;, &#x27;Dribbling&#x27;,\n",
              "                                  &#x27;Marking&#x27;, &#x27;Sliding_Tackle&#x27;,\n",
              "                                  &#x27;Standing_Tackle&#x27;, &#x27;Aggression&#x27;, &#x27;Reactions&#x27;,\n",
              "                                  &#x27;Interceptions&#x27;, &#x27;Vision&#x27;, &#x27;Composure&#x27;,\n",
              "                                  &#x27;Crossing&#x27;, &#x27;Short_Pass&#x27;, &#x27;Long_Pass&#x27;,\n",
              "                                  &#x27;Acceleration&#x27;, &#x27;Speed&#x27;, &#x27;Stamina&#x27;,\n",
              "                                  &#x27;Strength&#x27;, &#x27;Balance&#x27;, &#x27;Agility&#x27;, &#x27;Jumping&#x27;,\n",
              "                                  &#x27;Heading&#x27;, &#x27;Shot_Power&#x27;, &#x27;Finishing&#x27;,\n",
              "                                  &#x27;Long_Shots&#x27;, &#x27;Curve&#x27;, ...]),\n",
              "                                (&#x27;cat&#x27;, OneHotEncoder(handle_unknown=&#x27;ignore&#x27;),\n",
              "                                 [&#x27;Nationality&#x27;, &#x27;Club_Position&#x27;,\n",
              "                                  &#x27;Preffered_Foot&#x27;, &#x27;Work_Rate&#x27;])])</pre></div> </div></div><div class=\"sk-parallel\"><div class=\"sk-parallel-item\"><div class=\"sk-item\"><div class=\"sk-label-container\"><div class=\"sk-label fitted sk-toggleable\"><input class=\"sk-toggleable__control sk-hidden--visually\" id=\"sk-estimator-id-3\" type=\"checkbox\" ><label for=\"sk-estimator-id-3\" class=\"sk-toggleable__label fitted sk-toggleable__label-arrow fitted\">num</label><div class=\"sk-toggleable__content fitted\"><pre>[&#x27;Height&#x27;, &#x27;Weight&#x27;, &#x27;Age&#x27;, &#x27;Weak_foot&#x27;, &#x27;Skill_Moves&#x27;, &#x27;Ball_Control&#x27;, &#x27;Dribbling&#x27;, &#x27;Marking&#x27;, &#x27;Sliding_Tackle&#x27;, &#x27;Standing_Tackle&#x27;, &#x27;Aggression&#x27;, &#x27;Reactions&#x27;, &#x27;Interceptions&#x27;, &#x27;Vision&#x27;, &#x27;Composure&#x27;, &#x27;Crossing&#x27;, &#x27;Short_Pass&#x27;, &#x27;Long_Pass&#x27;, &#x27;Acceleration&#x27;, &#x27;Speed&#x27;, &#x27;Stamina&#x27;, &#x27;Strength&#x27;, &#x27;Balance&#x27;, &#x27;Agility&#x27;, &#x27;Jumping&#x27;, &#x27;Heading&#x27;, &#x27;Shot_Power&#x27;, &#x27;Finishing&#x27;, &#x27;Long_Shots&#x27;, &#x27;Curve&#x27;, &#x27;Freekick_Accuracy&#x27;, &#x27;Penalties&#x27;, &#x27;Volleys&#x27;]</pre></div> </div></div><div class=\"sk-serial\"><div class=\"sk-item\"><div class=\"sk-estimator fitted sk-toggleable\"><input class=\"sk-toggleable__control sk-hidden--visually\" id=\"sk-estimator-id-4\" type=\"checkbox\" ><label for=\"sk-estimator-id-4\" class=\"sk-toggleable__label fitted sk-toggleable__label-arrow fitted\">&nbsp;MinMaxScaler<a class=\"sk-estimator-doc-link fitted\" rel=\"noreferrer\" target=\"_blank\" href=\"https://scikit-learn.org/1.4/modules/generated/sklearn.preprocessing.MinMaxScaler.html\">?<span>Documentation for MinMaxScaler</span></a></label><div class=\"sk-toggleable__content fitted\"><pre>MinMaxScaler()</pre></div> </div></div></div></div></div><div class=\"sk-parallel-item\"><div class=\"sk-item\"><div class=\"sk-label-container\"><div class=\"sk-label fitted sk-toggleable\"><input class=\"sk-toggleable__control sk-hidden--visually\" id=\"sk-estimator-id-5\" type=\"checkbox\" ><label for=\"sk-estimator-id-5\" class=\"sk-toggleable__label fitted sk-toggleable__label-arrow fitted\">cat</label><div class=\"sk-toggleable__content fitted\"><pre>[&#x27;Nationality&#x27;, &#x27;Club_Position&#x27;, &#x27;Preffered_Foot&#x27;, &#x27;Work_Rate&#x27;]</pre></div> </div></div><div class=\"sk-serial\"><div class=\"sk-item\"><div class=\"sk-estimator fitted sk-toggleable\"><input class=\"sk-toggleable__control sk-hidden--visually\" id=\"sk-estimator-id-6\" type=\"checkbox\" ><label for=\"sk-estimator-id-6\" class=\"sk-toggleable__label fitted sk-toggleable__label-arrow fitted\">&nbsp;OneHotEncoder<a class=\"sk-estimator-doc-link fitted\" rel=\"noreferrer\" target=\"_blank\" href=\"https://scikit-learn.org/1.4/modules/generated/sklearn.preprocessing.OneHotEncoder.html\">?<span>Documentation for OneHotEncoder</span></a></label><div class=\"sk-toggleable__content fitted\"><pre>OneHotEncoder(handle_unknown=&#x27;ignore&#x27;)</pre></div> </div></div></div></div></div></div></div><div class=\"sk-item\"><div class=\"sk-estimator fitted sk-toggleable\"><input class=\"sk-toggleable__control sk-hidden--visually\" id=\"sk-estimator-id-7\" type=\"checkbox\" ><label for=\"sk-estimator-id-7\" class=\"sk-toggleable__label fitted sk-toggleable__label-arrow fitted\">LGBMClassifier</label><div class=\"sk-toggleable__content fitted\"><pre>LGBMClassifier(verbose=-1)</pre></div> </div></div></div></div></div></div>"
            ],
            "text/plain": [
              "Pipeline(steps=[('preprocessor',\n",
              "                 ColumnTransformer(transformers=[('num', MinMaxScaler(),\n",
              "                                                  ['Height', 'Weight', 'Age',\n",
              "                                                   'Weak_foot', 'Skill_Moves',\n",
              "                                                   'Ball_Control', 'Dribbling',\n",
              "                                                   'Marking', 'Sliding_Tackle',\n",
              "                                                   'Standing_Tackle',\n",
              "                                                   'Aggression', 'Reactions',\n",
              "                                                   'Interceptions', 'Vision',\n",
              "                                                   'Composure', 'Crossing',\n",
              "                                                   'Short_Pass', 'Long_Pass',\n",
              "                                                   'Acceleration', 'Speed',\n",
              "                                                   'Stamina', 'Strength',\n",
              "                                                   'Balance', 'Agility',\n",
              "                                                   'Jumping', 'Heading',\n",
              "                                                   'Shot_Power', 'Finishing',\n",
              "                                                   'Long_Shots', 'Curve', ...]),\n",
              "                                                 ('cat',\n",
              "                                                  OneHotEncoder(handle_unknown='ignore'),\n",
              "                                                  ['Nationality',\n",
              "                                                   'Club_Position',\n",
              "                                                   'Preffered_Foot',\n",
              "                                                   'Work_Rate'])])),\n",
              "                ('classifier', LGBMClassifier(verbose=-1))])"
            ]
          },
          "execution_count": 8,
          "metadata": {},
          "output_type": "execute_result"
        }
      ],
      "source": [
        "# 3\n",
        "\n",
        "# Entrenar ambos pipelines\n",
        "pipeline_xgboost.fit(X_train, y_train)\n",
        "pipeline_lightgbm.fit(X_train, y_train)"
      ]
    },
    {
      "cell_type": "markdown",
      "metadata": {
        "id": "poc9HSNBFeKO"
      },
      "source": [
        "### 1.3 Resultados [6 puntos]"
      ]
    },
    {
      "cell_type": "markdown",
      "metadata": {
        "id": "tGGCj8YtFil1"
      },
      "source": [
        "1. Calcule las métricas accuracy, precisión y recall de la clase positiva (la que indica que un jugador es seleccionado nacional) para evaluar el rendimiento de los distintos modelos. Verifique sus resultados usando `classification_report`. [2 puntos]\n",
        "\n",
        "2. Explique qué implican los valores de accuracy, precisión y recall de la clase positiva (la que indica que un jugador es seleccionado nacional) y cómo influye la cantidad de ejemplos por clase en los resultados obtenidos. [2 puntos]\n",
        "\n",
        "3. Explique qué métrica le parece más adecuada y concluya qué modelo tiene un mejor desempeño. [2 puntos]"
      ]
    },
    {
      "cell_type": "markdown",
      "metadata": {
        "id": "A1hkVFdujJTi"
      },
      "source": [
        "**Respuesta:**"
      ]
    },
    {
      "cell_type": "code",
      "execution_count": 9,
      "metadata": {
        "id": "QNmI_tbbdQte"
      },
      "outputs": [
        {
          "name": "stdout",
          "output_type": "stream",
          "text": [
            "Resultados de XGBoost:\n",
            "Accuracy: 0.9494030699260944\n",
            "Precision: 0.6907216494845361\n",
            "Recall: 0.3116279069767442\n",
            "Reporte de clasificación de XGBoost:\n",
            "                 precision    recall  f1-score   support\n",
            "\n",
            "No Seleccionado       0.96      0.99      0.97      3303\n",
            "   Seleccionado       0.69      0.31      0.43       215\n",
            "\n",
            "       accuracy                           0.95      3518\n",
            "      macro avg       0.82      0.65      0.70      3518\n",
            "   weighted avg       0.94      0.95      0.94      3518\n",
            "\n",
            "\n",
            "Resultados de LightGBM:\n",
            "Accuracy: 0.9513928368391131\n",
            "Precision: 0.7156862745098039\n",
            "Recall: 0.3395348837209302\n",
            "Reporte de clasificación de LightGBM:\n",
            "                 precision    recall  f1-score   support\n",
            "\n",
            "No Seleccionado       0.96      0.99      0.97      3303\n",
            "   Seleccionado       0.72      0.34      0.46       215\n",
            "\n",
            "       accuracy                           0.95      3518\n",
            "      macro avg       0.84      0.67      0.72      3518\n",
            "   weighted avg       0.94      0.95      0.94      3518\n",
            "\n"
          ]
        }
      ],
      "source": [
        "# 1\n",
        "\n",
        "from sklearn.metrics import accuracy_score, precision_score, recall_score, classification_report\n",
        "\n",
        "# Realizar predicciones en el conjunto de prueba con ambos modelos\n",
        "y_pred_xgboost = pipeline_xgboost.predict(X_test)\n",
        "y_pred_lightgbm = pipeline_lightgbm.predict(X_test)\n",
        "\n",
        "# Calcular las métricas para el modelo XGBoost\n",
        "accuracy_xgboost = accuracy_score(y_test, y_pred_xgboost)\n",
        "precision_xgboost = precision_score(y_test, y_pred_xgboost, pos_label=1)\n",
        "recall_xgboost = recall_score(y_test, y_pred_xgboost, pos_label=1)\n",
        "\n",
        "# Calcular las métricas para el modelo LightGBM\n",
        "accuracy_lightgbm = accuracy_score(y_test, y_pred_lightgbm)\n",
        "precision_lightgbm = precision_score(y_test, y_pred_lightgbm, pos_label=1)\n",
        "recall_lightgbm = recall_score(y_test, y_pred_lightgbm, pos_label=1)\n",
        "\n",
        "# Generar los reportes de clasificación para ambos modelos\n",
        "classification_report_xgboost = classification_report(y_test, y_pred_xgboost, target_names=['No Seleccionado', 'Seleccionado'])\n",
        "classification_report_lightgbm = classification_report(y_test, y_pred_lightgbm, target_names=['No Seleccionado', 'Seleccionado'])\n",
        "\n",
        "# Imprimir los resultados\n",
        "print(\"Resultados de XGBoost:\")\n",
        "print(f\"Accuracy: {accuracy_xgboost}\")\n",
        "print(f\"Precision: {precision_xgboost}\")\n",
        "print(f\"Recall: {recall_xgboost}\")\n",
        "print(\"Reporte de clasificación de XGBoost:\")\n",
        "print(classification_report_xgboost)\n",
        "\n",
        "print(\"\\nResultados de LightGBM:\")\n",
        "print(f\"Accuracy: {accuracy_lightgbm}\")\n",
        "print(f\"Precision: {precision_lightgbm}\")\n",
        "print(f\"Recall: {recall_lightgbm}\")\n",
        "print(\"Reporte de clasificación de LightGBM:\")\n",
        "print(classification_report_lightgbm)"
      ]
    },
    {
      "cell_type": "markdown",
      "metadata": {},
      "source": [
        "2. Ambos modelos lograron un accuracy de aproximadamente 95%, lo cual refleja una alta proporción de predicciones correctas, pero puede ser engañoso por el desbalance de clases que hay entre ser seleccionado o no.\n",
        "\n",
        "    El modelo XGBoost, para la clase positiva, es decir, ser seleccionado nacional, tiene un 69,07% y el LightGBM un 71,57% en la métrica Precision, es posible señalar que los modelos tienen una tasa en torno al 0,7 de acierto, lo que es razonable por el desbalance de clases.\n",
        "\n",
        "    El Recall, para el modelo XGBoost y LightGBM, es de un 31,16% y de un 33,95%, respectivamente, lo cual señala que los modelos están identificando un tercio de los jugadores seleccionados reales, esto es provocado por el mismo desbalance de clases, por lo que el modelo es más conservador a la hora de predecir si es seleccionado o no.\n",
        "\n",
        "    Finalmente, el desbalance afectó bastante las métricas, tanto para los no seleccionados, como para los que sí lo están, ya que para el primer grupo los predice bien casi en su totalidad por ser la clase dominante, mientras que para el segundo grupo predice mayormente mal dado que es \"menos probable\" que lo sea al ser una clase minoritaria.\n",
        "\n",
        "\n"
      ]
    },
    {
      "cell_type": "markdown",
      "metadata": {},
      "source": [
        "3. Dado el contexto y el desbalance de clases, la métrica más adecuada es el recall de la clase positiva (jugadores seleccionados). Esto se debe a que queremos maximizar la detección de jugadores que realmente fueron seleccionados, evitando que el modelo pase por alto muchos casos de esta clase.\n",
        "\n",
        "    En cuanto a los resultados obtenidos, LightGBM presenta un mejor desempeño que XGBoost. Aunque ambos modelos tienen precisiones similares, LightGBM logra un recall mayor para la clase positiva (34% frente al 31% de XGBoost). Esto implica que LightGBM es ligeramente mejor en identificar jugadores seleccionados."
      ]
    },
    {
      "cell_type": "markdown",
      "metadata": {
        "id": "uy5VMU6ae_g6"
      },
      "source": [
        "## 2. Predicción de posiciones de jugadores [4 puntos]"
      ]
    },
    {
      "cell_type": "markdown",
      "metadata": {
        "id": "S0PGg_hLgr4H"
      },
      "source": [
        "<p align=\"center\">\n",
        "  <img src=\"https://pbs.twimg.com/media/E1rfA1aWEAYU6Ny.jpg\" width=\"300\">\n",
        "</p>"
      ]
    },
    {
      "cell_type": "markdown",
      "metadata": {
        "id": "I6rSnAesfOm3"
      },
      "source": [
        "En una nueva jornada de desmesuradas transacciones deportivas, Renacín escuchó a sus colegas discutir acerca de que el precio de cada jugador depende en gran medida de la posición en la cancha en la que juega. Y además, que hay bastantes jugadores nuevos que no tienen muy claro en que posición verdaderamente brillarían, por lo que actualmente puede que actualmente estén jugando en posiciones sub-optimas.\n",
        "\n",
        "Viendo que los resultados del primer análisis no son tan esperanzadores, el corporeo los comanda a cambiar su tarea: ahora, les solicita que construyan un clasificador enfocado en predecir la mejor posición de los jugadores en la cancha según sus características.\n",
        "\n",
        "Para lograr esto, primero, les pide que etiqueten de la siguiente manera los valores que aparecen en el atributo `Club_Position`, pidiendo que agrupen los valores en los siguientes grupos:\n",
        "\n",
        "**Nota**:  Renacín les recalca que **no deben utilizar los valores ```Sub``` y ```Res``` de esta columna**.\n",
        "\n",
        "```python\n",
        "ataque = ['ST', 'CF']\n",
        "central_ataque = ['RW', 'CAM', 'LW']\n",
        "central = ['RM', 'CM', 'LM']\n",
        "central_defensa = ['RWB', 'CDM', 'LWB']\n",
        "defensa = ['RB', 'CB', 'LB']\n",
        "arquero = ['GK']\n",
        "```\n",
        "\n",
        "La elección del clasificador se justificar en base a la siguiente [guía](https://scikit-learn.org/stable/tutorial/machine_learning_map/index.html) y se deben comentar los resultados obtenidos en la clasificación.\n",
        "\n",
        "**Tareas:** [1 punto por tarea]\n",
        "\n",
        "1. En un nuevo dataframe, aplique las etiquetas descritas anteriormente en cada uno de los valores señalados en esta sección y guárdelos en la variable `label`.\n",
        "2. Cuente cuántos por clase quedan.\n",
        "3. Entrene el nuevo pipeline y ejecute una evaluación de este.  \n",
        "4. Comente los resultados obtenidos."
      ]
    },
    {
      "cell_type": "markdown",
      "metadata": {
        "id": "sBmSaWh8i2MI"
      },
      "source": [
        "**Respuesta:**"
      ]
    },
    {
      "cell_type": "code",
      "execution_count": 10,
      "metadata": {
        "id": "Ir_7zMh2i1vg"
      },
      "outputs": [
        {
          "data": {
            "text/plain": [
              "label\n",
              "defensa            1180\n",
              "central             907\n",
              "arquero             632\n",
              "central_ataque      581\n",
              "ataque              430\n",
              "central_defensa     209\n",
              "Name: count, dtype: int64"
            ]
          },
          "execution_count": 10,
          "metadata": {},
          "output_type": "execute_result"
        }
      ],
      "source": [
        "df_position = df.copy()\n",
        "\n",
        "# 1 y 2\n",
        "# Función para etiquetar las posiciones en base al grupo\n",
        "def etiquetar_posicion(posicion):\n",
        "    if posicion in ['ST', 'CF']:\n",
        "        return 'ataque'\n",
        "    elif posicion in ['RW', 'CAM', 'LW']:\n",
        "        return 'central_ataque'\n",
        "    elif posicion in ['RM', 'CM', 'LM']:\n",
        "        return 'central'\n",
        "    elif posicion in ['RWB', 'CDM', 'LWB']:\n",
        "        return 'central_defensa'\n",
        "    elif posicion in ['RB', 'CB', 'LB']:\n",
        "        return 'defensa'\n",
        "    elif posicion == 'GK':\n",
        "        return 'arquero'\n",
        "    else:\n",
        "        return None  # Para ignorar 'Sub' y 'Res'\n",
        "\n",
        "# Aplicar la función al atributo 'Club_Position' para crear la nueva columna 'label'\n",
        "df_position['label'] = df_position['Club_Position'].apply(etiquetar_posicion)\n",
        "\n",
        "# Contar la cantidad de ejemplos por clase\n",
        "label_counts = df_position['label'].value_counts(dropna=True)\n",
        "\n",
        "# Mostrar los resulatdos\n",
        "label_counts"
      ]
    },
    {
      "cell_type": "code",
      "execution_count": 11,
      "metadata": {},
      "outputs": [
        {
          "data": {
            "text/plain": [
              "(17588, 39)"
            ]
          },
          "execution_count": 11,
          "metadata": {},
          "output_type": "execute_result"
        }
      ],
      "source": [
        "df.shape"
      ]
    },
    {
      "cell_type": "code",
      "execution_count": 12,
      "metadata": {},
      "outputs": [
        {
          "name": "stdout",
          "output_type": "stream",
          "text": [
            "                 precision    recall  f1-score   support\n",
            "\n",
            "        arquero       1.00      1.00      1.00       126\n",
            "         ataque       0.75      0.81      0.78        86\n",
            "        central       0.53      0.65      0.59       182\n",
            " central_ataque       0.44      0.27      0.33       116\n",
            "central_defensa       0.41      0.45      0.43        42\n",
            "        defensa       0.89      0.86      0.87       236\n",
            "\n",
            "       accuracy                           0.72       788\n",
            "      macro avg       0.67      0.67      0.67       788\n",
            "   weighted avg       0.72      0.72      0.71       788\n",
            "\n"
          ]
        }
      ],
      "source": [
        "# 3\n",
        "from sklearn.linear_model import SGDClassifier\n",
        "\n",
        "\n",
        "# Filtrar filas con posiciones válidas en 'label'\n",
        "df_position_filtered = df_position.dropna(subset=['label'])\n",
        "\n",
        "# Definir características (X) y la nueva etiqueta (y)\n",
        "X = df_position_filtered.drop(columns=['Name', 'label', 'Club_Position'])\n",
        "y = df_position_filtered['label']\n",
        "\n",
        "# Separar los datos en conjuntos de entrenamiento y prueba con estratificación\n",
        "X_train, X_test, y_train, y_test = train_test_split(X, y, test_size=0.2, random_state=1323, stratify=y)\n",
        "\n",
        "# Redefinir el ColumnTransformer\n",
        "numeric_columns = X.select_dtypes(include=['int64', 'float64']).columns.tolist()\n",
        "categorical_columns = X.select_dtypes(include=['object']).columns.tolist()\n",
        "col_transformer_position = ColumnTransformer(transformers=[\n",
        "    ('num', MinMaxScaler(), numeric_columns),\n",
        "    ('cat', OneHotEncoder(handle_unknown='ignore'), categorical_columns)\n",
        "])\n",
        "\n",
        "# Definir el pipeline con SGDClassifier (Guía proporsionada)\n",
        "pipeline_position_sgd = Pipeline(steps=[\n",
        "    ('preprocessor', col_transformer_position),\n",
        "    ('classifier', SGDClassifier(random_state=1323))\n",
        "])\n",
        "\n",
        "# Entrenar el pipeline con los datos de entrenamiento\n",
        "pipeline_position_sgd.fit(X_train, y_train)\n",
        "\n",
        "# Evaluar el modelo en el conjunto de prueba y generar el reporte de clasificación\n",
        "y_pred_sgd = pipeline_position_sgd.predict(X_test)\n",
        "classification_report_position_sgd = classification_report(y_test, y_pred_sgd)\n",
        "\n",
        "# Mostrar el reporte de clasificación\n",
        "print(classification_report_position_sgd)"
      ]
    },
    {
      "cell_type": "markdown",
      "metadata": {},
      "source": [
        "4. Para el arquero tiene una precisión y recall perfectos (1.00), probablemente debido a que los atributos de los arqueros son muy distintos de los jugadores de campo, facilitando su identificación.\n",
        "\n",
        "    Para defensa el modelo tiene buenas métricas que señalan un buen comportamiento para estas posiciones.\n",
        "\n",
        "    Con respecto a ataque se tiene un Precision de 77%, lo que si bien es una buena métrica, no está al nivel de predicción de defensa.\n",
        "\n",
        "    Luego sigue central, que tiene un Precision de 61%, probablemente debido a la similitud de atributos en posiciones cercanas en el campo, aunque mejora levemente las posiciones como central_ataque y central_defensa.\n",
        "\n",
        "    Las posiciones mencionadas anteriormente tiene la precisión de 56% y 40%, respectivamente, lo que son malas métricas, incluso es mejor la predicción si se tira una moneda al aire para la segunda, lo que indica que el modelo no está capturando el comportamiento de los datos."
      ]
    },
    {
      "cell_type": "markdown",
      "metadata": {
        "id": "9bL2m8nNojXM"
      },
      "source": [
        "## 3. Predicciones de Seleccionados Nacionales para el Jere Klein [30 puntos]"
      ]
    },
    {
      "cell_type": "markdown",
      "metadata": {
        "id": "_2XmRsJdsEh_"
      },
      "source": [
        "<center>\n",
        "<img src='https://www.radioactiva.cl/wp-content/uploads/2024/04/Jere-Klein-1-768x432.webp' width=500 />"
      ]
    },
    {
      "cell_type": "markdown",
      "metadata": {
        "id": "AgmUoVDsqUPu"
      },
      "source": [
        "Después de alcanzar la fama como cantante urbano, Jere Klein decide explorar una nueva faceta. Con su amor por el fútbol y convencido de que los artistas urbanos poseen un talento y versatilidad excepcionales, Jere se embarca en un proyecto innovador: desarrollar un sistema de inteligencia artificial capaz de identificar a jugadores que tienen potencial para convertirse en futbolistas profesionales. Su teoría es que muchos artistas del género urbano chileno, con sus habilidades únicas y su disciplina, podrían destacarse también en el deporte. Con este sistema, Jere espera no solo abrir nuevas oportunidades para sus colegas artistas, sino también demostrar la amplia gama de talentos que pueden ofrecer."
      ]
    },
    {
      "cell_type": "markdown",
      "metadata": {
        "id": "rD8pQ5Zfq8dE"
      },
      "source": [
        "### 2.1 ¿Qué modelo de árbol es más de \"pana\"? [10 puntos]"
      ]
    },
    {
      "cell_type": "markdown",
      "metadata": {
        "id": "zB-KUA4g99eo"
      },
      "source": [
        "<center>\n",
        "<img src='https://64.media.tumblr.com/39189215a7d3d96823cb359f35b44e05/tumblr_psmrhrR3Xw1qf5hjqo4_540.gif' width=300 />"
      ]
    },
    {
      "cell_type": "markdown",
      "metadata": {
        "id": "uL-moVhB9vPH"
      },
      "source": [
        "\n",
        "**Tareas**\n",
        "\n",
        "\n",
        "1. Considerando el la variable llamada `label` creada en la sección 1.1. Para determinar cuál modelo de árbol sería más adecuado para la tarea en cuestión, utilice PyCaret. Este deberá centrarse exclusivamente en modelos de tipo árbol. Jere ha especificado que busca un modelo que tome decisiones rápidamente y que tenga una baja tasa de falsos positivos, ya que planea invertir en estos jugadores. [3 puntos] \n",
        "\n",
        "Para la comparación, utilice los siguientes modelos:\n",
        "\n",
        "```python\n",
        "['et', 'rf', 'dt', 'xgboost', 'lightgbm', 'catboost']\n",
        "```\n",
        "\n",
        "2. Explique en brevemente que son los modelos de la siguiente lista `['et', 'rf', 'dt']` y como funcionan. [3 punto]\n",
        "\n",
        "3. Tras realizar la comparación de modelos, seleccione aquel que muestre el mejor rendimiento en términos de velocidad y precisión, especialmente en la reducción de falsos positivos. Utilice la función `evaluate_model` de PyCaret para revisar y analizar los resultados obtenidos en los siguientes aspectos:\n",
        "\n",
        "  - **Confusión Matrix**: ¿Cómo se encuentran la tasa de verdaderos positivos y verdaderos negativos?\n",
        "  - **Threshold**: ¿Es acaso el umbral por defecto del modelo el mejor para las predicciones?\n",
        "  - **Feature Importance**: ¿Cuáles son las variables con mejor desempeño? ¿A qué podría deberse esto?\n",
        "  - **Learning Curve**: ¿El modelo presenta algún problema?\n",
        "\n",
        "  [4 puntos]"
      ]
    },
    {
      "cell_type": "markdown",
      "metadata": {
        "id": "qY85nrViYROF"
      },
      "source": [
        "**Respuesta**"
      ]
    },
    {
      "cell_type": "code",
      "execution_count": 13,
      "metadata": {
        "id": "kUCjOjsEYUXL"
      },
      "outputs": [
        {
          "data": {
            "text/html": [
              "<style type=\"text/css\">\n",
              "#T_9bc1c_row8_col1 {\n",
              "  background-color: lightgreen;\n",
              "}\n",
              "</style>\n",
              "<table id=\"T_9bc1c\">\n",
              "  <thead>\n",
              "    <tr>\n",
              "      <th class=\"blank level0\" >&nbsp;</th>\n",
              "      <th id=\"T_9bc1c_level0_col0\" class=\"col_heading level0 col0\" >Description</th>\n",
              "      <th id=\"T_9bc1c_level0_col1\" class=\"col_heading level0 col1\" >Value</th>\n",
              "    </tr>\n",
              "  </thead>\n",
              "  <tbody>\n",
              "    <tr>\n",
              "      <th id=\"T_9bc1c_level0_row0\" class=\"row_heading level0 row0\" >0</th>\n",
              "      <td id=\"T_9bc1c_row0_col0\" class=\"data row0 col0\" >Session id</td>\n",
              "      <td id=\"T_9bc1c_row0_col1\" class=\"data row0 col1\" >1323</td>\n",
              "    </tr>\n",
              "    <tr>\n",
              "      <th id=\"T_9bc1c_level0_row1\" class=\"row_heading level0 row1\" >1</th>\n",
              "      <td id=\"T_9bc1c_row1_col0\" class=\"data row1 col0\" >Target</td>\n",
              "      <td id=\"T_9bc1c_row1_col1\" class=\"data row1 col1\" >label</td>\n",
              "    </tr>\n",
              "    <tr>\n",
              "      <th id=\"T_9bc1c_level0_row2\" class=\"row_heading level0 row2\" >2</th>\n",
              "      <td id=\"T_9bc1c_row2_col0\" class=\"data row2 col0\" >Target type</td>\n",
              "      <td id=\"T_9bc1c_row2_col1\" class=\"data row2 col1\" >Binary</td>\n",
              "    </tr>\n",
              "    <tr>\n",
              "      <th id=\"T_9bc1c_level0_row3\" class=\"row_heading level0 row3\" >3</th>\n",
              "      <td id=\"T_9bc1c_row3_col0\" class=\"data row3 col0\" >Original data shape</td>\n",
              "      <td id=\"T_9bc1c_row3_col1\" class=\"data row3 col1\" >(17588, 234)</td>\n",
              "    </tr>\n",
              "    <tr>\n",
              "      <th id=\"T_9bc1c_level0_row4\" class=\"row_heading level0 row4\" >4</th>\n",
              "      <td id=\"T_9bc1c_row4_col0\" class=\"data row4 col0\" >Transformed data shape</td>\n",
              "      <td id=\"T_9bc1c_row4_col1\" class=\"data row4 col1\" >(17588, 234)</td>\n",
              "    </tr>\n",
              "    <tr>\n",
              "      <th id=\"T_9bc1c_level0_row5\" class=\"row_heading level0 row5\" >5</th>\n",
              "      <td id=\"T_9bc1c_row5_col0\" class=\"data row5 col0\" >Transformed train set shape</td>\n",
              "      <td id=\"T_9bc1c_row5_col1\" class=\"data row5 col1\" >(12311, 234)</td>\n",
              "    </tr>\n",
              "    <tr>\n",
              "      <th id=\"T_9bc1c_level0_row6\" class=\"row_heading level0 row6\" >6</th>\n",
              "      <td id=\"T_9bc1c_row6_col0\" class=\"data row6 col0\" >Transformed test set shape</td>\n",
              "      <td id=\"T_9bc1c_row6_col1\" class=\"data row6 col1\" >(5277, 234)</td>\n",
              "    </tr>\n",
              "    <tr>\n",
              "      <th id=\"T_9bc1c_level0_row7\" class=\"row_heading level0 row7\" >7</th>\n",
              "      <td id=\"T_9bc1c_row7_col0\" class=\"data row7 col0\" >Numeric features</td>\n",
              "      <td id=\"T_9bc1c_row7_col1\" class=\"data row7 col1\" >33</td>\n",
              "    </tr>\n",
              "    <tr>\n",
              "      <th id=\"T_9bc1c_level0_row8\" class=\"row_heading level0 row8\" >8</th>\n",
              "      <td id=\"T_9bc1c_row8_col0\" class=\"data row8 col0\" >Preprocess</td>\n",
              "      <td id=\"T_9bc1c_row8_col1\" class=\"data row8 col1\" >True</td>\n",
              "    </tr>\n",
              "    <tr>\n",
              "      <th id=\"T_9bc1c_level0_row9\" class=\"row_heading level0 row9\" >9</th>\n",
              "      <td id=\"T_9bc1c_row9_col0\" class=\"data row9 col0\" >Imputation type</td>\n",
              "      <td id=\"T_9bc1c_row9_col1\" class=\"data row9 col1\" >simple</td>\n",
              "    </tr>\n",
              "    <tr>\n",
              "      <th id=\"T_9bc1c_level0_row10\" class=\"row_heading level0 row10\" >10</th>\n",
              "      <td id=\"T_9bc1c_row10_col0\" class=\"data row10 col0\" >Numeric imputation</td>\n",
              "      <td id=\"T_9bc1c_row10_col1\" class=\"data row10 col1\" >mean</td>\n",
              "    </tr>\n",
              "    <tr>\n",
              "      <th id=\"T_9bc1c_level0_row11\" class=\"row_heading level0 row11\" >11</th>\n",
              "      <td id=\"T_9bc1c_row11_col0\" class=\"data row11 col0\" >Categorical imputation</td>\n",
              "      <td id=\"T_9bc1c_row11_col1\" class=\"data row11 col1\" >mode</td>\n",
              "    </tr>\n",
              "    <tr>\n",
              "      <th id=\"T_9bc1c_level0_row12\" class=\"row_heading level0 row12\" >12</th>\n",
              "      <td id=\"T_9bc1c_row12_col0\" class=\"data row12 col0\" >Fold Generator</td>\n",
              "      <td id=\"T_9bc1c_row12_col1\" class=\"data row12 col1\" >StratifiedKFold</td>\n",
              "    </tr>\n",
              "    <tr>\n",
              "      <th id=\"T_9bc1c_level0_row13\" class=\"row_heading level0 row13\" >13</th>\n",
              "      <td id=\"T_9bc1c_row13_col0\" class=\"data row13 col0\" >Fold Number</td>\n",
              "      <td id=\"T_9bc1c_row13_col1\" class=\"data row13 col1\" >10</td>\n",
              "    </tr>\n",
              "    <tr>\n",
              "      <th id=\"T_9bc1c_level0_row14\" class=\"row_heading level0 row14\" >14</th>\n",
              "      <td id=\"T_9bc1c_row14_col0\" class=\"data row14 col0\" >CPU Jobs</td>\n",
              "      <td id=\"T_9bc1c_row14_col1\" class=\"data row14 col1\" >-1</td>\n",
              "    </tr>\n",
              "    <tr>\n",
              "      <th id=\"T_9bc1c_level0_row15\" class=\"row_heading level0 row15\" >15</th>\n",
              "      <td id=\"T_9bc1c_row15_col0\" class=\"data row15 col0\" >Use GPU</td>\n",
              "      <td id=\"T_9bc1c_row15_col1\" class=\"data row15 col1\" >False</td>\n",
              "    </tr>\n",
              "    <tr>\n",
              "      <th id=\"T_9bc1c_level0_row16\" class=\"row_heading level0 row16\" >16</th>\n",
              "      <td id=\"T_9bc1c_row16_col0\" class=\"data row16 col0\" >Log Experiment</td>\n",
              "      <td id=\"T_9bc1c_row16_col1\" class=\"data row16 col1\" >False</td>\n",
              "    </tr>\n",
              "    <tr>\n",
              "      <th id=\"T_9bc1c_level0_row17\" class=\"row_heading level0 row17\" >17</th>\n",
              "      <td id=\"T_9bc1c_row17_col0\" class=\"data row17 col0\" >Experiment Name</td>\n",
              "      <td id=\"T_9bc1c_row17_col1\" class=\"data row17 col1\" >clf-default-name</td>\n",
              "    </tr>\n",
              "    <tr>\n",
              "      <th id=\"T_9bc1c_level0_row18\" class=\"row_heading level0 row18\" >18</th>\n",
              "      <td id=\"T_9bc1c_row18_col0\" class=\"data row18 col0\" >USI</td>\n",
              "      <td id=\"T_9bc1c_row18_col1\" class=\"data row18 col1\" >5fa9</td>\n",
              "    </tr>\n",
              "  </tbody>\n",
              "</table>\n"
            ],
            "text/plain": [
              "<pandas.io.formats.style.Styler at 0x24a0487cad0>"
            ]
          },
          "metadata": {},
          "output_type": "display_data"
        },
        {
          "data": {
            "text/html": [],
            "text/plain": [
              "<IPython.core.display.HTML object>"
            ]
          },
          "metadata": {},
          "output_type": "display_data"
        },
        {
          "data": {
            "text/html": [
              "<style type=\"text/css\">\n",
              "#T_38c1c th {\n",
              "  text-align: left;\n",
              "}\n",
              "#T_38c1c_row0_col0, #T_38c1c_row0_col1, #T_38c1c_row0_col2, #T_38c1c_row0_col3, #T_38c1c_row0_col5, #T_38c1c_row0_col6, #T_38c1c_row0_col7, #T_38c1c_row1_col0, #T_38c1c_row1_col1, #T_38c1c_row1_col2, #T_38c1c_row1_col3, #T_38c1c_row1_col4, #T_38c1c_row1_col5, #T_38c1c_row1_col6, #T_38c1c_row1_col7, #T_38c1c_row2_col0, #T_38c1c_row2_col3, #T_38c1c_row2_col4, #T_38c1c_row2_col5, #T_38c1c_row2_col6, #T_38c1c_row3_col0, #T_38c1c_row3_col1, #T_38c1c_row3_col2, #T_38c1c_row3_col3, #T_38c1c_row3_col4, #T_38c1c_row3_col5, #T_38c1c_row3_col6, #T_38c1c_row3_col7, #T_38c1c_row4_col0, #T_38c1c_row4_col1, #T_38c1c_row4_col2, #T_38c1c_row4_col3, #T_38c1c_row4_col4, #T_38c1c_row4_col7, #T_38c1c_row5_col0, #T_38c1c_row5_col1, #T_38c1c_row5_col2, #T_38c1c_row5_col4, #T_38c1c_row5_col5, #T_38c1c_row5_col6, #T_38c1c_row5_col7 {\n",
              "  text-align: left;\n",
              "}\n",
              "#T_38c1c_row0_col4, #T_38c1c_row2_col1, #T_38c1c_row2_col2, #T_38c1c_row2_col7, #T_38c1c_row4_col5, #T_38c1c_row4_col6, #T_38c1c_row5_col3 {\n",
              "  text-align: left;\n",
              "  background-color: yellow;\n",
              "}\n",
              "#T_38c1c_row0_col8, #T_38c1c_row1_col8, #T_38c1c_row2_col8, #T_38c1c_row3_col8, #T_38c1c_row4_col8 {\n",
              "  text-align: left;\n",
              "  background-color: lightgrey;\n",
              "}\n",
              "#T_38c1c_row5_col8 {\n",
              "  text-align: left;\n",
              "  background-color: yellow;\n",
              "  background-color: lightgrey;\n",
              "}\n",
              "</style>\n",
              "<table id=\"T_38c1c\">\n",
              "  <thead>\n",
              "    <tr>\n",
              "      <th class=\"blank level0\" >&nbsp;</th>\n",
              "      <th id=\"T_38c1c_level0_col0\" class=\"col_heading level0 col0\" >Model</th>\n",
              "      <th id=\"T_38c1c_level0_col1\" class=\"col_heading level0 col1\" >Accuracy</th>\n",
              "      <th id=\"T_38c1c_level0_col2\" class=\"col_heading level0 col2\" >AUC</th>\n",
              "      <th id=\"T_38c1c_level0_col3\" class=\"col_heading level0 col3\" >Recall</th>\n",
              "      <th id=\"T_38c1c_level0_col4\" class=\"col_heading level0 col4\" >Prec.</th>\n",
              "      <th id=\"T_38c1c_level0_col5\" class=\"col_heading level0 col5\" >F1</th>\n",
              "      <th id=\"T_38c1c_level0_col6\" class=\"col_heading level0 col6\" >Kappa</th>\n",
              "      <th id=\"T_38c1c_level0_col7\" class=\"col_heading level0 col7\" >MCC</th>\n",
              "      <th id=\"T_38c1c_level0_col8\" class=\"col_heading level0 col8\" >TT (Sec)</th>\n",
              "    </tr>\n",
              "  </thead>\n",
              "  <tbody>\n",
              "    <tr>\n",
              "      <th id=\"T_38c1c_level0_row0\" class=\"row_heading level0 row0\" >et</th>\n",
              "      <td id=\"T_38c1c_row0_col0\" class=\"data row0 col0\" >Extra Trees Classifier</td>\n",
              "      <td id=\"T_38c1c_row0_col1\" class=\"data row0 col1\" >0.9428</td>\n",
              "      <td id=\"T_38c1c_row0_col2\" class=\"data row0 col2\" >0.9373</td>\n",
              "      <td id=\"T_38c1c_row0_col3\" class=\"data row0 col3\" >0.1011</td>\n",
              "      <td id=\"T_38c1c_row0_col4\" class=\"data row0 col4\" >0.7321</td>\n",
              "      <td id=\"T_38c1c_row0_col5\" class=\"data row0 col5\" >0.1752</td>\n",
              "      <td id=\"T_38c1c_row0_col6\" class=\"data row0 col6\" >0.1632</td>\n",
              "      <td id=\"T_38c1c_row0_col7\" class=\"data row0 col7\" >0.2542</td>\n",
              "      <td id=\"T_38c1c_row0_col8\" class=\"data row0 col8\" >1.9330</td>\n",
              "    </tr>\n",
              "    <tr>\n",
              "      <th id=\"T_38c1c_level0_row1\" class=\"row_heading level0 row1\" >rf</th>\n",
              "      <td id=\"T_38c1c_row1_col0\" class=\"data row1 col0\" >Random Forest Classifier</td>\n",
              "      <td id=\"T_38c1c_row1_col1\" class=\"data row1 col1\" >0.9420</td>\n",
              "      <td id=\"T_38c1c_row1_col2\" class=\"data row1 col2\" >0.9263</td>\n",
              "      <td id=\"T_38c1c_row1_col3\" class=\"data row1 col3\" >0.0864</td>\n",
              "      <td id=\"T_38c1c_row1_col4\" class=\"data row1 col4\" >0.6893</td>\n",
              "      <td id=\"T_38c1c_row1_col5\" class=\"data row1 col5\" >0.1511</td>\n",
              "      <td id=\"T_38c1c_row1_col6\" class=\"data row1 col6\" >0.1401</td>\n",
              "      <td id=\"T_38c1c_row1_col7\" class=\"data row1 col7\" >0.2255</td>\n",
              "      <td id=\"T_38c1c_row1_col8\" class=\"data row1 col8\" >1.0650</td>\n",
              "    </tr>\n",
              "    <tr>\n",
              "      <th id=\"T_38c1c_level0_row2\" class=\"row_heading level0 row2\" >catboost</th>\n",
              "      <td id=\"T_38c1c_row2_col0\" class=\"data row2 col0\" >CatBoost Classifier</td>\n",
              "      <td id=\"T_38c1c_row2_col1\" class=\"data row2 col1\" >0.9490</td>\n",
              "      <td id=\"T_38c1c_row2_col2\" class=\"data row2 col2\" >0.9478</td>\n",
              "      <td id=\"T_38c1c_row2_col3\" class=\"data row2 col3\" >0.2965</td>\n",
              "      <td id=\"T_38c1c_row2_col4\" class=\"data row2 col4\" >0.6868</td>\n",
              "      <td id=\"T_38c1c_row2_col5\" class=\"data row2 col5\" >0.4116</td>\n",
              "      <td id=\"T_38c1c_row2_col6\" class=\"data row2 col6\" >0.3897</td>\n",
              "      <td id=\"T_38c1c_row2_col7\" class=\"data row2 col7\" >0.4287</td>\n",
              "      <td id=\"T_38c1c_row2_col8\" class=\"data row2 col8\" >8.8540</td>\n",
              "    </tr>\n",
              "    <tr>\n",
              "      <th id=\"T_38c1c_level0_row3\" class=\"row_heading level0 row3\" >lightgbm</th>\n",
              "      <td id=\"T_38c1c_row3_col0\" class=\"data row3 col0\" >Light Gradient Boosting Machine</td>\n",
              "      <td id=\"T_38c1c_row3_col1\" class=\"data row3 col1\" >0.9474</td>\n",
              "      <td id=\"T_38c1c_row3_col2\" class=\"data row3 col2\" >0.9440</td>\n",
              "      <td id=\"T_38c1c_row3_col3\" class=\"data row3 col3\" >0.2872</td>\n",
              "      <td id=\"T_38c1c_row3_col4\" class=\"data row3 col4\" >0.6632</td>\n",
              "      <td id=\"T_38c1c_row3_col5\" class=\"data row3 col5\" >0.3990</td>\n",
              "      <td id=\"T_38c1c_row3_col6\" class=\"data row3 col6\" >0.3760</td>\n",
              "      <td id=\"T_38c1c_row3_col7\" class=\"data row3 col7\" >0.4132</td>\n",
              "      <td id=\"T_38c1c_row3_col8\" class=\"data row3 col8\" >0.4670</td>\n",
              "    </tr>\n",
              "    <tr>\n",
              "      <th id=\"T_38c1c_level0_row4\" class=\"row_heading level0 row4\" >xgboost</th>\n",
              "      <td id=\"T_38c1c_row4_col0\" class=\"data row4 col0\" >Extreme Gradient Boosting</td>\n",
              "      <td id=\"T_38c1c_row4_col1\" class=\"data row4 col1\" >0.9474</td>\n",
              "      <td id=\"T_38c1c_row4_col2\" class=\"data row4 col2\" >0.9469</td>\n",
              "      <td id=\"T_38c1c_row4_col3\" class=\"data row4 col3\" >0.3126</td>\n",
              "      <td id=\"T_38c1c_row4_col4\" class=\"data row4 col4\" >0.6455</td>\n",
              "      <td id=\"T_38c1c_row4_col5\" class=\"data row4 col5\" >0.4179</td>\n",
              "      <td id=\"T_38c1c_row4_col6\" class=\"data row4 col6\" >0.3941</td>\n",
              "      <td id=\"T_38c1c_row4_col7\" class=\"data row4 col7\" >0.4241</td>\n",
              "      <td id=\"T_38c1c_row4_col8\" class=\"data row4 col8\" >0.7970</td>\n",
              "    </tr>\n",
              "    <tr>\n",
              "      <th id=\"T_38c1c_level0_row5\" class=\"row_heading level0 row5\" >dt</th>\n",
              "      <td id=\"T_38c1c_row5_col0\" class=\"data row5 col0\" >Decision Tree Classifier</td>\n",
              "      <td id=\"T_38c1c_row5_col1\" class=\"data row5 col1\" >0.9271</td>\n",
              "      <td id=\"T_38c1c_row5_col2\" class=\"data row5 col2\" >0.6945</td>\n",
              "      <td id=\"T_38c1c_row5_col3\" class=\"data row5 col3\" >0.4297</td>\n",
              "      <td id=\"T_38c1c_row5_col4\" class=\"data row5 col4\" >0.4082</td>\n",
              "      <td id=\"T_38c1c_row5_col5\" class=\"data row5 col5\" >0.4178</td>\n",
              "      <td id=\"T_38c1c_row5_col6\" class=\"data row5 col6\" >0.3790</td>\n",
              "      <td id=\"T_38c1c_row5_col7\" class=\"data row5 col7\" >0.3796</td>\n",
              "      <td id=\"T_38c1c_row5_col8\" class=\"data row5 col8\" >0.2930</td>\n",
              "    </tr>\n",
              "  </tbody>\n",
              "</table>\n"
            ],
            "text/plain": [
              "<pandas.io.formats.style.Styler at 0x24a0490fb10>"
            ]
          },
          "metadata": {},
          "output_type": "display_data"
        },
        {
          "data": {
            "text/html": [],
            "text/plain": [
              "<IPython.core.display.HTML object>"
            ]
          },
          "metadata": {},
          "output_type": "display_data"
        },
        {
          "data": {
            "application/vnd.jupyter.widget-view+json": {
              "model_id": "41860b8daf8a437c861ae9b1d37692d7",
              "version_major": 2,
              "version_minor": 0
            },
            "text/plain": [
              "interactive(children=(ToggleButtons(description='Plot Type:', icons=('',), options=(('Pipeline Plot', 'pipelin…"
            ]
          },
          "metadata": {},
          "output_type": "display_data"
        }
      ],
      "source": [
        "from pycaret.datasets import get_data\n",
        "from pycaret.classification import *\n",
        "import os\n",
        "\n",
        "os.environ[\"PYCARET_CUSTOM_LOGGING_LEVEL\"] = \"CRITICAL\"\n",
        "\n",
        "#Continuar código aquí\n",
        "\n",
        "df_selec = df.copy()\n",
        "df_selec['label'] = df_selec['National_Position'].notna().astype(int)\n",
        "df_selec = df_selec.drop(columns=['Name', 'National_Position'])\n",
        "\n",
        "numerical_cols = df_selec.select_dtypes(include=['int32','float64', 'int64']).columns\n",
        "categorical_cols = df_selec.select_dtypes(include=['object', 'category']).columns\n",
        "\n",
        "scaler = MinMaxScaler()\n",
        "df_selec[numerical_cols] = scaler.fit_transform(df_selec[numerical_cols])\n",
        "\n",
        "df_selec = pd.get_dummies(df_selec, columns=categorical_cols) # One hot encoding\n",
        "\n",
        "clf_setup = setup(\n",
        "    df_selec, \n",
        "    target='label',\n",
        "    session_id=1323)\n",
        "\n",
        "best_model = compare_models(\n",
        "    include=['et', 'rf', 'dt', 'xgboost', 'lightgbm', 'catboost'], \n",
        "    sort='Precision'\n",
        ")\n",
        "\n",
        "evaluate_model(best_model)"
      ]
    },
    {
      "cell_type": "markdown",
      "metadata": {},
      "source": [
        "2. dt (Decision Tree): Un árbol de decisiones clasifica los datos creando “ramas” basadas en condiciones. Cada nodo toma decisiones usando características específicas hasta llegar a un resultado final.\n",
        "\n",
        "    rf (Random Forest): Un bosque aleatorio combina muchos árboles de decisión, cada uno entrenado con diferentes datos. Luego, los resultados se promedian o votan. Esto lo hace más preciso y reduce errores, evitando que se ajuste demasiado.\n",
        "\n",
        "    et (Extra Trees): Muy parecido a Random Forest, pero con un toque extra de aleatoriedad en cómo divide los datos en cada nodo. Esto hace que el modelo sea más rápido y diverso."
      ]
    },
    {
      "cell_type": "markdown",
      "metadata": {},
      "source": [
        "3. El modelo Random Forest es la mejor opción, ya que con una precisión del 73.21%, es el más confiable en reducir la tasa de falsos positivos, que es una prioridad para Jere al buscar jugadores con verdadero potencial. Aunque su tiempo de procesamiento es de 1.007 segundos, mayor que otras opciones, sigue siendo rápido y está lejos de los 8.895 segundos de CatBoost, el modelo más lento.\n",
        "\n",
        "    La matriz de confusión muestra una clara desbalance en las clases, con una alta precisión en la clase negativa, mientras que los positivos son en su mayoría clasificados como negativos.\n",
        "\n",
        "    El umbral predeterminado no necesariamente es el óptimo para las predicciones. En este caso, parece que un umbral alrededor de 0.18 maximiza el valor de f_1, que es el equilibrio entre precisión y recall. \n",
        "\n",
        "    Las variables con mejor desempeño son \"Reactions\" y \"Composure\", esto sugiere que la habilidad de reacción y la compostura son fuertes indicadores de la etiqueta, probablemente porque están relacionadas con el rendimiento general del jugador en su posición.\n",
        "\n",
        "    La curva muestra una alta precisión en los datos de entrenamiento (cerca de 1), mientras que la precisión en validación es más baja (alrededor de 0.94). Esto indica que el modelo puede estar sobreajustado, ya que aprende muy bien los datos de entrenamiento pero no generaliza tan bien en los datos de validación.\n",
        "\n",
        "\n"
      ]
    },
    {
      "cell_type": "markdown",
      "metadata": {
        "id": "K8DSS3u1xMpB"
      },
      "source": [
        "### 2.2 Reducción de dimensionalidad [14 puntos]"
      ]
    },
    {
      "cell_type": "markdown",
      "metadata": {
        "id": "RLu0543p876P"
      },
      "source": [
        "<center>\n",
        "<img src='https://i.kym-cdn.com/photos/images/original/002/258/560/668.gif' width=400 />"
      ]
    },
    {
      "cell_type": "markdown",
      "metadata": {
        "id": "QT-bxJ0txwNF"
      },
      "source": [
        "A pesar de los resultados obtenidos previamente, el manager de Jere ha solicitado el entrenamiento de un modelo de XGBoost utilizando los datos disponibles. Además, se debe proceder a realizar una reducción de dimensionalidad basada en la importancia de las características.\n",
        "\n",
        "Para llevar a cabo esta tarea:\n",
        "\n",
        "1. Inicie entrenando un modelo XGBoost con todas las características disponibles. [2 puntos]\n",
        "\n",
        "2. Una vez el modelo esté entrenado, evalúe y clasifique las características según su importancia de forma descendente. [2 puntos]\n",
        "\n",
        "3. Utilice esta clasificación para ejecutar una búsqueda recursiva de eliminación de características, eliminando progresivamente las menos importantes y evaluando el impacto en el desempeño del modelo hasta identificar las N características más críticas. [2 puntos]\n",
        "\n",
        "4. Con este conjunto reducido de características, entrene un nuevo modelo y evalúe su rendimiento. [2 puntos]\n",
        "\n",
        "5. Posteriormente, responda a las siguientes preguntas para una comprensión más profunda de los cambios y beneficios:\n",
        "\n",
        "  - ¿El rendimiento del modelo con las características seleccionadas es similar al del modelo original? ¿Cómo se comparan en términos de precisión y robustez? [2 puntos]\n",
        "  - ¿Cuáles son los beneficios potenciales de eliminar variables del modelo? Considere factores como la simplificación del modelo, reducción del tiempo de entrenamiento, y mejora en la capacidad de generalización. [2 puntos]\n",
        "  - Comente si el modelo con menor dimensionalidad es más sencillo de explicar. Explique brevemente por qué la eliminación de ciertas características puede facilitar la comprensión y la explicación del comportamiento del modelo. [2 puntos]\n",
        "\n",
        "Notar que con esta metodologia buscamos encontrar un punto entermedio entre número de festures y desempeño. por esto, si observa que al aumentar festires el aumento es despreciable, puede no considerar agregar más features a su modelo."
      ]
    },
    {
      "cell_type": "markdown",
      "metadata": {
        "id": "NHfmK63TuDOS"
      },
      "source": [
        "**Respuesta**"
      ]
    },
    {
      "cell_type": "code",
      "execution_count": 14,
      "metadata": {
        "id": "HQwUd_nsuDOe"
      },
      "outputs": [
        {
          "name": "stdout",
          "output_type": "stream",
          "text": [
            "Precision del modelo completo: 0.5798319327731093\n"
          ]
        }
      ],
      "source": [
        "import xgboost as xgb\n",
        "\n",
        "df_selec = df.copy()\n",
        "df_selec['label'] = df_selec['National_Position'].notna().astype(int)\n",
        "df_selec = df_selec.drop(columns=['Name', 'National_Position'])\n",
        "\n",
        "# 1\n",
        "\n",
        "# Convertir las variables categóricas en dummies\n",
        "df_encoded = pd.get_dummies(df_selec, columns=df_selec.select_dtypes(include=['object']).columns)\n",
        "\n",
        "# Separar características y objetivo\n",
        "X = df_encoded.drop(columns=['label'])\n",
        "y = df_encoded['label']\n",
        "\n",
        "# Dividir los datos en conjunto de entrenamiento y prueba\n",
        "X_train, X_test, y_train, y_test = train_test_split(X, y, test_size=0.2, random_state=1323)\n",
        "\n",
        "# Entrenar el modelo XGBoost con todas las características\n",
        "model = xgb.XGBClassifier()\n",
        "model.fit(X_train, y_train)\n",
        "\n",
        "# Evaluar el modelo\n",
        "y_pred = model.predict(X_test)\n",
        "print(\"Precision del modelo completo:\", precision_score(y_test, y_pred))"
      ]
    },
    {
      "cell_type": "code",
      "execution_count": 15,
      "metadata": {},
      "outputs": [
        {
          "name": "stdout",
          "output_type": "stream",
          "text": [
            "Importancia de características:\n",
            "                         feature  importance\n",
            "11                    Reactions    0.037247\n",
            "105           Nationality_India    0.026837\n",
            "61         Nationality_China PR    0.026072\n",
            "71   Nationality_Czech Republic    0.025582\n",
            "151            Nationality_Peru    0.024732\n",
            "..                          ...         ...\n",
            "135      Nationality_Montserrat    0.000000\n",
            "134      Nationality_Montenegro    0.000000\n",
            "133         Nationality_Moldova    0.000000\n",
            "45          Nationality_Belarus    0.000000\n",
            "147       Nationality_Palestine    0.000000\n",
            "\n",
            "[233 rows x 2 columns]\n"
          ]
        }
      ],
      "source": [
        "# 2\n",
        "# Obtener la importancia de las características\n",
        "feature_importances = model.feature_importances_\n",
        "features = X.columns\n",
        "\n",
        "# Crear un DataFrame ordenado por importancia de características\n",
        "feature_importance_df = pd.DataFrame({'feature': features, 'importance': feature_importances})\n",
        "feature_importance_df = feature_importance_df.sort_values(by='importance', ascending=False)\n",
        "print(\"Importancia de características:\\n\", feature_importance_df)"
      ]
    },
    {
      "cell_type": "code",
      "execution_count": 16,
      "metadata": {},
      "outputs": [
        {
          "name": "stdout",
          "output_type": "stream",
          "text": [
            "Número de características: 233, PRECISION: 0.5982142857142857\n",
            "Número de características: 232, PRECISION: 0.5982142857142857\n",
            "Número de características: 231, PRECISION: 0.5982142857142857\n",
            "Número de características: 230, PRECISION: 0.5982142857142857\n",
            "Número de características: 229, PRECISION: 0.5803571428571429\n",
            "Número de características: 228, PRECISION: 0.5803571428571429\n",
            "Número de características: 227, PRECISION: 0.5803571428571429\n",
            "Número de características: 226, PRECISION: 0.5803571428571429\n",
            "Número de características: 225, PRECISION: 0.5803571428571429\n",
            "Número de características: 224, PRECISION: 0.5803571428571429\n",
            "Número de características: 223, PRECISION: 0.5803571428571429\n",
            "Número de características: 222, PRECISION: 0.5803571428571429\n",
            "Número de características: 221, PRECISION: 0.5803571428571429\n",
            "Número de características: 220, PRECISION: 0.5803571428571429\n",
            "Número de características: 219, PRECISION: 0.5803571428571429\n",
            "Número de características: 218, PRECISION: 0.5803571428571429\n",
            "Número de características: 217, PRECISION: 0.5803571428571429\n",
            "Número de características: 216, PRECISION: 0.5803571428571429\n",
            "Número de características: 215, PRECISION: 0.5803571428571429\n",
            "Número de características: 214, PRECISION: 0.5803571428571429\n",
            "Número de características: 213, PRECISION: 0.5803571428571429\n",
            "Número de características: 212, PRECISION: 0.5803571428571429\n",
            "Número de características: 211, PRECISION: 0.5803571428571429\n",
            "Número de características: 210, PRECISION: 0.5803571428571429\n",
            "Número de características: 209, PRECISION: 0.5803571428571429\n",
            "Número de características: 208, PRECISION: 0.5803571428571429\n",
            "Número de características: 207, PRECISION: 0.5803571428571429\n",
            "Número de características: 206, PRECISION: 0.5803571428571429\n",
            "Número de características: 205, PRECISION: 0.5803571428571429\n",
            "Número de características: 204, PRECISION: 0.5803571428571429\n",
            "Número de características: 203, PRECISION: 0.5803571428571429\n",
            "Número de características: 202, PRECISION: 0.5803571428571429\n",
            "Número de características: 201, PRECISION: 0.5803571428571429\n",
            "Número de características: 200, PRECISION: 0.603448275862069\n",
            "Número de características: 199, PRECISION: 0.603448275862069\n",
            "Número de características: 198, PRECISION: 0.603448275862069\n",
            "Número de características: 197, PRECISION: 0.603448275862069\n",
            "Número de características: 196, PRECISION: 0.603448275862069\n",
            "Número de características: 195, PRECISION: 0.603448275862069\n",
            "Número de características: 194, PRECISION: 0.603448275862069\n",
            "Número de características: 193, PRECISION: 0.603448275862069\n",
            "Número de características: 192, PRECISION: 0.603448275862069\n",
            "Número de características: 191, PRECISION: 0.603448275862069\n",
            "Número de características: 190, PRECISION: 0.603448275862069\n",
            "Número de características: 189, PRECISION: 0.603448275862069\n",
            "Número de características: 188, PRECISION: 0.603448275862069\n",
            "Número de características: 187, PRECISION: 0.603448275862069\n",
            "Número de características: 186, PRECISION: 0.603448275862069\n",
            "Número de características: 185, PRECISION: 0.603448275862069\n",
            "Número de características: 184, PRECISION: 0.603448275862069\n",
            "Número de características: 183, PRECISION: 0.603448275862069\n",
            "Número de características: 182, PRECISION: 0.603448275862069\n",
            "Número de características: 181, PRECISION: 0.603448275862069\n",
            "Número de características: 180, PRECISION: 0.603448275862069\n",
            "Número de características: 179, PRECISION: 0.603448275862069\n",
            "Número de características: 178, PRECISION: 0.603448275862069\n",
            "Número de características: 177, PRECISION: 0.603448275862069\n",
            "Número de características: 176, PRECISION: 0.603448275862069\n",
            "Número de características: 175, PRECISION: 0.603448275862069\n",
            "Número de características: 174, PRECISION: 0.603448275862069\n",
            "Número de características: 173, PRECISION: 0.603448275862069\n",
            "Número de características: 172, PRECISION: 0.603448275862069\n",
            "Número de características: 171, PRECISION: 0.603448275862069\n",
            "Número de características: 170, PRECISION: 0.603448275862069\n",
            "Número de características: 169, PRECISION: 0.603448275862069\n",
            "Número de características: 168, PRECISION: 0.603448275862069\n",
            "Número de características: 167, PRECISION: 0.603448275862069\n",
            "Número de características: 166, PRECISION: 0.603448275862069\n",
            "Número de características: 165, PRECISION: 0.603448275862069\n",
            "Número de características: 164, PRECISION: 0.603448275862069\n",
            "Número de características: 163, PRECISION: 0.5833333333333334\n",
            "Número de características: 162, PRECISION: 0.5833333333333334\n",
            "Número de características: 161, PRECISION: 0.5737704918032787\n",
            "Número de características: 160, PRECISION: 0.5737704918032787\n",
            "Número de características: 159, PRECISION: 0.5737704918032787\n",
            "Número de características: 158, PRECISION: 0.5737704918032787\n",
            "Número de características: 157, PRECISION: 0.5737704918032787\n",
            "Número de características: 156, PRECISION: 0.5737704918032787\n",
            "Número de características: 155, PRECISION: 0.5737704918032787\n",
            "Número de características: 154, PRECISION: 0.5737704918032787\n",
            "Número de características: 153, PRECISION: 0.5737704918032787\n",
            "Número de características: 152, PRECISION: 0.5867768595041323\n",
            "Número de características: 151, PRECISION: 0.5867768595041323\n",
            "Número de características: 150, PRECISION: 0.5867768595041323\n",
            "Número de características: 149, PRECISION: 0.5867768595041323\n",
            "Número de características: 148, PRECISION: 0.5867768595041323\n",
            "Número de características: 147, PRECISION: 0.5867768595041323\n",
            "Número de características: 146, PRECISION: 0.5867768595041323\n",
            "Número de características: 145, PRECISION: 0.5867768595041323\n",
            "Número de características: 144, PRECISION: 0.5867768595041323\n",
            "Número de características: 143, PRECISION: 0.5867768595041323\n",
            "Número de características: 142, PRECISION: 0.5867768595041323\n",
            "Número de características: 141, PRECISION: 0.625\n",
            "Número de características: 140, PRECISION: 0.6065573770491803\n",
            "Número de características: 139, PRECISION: 0.6065573770491803\n",
            "Número de características: 138, PRECISION: 0.6065573770491803\n",
            "Número de características: 137, PRECISION: 0.6065573770491803\n",
            "Número de características: 136, PRECISION: 0.6065573770491803\n",
            "Número de características: 135, PRECISION: 0.6065573770491803\n",
            "Número de características: 134, PRECISION: 0.6065573770491803\n",
            "Número de características: 133, PRECISION: 0.6065573770491803\n",
            "Número de características: 132, PRECISION: 0.6065573770491803\n",
            "Número de características: 131, PRECISION: 0.6065573770491803\n",
            "Número de características: 130, PRECISION: 0.6065573770491803\n",
            "Número de características: 129, PRECISION: 0.6065573770491803\n",
            "Número de características: 128, PRECISION: 0.6065573770491803\n",
            "Número de características: 127, PRECISION: 0.6065573770491803\n",
            "Número de características: 126, PRECISION: 0.6065573770491803\n",
            "Número de características: 125, PRECISION: 0.6065573770491803\n",
            "Número de características: 124, PRECISION: 0.6065573770491803\n",
            "Número de características: 123, PRECISION: 0.6065573770491803\n",
            "Número de características: 122, PRECISION: 0.6065573770491803\n",
            "Número de características: 121, PRECISION: 0.6065573770491803\n",
            "Número de características: 120, PRECISION: 0.6065573770491803\n",
            "Número de características: 119, PRECISION: 0.6065573770491803\n",
            "Número de características: 118, PRECISION: 0.6065573770491803\n",
            "Número de características: 117, PRECISION: 0.6065573770491803\n",
            "Número de características: 116, PRECISION: 0.6065573770491803\n",
            "Número de características: 115, PRECISION: 0.6065573770491803\n",
            "Número de características: 114, PRECISION: 0.6048387096774194\n",
            "Número de características: 113, PRECISION: 0.6048387096774194\n",
            "Número de características: 112, PRECISION: 0.6153846153846154\n",
            "Número de características: 111, PRECISION: 0.6086956521739131\n",
            "Número de características: 110, PRECISION: 0.6086956521739131\n",
            "Número de características: 109, PRECISION: 0.5677966101694916\n",
            "Número de características: 108, PRECISION: 0.5785123966942148\n",
            "Número de características: 107, PRECISION: 0.578125\n",
            "Número de características: 106, PRECISION: 0.6052631578947368\n",
            "Número de características: 105, PRECISION: 0.6153846153846154\n",
            "Número de características: 104, PRECISION: 0.5789473684210527\n",
            "Número de características: 103, PRECISION: 0.5847457627118644\n",
            "Número de características: 102, PRECISION: 0.5859375\n",
            "Número de características: 101, PRECISION: 0.5565217391304348\n",
            "Número de características: 100, PRECISION: 0.5625\n",
            "Número de características: 99, PRECISION: 0.5625\n",
            "Número de características: 98, PRECISION: 0.5478260869565217\n",
            "Número de características: 97, PRECISION: 0.6068376068376068\n",
            "Número de características: 96, PRECISION: 0.6016260162601627\n",
            "Número de características: 95, PRECISION: 0.5833333333333334\n",
            "Número de características: 94, PRECISION: 0.5833333333333334\n",
            "Número de características: 93, PRECISION: 0.5983606557377049\n",
            "Número de características: 92, PRECISION: 0.5702479338842975\n",
            "Número de características: 91, PRECISION: 0.5779816513761468\n",
            "Número de características: 90, PRECISION: 0.5982905982905983\n",
            "Número de características: 89, PRECISION: 0.576271186440678\n",
            "Número de características: 88, PRECISION: 0.5801526717557252\n",
            "Número de características: 87, PRECISION: 0.5819672131147541\n",
            "Número de características: 86, PRECISION: 0.5819672131147541\n",
            "Número de características: 85, PRECISION: 0.6016949152542372\n",
            "Número de características: 84, PRECISION: 0.584\n",
            "Número de características: 83, PRECISION: 0.5565217391304348\n",
            "Número de características: 82, PRECISION: 0.6333333333333333\n",
            "Número de características: 81, PRECISION: 0.6206896551724138\n",
            "Número de características: 80, PRECISION: 0.6083333333333333\n",
            "Número de características: 79, PRECISION: 0.6216216216216216\n",
            "Número de características: 78, PRECISION: 0.6610169491525424\n",
            "Número de características: 77, PRECISION: 0.5677966101694916\n",
            "Número de características: 76, PRECISION: 0.5867768595041323\n",
            "Número de características: 75, PRECISION: 0.6016949152542372\n",
            "Número de características: 74, PRECISION: 0.5826771653543307\n",
            "Número de características: 73, PRECISION: 0.5714285714285714\n",
            "Número de características: 72, PRECISION: 0.5901639344262295\n",
            "Número de características: 71, PRECISION: 0.5677966101694916\n",
            "Número de características: 70, PRECISION: 0.576271186440678\n",
            "Número de características: 69, PRECISION: 0.5777777777777777\n",
            "Número de características: 68, PRECISION: 0.5806451612903226\n",
            "Número de características: 67, PRECISION: 0.5887096774193549\n",
            "Número de características: 66, PRECISION: 0.5964912280701754\n",
            "Número de características: 65, PRECISION: 0.5964912280701754\n",
            "Número de características: 64, PRECISION: 0.5873015873015873\n",
            "Número de características: 63, PRECISION: 0.5887096774193549\n",
            "Número de características: 62, PRECISION: 0.5952380952380952\n",
            "Número de características: 61, PRECISION: 0.5909090909090909\n",
            "Número de características: 60, PRECISION: 0.6062992125984252\n",
            "Número de características: 59, PRECISION: 0.5777777777777777\n",
            "Número de características: 58, PRECISION: 0.6260869565217392\n",
            "Número de características: 57, PRECISION: 0.6015625\n",
            "Número de características: 56, PRECISION: 0.5811965811965812\n",
            "Número de características: 55, PRECISION: 0.5655737704918032\n",
            "Número de características: 54, PRECISION: 0.5564516129032258\n",
            "Número de características: 53, PRECISION: 0.5555555555555556\n",
            "Número de características: 52, PRECISION: 0.5573770491803278\n",
            "Número de características: 51, PRECISION: 0.5772357723577236\n",
            "Número de características: 50, PRECISION: 0.5916666666666667\n",
            "Número de características: 49, PRECISION: 0.6046511627906976\n",
            "Número de características: 48, PRECISION: 0.5572519083969466\n",
            "Número de características: 47, PRECISION: 0.5615384615384615\n",
            "Número de características: 46, PRECISION: 0.5648854961832062\n",
            "Número de características: 45, PRECISION: 0.5511811023622047\n",
            "Número de características: 44, PRECISION: 0.576\n",
            "Número de características: 43, PRECISION: 0.5703125\n",
            "Número de características: 42, PRECISION: 0.5737704918032787\n",
            "Número de características: 41, PRECISION: 0.5714285714285714\n",
            "Número de características: 40, PRECISION: 0.5658914728682171\n",
            "Número de características: 39, PRECISION: 0.559322033898305\n",
            "Número de características: 38, PRECISION: 0.5546875\n",
            "Número de características: 37, PRECISION: 0.5669291338582677\n",
            "Número de características: 36, PRECISION: 0.5454545454545454\n",
            "Número de características: 35, PRECISION: 0.5603448275862069\n",
            "Número de características: 34, PRECISION: 0.5517241379310345\n",
            "Número de características: 33, PRECISION: 0.5409836065573771\n",
            "Número de características: 32, PRECISION: 0.5818181818181818\n",
            "Número de características: 31, PRECISION: 0.5603448275862069\n",
            "Número de características: 30, PRECISION: 0.6037735849056604\n",
            "Número de características: 29, PRECISION: 0.59\n",
            "Número de características: 28, PRECISION: 0.5816326530612245\n",
            "Número de características: 27, PRECISION: 0.6224489795918368\n",
            "Número de características: 26, PRECISION: 0.6161616161616161\n",
            "Número de características: 25, PRECISION: 0.58\n",
            "Número de características: 24, PRECISION: 0.5714285714285714\n",
            "Número de características: 23, PRECISION: 0.5319148936170213\n",
            "Número de características: 22, PRECISION: 0.5263157894736842\n",
            "Número de características: 21, PRECISION: 0.5529411764705883\n",
            "Número de características: 20, PRECISION: 0.5714285714285714\n",
            "Número de características: 19, PRECISION: 0.5595238095238095\n",
            "Número de características: 18, PRECISION: 0.5662650602409639\n",
            "Número de características: 17, PRECISION: 0.5222222222222223\n",
            "Número de características: 16, PRECISION: 0.5333333333333333\n",
            "Número de características: 15, PRECISION: 0.5454545454545454\n",
            "Número de características: 14, PRECISION: 0.5301204819277109\n",
            "Número de características: 13, PRECISION: 0.5694444444444444\n",
            "Número de características: 12, PRECISION: 0.5151515151515151\n",
            "Número de características: 11, PRECISION: 0.5303030303030303\n",
            "Número de características: 10, PRECISION: 0.4576271186440678\n",
            "Número de características: 9, PRECISION: 0.43636363636363634\n",
            "Número de características: 8, PRECISION: 0.4166666666666667\n",
            "Número de características: 7, PRECISION: 0.3953488372093023\n",
            "Número de características: 6, PRECISION: 0.4166666666666667\n",
            "Número de características: 5, PRECISION: 0.4\n",
            "Número de características: 4, PRECISION: 0.3870967741935484\n",
            "Número de características: 3, PRECISION: 0.45454545454545453\n",
            "Número de características: 2, PRECISION: 0.42105263157894735\n",
            "Número de características: 1, PRECISION: 0.3125\n",
            "Mejor número de características: 78\n"
          ]
        }
      ],
      "source": [
        "# 3\n",
        "# Configuración inicial\n",
        "best_precision_score = 0\n",
        "best_features = X.columns\n",
        "\n",
        "for i in range(len(feature_importance_df)):\n",
        "    # Seleccionar las características más importantes\n",
        "    selected_features = feature_importance_df['feature'][:len(feature_importance_df) - i]\n",
        "    X_train_selected = X_train[selected_features]\n",
        "    X_test_selected = X_test[selected_features]\n",
        "    \n",
        "    # Entrenar un nuevo modelo con el conjunto reducido de características\n",
        "    model = xgb.XGBClassifier()\n",
        "    model.fit(X_train_selected, y_train)\n",
        "    y_pred_selected = model.predict(X_test_selected)\n",
        "    \n",
        "    # Evaluar el rendimiento\n",
        "    precision = precision_score(y_test, y_pred_selected)\n",
        "    print(f\"Número de características: {len(selected_features)}, PRECISION: {precision}\")\n",
        "    \n",
        "    # Guardar el mejor conjunto de características según el F1-Score\n",
        "    if precision > best_precision_score:\n",
        "        best_precision_score = precision\n",
        "        best_features = selected_features\n",
        "\n",
        "# Conjunto óptimo de características\n",
        "print(\"Mejor número de características:\", len(best_features))"
      ]
    },
    {
      "cell_type": "code",
      "execution_count": 17,
      "metadata": {},
      "outputs": [
        {
          "name": "stdout",
          "output_type": "stream",
          "text": [
            "Precision del modelo reducido: 0.6610169491525424\n"
          ]
        }
      ],
      "source": [
        "# Entrenar el modelo final con el mejor conjunto de características\n",
        "X_train_best = X_train[best_features]\n",
        "X_test_best = X_test[best_features]\n",
        "\n",
        "final_model = xgb.XGBClassifier()\n",
        "final_model.fit(X_train_best, y_train)\n",
        "y_pred_best = final_model.predict(X_test_best)\n",
        "\n",
        "# Evaluar el rendimiento del modelo reducido\n",
        "print(\"Precision del modelo reducido:\", precision_score(y_test, y_pred_best))"
      ]
    },
    {
      "cell_type": "markdown",
      "metadata": {},
      "source": [
        "5. El rendimiento del modelo reducido es superior al del modelo completo, con una precisión de 0.6610 frente a 0.5798. Esto indica que la selección de características ha mejorado la robustez del modelo al centrarse en las variables más importantes, eliminando el ruido y variables irrelevantes que afectaban la precisión.\n",
        "\n",
        "    Eliminar variables tiene varios beneficios. Simplifica el modelo, lo que reduce el tiempo de entrenamiento y el uso de recursos computacionales. Además, mejora la capacidad de generalización del modelo, ya que disminuye el riesgo de sobreajuste al enfocarse en las características más relevantes.\n",
        "\n",
        "    Finalmente, el modelo reducido es más sencillo de explicar. Con menos variables, es más claro entender el impacto de cada una en las predicciones, lo que facilita la interpretación y aumenta la transparencia del modelo. Esto hace que sea más útil para la toma de decisiones y la comunicación de resultados."
      ]
    },
    {
      "cell_type": "markdown",
      "metadata": {
        "id": "PTG5cH9r3M9g"
      },
      "source": [
        "### 2.3 Calibración Probabilistica [6 puntos]"
      ]
    },
    {
      "cell_type": "markdown",
      "metadata": {
        "id": "CDL0VqjR7yvb"
      },
      "source": [
        "<center>\n",
        "<img src='https://media2.giphy.com/media/l2Je4Ku0Cx292KWv6/200w.gif?cid=6c09b952y0sihtq9tb6sz8j2023x3zxxp3qx1ocgonkpkblj&ep=v1_gifs_search&rid=200w.gif&ct=g' width=400 />"
      ]
    },
    {
      "cell_type": "markdown",
      "metadata": {
        "id": "qmOKxhAw3sic"
      },
      "source": [
        "Para lograr modelos más modulares, se recomienda realizar una calibración del modelo entrenado anteriormente, con el objetivo de obtener salidas que reflejen mayor modularidad.\n",
        "\n",
        "1. Se solicita que utilice un método de calibración que asegure que las probabilidades generadas incrementen de manera monótona. Una métrica ampliamente utilizada para evaluar la precisión de la calibración de un modelo es el Brier Score. Calcule el Brier Score para el modelo tanto antes como después de la calibración. Esto le permitirá realizar una comparación cuantitativa y determinar si la calibración ha mejorado el rendimiento del modelo. Para más información sobre el Brier Score, puede consultar el siguiente enlace: [Scikit-Learn - Brier Score Loss](https://scikit-learn.org/stable/modules/generated/sklearn.metrics.brier_score_loss.html). [3 puntos]\n",
        "\n",
        "2. Tras la calibración, examine y comente los resultados obtenidos. A su análisis añada una comparación visual de las ideales versus las salidas del modelo original (sin calibrar) y del modelo calibrado. [3 puntos]"
      ]
    },
    {
      "cell_type": "markdown",
      "metadata": {
        "id": "QIiYz_qLuD19"
      },
      "source": [
        "**Respuesta**"
      ]
    },
    {
      "cell_type": "code",
      "execution_count": 18,
      "metadata": {
        "id": "l0bfSuiFuD2I"
      },
      "outputs": [
        {
          "name": "stdout",
          "output_type": "stream",
          "text": [
            "Brier Score sin calibrar: 0.03628546749308746\n",
            "Brier Score calibrado: 0.037057209930024655\n"
          ]
        }
      ],
      "source": [
        "# 1\n",
        "\n",
        "from sklearn.calibration import CalibratedClassifierCV, calibration_curve\n",
        "from sklearn.metrics import brier_score_loss\n",
        "\n",
        "model_uncalibrated = final_model\n",
        "model_uncalibrated.fit(X_train, y_train)\n",
        "\n",
        "y_prob_uncalibrated = model_uncalibrated.predict_proba(X_test)[:, 1]\n",
        "brier_score_uncalibrated = brier_score_loss(y_test, y_prob_uncalibrated)\n",
        "print(\"Brier Score sin calibrar:\", brier_score_uncalibrated)\n",
        "\n",
        "calibrated_model = CalibratedClassifierCV(model_uncalibrated)\n",
        "calibrated_model.fit(X_train, y_train)\n",
        "\n",
        "y_prob_calibrated = calibrated_model.predict_proba(X_test)[:, 1]\n",
        "brier_score_calibrated = brier_score_loss(y_test, y_prob_calibrated)\n",
        "print(\"Brier Score calibrado:\", brier_score_calibrated)\n"
      ]
    },
    {
      "cell_type": "code",
      "execution_count": 19,
      "metadata": {},
      "outputs": [
        {
          "data": {
            "image/png": "[encoded data removed]",
            "text/plain": [
              "<Figure size 1000x600 with 1 Axes>"
            ]
          },
          "metadata": {},
          "output_type": "display_data"
        }
      ],
      "source": [
        "# 2\n",
        "\n",
        "import matplotlib.pyplot as plt\n",
        "\n",
        "prob_true_uncalibrated, prob_pred_uncalibrated = calibration_curve(y_test, y_prob_uncalibrated, n_bins=10)\n",
        "prob_true_calibrated, prob_pred_calibrated = calibration_curve(y_test, y_prob_calibrated, n_bins=10)\n",
        "\n",
        "plt.figure(figsize=(10, 6))\n",
        "plt.plot(prob_pred_uncalibrated, prob_true_uncalibrated, marker='o', label='Sin calibrar', color='blue')\n",
        "plt.plot(prob_pred_calibrated, prob_true_calibrated, marker='o', label='Calibrado', color='green')\n",
        "plt.plot([0, 1], [0, 1], linestyle='--', color='gray', label='Ideal') \n",
        "\n",
        "plt.xlabel(\"Probabilidades predichas\")\n",
        "plt.ylabel(\"Probabilidades verdaderas\")\n",
        "plt.title(\"Curva de Calibración del Modelo\")\n",
        "plt.legend()\n",
        "plt.show()\n"
      ]
    },
    {
      "cell_type": "markdown",
      "metadata": {},
      "source": [
        "Las predicciones se alejan de la línea ideal, lo que significa que las probabilidades no son tan confiables. Sin embargo, con la calibración (línea verde), las predicciones se acercan mucho más a lo ideal, reflejando mejor las probabilidades reales, especialmente después de 0.4. En resumen, el modelo calibrado da probabilidades más precisas y es más confiable para interpretar las predicciones."
      ]
    }
  ],
  "metadata": {
    "colab": {
      "collapsed_sections": [
        "k-ao0mOU64Ru",
        "Jg_9jBqtgRDO",
        "JdcucZhp-M_0",
        "Qfre1YsSDqla",
        "Bv1HOfcNEPF4",
        "poc9HSNBFeKO",
        "uy5VMU6ae_g6",
        "9bL2m8nNojXM",
        "rD8pQ5Zfq8dE",
        "K8DSS3u1xMpB",
        "PTG5cH9r3M9g"
      ],
      "provenance": []
    },
    "kernelspec": {
      "display_name": "Python 3",
      "language": "python",
      "name": "python3"
    },
    "language_info": {
      "codemirror_mode": {
        "name": "ipython",
        "version": 3
      },
      "file_extension": ".py",
      "mimetype": "text/x-python",
      "name": "python",
      "nbconvert_exporter": "python",
      "pygments_lexer": "ipython3",
      "version": "3.11.9"
    }
  },
  "nbformat": 4,
  "nbformat_minor": 0
}
