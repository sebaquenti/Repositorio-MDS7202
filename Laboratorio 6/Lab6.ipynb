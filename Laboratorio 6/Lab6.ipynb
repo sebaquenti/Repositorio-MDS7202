{
  "cells": [
    {
      "cell_type": "markdown",
      "metadata": {
        "cell_id": "ac9155b9f5e04400957a6f8bb3f6610c",
        "deepnote_cell_type": "markdown",
        "id": "2v2D1coL7I8i"
      },
      "source": [
        "<h1><center>Laboratorio 6: La solicitud de Sergio 🤗</center></h1>\n",
        "\n",
        "<center><strong>MDS7202: Laboratorio de Programación Científica para Ciencia de Datos - Primavera 2024</strong></center>"
      ]
    },
    {
      "cell_type": "markdown",
      "metadata": {},
      "source": [
        "Las celdas de este archivo no están ejecutadas debido al limite de MB de GitHub\n",
        "\n"
      ]
    },
    {
      "cell_type": "markdown",
      "metadata": {
        "cell_id": "d3d6f6d405c54dbe985a5f4b3e4f9120",
        "deepnote_cell_type": "markdown",
        "id": "YxdTmIPD7L_x"
      },
      "source": [
        "### Cuerpo Docente:\n",
        "\n",
        "- Profesores: Ignacio Meza, Sebastián Tinoco\n",
        "- Auxiliar: Eduardo Moya\n",
        "- Ayudantes: Nicolás Ojeda, Melanie Peña, Valentina Rojas"
      ]
    },
    {
      "cell_type": "markdown",
      "metadata": {
        "cell_id": "851a7788e8214942863cbd4099064ab2",
        "deepnote_cell_type": "markdown",
        "id": "Y2Gyrj-x7N2L"
      },
      "source": [
        "### Equipo: SUPER IMPORTANTE - notebooks sin nombre no serán revisados\n",
        "\n",
        "- Nombre de alumno 1: Cristian Oyarzo M.\n",
        "- Nombre de alumno 2: Sebastián Quenti A.\n"
      ]
    },
    {
      "cell_type": "markdown",
      "metadata": {
        "cell_id": "f23a189afdec4e198683308db70e43b7",
        "deepnote_cell_type": "markdown",
        "id": "jQ9skYc57Pxi"
      },
      "source": [
        "### **Link de repositorio de GitHub:** [Repositorio](https://github.com/sebaquenti/Repositorio-MDS7202)"
      ]
    },
    {
      "cell_type": "markdown",
      "metadata": {
        "cell_id": "b5318f41cda64d4290a7a548956ed725",
        "deepnote_cell_type": "markdown",
        "id": "1M4PoEWm7S80"
      },
      "source": [
        "## Temas a tratar\n",
        "- Aplicar Pandas para obtener características de un DataFrame.\n",
        "- Aplicar Pipelines y Column Transformers.\n",
        "- Utilizar diferentes algoritmos de cluster y ver el desempeño.\n",
        "\n",
        "## Reglas:\n",
        "\n",
        "- **Grupos de 2 personas**\n",
        "- Cualquier duda fuera del horario de clases al foro. Mensajes al equipo docente serán respondidos por este medio.\n",
        "- Prohibidas las copias.\n",
        "- Pueden usar cualquer matrial del curso que estimen conveniente.\n",
        "- Código que no se pueda ejecutar, no será revisado.\n",
        "\n",
        "### Objetivos principales del laboratorio\n",
        "- Comprender cómo aplicar pipelines de Scikit-Learn para generar clusters.\n",
        "- Familiarizarse con plotly.\n",
        "\n",
        "El laboratorio deberá ser desarrollado sin el uso indiscriminado de iteradores nativos de python (aka \"for\", \"while\"). La idea es que aprendan a exprimir al máximo las funciones optimizadas que nos entrega `numpy`, las cuales vale mencionar, son bastante más eficientes que los iteradores nativos sobre arreglos (*o tensores*)."
      ]
    },
    {
      "cell_type": "markdown",
      "metadata": {
        "cell_id": "858df483d9e64780a21674afed1d34b8",
        "deepnote_cell_type": "markdown",
        "id": "SuMbiyQZG2Cc"
      },
      "source": [
        "## Descripción del laboratorio"
      ]
    },
    {
      "cell_type": "markdown",
      "metadata": {
        "cell_id": "403ffe48ec994afda4b91e670a08d0ef",
        "deepnote_cell_type": "markdown",
        "id": "QZsNO4rUrqCz"
      },
      "source": [
        "<center>\n",
        "<img src=\"https://i.pinimg.com/originals/5a/a6/af/5aa6afde8490da403a21601adf7a7240.gif\" width=400 />"
      ]
    },
    {
      "cell_type": "markdown",
      "metadata": {
        "cell_id": "0303baa17d4546feae8c9b88c58470bf",
        "deepnote_cell_type": "markdown",
        "id": "2o0MPuk8rqCz"
      },
      "source": [
        "En el corazón de las operaciones de Aerolínea Lucero, Sergio, el gerente de análisis de datos, reunió a un talentoso equipo de jóvenes científicos de datos para un desafío crucial: segmentar la base de datos de los clientes. “Nuestro objetivo es descubrir patrones en el comportamiento de los pasajeros que nos permitan personalizar servicios y optimizar nuestras campañas de marketing,” explicó Sergio, mientras desplegaba un amplio rango de datos que incluían desde hábitos de compra hasta opiniones sobre los vuelos.\n",
        "\n",
        "Sergio encargó a los científicos de datos la tarea de aplicar técnicas avanzadas de clustering para identificar distintos segmentos de clientes, como los viajeros frecuentes y aquellos que eligen la aerolínea para celebrar ocasiones especiales. La meta principal era entender profundamente cómo estos grupos perciben la calidad y satisfacción de los servicios ofrecidos por la aerolínea.\n",
        "\n",
        "A través de un enfoque meticuloso y colaborativo, los científicos de datos se abocaron a la tarea, buscando transformar los datos brutos en valiosos insights que permitirían a Aerolínea Lucero no solo mejorar su servicio, sino también fortalecer las relaciones con sus clientes mediante una oferta más personalizada y efectiva."
      ]
    },
    {
      "cell_type": "markdown",
      "metadata": {
        "cell_id": "e78cb41b144041af98928ab26dcfdaa9",
        "deepnote_cell_type": "markdown",
        "id": "hs4KKWF1Hdpo"
      },
      "source": [
        "## Importamos librerias utiles 😸"
      ]
    },
    {
      "cell_type": "code",
      "execution_count": 1,
      "metadata": {
        "cell_id": "95a5533cfd6d49cfb9afc111c44d224f",
        "deepnote_cell_type": "code",
        "deepnote_to_be_reexecuted": false,
        "execution_millis": 15,
        "execution_start": 1714107106552,
        "id": "a4YpMafirqC0",
        "source_hash": null
      },
      "outputs": [],
      "source": [
        "import numpy as np\n",
        "import pandas as pd\n",
        "\n",
        "from sklearn import datasets\n",
        "from sklearn.cluster import KMeans, DBSCAN, AgglomerativeClustering\n",
        "from sklearn.mixture import GaussianMixture\n",
        "from sklearn.metrics import silhouette_score\n",
        "import time\n",
        "\n",
        "import plotly.express as px\n",
        "import plotly.graph_objects as go\n",
        "from plotly.subplots import make_subplots\n",
        "\n",
        "\n",
        "from sklearn.decomposition import PCA\n",
        "from sklearn.preprocessing import StandardScaler\n",
        "from sklearn.pipeline import Pipeline\n",
        "from sklearn.ensemble import IsolationForest"
      ]
    },
    {
      "cell_type": "markdown",
      "metadata": {
        "cell_id": "acbeab32db6146678e75448dddf43da8",
        "deepnote_cell_type": "markdown",
        "id": "UQOXod4gHhSq"
      },
      "source": [
        "## 1. Estudio de Performance 📈 [10 Puntos]\n",
        "\n"
      ]
    },
    {
      "cell_type": "markdown",
      "metadata": {
        "cell_id": "704b56b978254ad3ae12cdbf58f4832d",
        "deepnote_cell_type": "markdown",
        "id": "Gn5u5ICkrqC2"
      },
      "source": [
        "<center>\n",
        "<img src=\"https://user-images.githubusercontent.com/57133330/188281408-c67df9ee-fd1f-4b37-833b-f02848f1ce02.gif\" width=300>"
      ]
    },
    {
      "cell_type": "markdown",
      "metadata": {
        "cell_id": "d35fbdcc5ef045d6a2822622f0714179",
        "deepnote_cell_type": "markdown",
        "id": "y4Z0jTjtrqC2"
      },
      "source": [
        "Don Sergio les ha encomendado su primera tarea: analizar diversas técnicas de clustering. Su objetivo es entender detalladamente cómo funcionan estos métodos en términos de segmentación y eficiencia en tiempo de ejecución.\n",
        "\n",
        "Analice y compare el desempeño, tiempo de ejecución y visualizaciones de cuatro algoritmos de clustering (k-means, DBSCAN, Ward y GMM) aplicados a tres conjuntos de datos, incrementando progresivamente su tamaño. Utilice Plotly para las gráficas y discuta los resultados tanto cualitativa como cuantitativamente.\n",
        "\n",
        "Uno de los requisitos establecidos por Sergio es que el análisis se lleve a cabo utilizando Plotly; de no ser así, se considerará incorrecto. Para facilitar este proceso, se ha proporcionado un código de Plotly que puede servir como base para realizar las gráficas. Apóyese en el código entregado para efectuar el análisis y tome como referencia la siguiente imagen para realizar los gráficos:\n",
        "\n",
        "<img src='https://gitlab.com/imezadelajara/datos_clase_7_mds7202/-/raw/main/misc_images/Screenshot_2024-04-26_at_9.10.44_AM.png' width=800 />\n",
        "\n",
        "En el gráfico se visualizan en dos dimensiones los diferentes tipos de datos proporcionados en `datasets`. Cada columna corresponde a un modelo de clustering diferente, mientras que cada fila representa un conjunto de datos distinto. Cada uno de los gráficos incluye el tiempo en segundos que tarda el análisis y la métrica Silhouette obtenida."
      ]
    },
    {
      "cell_type": "markdown",
      "metadata": {
        "cell_id": "37580aab6cef4238a8ce42c50a6d35de",
        "deepnote_cell_type": "markdown",
        "id": "maCUNAvZrqC2"
      },
      "source": [
        "Para ser más específicos, usted debe cumplir los siguientes objetivos:\n",
        "1. Generar una función que permita replicar el gráfico expuesto en la imagen (no importa que los colores calcen). [4 puntos]\n",
        "2. Ejecuta la función para un `n_samples` igual a 1000, 5000, 10000. [2 puntos]\n",
        "3. Analice y compare el desempeño, tiempo de ejecución y visualizaciones de cuatro algoritmos de clustering utilizando las 3 configuraciones dadas en `n_samples`. [4 puntos]\n",
        "\n",
        "\n",
        "> ❗ Tiene libertad absoluta de escoger los hiper parámetros de los cluster, sin embargo, se recomienda verificar el dominio de las variables para realizar la segmentación.\n",
        "\n",
        "> ❗ Recuerde que es obligatorio el uso de plotly.\n"
      ]
    },
    {
      "cell_type": "code",
      "execution_count": 2,
      "metadata": {
        "cell_id": "7f7c25e366754595b13fc2e8116f65a0",
        "deepnote_cell_type": "code",
        "deepnote_to_be_reexecuted": false,
        "execution_millis": 78,
        "execution_start": 1714107108441,
        "id": "i0IZPGPOrqC3",
        "source_hash": null
      },
      "outputs": [],
      "source": [
        "\"\"\"\n",
        "En la siguiente celda se crean los datos ficticios a usar en la sección 1 del lab.\n",
        "❗No realice cambios a esta celda a excepción de n_samples❗\n",
        "\"\"\"\n",
        "\n",
        "# Datos a utilizar\n",
        "\n",
        "def create_data(n_samples):\n",
        "\n",
        "    # Lunas\n",
        "    moons = datasets.make_moons(n_samples=n_samples, noise=0.05, random_state=30)\n",
        "    # Blobs\n",
        "    blobs = datasets.make_blobs(n_samples=n_samples, random_state=172)\n",
        "    # Datos desiguales\n",
        "    transformation = [[0.6, -0.6], [-0.4, 0.8]]\n",
        "    mutated = (np.dot(blobs[0], transformation), blobs[1])\n",
        "    \n",
        "    # Generamos Dataset\n",
        "    dataset = {\n",
        "        'moons':{\n",
        "            'x': moons[0], 'classes': moons[1], 'n_cluster': 2\n",
        "        },\n",
        "        'blobs':{\n",
        "            'x': blobs[0], 'classes': blobs[1], 'n_cluster': 3\n",
        "        },\n",
        "        'mutated':{\n",
        "            'x': mutated[0], 'classes': mutated[1], 'n_cluster': 3\n",
        "        }\n",
        "    }\n",
        "    return dataset\n",
        "\n",
        "data_sets_1000 = create_data(1000)\n",
        "data_sets_5000 = create_data(5000)\n",
        "data_sets_10000 = create_data(10000)"
      ]
    },
    {
      "cell_type": "markdown",
      "metadata": {
        "id": "y51s6f_UtIkc"
      },
      "source": [
        "**Respuestas:**"
      ]
    },
    {
      "cell_type": "code",
      "execution_count": 3,
      "metadata": {},
      "outputs": [],
      "source": [
        "# Función auxiliar para realizar los clusters\n",
        "def apply_clustering(algorithm_name, X, n_clusters):    \n",
        "    start_time = time.time()\n",
        "    \n",
        "    if algorithm_name == 'kmeans':\n",
        "        model = KMeans(n_clusters=n_clusters, random_state=1323, n_init=10)\n",
        "\n",
        "        labels = model.fit_predict(X)\n",
        "    \n",
        "    elif algorithm_name == 'dbscan':\n",
        "        model = DBSCAN(eps=0.4, min_samples=3)\n",
        "        labels = model.fit_predict(X)\n",
        "    \n",
        "    elif algorithm_name == 'ward':\n",
        "        model = AgglomerativeClustering(n_clusters=n_clusters)\n",
        "        labels = model.fit_predict(X)\n",
        "    \n",
        "    elif algorithm_name == 'gmm':\n",
        "        model = GaussianMixture(n_components=n_clusters, random_state=1323)\n",
        "        labels = model.fit_predict(X)\n",
        "    \n",
        "    else:\n",
        "        raise ValueError(f\"Algoritmo {algorithm_name} no reconocido.\")\n",
        "    \n",
        "    end_time = time.time()\n",
        "    execution_time = end_time - start_time\n",
        "    \n",
        "    # Silhouette score solo se puede calcular si hay más de un clúster\n",
        "    if len(set(labels)) > 1:\n",
        "        silhouette = silhouette_score(X, labels)\n",
        "    else:\n",
        "        silhouette = -1  # Valor inválido si hay un solo clúster\n",
        "    \n",
        "    return labels, silhouette, execution_time"
      ]
    },
    {
      "cell_type": "code",
      "execution_count": 4,
      "metadata": {
        "cell_id": "643d6b35af5541358f481fda4d3fc51f",
        "deepnote_cell_type": "code",
        "deepnote_to_be_reexecuted": false,
        "execution_millis": 267,
        "execution_start": 1714108733824,
        "id": "CO3JFqezrqC3",
        "outputId": "61a8cca1-3460-44dc-c23f-7dffb853b9a6",
        "source_hash": null
      },
      "outputs": [],
      "source": [
        "# Función para graficar la cuadrícula\n",
        "def plot_scatter(datasets, n_samples):\n",
        "    algorithms = ['kmeans', 'gmm', 'ward', 'dbscan']\n",
        "    algo_titles = [\"Kmeans\", \"GMM\", \"WARD\", \"DBSCAN\"]\n",
        "    fig = make_subplots(\n",
        "        rows=3, cols=4, subplot_titles=[f\"{algo}\" for algo in algo_titles * 3], \n",
        "        horizontal_spacing=0.05, vertical_spacing=0.15\n",
        "    )\n",
        "    \n",
        "    row = 1\n",
        "    for dataset_name, data in datasets.items():\n",
        "        X = data['x']\n",
        "        n_clusters = data['n_cluster']\n",
        "        \n",
        "        for col, algo in enumerate(algorithms, 1):\n",
        "            labels, silhouette, execution_time = apply_clustering(algo, X, n_clusters)\n",
        "            scatter = go.Scatter(\n",
        "                x=X[:, 0], y=X[:, 1], mode='markers',\n",
        "                marker=dict(color=labels, colorscale='Viridis', size=5),\n",
        "                name=f'{dataset_name} - {algo}',\n",
        "                showlegend=False\n",
        "            )\n",
        "            \n",
        "            # Añadir el scatter plot en la posición adecuada\n",
        "            fig.add_trace(scatter, row=row, col=col)\n",
        "            # Añadir el título con los tiempos y la métrica Silhouette\n",
        "            fig.update_xaxes(title_text=f\"{execution_time:.2f} [s] | s: {silhouette:.2f}\", row=row, col=col)\n",
        "\n",
        "        row += 1\n",
        "\n",
        "    fig.update_layout(height=800, width=1000, title_text=f\"Comparación de tiempos de ejecución y Silhouette por técnica (n={n_samples})\")\n",
        "    fig.show()"
      ]
    },
    {
      "cell_type": "code",
      "execution_count": null,
      "metadata": {},
      "outputs": [],
      "source": [
        "# Graficar para 1000 muestras con la nueva función de cuadrícula\n",
        "plot_scatter(data_sets_1000, 1000)\n",
        "\n",
        "# Graficar para 5000 muestras\n",
        "plot_scatter(data_sets_5000, 5000)\n",
        "\n",
        "# Graficar para 10000 muestras\n",
        "plot_scatter(data_sets_10000, 10000)"
      ]
    },
    {
      "cell_type": "markdown",
      "metadata": {},
      "source": [
        "En general, a medida que aumentó el tamaño de las muestras, los tiempos de ejecución se incrementaron en todos los algoritmos, pero la calidad de los clústers, medida por el índice de Silhouette, se mantuvo relativamente constante. Los tiempos de ejecución más notables se observaron en WARD, mientras que Kmeans y GMM mostraron tiempos mucho más reducidos. En general, los algoritmos fueron consistentes en su desempeño respecto a la estructura de los datos a través de los diferentes tamaños de muestra.\n",
        "\n",
        "Kmeans mostró un buen desempeño en términos de velocidad, siendo rápido en todas las configuraciones. Sin embargo, tuvo dificultades para adaptarse a clústers con formas no circulares, como el conjunto de datos \"moons\". Su índice de Silhouette fue alto en clústers bien separados, pero cayó cuando se enfrentó a formas más complejas.\n",
        "\n",
        "GMM tuvo un desempeño similar a Kmeans en cuanto a la calidad de los clústers y mantuvo un tiempo de ejecución aún más bajo. Al igual que Kmeans, funcionó bien con clústers esféricos, pero no fue capaz de capturar adecuadamente las estructuras más complejas. A pesar de ello, sigue siendo uno de los modelos más rápidos, incluso con tamaños de muestra grandes.\n",
        "\n",
        "WARD fue el algoritmo con mayor costo en tiempo de ejecución, especialmente con tamaños de muestra mayores. Si bien ofrece buenos resultados en clústers simples, su capacidad para detectar clústers no esféricos es limitada, como se vio en los datos \"moons\". Debido a su mayor tiempo de ejecución, es menos eficiente que otros algoritmos cuando se trabaja con grandes cantidades de datos.\n",
        "\n",
        "DBSCAN en términos del índice de Silhouette, consistentemente tuvo un desempeño inferior en comparación con los otros algoritmos. Esto se debe a su manejo del ruido, que tiende a afectar negativamente esta métrica."
      ]
    },
    {
      "cell_type": "markdown",
      "metadata": {
        "cell_id": "13c5cb8067d9415f83b3d497954a437a",
        "deepnote_cell_type": "markdown",
        "id": "3mCbZc86rqC6"
      },
      "source": [
        "## 2. Análisis de Satisfacción de Vuelos. [10 puntos]"
      ]
    },
    {
      "cell_type": "markdown",
      "metadata": {
        "cell_id": "fd6e991646b44f50a4b13f01d1542415",
        "deepnote_cell_type": "markdown",
        "id": "JI33m5jbrqC6"
      },
      "source": [
        "<center>\n",
        "<img src=\"https://i.gifer.com/2Hci.gif\" width=400 />"
      ]
    },
    {
      "cell_type": "markdown",
      "metadata": {
        "cell_id": "5742dfbd5a2e43778ff250436bab1005",
        "deepnote_cell_type": "markdown",
        "id": "h5k24znirqC7"
      },
      "source": [
        "Habiendo entendido cómo funcionan los modelos de aprendizaje no supervisado, *Don Sergio* le encomienda estudiar la satisfacción de pasajeros al haber tomado un vuelo en alguna de sus aerolineas. Para esto, el magnate le dispone del dataset `aerolineas_licer.parquet`, el cual contiene el grado de satisfacción de los clientes frente a diferentes aspectos del vuelo. Las características del vuelo se definen a continuación:\n",
        "\n",
        "- *Gender*: Género de los pasajeros (Femenino, Masculino)\n",
        "- *Customer Type*: Tipo de cliente (Cliente habitual, cliente no habitual)\n",
        "- *Age*: Edad actual de los pasajeros\n",
        "- *Type of Travel*: Propósito del vuelo de los pasajeros (Viaje personal, Viaje de negocios)\n",
        "- *Class*: Clase de viaje en el avión de los pasajeros (Business, Eco, Eco Plus)\n",
        "- *Flight distance*: Distancia del vuelo de este viaje\n",
        "- *Inflight wifi service*: Nivel de satisfacción del servicio de wifi durante el vuelo (0:No Aplicable; 1-5)\n",
        "- *Departure/Arrival time convenient*: Nivel de satisfacción con la conveniencia del horario de salida/llegada\n",
        "- *Ease of Online booking*: Nivel de satisfacción con la facilidad de reserva en línea\n",
        "- *Gate location*: Nivel de satisfacción con la ubicación de la puerta\n",
        "- *Food and drink*: Nivel de satisfacción con la comida y la bebida\n",
        "- *Online boarding*: Nivel de satisfacción con el embarque en línea\n",
        "- *Seat comfort*: Nivel de satisfacción con la comodidad del asiento\n",
        "- *Inflight entertainment*: Nivel de satisfacción con el entretenimiento durante el vuelo\n",
        "- *On-board service*: Nivel de satisfacción con el servicio a bordo\n",
        "- *Leg room service*: Nivel de satisfacción con el espacio para las piernas\n",
        "- *Baggage handling*: Nivel de satisfacción con el manejo del equipaje\n",
        "- *Check-in service*: Nivel de satisfacción con el servicio de check-in\n",
        "- *Inflight service*: Nivel de satisfacción con el servicio durante el vuelo\n",
        "- *Cleanliness*: Nivel de satisfacción con la limpieza\n",
        "- *Departure Delay in Minutes*: Minutos de retraso en la salida\n",
        "- *Arrival Delay in Minutes*: Minutos de retraso en la llegada"
      ]
    },
    {
      "cell_type": "markdown",
      "metadata": {
        "id": "sOoIFHpw5xCW"
      },
      "source": [
        "En consideración de lo anterior, realice las siguientes tareas:\n",
        "\n",
        "0. Ingeste el dataset a su ambiente de trabajo.\n",
        "\n",
        "1. Seleccione **sólo las variables numéricas del dataset**.  Explique qué éfectos podría causar el uso de variables categóricas en un algoritmo no supervisado. [2 punto]\n",
        "\n",
        "2. Realice una visualización de la distribución de cada variable y analice cada una de estas distribuciones. [2 punto]\n",
        "\n",
        "3. Basándose en los gráficos, evalúe la necesidad de escalar los datos y explique el motivo de su decisión. [2 puntos]\n",
        "\n",
        "4. Examine la correlación entre las variables mediante un correlograma. [2 puntos]\n",
        "\n",
        "5. De acuerdo con los resultados obtenidos en 5, reduzca la dimensionalidad del conjunto de datos a cuatro variables, justificando su elección respecto a las variables que decide eliminar. [2 puntos]"
      ]
    },
    {
      "cell_type": "markdown",
      "metadata": {
        "id": "tO6tcVBCtxxS"
      },
      "source": [
        "**Respuesta:**"
      ]
    },
    {
      "cell_type": "code",
      "execution_count": null,
      "metadata": {
        "id": "pzHTZ17xveU_"
      },
      "outputs": [],
      "source": [
        "# Carga de datos\n",
        "df = pd.read_parquet('aerolineas_lucer.parquet')\n",
        "\n",
        "# Dimensiones del dataset\n",
        "print(df.shape)\n",
        "\n",
        "# Muestra las primeras filas del DataFrame\n",
        "df.head()"
      ]
    },
    {
      "cell_type": "code",
      "execution_count": null,
      "metadata": {},
      "outputs": [],
      "source": [
        "# 1\n",
        "df_numericas = df.select_dtypes(include=['number'])\n",
        "\n",
        "df_numericas.head()"
      ]
    },
    {
      "cell_type": "code",
      "execution_count": null,
      "metadata": {},
      "outputs": [],
      "source": [
        "df_numericas.shape"
      ]
    },
    {
      "cell_type": "markdown",
      "metadata": {},
      "source": [
        "1. Las variables categóricas pueden afectar negativamente el rendimiento de un algoritmo no supervisado porque muchos de estos algoritmos, como Kmeans o GMM, dependen de medidas de distancia, que no se aplican directamente a categorías. Si no se transforman correctamente (por ejemplo, con one-hot encoding), las categorías podrían generar distancias arbitrarias o malinterpretar la relación entre los datos, lo que resultaría en clústers poco representativos o confusos. Además, existen variables categóricas no jerárquicas, como el género, que pueden interferir en el análisis al no tener un orden inherente."
      ]
    },
    {
      "cell_type": "code",
      "execution_count": null,
      "metadata": {},
      "outputs": [],
      "source": [
        "# 2 \n",
        "for column in df_numericas.columns:\n",
        "    fig = px.histogram(df_numericas, x=column, title=f'Distribución de {column}', nbins=30)\n",
        "    fig.show()"
      ]
    },
    {
      "cell_type": "markdown",
      "metadata": {},
      "source": [
        "2. \n",
        "La variable ID presenta una distribución uniforme, como es esperable para este tipo de identificador.\n",
        "\n",
        "La variable Age parece seguir una distribución aproximadamente normal, con una media cercana a los 40 años.\n",
        "\n",
        "La distribución de Flight Distance abarca valores entre 0 y alrededor de 5000, con un pico notable entre 200 y 400. En contraste, las distancias superiores a 4000 tienen una frecuencia muy baja.\n",
        "\n",
        "La variable Inflight wifi service toma valores entre 0 y 5, con 2 y 3 siendo los más frecuentes.\n",
        "\n",
        "Departure/Arrival time convenient también varía entre 0 y 5, pero se distingue porque el valor más frecuente es 4, seguido de 5.\n",
        "\n",
        "De manera similar, las variables Ease of online booking, Gate location, Food and drink, Online boarding, Seat comfort, Inflight entertainment, On-board service, Leg room service, Baggage handling, Check-in service, Inflight service y Cleanliness son discretas y toman valores entre 0 y 5.\n",
        "\n",
        "Finalmente, Departure Delay y Arrival Delay presentan un comportamiento similar, con la mayoría de los valores comprendidos entre 0 y 100 minutos, y una marcada disminución de la frecuencia a partir de ese rango. En ambos casos, existen valores atípicos que superan los 1000 minutos."
      ]
    },
    {
      "cell_type": "markdown",
      "metadata": {},
      "source": [
        "3. Podemos observar que las variables en el dataset se miden en diferentes escalas, como minutos en el caso de los retrasos, o puntuaciones entre 0 y 5 para las valoraciones de servicio. Esta diversidad en las escalas puede afectar negativamente a los algoritmos basados en medidas de distancia, como K-means o GMM. Debido a esto será necesario escalar los datos más adelante."
      ]
    },
    {
      "cell_type": "code",
      "execution_count": null,
      "metadata": {},
      "outputs": [],
      "source": [
        "# 4\n",
        "\n",
        "# Generar la matriz de correlación\n",
        "correlation_matrix = df_numericas.corr()\n",
        "\n",
        "# Crear el mapa de calor de la correlación con Plotly Express\n",
        "fig = px.imshow(correlation_matrix, \n",
        "                labels=dict(x=\"Variables\", y=\"Variables\", color=\"Correlación\"),\n",
        "                title=\"Correlograma de variables numéricas\",\n",
        "                color_continuous_scale='Viridis')\n",
        "\n",
        "# Ajustar el tamaño de la figura y la orientación de las etiquetas del eje X\n",
        "fig.update_layout(\n",
        "    width=1000,   \n",
        "    height=1000, \n",
        "    title_font_size=24, \n",
        ")\n",
        "\n",
        "# Hacer que las etiquetas del eje X queden verticales\n",
        "fig.update_xaxes(tickangle=-90)\n",
        "\n",
        "fig.show()"
      ]
    },
    {
      "cell_type": "markdown",
      "metadata": {},
      "source": [
        "4. Se puede observar una importante correlación entre las variables, como las de delay o las relacionadas a la satisfacción de los clientes."
      ]
    },
    {
      "cell_type": "code",
      "execution_count": null,
      "metadata": {},
      "outputs": [],
      "source": [
        "df_numericas = df_numericas[['Age', 'Flight Distance', 'Inflight entertainment', 'Arrival Delay in Minutes']]\n",
        "\n",
        "df_numericas.head()"
      ]
    },
    {
      "cell_type": "markdown",
      "metadata": {},
      "source": [
        "5. Las variables seleccionadas fueron: primero, Age para caracterizar a los pasajeros; segundo, Flight Distance para incluir en el análisis el tipo de vuelo; tercero, Inflight entertainment como indicador de la satisfacción a bordo, dado que muestra una alta correlación con la mayoría de las variables discretas que toman valores entre 0 y 5. Finalmente, seleccionamos Arrival Delay in Minutes para evaluar los retrasos, ya que esta variable presenta una correlación cercana a 1 con el retraso en la partida (Departure Delay)."
      ]
    },
    {
      "cell_type": "markdown",
      "metadata": {
        "cell_id": "4b6c047d994f40ea9e78a36a777042e0",
        "deepnote_cell_type": "markdown",
        "id": "PNGfTgtkrqC9"
      },
      "source": [
        "## 3. Preprocesamiento 🎭. [10 puntos]"
      ]
    },
    {
      "cell_type": "markdown",
      "metadata": {
        "cell_id": "713b3f0e61dd4841bb5b38c730d344d5",
        "deepnote_cell_type": "markdown",
        "id": "6RZD0fMNrqC-"
      },
      "source": [
        "<center>\n",
        "<img src=\"https://i.pinimg.com/originals/1e/a8/0e/1ea80e7cea0d429146580c7e91c5b944.gif\" width=400>"
      ]
    },
    {
      "cell_type": "markdown",
      "metadata": {
        "cell_id": "98400c7b5fec4af193eec3601f53891e",
        "deepnote_cell_type": "markdown",
        "id": "J6d4VEOTrqC-"
      },
      "source": [
        "Tras quedar satisfecho con los resultados presentados en el punto 2, el dueño de la empresa ha solicitado que se preprocesen los datos mediante un `pipeline`. Es crucial que este proceso tenga en cuenta las observaciones derivadas de los análisis anteriores. Adicionalmente, ha expresado su interés en visualizar el conjunto de datos en un gráfico de dos o tres dimensiones.\n",
        "\n",
        "Basándose en los análisis realizados anteriormente:\n",
        "1. Cree un `pipeline` que incluya PCA, utilizando las consideraciones mencionadas previamente para proyectar los datos a dos dimensiones. [4 puntos]\n",
        "2. Grafique los resultados obtenidos y comente lo visualizado. [6 puntos]"
      ]
    },
    {
      "cell_type": "markdown",
      "metadata": {
        "id": "paDSaGoq0OUp"
      },
      "source": [
        "**Respuestas:**"
      ]
    },
    {
      "cell_type": "code",
      "execution_count": null,
      "metadata": {
        "cell_id": "ad1e70818ad748638ca0927b07a76125",
        "deepnote_cell_type": "code",
        "id": "gBYG238wrqC-"
      },
      "outputs": [],
      "source": [
        "# Definir el pipeline con estandarización y PCA\n",
        "pipeline_PCA = Pipeline([\n",
        "    ('scaler', StandardScaler()),  # Escalar los datos\n",
        "    ('pca', PCA(n_components=2))  # PCA para reducir a 2 dimensiones\n",
        "])\n",
        "\n",
        "# Aplicar el pipeline a los datos numéricos\n",
        "data_reduced = pipeline_PCA.fit_transform(df_numericas)\n",
        "\n",
        "# Crear un DataFrame con las dos dimensiones resultantes del PCA\n",
        "df_pca = pd.DataFrame(data_reduced, columns=['PC1', 'PC2'])\n",
        "\n",
        "# Graficar los resultados obtenidos en dos dimensiones\n",
        "fig = px.scatter(df_pca, x='PC1', y='PC2', title='Proyección PCA a 2 dimensiones')\n",
        "\n",
        "fig.show()"
      ]
    },
    {
      "cell_type": "markdown",
      "metadata": {},
      "source": [
        "La mayor parte de los datos se concentra en valores bajos de PC2 (por debajo de 10), mientras que PC1 tiene un rango más amplio, lo que sugiere que esta componente captura la mayor parte de la variabilidad.\n",
        "\n",
        "La dispersión de los puntos aumenta a medida que PC1 crece, mientras que algunos outliers se alejan hacia valores altos de PC2, indicando patrones inusuales en los datos."
      ]
    },
    {
      "cell_type": "markdown",
      "metadata": {
        "cell_id": "bd281470d3054764a63d857cfa7d52a6",
        "deepnote_cell_type": "text-cell-h2",
        "formattedRanges": [],
        "id": "7ENoOtIIrqC_"
      },
      "source": [
        "## 4. Outliers 🚫🙅‍♀️❌🙅‍♂️ [10 puntos]"
      ]
    },
    {
      "cell_type": "markdown",
      "metadata": {
        "cell_id": "db89e9c9f35c44abbd8991180226c0ea",
        "deepnote_cell_type": "markdown",
        "id": "fbGw6Sa-rqC_"
      },
      "source": [
        "<center>\n",
        "<img src=\"https://joachim-gassen.github.io/images/ani_sim_bad_leverage.gif\" width=250>"
      ]
    },
    {
      "cell_type": "markdown",
      "metadata": {
        "cell_id": "3e2f59fa12954641af7a854a4e203694",
        "deepnote_cell_type": "markdown",
        "id": "nl_ccu9brqDA"
      },
      "source": [
        "Con el objetivo de mantener la claridad en su análisis, Don Sergio le ha solicitado entrenar un modelo que identifique pasajeros con comportamientos altamente atípicos.\n",
        "\n",
        "1. Utilice `IsolationForest` para clasificar las anomalías del dataset (sin aplicar PCA), configurando el modelo para que sólo el 1% de los datos sean considerados anómalos. Asegúrese de integrar esta tarea dentro de un `pipeline`. [3 puntos]\n",
        "\n",
        "2. Visualice los resultados en el gráfico de dos dimensiones previamente creado. [3 puntos]\n",
        "\n",
        "3. ¿Cómo evaluaría el rendimiento de su modelo en la detección de anomalías? [4 puntos]"
      ]
    },
    {
      "cell_type": "markdown",
      "metadata": {
        "id": "b5cS1FR00NlF"
      },
      "source": [
        "**Respuestas:**"
      ]
    },
    {
      "cell_type": "code",
      "execution_count": null,
      "metadata": {
        "cell_id": "be86896911244aa89e3b5f3f00a286af",
        "deepnote_cell_type": "code",
        "id": "iaPZFmjyrqDA"
      },
      "outputs": [],
      "source": [
        "# Definir el pipeline con estandarización y Isolation Forest\n",
        "pipeline_anomaly = Pipeline([\n",
        "    ('isolation_forest', IsolationForest(contamination=0.01, random_state=1323))  # Modelar con 1% de anomalías\n",
        "])\n",
        "\n",
        "# Entrenar el modelo\n",
        "pipeline_anomaly.fit(df_numericas)\n",
        "\n",
        "# Predecir si cada punto es anómalo (-1) o no (1)\n",
        "df_numericas['anomaly'] = pipeline_anomaly['isolation_forest'].predict(df_numericas)\n",
        "\n",
        "# Reiniciar los índices de df_numericas y df_pca para que coincidan\n",
        "df_numericas = df_numericas.reset_index(drop=True)\n",
        "df_pca = df_pca.reset_index(drop=True)\n",
        "\n",
        "# Añadir la columna de anomalía al DataFrame de PCA\n",
        "df_pca['anomaly'] = df_numericas['anomaly']\n",
        "df_pca['anomaly'] = df_pca['anomaly'].astype(str)\n",
        "\n",
        "# Visualización de los resultados en 2D con colores que representen las anomalías\n",
        "fig = px.scatter(df_pca, x='PC1', y='PC2', color='anomaly', \n",
        "                 title='Detección de anomalías usando Isolation Forest (Anomalías en rojo)')\n",
        "\n",
        "fig.show()"
      ]
    },
    {
      "cell_type": "markdown",
      "metadata": {},
      "source": [
        "Gráficamente se puede observar que los valores anómalos en el gráfico PCA son principalmente valores superiores a 6 en el eje PC2. Además los valores atípicos en el gráfico son detectados correctamente como anomalías. Sin embargo, algunos valores que en primera instancia con PCA no parecían anómalos si fueron identificados como tal. En general parece una detección de outliers aceptable."
      ]
    },
    {
      "cell_type": "markdown",
      "metadata": {
        "cell_id": "3871e2fe5bdd422dbdbfaebf75503ae3",
        "deepnote_cell_type": "markdown",
        "id": "zQFTklmVrqDB"
      },
      "source": [
        "## 5. Métricas de Desempeño 🚀 [10 puntos]"
      ]
    },
    {
      "cell_type": "markdown",
      "metadata": {
        "cell_id": "236333de6dd445c182aefcc507589325",
        "deepnote_cell_type": "markdown",
        "id": "YpNj4wbPrqDB"
      },
      "source": [
        "<center>\n",
        "<img src=\"https://giffiles.alphacoders.com/219/219081.gif\" width=300>"
      ]
    },
    {
      "cell_type": "markdown",
      "metadata": {
        "cell_id": "a7e1ceb91be94b1da2ab8be97dfac999",
        "deepnote_cell_type": "markdown",
        "id": "CR3hzRxrrqDB"
      },
      "source": [
        "Motivado por incrementar su fortuna, Don Sergio le solicita entrenar un modelo que le permita segmentar a los pasajeros en grupos distintos, con el objetivo de optimizar las diversas campañas de marketing diseñadas por su equipo. Para ello, le se pide realizar las siguientes tareas:\n",
        "\n",
        "1. Utilizar el modelo **Gaussian Mixture** y explore diferentes configuraciones de número de clústers, específicamente entre 3 y 8. Asegúrese de integrar esta operación dentro de un `pipeline`. [4 puntos]\n",
        "2. Explique cuál sería el criterio adecuado para seleccionar el número óptimo de clústers. **Justifique de forma estadistica y a traves de gráficos.** [6 puntos]\n",
        "\n",
        "> **HINT:** Se recomienda investigar sobre los criterios AIC y BIC para esta tarea."
      ]
    },
    {
      "cell_type": "markdown",
      "metadata": {
        "id": "Jt_T_zTg0MXB"
      },
      "source": [
        "**Respuestas:**"
      ]
    },
    {
      "cell_type": "code",
      "execution_count": null,
      "metadata": {
        "cell_id": "6d3d1bb3fda14321984466d9101a775a",
        "deepnote_cell_type": "code",
        "id": "5GeUb9J3rqDB"
      },
      "outputs": [],
      "source": [
        "# Convertir a array NumPy para evitar warnings\n",
        "df_numericas_values = df_numericas.values\n",
        "\n",
        "# Definir el rango de clústers a explorar\n",
        "n_components_range = range(3, 9)\n",
        "aic_values = []\n",
        "bic_values = []\n",
        "\n",
        "# Explorar diferentes configuraciones de Gaussian Mixture entre 3 y 8 clústers\n",
        "for n_components in n_components_range:\n",
        "    pipeline_gmm = Pipeline([\n",
        "        ('scaler', StandardScaler()),  # Estandarización de los datos\n",
        "        ('gmm', GaussianMixture(n_components=n_components, random_state=1323))\n",
        "    ])\n",
        "    \n",
        "    # Ajustar el modelo utilizando el array NumPy\n",
        "    pipeline_gmm.fit(df_numericas_values)\n",
        "    \n",
        "    # Obtener el modelo GMM entrenado\n",
        "    gmm_model = pipeline_gmm.named_steps['gmm']\n",
        "    \n",
        "    # Guardar los valores de AIC y BIC\n",
        "    aic_values.append(gmm_model.aic(df_numericas_values))\n",
        "    bic_values.append(gmm_model.bic(df_numericas_values))\n",
        "\n",
        "# Crear un DataFrame para los resultados\n",
        "results = pd.DataFrame({\n",
        "    'Número de Clústers': list(n_components_range),\n",
        "    'AIC': aic_values,\n",
        "    'BIC': bic_values\n",
        "})\n",
        "\n",
        "# Graficar AIC y BIC usando Plotly Express\n",
        "fig = px.line(results, x='Número de Clústers', y=['AIC', 'BIC'], \n",
        "              title='Criterios AIC y BIC para seleccionar el número óptimo de clústers',\n",
        "              labels={'value': 'Valor', 'variable': 'Criterio'},\n",
        "              markers=True)\n",
        "fig.show()"
      ]
    },
    {
      "cell_type": "markdown",
      "metadata": {},
      "source": [
        "Al graficar los valores de AIC y BIC para cada número de clústers, se debe buscar el número donde ambos criterios alcanzan su valor mínimo. Este valor indica el mejor equilibrio entre ajuste del modelo y complejidad, evitando un modelo sobreajustado o demasiado simple.\n",
        "Por lo tanto, el mejor número de clusters es 5"
      ]
    },
    {
      "cell_type": "markdown",
      "metadata": {
        "cell_id": "dd342e336254418ba766b29dce16b267",
        "deepnote_cell_type": "markdown",
        "id": "P9CERnaerqDC"
      },
      "source": [
        "## 6. Análisis de resultados 📊 [10 puntos]"
      ]
    },
    {
      "cell_type": "markdown",
      "metadata": {
        "cell_id": "953b5ad01a704b50b899db7176d1b7b2",
        "deepnote_cell_type": "markdown",
        "id": "I1yNa111rqDC"
      },
      "source": [
        "<center>\n",
        "<img src=\"https://i.gifer.com/7wTk.gif\" width=300>"
      ]
    },
    {
      "cell_type": "markdown",
      "metadata": {
        "cell_id": "fd90e2f135404353ac0b5ab844936ca7",
        "deepnote_cell_type": "markdown",
        "id": "dg0Qx4RZrqDC"
      },
      "source": [
        "Una vez identificado el número óptimo de clústers, se le pide realizar lo siguiente:\n",
        "\n",
        "1. Utilizar la proyección en dos dimensiones para visualizar cada clúster claramente. [2 puntos]\n",
        "\n",
        "2. ¿Es posible distinguir claramente entre los clústers generados? [2 puntos]\n",
        "\n",
        "3. Proporcionar una descripción breve de cada clúster utilizando estadísticas descriptivas básicas, como la media y la desviación estándar, para resumir las características de las variables utilizadas en estos algoritmos. [2 puntos]\n",
        "\n",
        "4. Proceda a visualizar los clústers en tres dimensiones para una perspectiva más detallada. [2 puntos]\n",
        "\n",
        "5. ¿Cómo afecta esto a sus conclusiones anteriores? [2 puntos]"
      ]
    },
    {
      "cell_type": "markdown",
      "metadata": {
        "id": "CRN0zZip0IMB"
      },
      "source": [
        "**Respuestas:**"
      ]
    },
    {
      "cell_type": "code",
      "execution_count": null,
      "metadata": {
        "cell_id": "9abf4dbc643e40cebe99fcb1ff3ff413",
        "deepnote_cell_type": "code",
        "id": "XmZrz15GrqDC"
      },
      "outputs": [],
      "source": [
        "num_clusters = 5\n",
        "df_numericas = df[['Age', 'Flight Distance', 'Inflight entertainment', 'Arrival Delay in Minutes']].copy() \n",
        "\n",
        "# Aplicar Gaussian Mixture con el número óptimo de clústers\n",
        "gmm = GaussianMixture(n_components=num_clusters, random_state=1323)\n",
        "gmm.fit(df_numericas)\n",
        "df_numericas['cluster'] = gmm.predict(df_numericas)\n",
        "\n",
        "# Proyección de los datos en 2 dimensiones usando PCA\n",
        "data_pca = pipeline_PCA.fit_transform(df_numericas.drop(columns=['cluster']))\n",
        "df_pca = pd.DataFrame(data_pca, columns=['PC1', 'PC2'])\n",
        "\n",
        "# Reiniciar los índices de df_numericas y df_pca para que coincidan\n",
        "df_numericas = df_numericas.reset_index(drop=True)\n",
        "df_pca = df_pca.reset_index(drop=True)\n",
        "df_pca['cluster'] = df_numericas['cluster']\n",
        "\n",
        "# Visualizar los clústers en 2 dimensiones\n",
        "df_pca['cluster'] = df_pca['cluster'].astype(str)\n",
        "fig = px.scatter(df_pca, x='PC1', y='PC2', color='cluster', \n",
        "                 title=f'Visualización de clústers en 2D con {num_clusters} clústers')\n",
        "fig.show()"
      ]
    },
    {
      "cell_type": "markdown",
      "metadata": {},
      "source": [
        "2. Si bien el cluster 0 se puede ver fácilmente, el resto no se pueden distinguir entre ellos de manera clara, en particular todos estos clusters están alrededor del cero en PC2."
      ]
    },
    {
      "cell_type": "code",
      "execution_count": null,
      "metadata": {},
      "outputs": [],
      "source": [
        "# Generar estadísticas descriptivas de cada clúster\n",
        "cluster_stats = df_numericas.groupby('cluster').agg(['mean', 'std'])\n",
        "cluster_stats"
      ]
    },
    {
      "cell_type": "code",
      "execution_count": null,
      "metadata": {},
      "outputs": [],
      "source": [
        "# Proyección de los datos en 3 dimensiones usando PCA\n",
        "pca_3d = PCA(n_components=3)\n",
        "data_pca_3d = pca_3d.fit_transform(df_numericas.drop(columns=['cluster']))\n",
        "df_pca_3d = pd.DataFrame(data_pca_3d, columns=['PC1', 'PC2', 'PC3'])\n",
        "df_pca_3d['cluster'] = df_numericas['cluster']\n",
        "\n",
        "# Visualizar los clústers en 3 dimensiones\n",
        "fig_3d = px.scatter_3d(df_pca_3d, x='PC1', y='PC2', z='PC3', color='cluster',\n",
        "                       title=f'Visualización de clústers en 3D con {num_clusters} clústers')\n",
        "fig_3d.show()"
      ]
    },
    {
      "cell_type": "markdown",
      "metadata": {},
      "source": [
        "Nuevamente el cluster 0 es el más reconocible y el resto de cluster no se pueden observar de manera clara.\n",
        "\n",
        "Como equipo creemos que quitar outliers podría generar mejores clusters y visualizaciones."
      ]
    }
  ],
  "metadata": {
    "colab": {
      "provenance": []
    },
    "deepnote_execution_queue": [],
    "deepnote_notebook_id": "7cb425aec99b4079954fd707109c42c3",
    "deepnote_persisted_session": {
      "createdAt": "2024-04-26T06:15:51.197Z"
    },
    "kernelspec": {
      "display_name": "Python 3",
      "language": "python",
      "name": "python3"
    },
    "language_info": {
      "codemirror_mode": {
        "name": "ipython",
        "version": 3
      },
      "file_extension": ".py",
      "mimetype": "text/x-python",
      "name": "python",
      "nbconvert_exporter": "python",
      "pygments_lexer": "ipython3",
      "version": "3.9.17"
    }
  },
  "nbformat": 4,
  "nbformat_minor": 0
}
