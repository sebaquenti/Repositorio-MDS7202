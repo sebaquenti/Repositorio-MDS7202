{
 "cells": [
  {
   "cell_type": "markdown",
   "metadata": {},
   "source": [
    "# **Proyecto Semestral - MDS7202: Laboratorio de Programación Científica para Ciencia de Datos**\n"
   ]
  },
  {
   "cell_type": "markdown",
   "metadata": {},
   "source": [
    "**Integrantes:**\n",
    "\n",
    "- **Cristian Oyarzo M.**\n",
    "- **Sebastián Quenti A.**\n"
   ]
  },
  {
   "cell_type": "markdown",
   "metadata": {},
   "source": [
    "## **Configuración e Importación de Librerías**\n",
    "\n",
    "En esta sección, se importarán las librerías necesarias para el desarrollo y análisis del proyecto.\n"
   ]
  },
  {
   "cell_type": "code",
   "execution_count": 11,
   "metadata": {},
   "outputs": [],
   "source": [
    "import pandas as pd\n",
    "import numpy as np\n",
    "\n",
    "from xgboost import XGBClassifier\n",
    "from catboost import CatBoostClassifier\n",
    "from lightgbm import LGBMClassifier\n",
    "from sklearn.linear_model import LogisticRegression\n",
    "\n",
    "from sklearn.model_selection import GridSearchCV, StratifiedKFold, train_test_split\n",
    "from sklearn.metrics import precision_recall_curve, auc, make_scorer\n",
    "from ydata_profiling import ProfileReport\n",
    "from sklearn.model_selection import train_test_split, StratifiedKFold, GridSearchCV\n",
    "from sklearn.metrics import precision_recall_curve, auc, make_scorer\n",
    "from sklearn.metrics import classification_report\n",
    "\n",
    "from zipfile import ZipFile\n",
    "import os\n",
    "import joblib"
   ]
  },
  {
   "cell_type": "markdown",
   "metadata": {},
   "source": [
    "## Introducción"
   ]
  },
  {
   "cell_type": "markdown",
   "metadata": {},
   "source": [
    "El proyecto se centra en el desarrollo de un modelo predictivo capaz de estimar la **probabilidad de morosidad** de los clientes de un banco. El objetivo principal es identificar aquellos clientes que son más propensos a incumplir en sus pagos, permitiendo a la institución financiera tomar decisiones informadas para gestionar riesgos y maximizar ingresos.\n",
    "\n",
    "El conjunto de datos incluye variables relacionadas con el perfil financiero y comportamental de los clientes. Estas variables abarcan tanto datos numéricos (por ejemplo, ingresos, montos adeudados) como categóricos (por ejemplo, historial crediticio). El problema presenta un marcado desbalance entre las clases, ya que la cantidad de clientes morosos es significativamente menor en comparación con los clientes no morosos.\n",
    "\n",
    "Dada la naturaleza desbalanceada de los datos, se seleccionó el **Área Bajo la Curva de Precisión-Recall (AUC-PR)** como métrica principal. Esta métrica es adecuada porque se centra en el rendimiento de la clase positiva (clientes morosos) y mide la capacidad del modelo para identificar correctamente a los clientes de alto riesgo mientras minimiza los falsos positivos. El uso de esta métrica es preferible frente a métricas como la precisión global (`accuracy`), que podría ser engañosa en un problema desbalanceado.\n",
    "\n",
    "Para resolver el problema, se utilizaron cuatro modelos supervisados:\n",
    "1. **XGBoost**: Un modelo basado en boosting que mostró ser el mejor entre los probados.\n",
    "2. **CatBoost**: Ideal para manejar datos categóricos de forma nativa.\n",
    "3. **LightGBM**: Un modelo eficiente y rápido para conjuntos de datos grandes.\n",
    "4. **Regresión Logística**: Utilizada como referencia base para el análisis comparativo.\n",
    "\n",
    "Antes del entrenamiento de los modelos, se realizaron transformaciones intermedias mediante **pipelines** y **ColumnTransformers**, que incluyeron:\n",
    "- Escalado de variables numéricas.\n",
    "- Codificación de variables categóricas.\n",
    "- Manejo de valores faltantes, cuando fue necesario.\n"
   ]
  },
  {
   "cell_type": "markdown",
   "metadata": {},
   "source": [
    "## **Etapa 1**"
   ]
  },
  {
   "cell_type": "markdown",
   "metadata": {},
   "source": [
    "Se cargan los datos proporcionados para esta etapa del proyecto"
   ]
  },
  {
   "cell_type": "code",
   "execution_count": 2,
   "metadata": {},
   "outputs": [],
   "source": [
    "df_x0 = pd.read_parquet('X_t0.parquet')\n",
    "df_x1 = pd.read_parquet('X_t1.parquet')\n",
    "df_y0 = pd.read_parquet('y_t0.parquet')"
   ]
  },
  {
   "cell_type": "markdown",
   "metadata": {},
   "source": [
    "Para el Análisis Exploratorio de Datos (EDA) se utilizó la herramienta de generación automática de perfiles con el siguiente código:"
   ]
  },
  {
   "cell_type": "code",
   "execution_count": 8,
   "metadata": {},
   "outputs": [
    {
     "data": {
      "application/vnd.jupyter.widget-view+json": {
       "model_id": "ae466e510f1a499bb06b14a8c911919b",
       "version_major": 2,
       "version_minor": 0
      },
      "text/plain": [
       "Summarize dataset:   0%|          | 0/5 [00:00<?, ?it/s]"
      ]
     },
     "metadata": {},
     "output_type": "display_data"
    },
    {
     "data": {
      "application/vnd.jupyter.widget-view+json": {
       "model_id": "6df6dfccfbef450bbdca8aa9cd4c59db",
       "version_major": 2,
       "version_minor": 0
      },
      "text/plain": [
       "Generate report structure:   0%|          | 0/1 [00:00<?, ?it/s]"
      ]
     },
     "metadata": {},
     "output_type": "display_data"
    },
    {
     "data": {
      "application/vnd.jupyter.widget-view+json": {
       "model_id": "213f8136cb1443f08ee13498e4cc454a",
       "version_major": 2,
       "version_minor": 0
      },
      "text/plain": [
       "Render HTML:   0%|          | 0/1 [00:00<?, ?it/s]"
      ]
     },
     "metadata": {},
     "output_type": "display_data"
    },
    {
     "data": {
      "application/vnd.jupyter.widget-view+json": {
       "model_id": "ed8a4378abc4494fa2cbdf74bcc49b71",
       "version_major": 2,
       "version_minor": 0
      },
      "text/plain": [
       "Export report to file:   0%|          | 0/1 [00:00<?, ?it/s]"
      ]
     },
     "metadata": {},
     "output_type": "display_data"
    }
   ],
   "source": [
    "profile = ProfileReport(\n",
    "    df_x0,\n",
    "    title=\"Análisis Exploratorio de Datos Automático\",\n",
    "    explorative=True\n",
    ")\n",
    "\n",
    "# Guarda el informe como un archivo HTML\n",
    "profile.to_file(\"EDA_Reporte.html\")"
   ]
  },
  {
   "cell_type": "markdown",
   "metadata": {},
   "source": [
    "Debido a la altísima cantidad de variables en los datos, esta herramienta permite generar un informe detallado que incluye estadísticas descriptivas, detección de valores faltantes, correlaciones, distribuciones y otros aspectos clave de los datos, facilitando una comprensión global y eficiente de la información disponible."
   ]
  },
  {
   "cell_type": "markdown",
   "metadata": {},
   "source": [
    "Se fija una semilla aleatoria para garantizar la reproducibilidad de los resultados a lo largo del desarrollo del proyecto:"
   ]
  },
  {
   "cell_type": "code",
   "execution_count": 3,
   "metadata": {},
   "outputs": [],
   "source": [
    "rd = 1323"
   ]
  },
  {
   "cell_type": "markdown",
   "metadata": {},
   "source": [
    "### **Preprocesamiento de Datos**\n",
    "\n",
    "En esta etapa, se preparan los datos para el modelado mediante la creación de **pipelines** y el uso de **ColumnTransformers**.\n"
   ]
  },
  {
   "cell_type": "markdown",
   "metadata": {},
   "source": [
    "Isolation, knn imputer, one hot encoding y minmaxscaler"
   ]
  },
  {
   "cell_type": "code",
   "execution_count": null,
   "metadata": {},
   "outputs": [],
   "source": []
  },
  {
   "cell_type": "markdown",
   "metadata": {},
   "source": [
    "### **Inicio de la Etapa de Modelado**\n",
    "\n",
    "Se comienza la construcción y evaluación de modelos predictivos con el objetivo de estimar la probabilidad de morosidad de los clientes.\n"
   ]
  },
  {
   "cell_type": "markdown",
   "metadata": {},
   "source": [
    "Se divide el conjunto de datos en tres partes para garantizar una evaluación adecuada del modelo:\n",
    "\n",
    "- **70%** para entrenamiento: Utilizado para ajustar el modelo.\n",
    "- **15%** para validación: Usado para evaluar los modelos generados por el proceso de búsqueda de hiperparámetros con `GridSearchCV`.\n",
    "- **15%** para prueba: Reservado para evaluar el rendimiento final del mejor modelo encontrado.\n"
   ]
  },
  {
   "cell_type": "markdown",
   "metadata": {},
   "source": [
    "#### **Modelo Base: Regresión Logística**\n",
    "\n",
    "Se implementa un modelo de Regresión Logística como referencia base para el análisis comparativo.\n"
   ]
  },
  {
   "cell_type": "code",
   "execution_count": null,
   "metadata": {},
   "outputs": [
    {
     "name": "stdout",
     "output_type": "stream",
     "text": [
      "Iniciando búsqueda de hiperparámetros...\n",
      "Fitting 5 folds for each of 8 candidates, totalling 40 fits\n",
      "Mejores parámetros: {'C': 1, 'penalty': 'l1'}\n",
      "Mejor puntuación de validación cruzada (AUC-PR): 0.864619698206545\n",
      "AUC-PR en el conjunto de validación: 0.8578848730560438\n"
     ]
    },
    {
     "name": "stderr",
     "output_type": "stream",
     "text": [
      "c:\\Users\\crist\\anaconda3\\lib\\site-packages\\sklearn\\svm\\_base.py:1237: ConvergenceWarning: Liblinear failed to converge, increase the number of iterations.\n",
      "  warnings.warn(\n"
     ]
    }
   ],
   "source": [
    "# Definir un modelo base\n",
    "log_reg = LogisticRegression(random_state=rd, solver='liblinear')\n",
    "\n",
    "# Definir un rango reducido de hiperparámetros\n",
    "param_grid = {\n",
    "    'C': [0.01, 0.1, 1, 10],  # Inverso de la regularización\n",
    "    'penalty': ['l1', 'l2']   # Tipo de regularización\n",
    "}\n",
    "\n",
    "# Configurar la validación cruzada\n",
    "cv = StratifiedKFold(n_splits=5, shuffle=True, random_state=rd)\n",
    "\n",
    "# Definir el GridSearchCV usando el conjunto de entrenamiento\n",
    "grid_search = GridSearchCV(\n",
    "    estimator=log_reg,\n",
    "    param_grid=param_grid,\n",
    "    scoring=auc_pr_scorer, \n",
    "    cv=cv,\n",
    "    verbose=10,\n",
    "    n_jobs=-1\n",
    ")\n",
    "\n",
    "# Ejecutar el grid search con el conjunto de entrenamiento\n",
    "print(\"Iniciando búsqueda de hiperparámetros...\")\n",
    "grid_search.fit(X_train, y_train)\n",
    "\n",
    "# Imprimir los mejores parámetros y el mejor puntaje de la validación cruzada\n",
    "print(f\"Mejores parámetros: {grid_search.best_params_}\")\n",
    "print(f\"Mejor puntuación de validación cruzada (AUC-PR): {grid_search.best_score_}\")\n",
    "\n",
    "# Evaluar el modelo con el conjunto de validación\n",
    "best_model_lr = grid_search.best_estimator_\n",
    "y_val_pred = best_model_lr.predict_proba(X_val)[:, 1]  # Obtener las probabilidades predichas para la clase positiva\n",
    "val_auc_pr = custom_auc_pr(y_val, y_val_pred)  # Calcular AUC-PR en el conjunto de validación\n",
    "print(f\"AUC-PR en el conjunto de validación: {val_auc_pr}\")"
   ]
  },
  {
   "cell_type": "markdown",
   "metadata": {},
   "source": [
    "#### **Modelo 1: XGBoost**\n",
    "\n",
    "Se utiliza el clasificador `XGBClassifier` de la librería `xgboost` para construir el primer modelo predictivo. Este modelo es conocido por su capacidad de manejar grandes volúmenes de datos y características con alta eficiencia, siendo una opción robusta para problemas de clasificación como el planteado en este proyecto."
   ]
  },
  {
   "cell_type": "code",
   "execution_count": 4,
   "metadata": {},
   "outputs": [
    {
     "name": "stdout",
     "output_type": "stream",
     "text": [
      "Iniciando búsqueda de hiperparámetros...\n",
      "Fitting 5 folds for each of 24 candidates, totalling 120 fits\n",
      "Mejores parámetros: {'learning_rate': 0.1, 'max_depth': 5, 'n_estimators': 200, 'reg_alpha': 1}\n",
      "Mejor puntuación de validación cruzada (AUC-PR): 0.9433971825531667\n",
      "AUC-PR en el conjunto de validación: 0.9435305574148607\n"
     ]
    }
   ],
   "source": [
    "# Asegurarnos de que la variable objetivo sea un vector\n",
    "y = df_y0.values.ravel()\n",
    "\n",
    "# Eliminar la columna de texto\n",
    "text_column = 'wallet_address'\n",
    "X = df_x0.drop(columns=[text_column])\n",
    "\n",
    "# Dividir en entrenamiento (70%), validación (15%) y prueba (15%)\n",
    "X_train, X_temp, y_train, y_temp = train_test_split(X, y, test_size=0.3, random_state=rd, stratify=y)\n",
    "X_val, X_test, y_val, y_test = train_test_split(X_temp, y_temp, test_size=0.5, random_state=rd, stratify=y_temp)\n",
    "\n",
    "# Definir una métrica personalizada para AUC-PR\n",
    "def custom_auc_pr(y_true, y_scores):\n",
    "    precision, recall, _ = precision_recall_curve(y_true, y_scores)\n",
    "    return auc(recall, precision)\n",
    "\n",
    "# Crear un scorer basado en la métrica personalizada\n",
    "auc_pr_scorer = make_scorer(custom_auc_pr, response_method = 'predict_proba')\n",
    "\n",
    "# Definir un modelo base\n",
    "xgb = XGBClassifier(eval_metric='logloss', random_state=rd, scale_pos_weight = 1)\n",
    "\n",
    "# Definir un rango reducido de hiperparámetros\n",
    "param_grid = {\n",
    "    'n_estimators': [100, 200],\n",
    "    'max_depth': [3, 5],\n",
    "    'learning_rate': [0.01, 0.1],\n",
    "    'reg_alpha': [0, 0.1, 1]  \n",
    "}\n",
    "\n",
    "# Configurar la validación cruzada\n",
    "cv = StratifiedKFold(n_splits=5, shuffle=True, random_state=rd)\n",
    "\n",
    "# Definir el GridSearchCV\n",
    "grid_search = GridSearchCV(\n",
    "    estimator=xgb,\n",
    "    param_grid=param_grid,\n",
    "    scoring=auc_pr_scorer, \n",
    "    cv=cv,\n",
    "    verbose=10,\n",
    "    n_jobs=-1\n",
    ")\n",
    "\n",
    "# Ejecutar el grid search\n",
    "print(\"Iniciando búsqueda de hiperparámetros...\")\n",
    "grid_search.fit(X_train, y_train)\n",
    "\n",
    "# Imprimir los mejores parámetros y el mejor puntaje\n",
    "print(f\"Mejores parámetros: {grid_search.best_params_}\")\n",
    "print(f\"Mejor puntuación de validación cruzada (AUC-PR): {grid_search.best_score_}\")\n",
    "# Evaluar el modelo con el conjunto de validación\n",
    "best_model_xgb = grid_search.best_estimator_\n",
    "y_val_pred = best_model_xgb.predict_proba(X_val)[:, 1]  # Obtener las probabilidades predichas para la clase positiva\n",
    "val_auc_pr = custom_auc_pr(y_val, y_val_pred)  # Calcular AUC-PR en el conjunto de validación\n",
    "print(f\"AUC-PR en el conjunto de validación: {val_auc_pr}\")"
   ]
  },
  {
   "cell_type": "markdown",
   "metadata": {},
   "source": [
    "#### **Modelo 2: CatBoost**\n",
    "\n",
    "Se utiliza el modelo de clasificación `CatBoostClassifier`."
   ]
  },
  {
   "cell_type": "code",
   "execution_count": 5,
   "metadata": {},
   "outputs": [
    {
     "name": "stdout",
     "output_type": "stream",
     "text": [
      "Iniciando búsqueda de hiperparámetros...\n",
      "Fitting 5 folds for each of 24 candidates, totalling 120 fits\n",
      "Mejores parámetros: {'depth': 5, 'iterations': 200, 'l2_leaf_reg': 1, 'learning_rate': 0.1}\n",
      "Mejor puntuación de validación cruzada (AUC-PR): 0.9302120755133145\n",
      "AUC-PR en el conjunto de validación: 0.9281045158613274\n"
     ]
    }
   ],
   "source": [
    "# Definir un modelo base\n",
    "catboost = CatBoostClassifier(\n",
    "    verbose=0,\n",
    "    random_seed=rd\n",
    ")\n",
    "\n",
    "# Definir un rango reducido de hiperparámetros\n",
    "param_grid = {\n",
    "    'iterations': [100, 200],\n",
    "    'depth': [3, 5],\n",
    "    'learning_rate': [0.01, 0.1],\n",
    "    'l2_leaf_reg': [1, 3, 5] \n",
    "}\n",
    "\n",
    "# Configurar la validación cruzada\n",
    "cv = StratifiedKFold(n_splits=5, shuffle=True, random_state=rd)\n",
    "\n",
    "# Definir el GridSearchCV\n",
    "grid_search = GridSearchCV(\n",
    "    estimator=catboost,\n",
    "    param_grid=param_grid,\n",
    "    scoring=auc_pr_scorer, \n",
    "    cv=cv,\n",
    "    verbose=10,\n",
    "    n_jobs=-1\n",
    ")\n",
    "\n",
    "# Ejecutar el grid search\n",
    "print(\"Iniciando búsqueda de hiperparámetros...\")\n",
    "grid_search.fit(X_train, y_train)\n",
    "\n",
    "# Imprimir los mejores parámetros y el mejor puntaje\n",
    "print(f\"Mejores parámetros: {grid_search.best_params_}\")\n",
    "print(f\"Mejor puntuación de validación cruzada (AUC-PR): {grid_search.best_score_}\")    \n",
    "# Evaluar el modelo con el conjunto de validación\n",
    "best_model_cat = grid_search.best_estimator_\n",
    "y_val_pred = best_model_cat.predict_proba(X_val)[:, 1]  # Obtener las probabilidades predichas para la clase positiva\n",
    "val_auc_pr = custom_auc_pr(y_val, y_val_pred)  # Calcular AUC-PR en el conjunto de validación\n",
    "print(f\"AUC-PR en el conjunto de validación: {val_auc_pr}\")"
   ]
  },
  {
   "cell_type": "markdown",
   "metadata": {},
   "source": [
    "#### **Modelo 3: LightGBM**\n",
    "\n",
    "Se utiliza el modelo de clasificación `LGBMClassifier`.\n"
   ]
  },
  {
   "cell_type": "code",
   "execution_count": 7,
   "metadata": {},
   "outputs": [
    {
     "name": "stdout",
     "output_type": "stream",
     "text": [
      "Iniciando búsqueda de hiperparámetros...\n",
      "Fitting 5 folds for each of 16 candidates, totalling 80 fits\n",
      "[LightGBM] [Info] Number of positive: 15859, number of negative: 15148\n",
      "[LightGBM] [Info] Auto-choosing col-wise multi-threading, the overhead of testing was 0.012503 seconds.\n",
      "You can set `force_col_wise=true` to remove the overhead.\n",
      "[LightGBM] [Info] Total Bins 17127\n",
      "[LightGBM] [Info] Number of data points in the train set: 31007, number of used features: 76\n",
      "[LightGBM] [Info] [binary:BoostFromScore]: pavg=0.511465 -> initscore=0.045869\n",
      "[LightGBM] [Info] Start training from score 0.045869\n",
      "[LightGBM] [Warning] No further splits with positive gain, best gain: -inf\n",
      "[LightGBM] [Warning] No further splits with positive gain, best gain: -inf\n",
      "[LightGBM] [Warning] No further splits with positive gain, best gain: -inf\n",
      "[LightGBM] [Warning] No further splits with positive gain, best gain: -inf\n",
      "[LightGBM] [Warning] No further splits with positive gain, best gain: -inf\n",
      "[LightGBM] [Warning] No further splits with positive gain, best gain: -inf\n",
      "[LightGBM] [Warning] No further splits with positive gain, best gain: -inf\n",
      "[LightGBM] [Warning] No further splits with positive gain, best gain: -inf\n",
      "[LightGBM] [Warning] No further splits with positive gain, best gain: -inf\n",
      "[LightGBM] [Warning] No further splits with positive gain, best gain: -inf\n",
      "[LightGBM] [Warning] No further splits with positive gain, best gain: -inf\n",
      "[LightGBM] [Warning] No further splits with positive gain, best gain: -inf\n",
      "[LightGBM] [Warning] No further splits with positive gain, best gain: -inf\n",
      "[LightGBM] [Warning] No further splits with positive gain, best gain: -inf\n",
      "[LightGBM] [Warning] No further splits with positive gain, best gain: -inf\n",
      "[LightGBM] [Warning] No further splits with positive gain, best gain: -inf\n",
      "[LightGBM] [Warning] No further splits with positive gain, best gain: -inf\n",
      "[LightGBM] [Warning] No further splits with positive gain, best gain: -inf\n",
      "[LightGBM] [Warning] No further splits with positive gain, best gain: -inf\n",
      "[LightGBM] [Warning] No further splits with positive gain, best gain: -inf\n",
      "[LightGBM] [Warning] No further splits with positive gain, best gain: -inf\n",
      "[LightGBM] [Warning] No further splits with positive gain, best gain: -inf\n",
      "[LightGBM] [Warning] No further splits with positive gain, best gain: -inf\n",
      "[LightGBM] [Warning] No further splits with positive gain, best gain: -inf\n",
      "[LightGBM] [Warning] No further splits with positive gain, best gain: -inf\n",
      "[LightGBM] [Warning] No further splits with positive gain, best gain: -inf\n",
      "[LightGBM] [Warning] No further splits with positive gain, best gain: -inf\n",
      "[LightGBM] [Warning] No further splits with positive gain, best gain: -inf\n",
      "[LightGBM] [Warning] No further splits with positive gain, best gain: -inf\n",
      "[LightGBM] [Warning] No further splits with positive gain, best gain: -inf\n",
      "[LightGBM] [Warning] No further splits with positive gain, best gain: -inf\n",
      "[LightGBM] [Warning] No further splits with positive gain, best gain: -inf\n",
      "[LightGBM] [Warning] No further splits with positive gain, best gain: -inf\n",
      "[LightGBM] [Warning] No further splits with positive gain, best gain: -inf\n",
      "[LightGBM] [Warning] No further splits with positive gain, best gain: -inf\n",
      "[LightGBM] [Warning] No further splits with positive gain, best gain: -inf\n",
      "[LightGBM] [Warning] No further splits with positive gain, best gain: -inf\n",
      "[LightGBM] [Warning] No further splits with positive gain, best gain: -inf\n",
      "[LightGBM] [Warning] No further splits with positive gain, best gain: -inf\n",
      "[LightGBM] [Warning] No further splits with positive gain, best gain: -inf\n",
      "[LightGBM] [Warning] No further splits with positive gain, best gain: -inf\n",
      "[LightGBM] [Warning] No further splits with positive gain, best gain: -inf\n",
      "[LightGBM] [Warning] No further splits with positive gain, best gain: -inf\n",
      "[LightGBM] [Warning] No further splits with positive gain, best gain: -inf\n",
      "[LightGBM] [Warning] No further splits with positive gain, best gain: -inf\n",
      "[LightGBM] [Warning] No further splits with positive gain, best gain: -inf\n",
      "[LightGBM] [Warning] No further splits with positive gain, best gain: -inf\n",
      "[LightGBM] [Warning] No further splits with positive gain, best gain: -inf\n",
      "[LightGBM] [Warning] No further splits with positive gain, best gain: -inf\n",
      "[LightGBM] [Warning] No further splits with positive gain, best gain: -inf\n",
      "[LightGBM] [Warning] No further splits with positive gain, best gain: -inf\n",
      "[LightGBM] [Warning] No further splits with positive gain, best gain: -inf\n",
      "[LightGBM] [Warning] No further splits with positive gain, best gain: -inf\n",
      "[LightGBM] [Warning] No further splits with positive gain, best gain: -inf\n",
      "[LightGBM] [Warning] No further splits with positive gain, best gain: -inf\n",
      "[LightGBM] [Warning] No further splits with positive gain, best gain: -inf\n",
      "[LightGBM] [Warning] No further splits with positive gain, best gain: -inf\n",
      "[LightGBM] [Warning] No further splits with positive gain, best gain: -inf\n",
      "[LightGBM] [Warning] No further splits with positive gain, best gain: -inf\n",
      "[LightGBM] [Warning] No further splits with positive gain, best gain: -inf\n",
      "[LightGBM] [Warning] No further splits with positive gain, best gain: -inf\n",
      "[LightGBM] [Warning] No further splits with positive gain, best gain: -inf\n",
      "[LightGBM] [Warning] No further splits with positive gain, best gain: -inf\n",
      "[LightGBM] [Warning] No further splits with positive gain, best gain: -inf\n",
      "[LightGBM] [Warning] No further splits with positive gain, best gain: -inf\n",
      "[LightGBM] [Warning] No further splits with positive gain, best gain: -inf\n",
      "[LightGBM] [Warning] No further splits with positive gain, best gain: -inf\n",
      "[LightGBM] [Warning] No further splits with positive gain, best gain: -inf\n",
      "[LightGBM] [Warning] No further splits with positive gain, best gain: -inf\n",
      "[LightGBM] [Warning] No further splits with positive gain, best gain: -inf\n",
      "[LightGBM] [Warning] No further splits with positive gain, best gain: -inf\n",
      "[LightGBM] [Warning] No further splits with positive gain, best gain: -inf\n",
      "[LightGBM] [Warning] No further splits with positive gain, best gain: -inf\n",
      "[LightGBM] [Warning] No further splits with positive gain, best gain: -inf\n",
      "[LightGBM] [Warning] No further splits with positive gain, best gain: -inf\n",
      "[LightGBM] [Warning] No further splits with positive gain, best gain: -inf\n",
      "[LightGBM] [Warning] No further splits with positive gain, best gain: -inf\n",
      "[LightGBM] [Warning] No further splits with positive gain, best gain: -inf\n",
      "[LightGBM] [Warning] No further splits with positive gain, best gain: -inf\n",
      "[LightGBM] [Warning] No further splits with positive gain, best gain: -inf\n",
      "[LightGBM] [Warning] No further splits with positive gain, best gain: -inf\n",
      "[LightGBM] [Warning] No further splits with positive gain, best gain: -inf\n",
      "[LightGBM] [Warning] No further splits with positive gain, best gain: -inf\n",
      "[LightGBM] [Warning] No further splits with positive gain, best gain: -inf\n",
      "[LightGBM] [Warning] No further splits with positive gain, best gain: -inf\n",
      "[LightGBM] [Warning] No further splits with positive gain, best gain: -inf\n",
      "[LightGBM] [Warning] No further splits with positive gain, best gain: -inf\n",
      "[LightGBM] [Warning] No further splits with positive gain, best gain: -inf\n",
      "[LightGBM] [Warning] No further splits with positive gain, best gain: -inf\n",
      "[LightGBM] [Warning] No further splits with positive gain, best gain: -inf\n",
      "[LightGBM] [Warning] No further splits with positive gain, best gain: -inf\n",
      "[LightGBM] [Warning] No further splits with positive gain, best gain: -inf\n",
      "[LightGBM] [Warning] No further splits with positive gain, best gain: -inf\n",
      "[LightGBM] [Warning] No further splits with positive gain, best gain: -inf\n",
      "[LightGBM] [Warning] No further splits with positive gain, best gain: -inf\n",
      "[LightGBM] [Warning] No further splits with positive gain, best gain: -inf\n",
      "[LightGBM] [Warning] No further splits with positive gain, best gain: -inf\n",
      "[LightGBM] [Warning] No further splits with positive gain, best gain: -inf\n",
      "[LightGBM] [Warning] No further splits with positive gain, best gain: -inf\n",
      "[LightGBM] [Warning] No further splits with positive gain, best gain: -inf\n",
      "[LightGBM] [Warning] No further splits with positive gain, best gain: -inf\n",
      "[LightGBM] [Warning] No further splits with positive gain, best gain: -inf\n",
      "[LightGBM] [Warning] No further splits with positive gain, best gain: -inf\n",
      "[LightGBM] [Warning] No further splits with positive gain, best gain: -inf\n",
      "[LightGBM] [Warning] No further splits with positive gain, best gain: -inf\n",
      "[LightGBM] [Warning] No further splits with positive gain, best gain: -inf\n",
      "[LightGBM] [Warning] No further splits with positive gain, best gain: -inf\n",
      "[LightGBM] [Warning] No further splits with positive gain, best gain: -inf\n",
      "[LightGBM] [Warning] No further splits with positive gain, best gain: -inf\n",
      "[LightGBM] [Warning] No further splits with positive gain, best gain: -inf\n",
      "[LightGBM] [Warning] No further splits with positive gain, best gain: -inf\n",
      "[LightGBM] [Warning] No further splits with positive gain, best gain: -inf\n",
      "[LightGBM] [Warning] No further splits with positive gain, best gain: -inf\n",
      "[LightGBM] [Warning] No further splits with positive gain, best gain: -inf\n",
      "[LightGBM] [Warning] No further splits with positive gain, best gain: -inf\n",
      "[LightGBM] [Warning] No further splits with positive gain, best gain: -inf\n",
      "[LightGBM] [Warning] No further splits with positive gain, best gain: -inf\n",
      "[LightGBM] [Warning] No further splits with positive gain, best gain: -inf\n",
      "[LightGBM] [Warning] No further splits with positive gain, best gain: -inf\n",
      "[LightGBM] [Warning] No further splits with positive gain, best gain: -inf\n",
      "[LightGBM] [Warning] No further splits with positive gain, best gain: -inf\n",
      "[LightGBM] [Warning] No further splits with positive gain, best gain: -inf\n",
      "[LightGBM] [Warning] No further splits with positive gain, best gain: -inf\n",
      "[LightGBM] [Warning] No further splits with positive gain, best gain: -inf\n",
      "[LightGBM] [Warning] No further splits with positive gain, best gain: -inf\n",
      "[LightGBM] [Warning] No further splits with positive gain, best gain: -inf\n",
      "[LightGBM] [Warning] No further splits with positive gain, best gain: -inf\n",
      "[LightGBM] [Warning] No further splits with positive gain, best gain: -inf\n",
      "[LightGBM] [Warning] No further splits with positive gain, best gain: -inf\n",
      "[LightGBM] [Warning] No further splits with positive gain, best gain: -inf\n",
      "[LightGBM] [Warning] No further splits with positive gain, best gain: -inf\n",
      "[LightGBM] [Warning] No further splits with positive gain, best gain: -inf\n",
      "[LightGBM] [Warning] No further splits with positive gain, best gain: -inf\n",
      "[LightGBM] [Warning] No further splits with positive gain, best gain: -inf\n",
      "[LightGBM] [Warning] No further splits with positive gain, best gain: -inf\n",
      "[LightGBM] [Warning] No further splits with positive gain, best gain: -inf\n",
      "[LightGBM] [Warning] No further splits with positive gain, best gain: -inf\n",
      "[LightGBM] [Warning] No further splits with positive gain, best gain: -inf\n",
      "[LightGBM] [Warning] No further splits with positive gain, best gain: -inf\n",
      "[LightGBM] [Warning] No further splits with positive gain, best gain: -inf\n",
      "[LightGBM] [Warning] No further splits with positive gain, best gain: -inf\n",
      "[LightGBM] [Warning] No further splits with positive gain, best gain: -inf\n",
      "[LightGBM] [Warning] No further splits with positive gain, best gain: -inf\n",
      "[LightGBM] [Warning] No further splits with positive gain, best gain: -inf\n",
      "[LightGBM] [Warning] No further splits with positive gain, best gain: -inf\n",
      "[LightGBM] [Warning] No further splits with positive gain, best gain: -inf\n",
      "[LightGBM] [Warning] No further splits with positive gain, best gain: -inf\n",
      "[LightGBM] [Warning] No further splits with positive gain, best gain: -inf\n",
      "[LightGBM] [Warning] No further splits with positive gain, best gain: -inf\n",
      "[LightGBM] [Warning] No further splits with positive gain, best gain: -inf\n",
      "[LightGBM] [Warning] No further splits with positive gain, best gain: -inf\n",
      "[LightGBM] [Warning] No further splits with positive gain, best gain: -inf\n",
      "[LightGBM] [Warning] No further splits with positive gain, best gain: -inf\n",
      "[LightGBM] [Warning] No further splits with positive gain, best gain: -inf\n",
      "[LightGBM] [Warning] No further splits with positive gain, best gain: -inf\n",
      "[LightGBM] [Warning] No further splits with positive gain, best gain: -inf\n",
      "[LightGBM] [Warning] No further splits with positive gain, best gain: -inf\n",
      "[LightGBM] [Warning] No further splits with positive gain, best gain: -inf\n",
      "[LightGBM] [Warning] No further splits with positive gain, best gain: -inf\n",
      "[LightGBM] [Warning] No further splits with positive gain, best gain: -inf\n",
      "[LightGBM] [Warning] No further splits with positive gain, best gain: -inf\n",
      "[LightGBM] [Warning] No further splits with positive gain, best gain: -inf\n",
      "[LightGBM] [Warning] No further splits with positive gain, best gain: -inf\n",
      "[LightGBM] [Warning] No further splits with positive gain, best gain: -inf\n",
      "[LightGBM] [Warning] No further splits with positive gain, best gain: -inf\n",
      "[LightGBM] [Warning] No further splits with positive gain, best gain: -inf\n",
      "[LightGBM] [Warning] No further splits with positive gain, best gain: -inf\n",
      "[LightGBM] [Warning] No further splits with positive gain, best gain: -inf\n",
      "[LightGBM] [Warning] No further splits with positive gain, best gain: -inf\n",
      "[LightGBM] [Warning] No further splits with positive gain, best gain: -inf\n",
      "[LightGBM] [Warning] No further splits with positive gain, best gain: -inf\n",
      "[LightGBM] [Warning] No further splits with positive gain, best gain: -inf\n",
      "[LightGBM] [Warning] No further splits with positive gain, best gain: -inf\n",
      "[LightGBM] [Warning] No further splits with positive gain, best gain: -inf\n",
      "[LightGBM] [Warning] No further splits with positive gain, best gain: -inf\n",
      "[LightGBM] [Warning] No further splits with positive gain, best gain: -inf\n",
      "[LightGBM] [Warning] No further splits with positive gain, best gain: -inf\n",
      "[LightGBM] [Warning] No further splits with positive gain, best gain: -inf\n",
      "[LightGBM] [Warning] No further splits with positive gain, best gain: -inf\n",
      "[LightGBM] [Warning] No further splits with positive gain, best gain: -inf\n",
      "Mejores parámetros: {'learning_rate': 0.1, 'max_depth': 5, 'n_estimators': 200, 'reg_alpha': 0.1}\n",
      "Mejor puntuación de validación cruzada (AUC-PR): 0.9432474996299586\n",
      "AUC-PR en el conjunto de validación: 0.9428014639488884\n"
     ]
    }
   ],
   "source": [
    "# Definir un modelo base\n",
    "lightgbm = LGBMClassifier(random_state=rd)\n",
    "\n",
    "# Definir un rango reducido de hiperparámetros\n",
    "param_grid = {\n",
    "    'n_estimators': [100, 200],  \n",
    "    'max_depth': [3, 5],       \n",
    "    'learning_rate': [0.01, 0.1],\n",
    "    'reg_alpha': [0, 0.1]    \n",
    "}\n",
    "\n",
    "# Configurar la validación cruzada\n",
    "cv = StratifiedKFold(n_splits=5, shuffle=True, random_state=rd)\n",
    "\n",
    "# Definir el GridSearchCV usando el conjunto de entrenamiento\n",
    "grid_search = GridSearchCV(\n",
    "    estimator=lightgbm,\n",
    "    param_grid=param_grid,\n",
    "    scoring=auc_pr_scorer, \n",
    "    cv=cv,\n",
    "    verbose=10,\n",
    "    n_jobs=-1\n",
    ")\n",
    "    \n",
    "# Ejecutar el grid search con el conjunto de entrenamiento\n",
    "print(\"Iniciando búsqueda de hiperparámetros...\")\n",
    "grid_search.fit(X_train, y_train)\n",
    "\n",
    "# Imprimir los mejores parámetros y el mejor puntaje de la validación cruzada\n",
    "print(f\"Mejores parámetros: {grid_search.best_params_}\")\n",
    "print(f\"Mejor puntuación de validación cruzada (AUC-PR): {grid_search.best_score_}\")\n",
    "\n",
    "# Evaluar el modelo con el conjunto de validación\n",
    "best_model_l = grid_search.best_estimator_\n",
    "y_val_pred = best_model_l.predict_proba(X_val)[:, 1]  # Obtener las probabilidades predichas para la clase positiva\n",
    "val_auc_pr = custom_auc_pr(y_val, y_val_pred)  # Calcular AUC-PR en el conjunto de validación\n",
    "print(f\"AUC-PR en el conjunto de validación: {val_auc_pr}\")"
   ]
  },
  {
   "cell_type": "markdown",
   "metadata": {},
   "source": [
    "#### **Evaluación de Modelos en el Conjunto de Prueba**\n",
    "\n",
    "En esta sección, habiendo iterado las grillas en todos los modelos, se evalúan los cuatro modelos construidos previamente (XGBoost, CatBoost, LightGBM y Regresión Logística) en el conjunto de prueba para medir su rendimiento final. Para cada modelo, se calcula la métrica principal del proyecto, el **AUC-PR**, y se comparan los resultados para identificar el modelo con mejor desempeño.\n"
   ]
  },
  {
   "cell_type": "code",
   "execution_count": 13,
   "metadata": {},
   "outputs": [
    {
     "name": "stdout",
     "output_type": "stream",
     "text": [
      "Evaluación en el conjunto de prueba:\n",
      "Logistic Regression - AUC-PR en el conjunto de prueba: 0.8645\n",
      "Reporte de Clasificación para Logistic Regression:\n",
      "\n",
      "              precision    recall  f1-score   support\n",
      "\n",
      "           0       0.73      0.78      0.75      3246\n",
      "           1       0.78      0.72      0.74      3399\n",
      "\n",
      "    accuracy                           0.75      6645\n",
      "   macro avg       0.75      0.75      0.75      6645\n",
      "weighted avg       0.75      0.75      0.75      6645\n",
      "\n",
      "--------------------------------------------------\n",
      "XGBoost - AUC-PR en el conjunto de prueba: 0.9437\n",
      "Reporte de Clasificación para XGBoost:\n",
      "\n",
      "              precision    recall  f1-score   support\n",
      "\n",
      "           0       0.81      0.91      0.86      3246\n",
      "           1       0.90      0.80      0.85      3399\n",
      "\n",
      "    accuracy                           0.85      6645\n",
      "   macro avg       0.86      0.85      0.85      6645\n",
      "weighted avg       0.86      0.85      0.85      6645\n",
      "\n",
      "--------------------------------------------------\n",
      "CatBoost - AUC-PR en el conjunto de prueba: 0.9302\n",
      "Reporte de Clasificación para CatBoost:\n",
      "\n",
      "              precision    recall  f1-score   support\n",
      "\n",
      "           0       0.79      0.89      0.84      3246\n",
      "           1       0.88      0.77      0.82      3399\n",
      "\n",
      "    accuracy                           0.83      6645\n",
      "   macro avg       0.83      0.83      0.83      6645\n",
      "weighted avg       0.84      0.83      0.83      6645\n",
      "\n",
      "--------------------------------------------------\n",
      "LightGBM - AUC-PR en el conjunto de prueba: 0.9422\n",
      "Reporte de Clasificación para LightGBM:\n",
      "\n",
      "              precision    recall  f1-score   support\n",
      "\n",
      "           0       0.81      0.90      0.86      3246\n",
      "           1       0.90      0.80      0.85      3399\n",
      "\n",
      "    accuracy                           0.85      6645\n",
      "   macro avg       0.86      0.85      0.85      6645\n",
      "weighted avg       0.86      0.85      0.85      6645\n",
      "\n",
      "--------------------------------------------------\n",
      "Resultados finales:\n",
      "Logistic Regression: AUC-PR = 0.8645\n",
      "XGBoost: AUC-PR = 0.9437\n",
      "CatBoost: AUC-PR = 0.9302\n",
      "LightGBM: AUC-PR = 0.9422\n"
     ]
    }
   ],
   "source": [
    "# Evaluación en el conjunto de prueba\n",
    "def evaluate_model_on_test(model, model_name, X_test, y_test):\n",
    "    # Obtener probabilidades predichas para la clase positiva\n",
    "    y_test_pred = model.predict_proba(X_test)[:, 1]\n",
    "    \n",
    "    # Calcular AUC-PR\n",
    "    test_auc_pr = custom_auc_pr(y_test, y_test_pred)\n",
    "    print(f\"{model_name} - AUC-PR en el conjunto de prueba: {test_auc_pr:.4f}\")\n",
    "    \n",
    "    # Reporte de clasificación\n",
    "    y_test_pred_class = model.predict(X_test)\n",
    "    print(f\"Reporte de Clasificación para {model_name}:\\n\")\n",
    "    print(classification_report(y_test, y_test_pred_class))\n",
    "    print(\"-\" * 50)\n",
    "    return test_auc_pr\n",
    "\n",
    "# Evaluar los cuatro modelos\n",
    "print(\"Evaluación en el conjunto de prueba:\")\n",
    "results = {}\n",
    "\n",
    "# Evaluar Regresión Logística\n",
    "results['Logistic Regression'] = evaluate_model_on_test(best_model_lr, \"Logistic Regression\", X_test, y_test)\n",
    "\n",
    "# Evaluar XGBoost\n",
    "results['XGBoost'] = evaluate_model_on_test(best_model_xgb, \"XGBoost\", X_test, y_test)\n",
    "\n",
    "# Evaluar CatBoost\n",
    "results['CatBoost'] = evaluate_model_on_test(best_model_cat, \"CatBoost\", X_test, y_test)\n",
    "\n",
    "# Evaluar LightGBM\n",
    "results['LightGBM'] = evaluate_model_on_test(best_model_l, \"LightGBM\", X_test, y_test)\n",
    "\n",
    "\n",
    "# Comparación final de resultados\n",
    "print(\"Resultados finales:\")\n",
    "for model, auc_pr in results.items():\n",
    "    print(f\"{model}: AUC-PR = {auc_pr:.4f}\")\n"
   ]
  },
  {
   "cell_type": "markdown",
   "metadata": {},
   "source": [
    "#### **Entrega Parcial 1**"
   ]
  },
  {
   "cell_type": "markdown",
   "metadata": {},
   "source": [
    "Dado que el modelo **XGBoost** obtuvo el mejor desempeño con un **AUC-PR de 0.9437**, se decide seleccionarlo como el modelo final para realizar una búsqueda más exhaustiva de hiperparámetros con una grilla ampliada. Esto permitirá explorar un espacio más amplio de configuraciones y, potencialmente, mejorar aún más su desempeño.\n",
    "\n",
    "\n",
    "\n",
    "\n",
    "Para aprovechar al máximo el potencial del modelo **XGBoost**, se realiza una búsqueda ampliada de hiperparámetros utilizando **GridSearchCV**. En esta búsqueda:\n",
    "\n",
    "- Se utiliza la **totalidad de los datos de entrenamiento, validación y testeo combinados** para maximizar el uso de la información disponible y obtener una configuración más robusta.\n",
    "- La validación cruzada se realiza con **StratifiedKFold** (5 particiones), asegurando un equilibrio en las clases durante la evaluación.\n",
    "\n",
    "La nueva grilla de hiperparámetros incluye:\n",
    "\n",
    "- **`n_estimators`**: Número de árboles en el modelo, con valores entre 50 y 500.\n",
    "- **`max_depth`**: Profundidad máxima de los árboles, con valores de 3 a 10, para controlar la complejidad.\n",
    "- **`learning_rate`**: Tasa de aprendizaje, probando desde tasas bajas (0.001) hasta más agresivas (0.2).\n",
    "- **`reg_alpha` y `reg_lambda`**: Parámetros de regularización L1 y L2, explorando la influencia de la penalización en el ajuste.\n",
    "- **`subsample`**: Proporción de datos utilizados para construir cada árbol, con valores de 0.5 y 1.\n",
    "\n",
    "\n",
    "El uso de una grilla ampliada y de validación cruzada es crucial para garantizar que el modelo seleccionado no solo se ajuste bien a los datos disponibles, sino que también generalice de manera efectiva a nuevos datos. Este enfoque exhaustivo asegura que se exploren configuraciones más complejas, maximizando el desempeño del modelo en la tarea de predecir la probabilidad de morosidad.\n",
    "\n",
    "Cabe destacar que para la entrega parcial 1, en la etapa 1 en general, no se realizó el preprocesamiento de datos presente en el informe, debido a la carga académica de los integrantes del grupo y las características del modelo de resistencia a la escala de los datos y alta dimensionalidad."
   ]
  },
  {
   "cell_type": "code",
   "execution_count": null,
   "metadata": {},
   "outputs": [],
   "source": [
    "# Cargar los datos\n",
    "df_x0 = pd.read_parquet('X_t0.parquet')\n",
    "df_y0 = pd.read_parquet('y_t0.parquet')\n",
    "\n",
    "# Asegurarnos de que la variable objetivo sea un vector\n",
    "y = df_y0.values.ravel()\n",
    "\n",
    "# Eliminar la columna de texto\n",
    "text_column = 'wallet_address'\n",
    "X = df_x0.drop(columns=[text_column])\n",
    "\n",
    "# Definir una métrica personalizada para AUC-PR\n",
    "def custom_auc_pr(y_true, y_scores):\n",
    "    precision, recall, _ = precision_recall_curve(y_true, y_scores)\n",
    "    return auc(recall, precision)\n",
    "\n",
    "# Crear un scorer basado en la métrica personalizada\n",
    "auc_pr_scorer = make_scorer(custom_auc_pr, response_method = 'predict_proba')\n",
    "\n",
    "# Definir un modelo base\n",
    "xgb = XGBClassifier(eval_metric='logloss', random_state=rd, scale_pos_weight = 1)\n",
    "\n",
    "# Definir una grilla ampliada de hiperparámetros\n",
    "param_grid = {\n",
    "    'n_estimators': [50, 100, 200, 500],\n",
    "    'max_depth': [3, 5, 7, 10],\n",
    "    'learning_rate': [0.001, 0.01, 0.1, 0.2],\n",
    "    'reg_alpha': [0, 0.1, 1, 10],\n",
    "    'reg_lambda': [1, 5, 10],\n",
    "    'subsample': [0.5, 1]\n",
    "}\n",
    "\n",
    "\n",
    "# Configurar la validación cruzada\n",
    "cv = StratifiedKFold(n_splits=5, shuffle=True, random_state=rd)\n",
    "\n",
    "# Definir el GridSearchCV\n",
    "grid_search = GridSearchCV(\n",
    "    estimator=xgb,\n",
    "    param_grid=param_grid,\n",
    "    scoring=auc_pr_scorer, \n",
    "    cv=cv,\n",
    "    verbose=10,\n",
    "    n_jobs=-1\n",
    ")\n",
    "\n",
    "# Ejecutar el grid search\n",
    "print(\"Iniciando búsqueda de hiperparámetros...\")\n",
    "grid_search.fit(X, y)\n",
    "\n",
    "# Imprimir los mejores parámetros y el mejor puntaje\n",
    "print(f\"Mejores parámetros: {grid_search.best_params_}\")\n",
    "print(f\"Mejor puntuación de validación cruzada (AUC-PR): {grid_search.best_score_}\")"
   ]
  },
  {
   "cell_type": "code",
   "execution_count": null,
   "metadata": {},
   "outputs": [],
   "source": [
    "# Obtener el mejor modelo de grid search\n",
    "best_model = grid_search.best_estimator_\n",
    "X1 = df_x1.drop(columns=[text_column])\n",
    "\n",
    "def generateFiles(predict_data, clf_pipe):\n",
    "    \"\"\"Genera los archivos a subir en CodaLab\n",
    "\n",
    "    Input\n",
    "    ---------------\n",
    "    predict_data: Dataframe con los datos de entrada a predecir\n",
    "    clf_pipe: pipeline del clf\n",
    "\n",
    "    Ouput\n",
    "    ---------------\n",
    "    archivo de txt\n",
    "    \"\"\"\n",
    "    y_pred_clf = clf_pipe.predict_proba(predict_data)[:, 1]\n",
    "    with open('./predictions.txt', 'w') as f:\n",
    "        for item in y_pred_clf:\n",
    "            f.write(\"%s\\n\" % item)\n",
    "    \n",
    "    with ZipFile('predictions.zip', 'w') as zipObj:\n",
    "        zipObj.write('predictions.txt')\n",
    "    os.remove('predictions.txt')\n",
    "\n",
    "generateFiles(X1, best_model)"
   ]
  },
  {
   "cell_type": "code",
   "execution_count": null,
   "metadata": {},
   "outputs": [],
   "source": [
    "# Guardar el mejor modelo\n",
    "joblib.dump(best_model, 'best_model1.pkl')\n",
    "\n",
    "print(\"El mejor modelo ha sido guardado en 'best_model1.pkl'\")"
   ]
  },
  {
   "cell_type": "markdown",
   "metadata": {},
   "source": [
    "##### Conclusión de la etapa"
   ]
  },
  {
   "cell_type": "markdown",
   "metadata": {},
   "source": [
    "El modelo entregado en CodaLab entregó un **AUC-PR de 0.7914172453**, donde, si bien se obtuvo un buen resultado, no se hicieorn los procedimientos esperados para la entrega que podrían haber mejorado sustancialmente el modelo de predicción. Particularmente, utilizar el preprocesamiento, mejorar la capacidad de generalización del modelo y probar una mayor variedad de modelos e hiperparámetros."
   ]
  }
 ],
 "metadata": {
  "kernelspec": {
   "display_name": "base",
   "language": "python",
   "name": "python3"
  },
  "language_info": {
   "codemirror_mode": {
    "name": "ipython",
    "version": 3
   },
   "file_extension": ".py",
   "mimetype": "text/x-python",
   "name": "python",
   "nbconvert_exporter": "python",
   "pygments_lexer": "ipython3",
   "version": "3.9.17"
  }
 },
 "nbformat": 4,
 "nbformat_minor": 2
}
